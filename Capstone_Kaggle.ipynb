{
 "cells": [
  {
   "cell_type": "code",
   "execution_count": 2,
   "metadata": {
    "collapsed": false
   },
   "outputs": [
    {
     "name": "stdout",
     "output_type": "stream",
     "text": [
      "        bathrooms  bedrooms                       building_id  \\\n",
      "10            1.5         3  53a5b119ba8f7b61d4e010512e0dfc85   \n",
      "10000         1.0         2  c5c8a357cba207596b04d1afd1e4f130   \n",
      "100004        1.0         1  c3ba40552e2120b0acfc3cb5730bb2aa   \n",
      "100007        1.0         1  28d9ad350afeaab8027513a3e52ac8d5   \n",
      "100013        1.0         4                                 0   \n",
      "100014        2.0         4  38a913e46c94a7f46ddf19b756a9640c   \n",
      "100016        1.0         2  3ba49a93260ca5df92fde024cb4ca61f   \n",
      "100020        2.0         1  0372927bcb6a0949613ef5bf893bbac7   \n",
      "100026        1.0         1  a7efbeb58190aa267b4a9121cd0c88c0   \n",
      "100027        2.0         4                                 0   \n",
      "\n",
      "                    created  \\\n",
      "10      2016-06-24 07:54:24   \n",
      "10000   2016-06-12 12:19:27   \n",
      "100004  2016-04-17 03:26:41   \n",
      "100007  2016-04-18 02:22:02   \n",
      "100013  2016-04-28 01:32:41   \n",
      "100014  2016-04-19 04:24:47   \n",
      "100016  2016-04-27 03:19:56   \n",
      "100020  2016-04-13 06:01:42   \n",
      "100026  2016-04-20 02:36:35   \n",
      "100027  2016-04-02 02:58:15   \n",
      "\n",
      "                                              description  \\\n",
      "10      A Brand New 3 Bedroom 1.5 bath ApartmentEnjoy ...   \n",
      "10000                                                       \n",
      "100004  Top Top West Village location, beautiful Pre-w...   \n",
      "100007  Building Amenities - Garage - Garden - fitness...   \n",
      "100013  Beautifully renovated 3 bedroom flex 4 bedroom...   \n",
      "100014                                                      \n",
      "100016  Stunning unit with a great location and lots o...   \n",
      "100020  This huge sunny ,plenty of lights 1 bed/2 bath...   \n",
      "100026                           <p><a  website_redacted    \n",
      "100027  This is a spacious four bedroom with every bed...   \n",
      "\n",
      "            display_address  \\\n",
      "10      Metropolitan Avenue   \n",
      "10000       Columbus Avenue   \n",
      "100004          W 13 Street   \n",
      "100007     East 49th Street   \n",
      "100013    West 143rd Street   \n",
      "100014     West 18th Street   \n",
      "100016    West 107th Street   \n",
      "100020     West 21st Street   \n",
      "100026     Hamilton Terrace   \n",
      "100027           522 E 11th   \n",
      "\n",
      "                                                 features interest_level  \\\n",
      "10                                                     []         medium   \n",
      "10000   [Doorman, Elevator, Fitness Center, Cats Allow...            low   \n",
      "100004  [Laundry In Building, Dishwasher, Hardwood Flo...           high   \n",
      "100007                          [Hardwood Floors, No Fee]            low   \n",
      "100013                                          [Pre-War]            low   \n",
      "100014                                                 []         medium   \n",
      "100016  [prewar, elevator, Dogs Allowed, Cats Allowed,...            low   \n",
      "100020  [Doorman, Elevator, Pre-War, Terrace, Laundry ...            low   \n",
      "100026  [Cats Allowed, Dogs Allowed, Elevator, Laundry...         medium   \n",
      "100027                      [Dishwasher, Hardwood Floors]            low   \n",
      "\n",
      "        latitude  listing_id  longitude                        manager_id  \\\n",
      "10       40.7145     7211212   -73.9425  5ba989232d0489da1b5f2c45f6688adc   \n",
      "10000    40.7947     7150865   -73.9667  7533621a882f71e25173b27e3139d83d   \n",
      "100004   40.7388     6887163   -74.0018  d9039c43983f6e564b1482b273bd7b01   \n",
      "100007   40.7539     6888711   -73.9677  1067e078446a7897d2da493d2f741316   \n",
      "100013   40.8241     6934781   -73.9493  98e13ad4b495b9613cef886d79a6291f   \n",
      "100014   40.7429     6894514   -74.0028  b209e2c4384a64cc307c26759ee0c651   \n",
      "100016   40.8012     6930771   -73.9660  01287194f20de51872e81f660def4784   \n",
      "100020   40.7427     6867392   -73.9957  e6472c7237327dd3903b3d6f6a94515a   \n",
      "100026   40.8234     6898799   -73.9457  c1a6598437b7db560cde66e5a297a53f   \n",
      "100027   40.7278     6814332   -73.9808  23a01ea7717b38875f5b070282d1b9d2   \n",
      "\n",
      "                                                   photos  price  \\\n",
      "10      [https://photos.renthop.com/2/7211212_1ed4542e...   3000   \n",
      "10000   [https://photos.renthop.com/2/7150865_be3306c5...   5465   \n",
      "100004  [https://photos.renthop.com/2/6887163_de85c427...   2850   \n",
      "100007  [https://photos.renthop.com/2/6888711_6e660cee...   3275   \n",
      "100013  [https://photos.renthop.com/2/6934781_1fa4b41a...   3350   \n",
      "100014  [https://photos.renthop.com/2/6894514_9abb8592...   7995   \n",
      "100016  [https://photos.renthop.com/2/6930771_7e3622b6...   3600   \n",
      "100020  [https://photos.renthop.com/2/6867392_b18283f6...   5645   \n",
      "100026  [https://photos.renthop.com/2/6898799_3759be4c...   1725   \n",
      "100027  [https://photos.renthop.com/2/6814332_e19a8552...   5800   \n",
      "\n",
      "                 street_address  \n",
      "10      792 Metropolitan Avenue  \n",
      "10000       808 Columbus Avenue  \n",
      "100004          241 W 13 Street  \n",
      "100007     333 East 49th Street  \n",
      "100013    500 West 143rd Street  \n",
      "100014     350 West 18th Street  \n",
      "100016    210 West 107th Street  \n",
      "100020     155 West 21st Street  \n",
      "100026      63 Hamilton Terrace  \n",
      "100027               522 E 11th  \n",
      "<class 'pandas.core.frame.DataFrame'>\n",
      "Int64Index: 49352 entries, 10 to 99994\n",
      "Data columns (total 15 columns):\n",
      "bathrooms          49352 non-null float64\n",
      "bedrooms           49352 non-null int64\n",
      "building_id        49352 non-null object\n",
      "created            49352 non-null object\n",
      "description        49352 non-null object\n",
      "display_address    49352 non-null object\n",
      "features           49352 non-null object\n",
      "interest_level     49352 non-null object\n",
      "latitude           49352 non-null float64\n",
      "listing_id         49352 non-null int64\n",
      "longitude          49352 non-null float64\n",
      "manager_id         49352 non-null object\n",
      "photos             49352 non-null object\n",
      "price              49352 non-null int64\n",
      "street_address     49352 non-null object\n",
      "dtypes: float64(3), int64(3), object(9)\n",
      "memory usage: 6.0+ MB\n",
      "None\n",
      "         bathrooms      bedrooms      latitude    listing_id     longitude  \\\n",
      "count  49352.00000  49352.000000  49352.000000  4.935200e+04  49352.000000   \n",
      "mean       1.21218      1.541640     40.741545  7.024055e+06    -73.955716   \n",
      "std        0.50142      1.115018      0.638535  1.262746e+05      1.177912   \n",
      "min        0.00000      0.000000      0.000000  6.811957e+06   -118.271000   \n",
      "25%        1.00000      1.000000     40.728300  6.915888e+06    -73.991700   \n",
      "50%        1.00000      1.000000     40.751800  7.021070e+06    -73.977900   \n",
      "75%        1.00000      2.000000     40.774300  7.128733e+06    -73.954800   \n",
      "max       10.00000      8.000000     44.883500  7.753784e+06      0.000000   \n",
      "\n",
      "              price  \n",
      "count  4.935200e+04  \n",
      "mean   3.830174e+03  \n",
      "std    2.206687e+04  \n",
      "min    4.300000e+01  \n",
      "25%    2.500000e+03  \n",
      "50%    3.150000e+03  \n",
      "75%    4.100000e+03  \n",
      "max    4.490000e+06  \n",
      "interest_level\n",
      "high       3839\n",
      "low       34284\n",
      "medium    11229\n",
      "dtype: int64\n"
     ]
    }
   ],
   "source": [
    "%matplotlib inline\n",
    "import random\n",
    "import pandas as pd\n",
    "import matplotlib.pyplot as plt\n",
    "\n",
    "#################### step1.upload data ########################################\n",
    "train = pd.read_json('train.json')\n",
    "\n",
    "################## step2. preliminary data analysis############################\n",
    " \n",
    "print(train.head(10)) # check data format\n",
    "print(train.info()) # check missing values\n",
    "print(train.describe()) # numerical data descriptions\n",
    "print(train.groupby('interest_level').size())"
   ]
  },
  {
   "cell_type": "code",
   "execution_count": 3,
   "metadata": {
    "collapsed": false
   },
   "outputs": [
    {
     "name": "stdout",
     "output_type": "stream",
     "text": [
      "interest_level\n",
      "0    34284\n",
      "1    15068\n",
      "dtype: int64\n"
     ]
    }
   ],
   "source": [
    "# guarantee that different class have similar amount of training set\n",
    "train['interest_level'] = train['interest_level'].map({'high':1, 'medium':1, 'low':0})  \n",
    "print(train.groupby('interest_level').size())"
   ]
  },
  {
   "cell_type": "code",
   "execution_count": 4,
   "metadata": {
    "collapsed": false
   },
   "outputs": [
    {
     "data": {
      "image/png": "[encoded data removed]",
      "text/plain": [
       "<matplotlib.figure.Figure at 0x231e55eb2b0>"
      ]
     },
     "metadata": {},
     "output_type": "display_data"
    }
   ],
   "source": [
    "# plot latitude versus longitude, check location distribution, Figure 1-3\n",
    "\n",
    "import matplotlib.pyplot as plt\n",
    "\n",
    "figure = plt.figure(figsize=(6, 5))\n",
    "plt.scatter(train['latitude'], train['longitude'], alpha=0.5)\n",
    "plt.xlabel('latitude')\n",
    "plt.ylabel('longitude')\n",
    "plt.xlim(40.57, 40.93)\n",
    "plt.ylim(-74.05, -73.80)\n",
    "plt.show()"
   ]
  },
  {
   "cell_type": "code",
   "execution_count": 5,
   "metadata": {
    "collapsed": false
   },
   "outputs": [
    {
     "name": "stdout",
     "output_type": "stream",
     "text": [
      "<class 'pandas.core.frame.DataFrame'>\n",
      "Int64Index: 49352 entries, 10 to 99994\n",
      "Data columns (total 13 columns):\n",
      "bathrooms          49352 non-null float64\n",
      "bedrooms           49352 non-null int64\n",
      "created            49352 non-null object\n",
      "description        49352 non-null object\n",
      "display_address    49352 non-null object\n",
      "features           49352 non-null object\n",
      "interest_level     49352 non-null int64\n",
      "latitude           49352 non-null float64\n",
      "listing_id         49352 non-null int64\n",
      "longitude          49352 non-null float64\n",
      "photos             49352 non-null object\n",
      "price              49352 non-null int64\n",
      "street_address     49352 non-null object\n",
      "dtypes: float64(3), int64(4), object(6)\n",
      "memory usage: 5.3+ MB\n",
      "None\n"
     ]
    }
   ],
   "source": [
    "# drop 'manager_id', 'building_id' for now, may come back later\n",
    "\n",
    "train.drop(['manager_id'], inplace=True, axis=1)\n",
    "train.drop(['building_id'], inplace=True, axis=1)\n",
    "print(train.info())"
   ]
  },
  {
   "cell_type": "code",
   "execution_count": 8,
   "metadata": {
    "collapsed": false
   },
   "outputs": [
    {
     "data": {
      "image/png": "[encoded data removed]",
      "text/plain": [
       "<matplotlib.figure.Figure at 0x262331445f8>"
      ]
     },
     "metadata": {},
     "output_type": "display_data"
    }
   ],
   "source": [
    "train.hist(figsize=(12,8))\n",
    "plt.show()"
   ]
  },
  {
   "cell_type": "code",
   "execution_count": 6,
   "metadata": {
    "collapsed": false
   },
   "outputs": [
    {
     "data": {
      "text/plain": [
       "bathrooms          0\n",
       "bedrooms           0\n",
       "created            0\n",
       "description        0\n",
       "display_address    0\n",
       "features           0\n",
       "interest_level     0\n",
       "latitude           0\n",
       "listing_id         0\n",
       "longitude          0\n",
       "photos             0\n",
       "price              0\n",
       "street_address     0\n",
       "dtype: int64"
      ]
     },
     "execution_count": 6,
     "metadata": {},
     "output_type": "execute_result"
    }
   ],
   "source": [
    "# check missing values -- no missing values for all 13 columns\n",
    "train.isnull().sum()"
   ]
  },
  {
   "cell_type": "code",
   "execution_count": 7,
   "metadata": {
    "collapsed": false,
    "scrolled": true
   },
   "outputs": [
    {
     "data": {
      "text/html": [
       "<div>\n",
       "<table border=\"1\" class=\"dataframe\">\n",
       "  <thead>\n",
       "    <tr style=\"text-align: right;\">\n",
       "      <th></th>\n",
       "      <th>bathrooms</th>\n",
       "      <th>bedrooms</th>\n",
       "      <th>created</th>\n",
       "      <th>description</th>\n",
       "      <th>display_address</th>\n",
       "      <th>features</th>\n",
       "      <th>interest_level</th>\n",
       "      <th>latitude</th>\n",
       "      <th>listing_id</th>\n",
       "      <th>longitude</th>\n",
       "      <th>photos</th>\n",
       "      <th>price</th>\n",
       "      <th>street_address</th>\n",
       "    </tr>\n",
       "  </thead>\n",
       "  <tbody>\n",
       "    <tr>\n",
       "      <th>53144</th>\n",
       "      <td>1.0</td>\n",
       "      <td>0</td>\n",
       "      <td>2016-05-24 05:24:56</td>\n",
       "      <td>&lt;p&gt;&lt;a  website_redacted</td>\n",
       "      <td>Madison</td>\n",
       "      <td>[Doorman, Elevator, High Speed Internet]</td>\n",
       "      <td>0</td>\n",
       "      <td>40.7120</td>\n",
       "      <td>7060255</td>\n",
       "      <td>-73.9971</td>\n",
       "      <td>[]</td>\n",
       "      <td>43</td>\n",
       "      <td>60 Madison</td>\n",
       "    </tr>\n",
       "    <tr>\n",
       "      <th>87511</th>\n",
       "      <td>1.0</td>\n",
       "      <td>0</td>\n",
       "      <td>2016-04-02 02:43:15</td>\n",
       "      <td>&lt;p&gt;&lt;a  website_redacted</td>\n",
       "      <td>W 30th St.</td>\n",
       "      <td>[Elevator]</td>\n",
       "      <td>0</td>\n",
       "      <td>40.7479</td>\n",
       "      <td>6813772</td>\n",
       "      <td>-73.9917</td>\n",
       "      <td>[https://photos.renthop.com/2/6813772_323b9438...</td>\n",
       "      <td>45</td>\n",
       "      <td>140 W 30th St.</td>\n",
       "    </tr>\n",
       "    <tr>\n",
       "      <th>117339</th>\n",
       "      <td>1.0</td>\n",
       "      <td>1</td>\n",
       "      <td>2016-04-14 03:39:47</td>\n",
       "      <td>Now available, absolutely stunning 1 bedroom 1...</td>\n",
       "      <td>Broadway</td>\n",
       "      <td>[Elevator, Pre-War, Laundry in Building, Dishw...</td>\n",
       "      <td>0</td>\n",
       "      <td>40.7878</td>\n",
       "      <td>6871682</td>\n",
       "      <td>-73.9763</td>\n",
       "      <td>[https://photos.renthop.com/2/6871682_8c82f956...</td>\n",
       "      <td>401</td>\n",
       "      <td>2350 Broadway</td>\n",
       "    </tr>\n",
       "    <tr>\n",
       "      <th>113552</th>\n",
       "      <td>1.0</td>\n",
       "      <td>0</td>\n",
       "      <td>2016-04-13 04:20:52</td>\n",
       "      <td></td>\n",
       "      <td>Marshall Street</td>\n",
       "      <td>[]</td>\n",
       "      <td>1</td>\n",
       "      <td>40.7291</td>\n",
       "      <td>6865783</td>\n",
       "      <td>-74.2224</td>\n",
       "      <td>[https://photos.renthop.com/2/6865783_9ec986f5...</td>\n",
       "      <td>695</td>\n",
       "      <td>12 Marshall Street</td>\n",
       "    </tr>\n",
       "    <tr>\n",
       "      <th>85617</th>\n",
       "      <td>1.0</td>\n",
       "      <td>0</td>\n",
       "      <td>2016-04-10 03:51:11</td>\n",
       "      <td></td>\n",
       "      <td>Marshall Street</td>\n",
       "      <td>[]</td>\n",
       "      <td>1</td>\n",
       "      <td>40.7291</td>\n",
       "      <td>6852585</td>\n",
       "      <td>-74.2224</td>\n",
       "      <td>[https://photos.renthop.com/2/6852585_7ceadd50...</td>\n",
       "      <td>695</td>\n",
       "      <td>12 Marshall Street</td>\n",
       "    </tr>\n",
       "    <tr>\n",
       "      <th>113599</th>\n",
       "      <td>1.0</td>\n",
       "      <td>0</td>\n",
       "      <td>2016-04-06 05:24:27</td>\n",
       "      <td></td>\n",
       "      <td>Marshall Street</td>\n",
       "      <td>[]</td>\n",
       "      <td>1</td>\n",
       "      <td>40.7291</td>\n",
       "      <td>6831246</td>\n",
       "      <td>-74.2224</td>\n",
       "      <td>[https://photos.renthop.com/2/6831246_ab971bf6...</td>\n",
       "      <td>695</td>\n",
       "      <td>12 Marshall Street</td>\n",
       "    </tr>\n",
       "    <tr>\n",
       "      <th>102756</th>\n",
       "      <td>1.0</td>\n",
       "      <td>0</td>\n",
       "      <td>2016-04-12 03:48:49</td>\n",
       "      <td></td>\n",
       "      <td>Marshall Street</td>\n",
       "      <td>[]</td>\n",
       "      <td>1</td>\n",
       "      <td>40.7291</td>\n",
       "      <td>6859573</td>\n",
       "      <td>-74.2224</td>\n",
       "      <td>[https://photos.renthop.com/2/6859573_6ca2527f...</td>\n",
       "      <td>695</td>\n",
       "      <td>12 Marshall Street</td>\n",
       "    </tr>\n",
       "    <tr>\n",
       "      <th>22693</th>\n",
       "      <td>1.0</td>\n",
       "      <td>2</td>\n",
       "      <td>2016-06-08 21:40:15</td>\n",
       "      <td>Unfurnished or furnished room for rent in Quee...</td>\n",
       "      <td>271 E Fordham Rd,</td>\n",
       "      <td>[Furnished]</td>\n",
       "      <td>1</td>\n",
       "      <td>40.8624</td>\n",
       "      <td>7127753</td>\n",
       "      <td>-73.8950</td>\n",
       "      <td>[https://photos.renthop.com/2/7127753_5064613d...</td>\n",
       "      <td>700</td>\n",
       "      <td>271 E Fordham Rd,</td>\n",
       "    </tr>\n",
       "    <tr>\n",
       "      <th>109164</th>\n",
       "      <td>1.0</td>\n",
       "      <td>1</td>\n",
       "      <td>2016-04-27 19:17:48</td>\n",
       "      <td>1bdr in a 3 bdr apartment for short term with ...</td>\n",
       "      <td>2501 ditmars blvd</td>\n",
       "      <td>[Reduced Fee, Exclusive]</td>\n",
       "      <td>1</td>\n",
       "      <td>40.7788</td>\n",
       "      <td>6934177</td>\n",
       "      <td>-73.9142</td>\n",
       "      <td>[https://photos.renthop.com/2/6934177_22156be5...</td>\n",
       "      <td>800</td>\n",
       "      <td>2501 ditmars blvd</td>\n",
       "    </tr>\n",
       "    <tr>\n",
       "      <th>61138</th>\n",
       "      <td>0.0</td>\n",
       "      <td>0</td>\n",
       "      <td>2016-05-02 02:49:33</td>\n",
       "      <td>A modern mid-rise elevator building located in...</td>\n",
       "      <td>2340 Beaumont Avenue</td>\n",
       "      <td>[On-site Parking Lot, Live-in Super, Laundry i...</td>\n",
       "      <td>1</td>\n",
       "      <td>40.8529</td>\n",
       "      <td>6952911</td>\n",
       "      <td>-73.8850</td>\n",
       "      <td>[https://photos.renthop.com/2/6952911_56faa406...</td>\n",
       "      <td>868</td>\n",
       "      <td>2340 Beaumont Avenue</td>\n",
       "    </tr>\n",
       "    <tr>\n",
       "      <th>51007</th>\n",
       "      <td>2.0</td>\n",
       "      <td>3</td>\n",
       "      <td>2016-05-13 19:38:36</td>\n",
       "      <td>Hello! Soraya at Roomeze is here as your Roomm...</td>\n",
       "      <td>Summerfield and wyckoff</td>\n",
       "      <td>[Common Outdoor Space, Laundry In Unit, Cats A...</td>\n",
       "      <td>0</td>\n",
       "      <td>40.6947</td>\n",
       "      <td>7008854</td>\n",
       "      <td>-73.9025</td>\n",
       "      <td>[]</td>\n",
       "      <td>950</td>\n",
       "      <td>Summerfield and Wyckoff</td>\n",
       "    </tr>\n",
       "    <tr>\n",
       "      <th>77180</th>\n",
       "      <td>1.0</td>\n",
       "      <td>1</td>\n",
       "      <td>2016-05-12 00:49:43</td>\n",
       "      <td>Hello there! : )\\r\\rWe have been living in a b...</td>\n",
       "      <td></td>\n",
       "      <td>[]</td>\n",
       "      <td>1</td>\n",
       "      <td>40.7991</td>\n",
       "      <td>6998051</td>\n",
       "      <td>-73.9359</td>\n",
       "      <td>[https://photos.renthop.com/2/6998051_1a30ce21...</td>\n",
       "      <td>950</td>\n",
       "      <td>2328 2nd Avenue</td>\n",
       "    </tr>\n",
       "    <tr>\n",
       "      <th>8142</th>\n",
       "      <td>1.0</td>\n",
       "      <td>1</td>\n",
       "      <td>2016-06-17 11:42:48</td>\n",
       "      <td>Hi there, \\r\\rRoom available for sublet or lon...</td>\n",
       "      <td></td>\n",
       "      <td>[No Fee, Short Term Allowed, Sublet]</td>\n",
       "      <td>0</td>\n",
       "      <td>40.7702</td>\n",
       "      <td>7178606</td>\n",
       "      <td>-73.9254</td>\n",
       "      <td>[https://photos.renthop.com/2/7178606_4f8df17a...</td>\n",
       "      <td>950</td>\n",
       "      <td>2805 23rd street</td>\n",
       "    </tr>\n",
       "    <tr>\n",
       "      <th>85929</th>\n",
       "      <td>0.0</td>\n",
       "      <td>0</td>\n",
       "      <td>2016-04-26 04:05:12</td>\n",
       "      <td></td>\n",
       "      <td>West 51st St</td>\n",
       "      <td>[Cats Allowed, Dogs Allowed]</td>\n",
       "      <td>0</td>\n",
       "      <td>40.7636</td>\n",
       "      <td>6926070</td>\n",
       "      <td>-73.9879</td>\n",
       "      <td>[]</td>\n",
       "      <td>975</td>\n",
       "      <td>358 West 51st St</td>\n",
       "    </tr>\n",
       "    <tr>\n",
       "      <th>91356</th>\n",
       "      <td>1.0</td>\n",
       "      <td>1</td>\n",
       "      <td>2016-04-22 02:53:01</td>\n",
       "      <td>Income restricted Property.  Minimum Income to...</td>\n",
       "      <td>3055 3rd Avenue</td>\n",
       "      <td>[No Fee, Exclusive, Elevator]</td>\n",
       "      <td>1</td>\n",
       "      <td>40.8205</td>\n",
       "      <td>6910707</td>\n",
       "      <td>-73.9131</td>\n",
       "      <td>[]</td>\n",
       "      <td>980</td>\n",
       "      <td>3055 3rd Avenue</td>\n",
       "    </tr>\n",
       "    <tr>\n",
       "      <th>115551</th>\n",
       "      <td>1.0</td>\n",
       "      <td>0</td>\n",
       "      <td>2016-04-06 03:33:13</td>\n",
       "      <td></td>\n",
       "      <td>Seagirt Blvd</td>\n",
       "      <td>[Elevator, Fitness Center]</td>\n",
       "      <td>1</td>\n",
       "      <td>40.5956</td>\n",
       "      <td>6829895</td>\n",
       "      <td>-73.7555</td>\n",
       "      <td>[https://photos.renthop.com/2/6829895_520788ae...</td>\n",
       "      <td>999</td>\n",
       "      <td>20-10 Seagirt Blvd</td>\n",
       "    </tr>\n",
       "    <tr>\n",
       "      <th>83581</th>\n",
       "      <td>1.0</td>\n",
       "      <td>0</td>\n",
       "      <td>2016-04-11 03:19:50</td>\n",
       "      <td></td>\n",
       "      <td>Seagirt Blvd</td>\n",
       "      <td>[Elevator, Fitness Center]</td>\n",
       "      <td>1</td>\n",
       "      <td>40.5956</td>\n",
       "      <td>6855784</td>\n",
       "      <td>-73.7555</td>\n",
       "      <td>[https://photos.renthop.com/2/6855784_3999527c...</td>\n",
       "      <td>999</td>\n",
       "      <td>20-10 Seagirt Blvd</td>\n",
       "    </tr>\n",
       "    <tr>\n",
       "      <th>95901</th>\n",
       "      <td>1.0</td>\n",
       "      <td>0</td>\n",
       "      <td>2016-04-10 03:20:09</td>\n",
       "      <td></td>\n",
       "      <td>Seagirt Blvd</td>\n",
       "      <td>[Elevator, Fitness Center]</td>\n",
       "      <td>1</td>\n",
       "      <td>40.5956</td>\n",
       "      <td>6852162</td>\n",
       "      <td>-73.7555</td>\n",
       "      <td>[https://photos.renthop.com/2/6852162_412925e1...</td>\n",
       "      <td>999</td>\n",
       "      <td>20-10 Seagirt Blvd</td>\n",
       "    </tr>\n",
       "    <tr>\n",
       "      <th>88385</th>\n",
       "      <td>1.0</td>\n",
       "      <td>0</td>\n",
       "      <td>2016-04-08 03:18:17</td>\n",
       "      <td></td>\n",
       "      <td>Seagirt Blvd</td>\n",
       "      <td>[Elevator, Fitness Center]</td>\n",
       "      <td>1</td>\n",
       "      <td>40.5956</td>\n",
       "      <td>6842995</td>\n",
       "      <td>-73.7555</td>\n",
       "      <td>[https://photos.renthop.com/2/6842995_9b1b8baa...</td>\n",
       "      <td>999</td>\n",
       "      <td>20-10 Seagirt Blvd</td>\n",
       "    </tr>\n",
       "    <tr>\n",
       "      <th>17726</th>\n",
       "      <td>1.0</td>\n",
       "      <td>0</td>\n",
       "      <td>2016-06-22 01:34:35</td>\n",
       "      <td>Single Room w/ Hotplate w/ mini fridge, large ...</td>\n",
       "      <td>West 71st Street</td>\n",
       "      <td>[Pre-War, Dogs Allowed, Cats Allowed]</td>\n",
       "      <td>1</td>\n",
       "      <td>40.7795</td>\n",
       "      <td>7196917</td>\n",
       "      <td>-73.9866</td>\n",
       "      <td>[https://photos.renthop.com/2/7196917_e16fbc08...</td>\n",
       "      <td>1000</td>\n",
       "      <td>342-344 West 71st Street</td>\n",
       "    </tr>\n",
       "  </tbody>\n",
       "</table>\n",
       "</div>"
      ],
      "text/plain": [
       "        bathrooms  bedrooms              created  \\\n",
       "53144         1.0         0  2016-05-24 05:24:56   \n",
       "87511         1.0         0  2016-04-02 02:43:15   \n",
       "117339        1.0         1  2016-04-14 03:39:47   \n",
       "113552        1.0         0  2016-04-13 04:20:52   \n",
       "85617         1.0         0  2016-04-10 03:51:11   \n",
       "113599        1.0         0  2016-04-06 05:24:27   \n",
       "102756        1.0         0  2016-04-12 03:48:49   \n",
       "22693         1.0         2  2016-06-08 21:40:15   \n",
       "109164        1.0         1  2016-04-27 19:17:48   \n",
       "61138         0.0         0  2016-05-02 02:49:33   \n",
       "51007         2.0         3  2016-05-13 19:38:36   \n",
       "77180         1.0         1  2016-05-12 00:49:43   \n",
       "8142          1.0         1  2016-06-17 11:42:48   \n",
       "85929         0.0         0  2016-04-26 04:05:12   \n",
       "91356         1.0         1  2016-04-22 02:53:01   \n",
       "115551        1.0         0  2016-04-06 03:33:13   \n",
       "83581         1.0         0  2016-04-11 03:19:50   \n",
       "95901         1.0         0  2016-04-10 03:20:09   \n",
       "88385         1.0         0  2016-04-08 03:18:17   \n",
       "17726         1.0         0  2016-06-22 01:34:35   \n",
       "\n",
       "                                              description  \\\n",
       "53144                            <p><a  website_redacted    \n",
       "87511                            <p><a  website_redacted    \n",
       "117339  Now available, absolutely stunning 1 bedroom 1...   \n",
       "113552                                                      \n",
       "85617                                                       \n",
       "113599                                                      \n",
       "102756                                                      \n",
       "22693   Unfurnished or furnished room for rent in Quee...   \n",
       "109164  1bdr in a 3 bdr apartment for short term with ...   \n",
       "61138   A modern mid-rise elevator building located in...   \n",
       "51007   Hello! Soraya at Roomeze is here as your Roomm...   \n",
       "77180   Hello there! : )\\r\\rWe have been living in a b...   \n",
       "8142    Hi there, \\r\\rRoom available for sublet or lon...   \n",
       "85929                                                       \n",
       "91356   Income restricted Property.  Minimum Income to...   \n",
       "115551                                                      \n",
       "83581                                                       \n",
       "95901                                                       \n",
       "88385                                                       \n",
       "17726   Single Room w/ Hotplate w/ mini fridge, large ...   \n",
       "\n",
       "                display_address  \\\n",
       "53144                   Madison   \n",
       "87511                W 30th St.   \n",
       "117339                 Broadway   \n",
       "113552          Marshall Street   \n",
       "85617           Marshall Street   \n",
       "113599          Marshall Street   \n",
       "102756          Marshall Street   \n",
       "22693         271 E Fordham Rd,   \n",
       "109164        2501 ditmars blvd   \n",
       "61138      2340 Beaumont Avenue   \n",
       "51007   Summerfield and wyckoff   \n",
       "77180                             \n",
       "8142                              \n",
       "85929              West 51st St   \n",
       "91356           3055 3rd Avenue   \n",
       "115551             Seagirt Blvd   \n",
       "83581              Seagirt Blvd   \n",
       "95901              Seagirt Blvd   \n",
       "88385              Seagirt Blvd   \n",
       "17726          West 71st Street   \n",
       "\n",
       "                                                 features  interest_level  \\\n",
       "53144            [Doorman, Elevator, High Speed Internet]               0   \n",
       "87511                                          [Elevator]               0   \n",
       "117339  [Elevator, Pre-War, Laundry in Building, Dishw...               0   \n",
       "113552                                                 []               1   \n",
       "85617                                                  []               1   \n",
       "113599                                                 []               1   \n",
       "102756                                                 []               1   \n",
       "22693                                         [Furnished]               1   \n",
       "109164                           [Reduced Fee, Exclusive]               1   \n",
       "61138   [On-site Parking Lot, Live-in Super, Laundry i...               1   \n",
       "51007   [Common Outdoor Space, Laundry In Unit, Cats A...               0   \n",
       "77180                                                  []               1   \n",
       "8142                 [No Fee, Short Term Allowed, Sublet]               0   \n",
       "85929                        [Cats Allowed, Dogs Allowed]               0   \n",
       "91356                       [No Fee, Exclusive, Elevator]               1   \n",
       "115551                         [Elevator, Fitness Center]               1   \n",
       "83581                          [Elevator, Fitness Center]               1   \n",
       "95901                          [Elevator, Fitness Center]               1   \n",
       "88385                          [Elevator, Fitness Center]               1   \n",
       "17726               [Pre-War, Dogs Allowed, Cats Allowed]               1   \n",
       "\n",
       "        latitude  listing_id  longitude  \\\n",
       "53144    40.7120     7060255   -73.9971   \n",
       "87511    40.7479     6813772   -73.9917   \n",
       "117339   40.7878     6871682   -73.9763   \n",
       "113552   40.7291     6865783   -74.2224   \n",
       "85617    40.7291     6852585   -74.2224   \n",
       "113599   40.7291     6831246   -74.2224   \n",
       "102756   40.7291     6859573   -74.2224   \n",
       "22693    40.8624     7127753   -73.8950   \n",
       "109164   40.7788     6934177   -73.9142   \n",
       "61138    40.8529     6952911   -73.8850   \n",
       "51007    40.6947     7008854   -73.9025   \n",
       "77180    40.7991     6998051   -73.9359   \n",
       "8142     40.7702     7178606   -73.9254   \n",
       "85929    40.7636     6926070   -73.9879   \n",
       "91356    40.8205     6910707   -73.9131   \n",
       "115551   40.5956     6829895   -73.7555   \n",
       "83581    40.5956     6855784   -73.7555   \n",
       "95901    40.5956     6852162   -73.7555   \n",
       "88385    40.5956     6842995   -73.7555   \n",
       "17726    40.7795     7196917   -73.9866   \n",
       "\n",
       "                                                   photos  price  \\\n",
       "53144                                                  []     43   \n",
       "87511   [https://photos.renthop.com/2/6813772_323b9438...     45   \n",
       "117339  [https://photos.renthop.com/2/6871682_8c82f956...    401   \n",
       "113552  [https://photos.renthop.com/2/6865783_9ec986f5...    695   \n",
       "85617   [https://photos.renthop.com/2/6852585_7ceadd50...    695   \n",
       "113599  [https://photos.renthop.com/2/6831246_ab971bf6...    695   \n",
       "102756  [https://photos.renthop.com/2/6859573_6ca2527f...    695   \n",
       "22693   [https://photos.renthop.com/2/7127753_5064613d...    700   \n",
       "109164  [https://photos.renthop.com/2/6934177_22156be5...    800   \n",
       "61138   [https://photos.renthop.com/2/6952911_56faa406...    868   \n",
       "51007                                                  []    950   \n",
       "77180   [https://photos.renthop.com/2/6998051_1a30ce21...    950   \n",
       "8142    [https://photos.renthop.com/2/7178606_4f8df17a...    950   \n",
       "85929                                                  []    975   \n",
       "91356                                                  []    980   \n",
       "115551  [https://photos.renthop.com/2/6829895_520788ae...    999   \n",
       "83581   [https://photos.renthop.com/2/6855784_3999527c...    999   \n",
       "95901   [https://photos.renthop.com/2/6852162_412925e1...    999   \n",
       "88385   [https://photos.renthop.com/2/6842995_9b1b8baa...    999   \n",
       "17726   [https://photos.renthop.com/2/7196917_e16fbc08...   1000   \n",
       "\n",
       "                  street_address  \n",
       "53144                 60 Madison  \n",
       "87511             140 W 30th St.  \n",
       "117339             2350 Broadway  \n",
       "113552        12 Marshall Street  \n",
       "85617         12 Marshall Street  \n",
       "113599        12 Marshall Street  \n",
       "102756        12 Marshall Street  \n",
       "22693          271 E Fordham Rd,  \n",
       "109164        2501 ditmars blvd   \n",
       "61138       2340 Beaumont Avenue  \n",
       "51007    Summerfield and Wyckoff  \n",
       "77180            2328 2nd Avenue  \n",
       "8142            2805 23rd street  \n",
       "85929           358 West 51st St  \n",
       "91356            3055 3rd Avenue  \n",
       "115551        20-10 Seagirt Blvd  \n",
       "83581         20-10 Seagirt Blvd  \n",
       "95901         20-10 Seagirt Blvd  \n",
       "88385         20-10 Seagirt Blvd  \n",
       "17726   342-344 West 71st Street  "
      ]
     },
     "execution_count": 7,
     "metadata": {},
     "output_type": "execute_result"
    }
   ],
   "source": [
    "# visualize prices\n",
    "\n",
    "train.sort_values(['price'], ascending = False).head(20)\n",
    "train.sort_values(['price'], ascending = True).head(20)"
   ]
  },
  {
   "cell_type": "code",
   "execution_count": 8,
   "metadata": {
    "collapsed": false
   },
   "outputs": [
    {
     "name": "stdout",
     "output_type": "stream",
     "text": [
      "43 4490000\n"
     ]
    },
    {
     "data": {
      "image/png": "[encoded data removed]",
      "text/plain": [
       "<matplotlib.figure.Figure at 0x231e510ecf8>"
      ]
     },
     "metadata": {},
     "output_type": "display_data"
    },
    {
     "data": {
      "image/png": "[encoded data removed]",
      "text/plain": [
       "<matplotlib.figure.Figure at 0x231e51b9278>"
      ]
     },
     "metadata": {},
     "output_type": "display_data"
    },
    {
     "data": {
      "image/png": "[encoded data removed]",
      "text/plain": [
       "<matplotlib.figure.Figure at 0x231e55ef710>"
      ]
     },
     "metadata": {},
     "output_type": "display_data"
    }
   ],
   "source": [
    "print(train['price'].min(), train['price'].max())\n",
    "\n",
    "train['price'].hist(bins=32, range=(40, 10000), alpha = .5)\n",
    "plt.show()\n",
    "\n",
    "train['price'].hist(bins=32, range=(10000, 100000), alpha = .5)\n",
    "plt.show()\n",
    "\n",
    "train['price'].hist(bins=32, range=(100000, 4490000), alpha = .5)\n",
    "plt.show()"
   ]
  },
  {
   "cell_type": "code",
   "execution_count": 9,
   "metadata": {
    "collapsed": false
   },
   "outputs": [
    {
     "name": "stdout",
     "output_type": "stream",
     "text": [
      "0 8\n"
     ]
    },
    {
     "data": {
      "image/png": "[encoded data removed]",
      "text/plain": [
       "<matplotlib.figure.Figure at 0x231e52857f0>"
      ]
     },
     "metadata": {},
     "output_type": "display_data"
    }
   ],
   "source": [
    "# visualize distribution of bedrooms, range(0-8)\n",
    "print(train['bedrooms'].min(), train['bedrooms'].max())\n",
    "train['bedrooms'].hist(bins=10, alpha = .5)\n",
    "plt.show()"
   ]
  },
  {
   "cell_type": "code",
   "execution_count": 10,
   "metadata": {
    "collapsed": false
   },
   "outputs": [
    {
     "name": "stdout",
     "output_type": "stream",
     "text": [
      "0.0 10.0\n"
     ]
    },
    {
     "data": {
      "image/png": "[encoded data removed]",
      "text/plain": [
       "<matplotlib.figure.Figure at 0x231e5215128>"
      ]
     },
     "metadata": {},
     "output_type": "display_data"
    }
   ],
   "source": [
    "# visualize distribution of bathrooms, range(0-10)\n",
    "print(train['bathrooms'].min(), train['bathrooms'].max())\n",
    "train['bathrooms'].hist(bins=10, alpha = .5)\n",
    "plt.show()"
   ]
  },
  {
   "cell_type": "code",
   "execution_count": 13,
   "metadata": {
    "collapsed": false,
    "scrolled": false
   },
   "outputs": [
    {
     "data": {
      "image/png": "[encoded data removed]",
      "text/plain": [
       "<matplotlib.figure.Figure at 0x231e50bc940>"
      ]
     },
     "metadata": {},
     "output_type": "display_data"
    },
    {
     "data": {
      "image/png": "[encoded data removed]",
      "text/plain": [
       "<matplotlib.figure.Figure at 0x231e5091d30>"
      ]
     },
     "metadata": {},
     "output_type": "display_data"
    }
   ],
   "source": [
    "# change 'created' timeframe into numerical values, check distribution, divide into multiple categories\n",
    "from datetime import time\n",
    "\n",
    "times = pd.to_datetime(train['created']) # object to datetime64[ns]\n",
    "# pd.Timestamp(train['created']) # object to timestamp\n",
    "dayoftheweek = [t.isoweekday() for t in times]\n",
    "timeoftheday = [t.time() for t in times]\n",
    "pd.Series(dayoftheweek).hist(bins=7, alpha = 0.5) # Sunday and Monday least, others similar \n",
    "plt.show()\n",
    "pd.Series(timeoftheday).hist(bins=48, alpha = 0.5) # 1-8 am most\n",
    "plt.show()"
   ]
  },
  {
   "cell_type": "code",
   "execution_count": 14,
   "metadata": {
    "collapsed": false
   },
   "outputs": [],
   "source": [
    "daycategory = [0 if t.isoweekday() <= 5 else 1 for t in times]\n",
    "hourcategory = [0 if time(9) <= t.time() and t.time() < time(17) else 1 for t in times]\n",
    "train['day'] = daycategory\n",
    "train['hour'] = hourcategory\n",
    "train = train.drop(['created'], axis=1)"
   ]
  },
  {
   "cell_type": "code",
   "execution_count": 15,
   "metadata": {
    "collapsed": false
   },
   "outputs": [
    {
     "name": "stdout",
     "output_type": "stream",
     "text": [
      "<class 'pandas.core.frame.DataFrame'>\n",
      "Int64Index: 49352 entries, 10 to 99994\n",
      "Data columns (total 14 columns):\n",
      "bathrooms          49352 non-null float64\n",
      "bedrooms           49352 non-null int64\n",
      "description        49352 non-null object\n",
      "display_address    49352 non-null object\n",
      "features           49352 non-null object\n",
      "interest_level     49352 non-null int64\n",
      "latitude           49352 non-null float64\n",
      "listing_id         49352 non-null int64\n",
      "longitude          49352 non-null float64\n",
      "photos             49352 non-null object\n",
      "price              49352 non-null int64\n",
      "street_address     49352 non-null object\n",
      "day                49352 non-null int64\n",
      "hour               49352 non-null int64\n",
      "dtypes: float64(3), int64(6), object(5)\n",
      "memory usage: 5.6+ MB\n",
      "None\n"
     ]
    }
   ],
   "source": [
    "print(train.info())"
   ]
  },
  {
   "cell_type": "code",
   "execution_count": 16,
   "metadata": {
    "collapsed": false,
    "scrolled": true
   },
   "outputs": [
    {
     "name": "stdout",
     "output_type": "stream",
     "text": [
      "10        [https://photos.renthop.com/2/7211212_1ed4542e...\n",
      "10000     [https://photos.renthop.com/2/7150865_be3306c5...\n",
      "100004    [https://photos.renthop.com/2/6887163_de85c427...\n",
      "100007    [https://photos.renthop.com/2/6888711_6e660cee...\n",
      "100013    [https://photos.renthop.com/2/6934781_1fa4b41a...\n",
      "100014    [https://photos.renthop.com/2/6894514_9abb8592...\n",
      "100016    [https://photos.renthop.com/2/6930771_7e3622b6...\n",
      "100020    [https://photos.renthop.com/2/6867392_b18283f6...\n",
      "100026    [https://photos.renthop.com/2/6898799_3759be4c...\n",
      "100027    [https://photos.renthop.com/2/6814332_e19a8552...\n",
      "100030    [https://photos.renthop.com/2/6869199_06b2601f...\n",
      "10004     [https://photos.renthop.com/2/7102986_ca6af538...\n",
      "100044    [https://photos.renthop.com/2/6895442_34d617a5...\n",
      "100048    [https://photos.renthop.com/2/6846213_83258754...\n",
      "10005     [https://photos.renthop.com/2/7089402_66038eaa...\n",
      "100051    [https://photos.renthop.com/2/6889043_a3e1c004...\n",
      "100052    [https://photos.renthop.com/2/6913348_829f19ac...\n",
      "100053    [https://photos.renthop.com/2/6894111_571fa57d...\n",
      "100055                                                   []\n",
      "100058    [https://photos.renthop.com/2/6848536_9a3e1f87...\n",
      "100062    [https://photos.renthop.com/2/6858062_5cfb9d90...\n",
      "100063    [https://photos.renthop.com/2/6836760_6edeb636...\n",
      "100065                                                   []\n",
      "100066    [https://photos.renthop.com/2/6885927_3eb33bbc...\n",
      "10007     [https://photos.renthop.com/2/7120132_8e47916c...\n",
      "100071    [https://photos.renthop.com/2/6933499_53ad35f0...\n",
      "100075    [https://photos.renthop.com/2/6921632_563cdcee...\n",
      "100076    [https://photos.renthop.com/2/6913084_e1aef7e1...\n",
      "100079    [https://photos.renthop.com/2/6907079_2cc12101...\n",
      "100081    [https://photos.renthop.com/2/6925264_59f5dc7a...\n",
      "                                ...                        \n",
      "99915     [https://photos.renthop.com/2/6921019_05091585...\n",
      "99917     [https://photos.renthop.com/2/6926146_f82d7aff...\n",
      "99919     [https://photos.renthop.com/2/6844805_b2a3a213...\n",
      "99921     [https://photos.renthop.com/2/6943991_0a32ffd3...\n",
      "99923     [https://photos.renthop.com/2/6822618_d04c2ece...\n",
      "99924     [https://photos.renthop.com/2/6918969_e88539cc...\n",
      "99931     [https://photos.renthop.com/2/6921162_5d6df102...\n",
      "99933     [https://photos.renthop.com/2/6819357_700208a6...\n",
      "99935     [https://photos.renthop.com/2/6893263_f1f39ce2...\n",
      "99937     [https://photos.renthop.com/2/6873182_babdece5...\n",
      "9994      [https://photos.renthop.com/2/7114685_7b7f598a...\n",
      "99953     [https://photos.renthop.com/2/6924210_27c32e80...\n",
      "99956     [https://photos.renthop.com/2/6884807_158a7214...\n",
      "99960     [https://photos.renthop.com/2/6825168_f94cee7d...\n",
      "99961     [https://photos.renthop.com/2/6911061_25c3f3b1...\n",
      "99964     [https://photos.renthop.com/2/6942494_edcfce0d...\n",
      "99965     [https://photos.renthop.com/2/6819478_832d3d70...\n",
      "99966     [https://photos.renthop.com/2/6878391_59754267...\n",
      "99979                                                    []\n",
      "99980     [https://photos.renthop.com/2/6933865_9bdcae03...\n",
      "99982     [https://photos.renthop.com/2/6837242_3fbdc629...\n",
      "99984     [https://photos.renthop.com/2/6815109_1ec75160...\n",
      "99986     [https://photos.renthop.com/2/6871681_f2e17c12...\n",
      "99987     [https://photos.renthop.com/2/6856001_5d031c59...\n",
      "99988     [https://photos.renthop.com/2/6913833_a5587e14...\n",
      "9999      [https://photos.renthop.com/2/7098690_18396d32...\n",
      "99991     [https://photos.renthop.com/2/6822449_b429587b...\n",
      "99992     [https://photos.renthop.com/2/6881461_20a86530...\n",
      "99993     [https://photos.renthop.com/2/6841891_124c9c44...\n",
      "99994     [https://photos.renthop.com/2/6858245_c4380bde...\n",
      "Name: photos, dtype: object\n"
     ]
    }
   ],
   "source": [
    "photo_number = train['photos']\n",
    "print(photo_number)"
   ]
  },
  {
   "cell_type": "code",
   "execution_count": 1,
   "metadata": {
    "collapsed": true
   },
   "outputs": [],
   "source": [
    "# more feature engineering needed as follows\n",
    "# get number of images per post\n",
    "# find keywords in 'description' in SQL and transform 'description' into new features\n",
    "# cluster addresses and then transform address into distances to cluster center\n",
    "# extract photo information such as resolution, file size, also blurring/light (need to write script) "
   ]
  },
  {
   "cell_type": "code",
   "execution_count": 17,
   "metadata": {
    "collapsed": false
   },
   "outputs": [
    {
     "name": "stdout",
     "output_type": "stream",
     "text": [
      "<class 'pandas.core.frame.DataFrame'>\n",
      "Int64Index: 49352 entries, 10 to 99994\n",
      "Data columns (total 6 columns):\n",
      "bathrooms         49352 non-null float64\n",
      "bedrooms          49352 non-null int64\n",
      "interest_level    49352 non-null int64\n",
      "price             49352 non-null int64\n",
      "day               49352 non-null int64\n",
      "hour              49352 non-null int64\n",
      "dtypes: float64(1), int64(5)\n",
      "memory usage: 2.6 MB\n",
      "None\n"
     ]
    }
   ],
   "source": [
    "# simplified ML\n",
    "train = train.drop(['description', 'display_address', 'features', 'listing_id', 'latitude', 'longitude', 'photos', 'street_address'], axis=1)\n",
    "print(train.info())"
   ]
  },
  {
   "cell_type": "code",
   "execution_count": 18,
   "metadata": {
    "collapsed": true
   },
   "outputs": [],
   "source": [
    "y = train['interest_level']\n",
    "x = train.drop(['interest_level'], axis = 1)"
   ]
  },
  {
   "cell_type": "code",
   "execution_count": null,
   "metadata": {
    "collapsed": false
   },
   "outputs": [
    {
     "name": "stdout",
     "output_type": "stream",
     "text": [
      "ScaledLR: 0.700689 (0.008357)\n",
      "ScaledLDA: 0.695681 (0.005649)\n",
      "ScaledKNN: 0.686042 (0.005991)\n",
      "ScaledCART: 0.705407 (0.006959)\n",
      "ScaledNB: 0.383575 (0.011517)\n"
     ]
    }
   ],
   "source": [
    "import matplotlib.pyplot as plt\n",
    "from sklearn.model_selection import train_test_split\n",
    "from sklearn.model_selection import KFold\n",
    "from sklearn.model_selection import cross_val_score\n",
    "from sklearn.model_selection import GridSearchCV\n",
    "from sklearn.preprocessing import StandardScaler\n",
    "from sklearn.pipeline import Pipeline\n",
    "from sklearn.linear_model import LogisticRegression\n",
    "from sklearn.tree import DecisionTreeClassifier\n",
    "from sklearn.neighbors import KNeighborsClassifier\n",
    "from sklearn.discriminant_analysis import LinearDiscriminantAnalysis\n",
    "from sklearn.naive_bayes import GaussianNB\n",
    "from sklearn.svm import SVC\n",
    "\n",
    "validation_size = 0.30\n",
    "seed = 6\n",
    "X_train, X_validation, Y_train, Y_validation = train_test_split(x, y, test_size \n",
    "                                               = validation_size, random_state = seed)\n",
    "# standardize the dataset\n",
    "pipelines = []\n",
    "pipelines.append(('ScaledLR', Pipeline([('Scaler', StandardScaler()), ('LR', LogisticRegression())])))\n",
    "pipelines.append(('ScaledLDA', Pipeline([('Scaler', StandardScaler()), ('LDA', LinearDiscriminantAnalysis())])))\n",
    "pipelines.append(('ScaledKNN', Pipeline([('Scaler', StandardScaler()), ('KNN', KNeighborsClassifier())])))\n",
    "pipelines.append(('ScaledCART', Pipeline([('Scaler', StandardScaler()), ('CART', DecisionTreeClassifier())])))\n",
    "pipelines.append(('ScaledNB', Pipeline([('Scaler', StandardScaler()), ('NB', GaussianNB())])))\n",
    "pipelines.append(('ScaledSVM', Pipeline([('Scaler', StandardScaler()), ('SVM', SVC())])))\n",
    "\n",
    "from sklearn.metrics import accuracy_score\n",
    "results = []\n",
    "names = []\n",
    "scoring = 'accuracy'\n",
    "num_folds = 10\n",
    "seed = 7\n",
    "\n",
    "for name, model in pipelines:\n",
    "    kfold = KFold(n_splits = num_folds, random_state = seed)\n",
    "    cv_results = cross_val_score(model, X_train, Y_train, cv = kfold, scoring = 'accuracy')\n",
    "    results.append(cv_results)\n",
    "    names.append(name)\n",
    "    msg = \"%s: %f (%f)\" % (name, cv_results.mean(), cv_results.std())\n",
    "    print(msg)    \n",
    "\n",
    "# compare algorithms\n",
    "fig = plt.figure()\n",
    "fig.suptitle('Scaled Algorithm Comparison')\n",
    "ax = fig.add_subplot(111)\n",
    "plt.boxplot(results)\n",
    "ax.set_xticklabels(names)\n",
    "plt.show()"
   ]
  },
  {
   "cell_type": "code",
   "execution_count": null,
   "metadata": {
    "collapsed": true
   },
   "outputs": [],
   "source": [
    "# ensemble methods -- doesn't run somehow\n",
    "\n",
    "from sklearn.ensemble import AdaBoostClassifier\n",
    "from sklearn.ensemble import GradientBoostingClassifier\n",
    "from sklearn.ensemble import RandomForestClassifier\n",
    "\n",
    "ensembles = []\n",
    "ensembles.append(('AB', AdaBoostClassifier()))\n",
    "ensembles.append(('GBM', GradientBoostingClassifier()))\n",
    "ensembles.append(('RF', RandomForestClassifier()))\n",
    "\n",
    "results = []\n",
    "names = []\n",
    "for name, model in ensembles:\n",
    "    kfold = KFold(n_splits = num_folds, random_state = seed)\n",
    "    cv_results = cross_val_score(model, X_train, Y_train, cv=kfold, scoring = scoring)\n",
    "    results.append(cv_results)\n",
    "    names.append(name)\n",
    "    msg = \"%s: %f (%f)\" %(name, cv_results.mean(), cv_results.std())\n",
    "    print(msg)\n",
    "\n",
    "# compare algorithms\n",
    "fig = plt.figure()\n",
    "fig.suptitle('Ensemble Algorithm Comparison')\n",
    "ax = fig.add_subplot(111)\n",
    "plt.boxplot(results)\n",
    "ax.set_xticklabels(names)\n",
    "plt.show()"
   ]
  },
  {
   "cell_type": "code",
   "execution_count": null,
   "metadata": {
    "collapsed": true
   },
   "outputs": [],
   "source": []
  },
  {
   "cell_type": "code",
   "execution_count": null,
   "metadata": {
    "collapsed": true
   },
   "outputs": [],
   "source": []
  }
 ],
 "metadata": {
  "kernelspec": {
   "display_name": "Python 3",
   "language": "python",
   "name": "python3"
  },
  "language_info": {
   "codemirror_mode": {
    "name": "ipython",
    "version": 3
   },
   "file_extension": ".py",
   "mimetype": "text/x-python",
   "name": "python",
   "nbconvert_exporter": "python",
   "pygments_lexer": "ipython3",
   "version": "3.5.2"
  }
 },
 "nbformat": 4,
 "nbformat_minor": 0
}
