{
 "cells": [
  {
   "cell_type": "code",
   "execution_count": 41,
   "metadata": {
    "collapsed": false
   },
   "outputs": [
    {
     "name": "stdout",
     "output_type": "stream",
     "text": [
      "        bathrooms  bedrooms                       building_id  \\\n",
      "10            1.5         3  53a5b119ba8f7b61d4e010512e0dfc85   \n",
      "10000         1.0         2  c5c8a357cba207596b04d1afd1e4f130   \n",
      "100004        1.0         1  c3ba40552e2120b0acfc3cb5730bb2aa   \n",
      "100007        1.0         1  28d9ad350afeaab8027513a3e52ac8d5   \n",
      "100013        1.0         4                                 0   \n",
      "100014        2.0         4  38a913e46c94a7f46ddf19b756a9640c   \n",
      "100016        1.0         2  3ba49a93260ca5df92fde024cb4ca61f   \n",
      "100020        2.0         1  0372927bcb6a0949613ef5bf893bbac7   \n",
      "100026        1.0         1  a7efbeb58190aa267b4a9121cd0c88c0   \n",
      "100027        2.0         4                                 0   \n",
      "\n",
      "                    created  \\\n",
      "10      2016-06-24 07:54:24   \n",
      "10000   2016-06-12 12:19:27   \n",
      "100004  2016-04-17 03:26:41   \n",
      "100007  2016-04-18 02:22:02   \n",
      "100013  2016-04-28 01:32:41   \n",
      "100014  2016-04-19 04:24:47   \n",
      "100016  2016-04-27 03:19:56   \n",
      "100020  2016-04-13 06:01:42   \n",
      "100026  2016-04-20 02:36:35   \n",
      "100027  2016-04-02 02:58:15   \n",
      "\n",
      "                                              description  \\\n",
      "10      A Brand New 3 Bedroom 1.5 bath ApartmentEnjoy ...   \n",
      "10000                                                       \n",
      "100004  Top Top West Village location, beautiful Pre-w...   \n",
      "100007  Building Amenities - Garage - Garden - fitness...   \n",
      "100013  Beautifully renovated 3 bedroom flex 4 bedroom...   \n",
      "100014                                                      \n",
      "100016  Stunning unit with a great location and lots o...   \n",
      "100020  This huge sunny ,plenty of lights 1 bed/2 bath...   \n",
      "100026                           <p><a  website_redacted    \n",
      "100027  This is a spacious four bedroom with every bed...   \n",
      "\n",
      "            display_address  \\\n",
      "10      Metropolitan Avenue   \n",
      "10000       Columbus Avenue   \n",
      "100004          W 13 Street   \n",
      "100007     East 49th Street   \n",
      "100013    West 143rd Street   \n",
      "100014     West 18th Street   \n",
      "100016    West 107th Street   \n",
      "100020     West 21st Street   \n",
      "100026     Hamilton Terrace   \n",
      "100027           522 E 11th   \n",
      "\n",
      "                                                 features interest_level  \\\n",
      "10                                                     []         medium   \n",
      "10000   [Doorman, Elevator, Fitness Center, Cats Allow...            low   \n",
      "100004  [Laundry In Building, Dishwasher, Hardwood Flo...           high   \n",
      "100007                          [Hardwood Floors, No Fee]            low   \n",
      "100013                                          [Pre-War]            low   \n",
      "100014                                                 []         medium   \n",
      "100016  [prewar, elevator, Dogs Allowed, Cats Allowed,...            low   \n",
      "100020  [Doorman, Elevator, Pre-War, Terrace, Laundry ...            low   \n",
      "100026  [Cats Allowed, Dogs Allowed, Elevator, Laundry...         medium   \n",
      "100027                      [Dishwasher, Hardwood Floors]            low   \n",
      "\n",
      "        latitude  listing_id  longitude                        manager_id  \\\n",
      "10       40.7145     7211212   -73.9425  5ba989232d0489da1b5f2c45f6688adc   \n",
      "10000    40.7947     7150865   -73.9667  7533621a882f71e25173b27e3139d83d   \n",
      "100004   40.7388     6887163   -74.0018  d9039c43983f6e564b1482b273bd7b01   \n",
      "100007   40.7539     6888711   -73.9677  1067e078446a7897d2da493d2f741316   \n",
      "100013   40.8241     6934781   -73.9493  98e13ad4b495b9613cef886d79a6291f   \n",
      "100014   40.7429     6894514   -74.0028  b209e2c4384a64cc307c26759ee0c651   \n",
      "100016   40.8012     6930771   -73.9660  01287194f20de51872e81f660def4784   \n",
      "100020   40.7427     6867392   -73.9957  e6472c7237327dd3903b3d6f6a94515a   \n",
      "100026   40.8234     6898799   -73.9457  c1a6598437b7db560cde66e5a297a53f   \n",
      "100027   40.7278     6814332   -73.9808  23a01ea7717b38875f5b070282d1b9d2   \n",
      "\n",
      "                                                   photos  price  \\\n",
      "10      [https://photos.renthop.com/2/7211212_1ed4542e...   3000   \n",
      "10000   [https://photos.renthop.com/2/7150865_be3306c5...   5465   \n",
      "100004  [https://photos.renthop.com/2/6887163_de85c427...   2850   \n",
      "100007  [https://photos.renthop.com/2/6888711_6e660cee...   3275   \n",
      "100013  [https://photos.renthop.com/2/6934781_1fa4b41a...   3350   \n",
      "100014  [https://photos.renthop.com/2/6894514_9abb8592...   7995   \n",
      "100016  [https://photos.renthop.com/2/6930771_7e3622b6...   3600   \n",
      "100020  [https://photos.renthop.com/2/6867392_b18283f6...   5645   \n",
      "100026  [https://photos.renthop.com/2/6898799_3759be4c...   1725   \n",
      "100027  [https://photos.renthop.com/2/6814332_e19a8552...   5800   \n",
      "\n",
      "                 street_address  \n",
      "10      792 Metropolitan Avenue  \n",
      "10000       808 Columbus Avenue  \n",
      "100004          241 W 13 Street  \n",
      "100007     333 East 49th Street  \n",
      "100013    500 West 143rd Street  \n",
      "100014     350 West 18th Street  \n",
      "100016    210 West 107th Street  \n",
      "100020     155 West 21st Street  \n",
      "100026      63 Hamilton Terrace  \n",
      "100027               522 E 11th  \n",
      "<class 'pandas.core.frame.DataFrame'>\n",
      "Int64Index: 49352 entries, 10 to 99994\n",
      "Data columns (total 15 columns):\n",
      "bathrooms          49352 non-null float64\n",
      "bedrooms           49352 non-null int64\n",
      "building_id        49352 non-null object\n",
      "created            49352 non-null object\n",
      "description        49352 non-null object\n",
      "display_address    49352 non-null object\n",
      "features           49352 non-null object\n",
      "interest_level     49352 non-null object\n",
      "latitude           49352 non-null float64\n",
      "listing_id         49352 non-null int64\n",
      "longitude          49352 non-null float64\n",
      "manager_id         49352 non-null object\n",
      "photos             49352 non-null object\n",
      "price              49352 non-null int64\n",
      "street_address     49352 non-null object\n",
      "dtypes: float64(3), int64(3), object(9)\n",
      "memory usage: 6.0+ MB\n",
      "None\n",
      "         bathrooms      bedrooms      latitude    listing_id     longitude  \\\n",
      "count  49352.00000  49352.000000  49352.000000  4.935200e+04  49352.000000   \n",
      "mean       1.21218      1.541640     40.741545  7.024055e+06    -73.955716   \n",
      "std        0.50142      1.115018      0.638535  1.262746e+05      1.177912   \n",
      "min        0.00000      0.000000      0.000000  6.811957e+06   -118.271000   \n",
      "25%        1.00000      1.000000     40.728300  6.915888e+06    -73.991700   \n",
      "50%        1.00000      1.000000     40.751800  7.021070e+06    -73.977900   \n",
      "75%        1.00000      2.000000     40.774300  7.128733e+06    -73.954800   \n",
      "max       10.00000      8.000000     44.883500  7.753784e+06      0.000000   \n",
      "\n",
      "              price  \n",
      "count  4.935200e+04  \n",
      "mean   3.830174e+03  \n",
      "std    2.206687e+04  \n",
      "min    4.300000e+01  \n",
      "25%    2.500000e+03  \n",
      "50%    3.150000e+03  \n",
      "75%    4.100000e+03  \n",
      "max    4.490000e+06  \n",
      "interest_level\n",
      "high       3839\n",
      "low       34284\n",
      "medium    11229\n",
      "dtype: int64\n"
     ]
    }
   ],
   "source": [
    "%matplotlib inline\n",
    "import random\n",
    "import pandas as pd\n",
    "import matplotlib.pyplot as plt\n",
    "\n",
    "#################### step1.upload data ########################################\n",
    "train = pd.read_json('train.json')\n",
    "\n",
    "################## step2. preliminary data analysis############################\n",
    " \n",
    "print(train.head(10)) # check data format\n",
    "print(train.info()) # check missing values\n",
    "print(train.describe()) # numerical data descriptions\n",
    "print(train.groupby('interest_level').size())"
   ]
  },
  {
   "cell_type": "code",
   "execution_count": 2,
   "metadata": {
    "collapsed": false
   },
   "outputs": [
    {
     "name": "stdout",
     "output_type": "stream",
     "text": [
      "interest_level\n",
      "0    34284\n",
      "1    15068\n",
      "dtype: int64\n"
     ]
    }
   ],
   "source": [
    "# guarantee that different class have similar amount of training set\n",
    "train['interest_level'] = train['interest_level'].map({'high':1, 'medium':1, 'low':0})  \n",
    "print(train.groupby('interest_level').size())"
   ]
  },
  {
   "cell_type": "code",
   "execution_count": 3,
   "metadata": {
    "collapsed": false
   },
   "outputs": [
    {
     "data": {
      "text/plain": [
       "bathrooms          0\n",
       "bedrooms           0\n",
       "building_id        0\n",
       "created            0\n",
       "description        0\n",
       "display_address    0\n",
       "features           0\n",
       "interest_level     0\n",
       "latitude           0\n",
       "listing_id         0\n",
       "longitude          0\n",
       "manager_id         0\n",
       "photos             0\n",
       "price              0\n",
       "street_address     0\n",
       "dtype: int64"
      ]
     },
     "execution_count": 3,
     "metadata": {},
     "output_type": "execute_result"
    }
   ],
   "source": [
    "# check missing values -- no missing values for all 13 columns\n",
    "train.isnull().sum()"
   ]
  },
  {
   "cell_type": "code",
   "execution_count": 4,
   "metadata": {
    "collapsed": false
   },
   "outputs": [
    {
     "name": "stdout",
     "output_type": "stream",
     "text": [
      "<class 'pandas.core.frame.DataFrame'>\n",
      "Int64Index: 49352 entries, 10 to 99994\n",
      "Data columns (total 12 columns):\n",
      "bathrooms          49352 non-null float64\n",
      "bedrooms           49352 non-null int64\n",
      "created            49352 non-null object\n",
      "description        49352 non-null object\n",
      "display_address    49352 non-null object\n",
      "features           49352 non-null object\n",
      "interest_level     49352 non-null int64\n",
      "latitude           49352 non-null float64\n",
      "longitude          49352 non-null float64\n",
      "photos             49352 non-null object\n",
      "price              49352 non-null int64\n",
      "street_address     49352 non-null object\n",
      "dtypes: float64(3), int64(3), object(6)\n",
      "memory usage: 4.9+ MB\n",
      "None\n"
     ]
    }
   ],
   "source": [
    "train.drop(['manager_id'], inplace=True, axis=1)\n",
    "train.drop(['building_id'], inplace=True, axis=1)\n",
    "train.drop(['listing_id'], inplace=True, axis=1)\n",
    "print(train.info())"
   ]
  },
  {
   "cell_type": "code",
   "execution_count": 5,
   "metadata": {
    "collapsed": false,
    "scrolled": true
   },
   "outputs": [
    {
     "data": {
      "image/png": "[encoded data removed]",
      "text/plain": [
       "<matplotlib.figure.Figure at 0x2317ffadd68>"
      ]
     },
     "metadata": {},
     "output_type": "display_data"
    }
   ],
   "source": [
    "# plot latitude versus longitude, check location distribution, Figure 1-3\n",
    "\n",
    "figure = plt.figure(figsize=(6, 5))\n",
    "plt.scatter(train['latitude'], train['longitude'], alpha=0.5)\n",
    "plt.xlabel('latitude')\n",
    "plt.ylabel('longitude')\n",
    "plt.show()\n"
   ]
  },
  {
   "cell_type": "code",
   "execution_count": 6,
   "metadata": {
    "collapsed": false
   },
   "outputs": [
    {
     "data": {
      "image/png": "[encoded data removed]",
      "text/plain": [
       "<matplotlib.figure.Figure at 0x2317feada90>"
      ]
     },
     "metadata": {},
     "output_type": "display_data"
    }
   ],
   "source": [
    "# remove longtiude = 0 data\n",
    "# Latitude and longitude coordinates of new york city: 40.730610, -73.935242.\n",
    "# let's say commute 250 miles along all directions, corresponds to ~4 degree in latitude and ~5 degree in longitude\n",
    "\n",
    "train = train[(train['longitude'] < -71.435) & (train['longitude'] > -76.435) & (train['latitude'] > 38.73) & (train['latitude'] < 42.73)]\n",
    "\n",
    "\n",
    "figure = plt.figure(figsize=(6, 5))\n",
    "plt.scatter(train['latitude'], train['longitude'], alpha=0.5)\n",
    "plt.xlabel('latitude')\n",
    "plt.ylabel('longitude')\n",
    "plt.show()\n"
   ]
  },
  {
   "cell_type": "code",
   "execution_count": 7,
   "metadata": {
    "collapsed": false
   },
   "outputs": [
    {
     "data": {
      "image/png": "[encoded data removed]",
      "text/plain": [
       "<matplotlib.figure.Figure at 0x23108775550>"
      ]
     },
     "metadata": {},
     "output_type": "display_data"
    }
   ],
   "source": [
    "train.hist(figsize=(12,8), bins = 10, alpha = 0.5, normed = True)\n",
    "#train.hist(figsize=(12,8))\n",
    "plt.show()"
   ]
  },
  {
   "cell_type": "code",
   "execution_count": 8,
   "metadata": {
    "collapsed": false
   },
   "outputs": [
    {
     "data": {
      "image/png": "[encoded data removed]",
      "text/plain": [
       "<matplotlib.figure.Figure at 0x23108a24e48>"
      ]
     },
     "metadata": {},
     "output_type": "display_data"
    },
    {
     "data": {
      "image/png": "[encoded data removed]",
      "text/plain": [
       "<matplotlib.figure.Figure at 0x23108a24b70>"
      ]
     },
     "metadata": {},
     "output_type": "display_data"
    },
    {
     "data": {
      "image/png": "[encoded data removed]",
      "text/plain": [
       "<matplotlib.figure.Figure at 0x23108c90550>"
      ]
     },
     "metadata": {},
     "output_type": "display_data"
    },
    {
     "data": {
      "image/png": "[encoded data removed]",
      "text/plain": [
       "<matplotlib.figure.Figure at 0x2317f7c70b8>"
      ]
     },
     "metadata": {},
     "output_type": "display_data"
    },
    {
     "data": {
      "image/png": "[encoded data removed]",
      "text/plain": [
       "<matplotlib.figure.Figure at 0x2310e26cba8>"
      ]
     },
     "metadata": {},
     "output_type": "display_data"
    }
   ],
   "source": [
    "train['price'].plot(logx = True, kind = 'kde')\n",
    "plt.show()\n",
    "\n",
    "train['price'].hist(bins=64, range=(40, 10000), alpha = .5, normed = True)\n",
    "plt.show()\n",
    "\n",
    "fig, ax = plt.subplots()\n",
    "train['price'].hist(ax=ax, bins=64, range=(10000, 50000), alpha = .5, normed = True)\n",
    "ax.set_xscale('log')\n",
    "plt.show()\n",
    "\n",
    "fig, ax = plt.subplots()\n",
    "train['price'].hist(ax=ax, bins=64, range=(50000, 100000), alpha = .5, normed = True)\n",
    "ax.set_xscale('log')\n",
    "plt.show()\n",
    "\n",
    "fig, ax = plt.subplots()\n",
    "train['price'].hist(ax=ax, bins=64, range=(100000, 4490000), alpha = .5, normed = True)\n",
    "ax.set_xscale('log')\n",
    "plt.show()"
   ]
  },
  {
   "cell_type": "code",
   "execution_count": 130,
   "metadata": {
    "collapsed": false
   },
   "outputs": [
    {
     "data": {
      "text/html": [
       "<div>\n",
       "<table border=\"1\" class=\"dataframe\">\n",
       "  <thead>\n",
       "    <tr style=\"text-align: right;\">\n",
       "      <th></th>\n",
       "      <th>bathrooms</th>\n",
       "      <th>bedrooms</th>\n",
       "      <th>building_id</th>\n",
       "      <th>created</th>\n",
       "      <th>description</th>\n",
       "      <th>display_address</th>\n",
       "      <th>features</th>\n",
       "      <th>interest_level</th>\n",
       "      <th>latitude</th>\n",
       "      <th>listing_id</th>\n",
       "      <th>...</th>\n",
       "      <th>manager_id</th>\n",
       "      <th>photos</th>\n",
       "      <th>price</th>\n",
       "      <th>street_address</th>\n",
       "      <th>doorman</th>\n",
       "      <th>elevator</th>\n",
       "      <th>pet</th>\n",
       "      <th>wifi</th>\n",
       "      <th>parking</th>\n",
       "      <th>swimming</th>\n",
       "    </tr>\n",
       "  </thead>\n",
       "  <tbody>\n",
       "    <tr>\n",
       "      <th>12168</th>\n",
       "      <td>1.0</td>\n",
       "      <td>2</td>\n",
       "      <td>5d3525a5085445e7fcd64a53aac3cb0a</td>\n",
       "      <td>2016-06-24 05:02:58</td>\n",
       "      <td></td>\n",
       "      <td>West 116th Street</td>\n",
       "      <td>[Doorman, Elevator, Cats Allowed, Dogs Allowed...</td>\n",
       "      <td>low</td>\n",
       "      <td>40.8011</td>\n",
       "      <td>7208794</td>\n",
       "      <td>...</td>\n",
       "      <td>d1737922fe92ccb0dc37ba85589e6415</td>\n",
       "      <td>[]</td>\n",
       "      <td>1150000</td>\n",
       "      <td>40 West 116th Street</td>\n",
       "      <td>1</td>\n",
       "      <td>1</td>\n",
       "      <td>0</td>\n",
       "      <td>0</td>\n",
       "      <td>0</td>\n",
       "      <td>0</td>\n",
       "    </tr>\n",
       "    <tr>\n",
       "      <th>123877</th>\n",
       "      <td>0.0</td>\n",
       "      <td>0</td>\n",
       "      <td>b9c72643feb2652536a898a5f13d2543</td>\n",
       "      <td>2016-04-12 02:11:10</td>\n",
       "      <td>Originally built in 1862, this extraordinary l...</td>\n",
       "      <td>Duane Street</td>\n",
       "      <td>[Elevator, Pre-War, Terrace, Dogs Allowed, Cat...</td>\n",
       "      <td>low</td>\n",
       "      <td>40.7161</td>\n",
       "      <td>6857401</td>\n",
       "      <td>...</td>\n",
       "      <td>d98acd4fa3c463bd468603bd873cc54c</td>\n",
       "      <td>[https://photos.renthop.com/2/6857401_a4a4c2f2...</td>\n",
       "      <td>135000</td>\n",
       "      <td>144 Duane Street</td>\n",
       "      <td>0</td>\n",
       "      <td>1</td>\n",
       "      <td>0</td>\n",
       "      <td>0</td>\n",
       "      <td>0</td>\n",
       "      <td>0</td>\n",
       "    </tr>\n",
       "    <tr>\n",
       "      <th>32611</th>\n",
       "      <td>1.0</td>\n",
       "      <td>2</td>\n",
       "      <td>cd25bbea2af848ebe9821da820b725da</td>\n",
       "      <td>2016-06-24 05:02:11</td>\n",
       "      <td></td>\n",
       "      <td>Hudson Street</td>\n",
       "      <td>[Doorman, Elevator, Cats Allowed, Dogs Allowed...</td>\n",
       "      <td>low</td>\n",
       "      <td>40.7299</td>\n",
       "      <td>7208764</td>\n",
       "      <td>...</td>\n",
       "      <td>d1737922fe92ccb0dc37ba85589e6415</td>\n",
       "      <td>[]</td>\n",
       "      <td>4490000</td>\n",
       "      <td>421 Hudson Street</td>\n",
       "      <td>1</td>\n",
       "      <td>1</td>\n",
       "      <td>0</td>\n",
       "      <td>0</td>\n",
       "      <td>0</td>\n",
       "      <td>0</td>\n",
       "    </tr>\n",
       "    <tr>\n",
       "      <th>4620</th>\n",
       "      <td>1.0</td>\n",
       "      <td>0</td>\n",
       "      <td>c0d27c9422c375c651baa7b61e4a9dca</td>\n",
       "      <td>2016-06-07 17:35:10</td>\n",
       "      <td>The BEST DEAL!!!!!\\r\\rBeautiful Studio in a ni...</td>\n",
       "      <td>Van Horn St and 57th ave</td>\n",
       "      <td>[Elevator, Laundry In Building, Balcony]</td>\n",
       "      <td>high</td>\n",
       "      <td>40.7323</td>\n",
       "      <td>7122037</td>\n",
       "      <td>...</td>\n",
       "      <td>3d7ef07518d7564ab1c55f6fa7c80527</td>\n",
       "      <td>[https://photos.renthop.com/2/7122037_531f0877...</td>\n",
       "      <td>111111</td>\n",
       "      <td>57-25 Van Horn St</td>\n",
       "      <td>0</td>\n",
       "      <td>1</td>\n",
       "      <td>0</td>\n",
       "      <td>0</td>\n",
       "      <td>0</td>\n",
       "      <td>0</td>\n",
       "    </tr>\n",
       "    <tr>\n",
       "      <th>55437</th>\n",
       "      <td>1.0</td>\n",
       "      <td>1</td>\n",
       "      <td>37385c8a58176b529964083315c28e32</td>\n",
       "      <td>2016-05-14 05:21:28</td>\n",
       "      <td></td>\n",
       "      <td>West 57th Street</td>\n",
       "      <td>[Doorman, Cats Allowed, Dogs Allowed]</td>\n",
       "      <td>low</td>\n",
       "      <td>40.7676</td>\n",
       "      <td>7013217</td>\n",
       "      <td>...</td>\n",
       "      <td>8f5a9c893f6d602f4953fcc0b8e6e9b4</td>\n",
       "      <td>[]</td>\n",
       "      <td>1070000</td>\n",
       "      <td>333 West 57th Street</td>\n",
       "      <td>1</td>\n",
       "      <td>0</td>\n",
       "      <td>0</td>\n",
       "      <td>0</td>\n",
       "      <td>0</td>\n",
       "      <td>0</td>\n",
       "    </tr>\n",
       "    <tr>\n",
       "      <th>57803</th>\n",
       "      <td>1.0</td>\n",
       "      <td>1</td>\n",
       "      <td>37385c8a58176b529964083315c28e32</td>\n",
       "      <td>2016-05-19 02:37:06</td>\n",
       "      <td>This 1 Bedroom apartment is located on a prime...</td>\n",
       "      <td>West 57th Street</td>\n",
       "      <td>[Doorman, Elevator, Pre-War, Dogs Allowed, Cat...</td>\n",
       "      <td>low</td>\n",
       "      <td>40.7676</td>\n",
       "      <td>7036279</td>\n",
       "      <td>...</td>\n",
       "      <td>18133bc914e6faf6f8cc1bf29d66fc0d</td>\n",
       "      <td>[https://photos.renthop.com/2/7036279_924b52f0...</td>\n",
       "      <td>1070000</td>\n",
       "      <td>333 West 57th Street</td>\n",
       "      <td>1</td>\n",
       "      <td>1</td>\n",
       "      <td>0</td>\n",
       "      <td>0</td>\n",
       "      <td>0</td>\n",
       "      <td>0</td>\n",
       "    </tr>\n",
       "  </tbody>\n",
       "</table>\n",
       "<p>6 rows × 21 columns</p>\n",
       "</div>"
      ],
      "text/plain": [
       "        bathrooms  bedrooms                       building_id  \\\n",
       "12168         1.0         2  5d3525a5085445e7fcd64a53aac3cb0a   \n",
       "123877        0.0         0  b9c72643feb2652536a898a5f13d2543   \n",
       "32611         1.0         2  cd25bbea2af848ebe9821da820b725da   \n",
       "4620          1.0         0  c0d27c9422c375c651baa7b61e4a9dca   \n",
       "55437         1.0         1  37385c8a58176b529964083315c28e32   \n",
       "57803         1.0         1  37385c8a58176b529964083315c28e32   \n",
       "\n",
       "                    created  \\\n",
       "12168   2016-06-24 05:02:58   \n",
       "123877  2016-04-12 02:11:10   \n",
       "32611   2016-06-24 05:02:11   \n",
       "4620    2016-06-07 17:35:10   \n",
       "55437   2016-05-14 05:21:28   \n",
       "57803   2016-05-19 02:37:06   \n",
       "\n",
       "                                              description  \\\n",
       "12168                                                       \n",
       "123877  Originally built in 1862, this extraordinary l...   \n",
       "32611                                                       \n",
       "4620    The BEST DEAL!!!!!\\r\\rBeautiful Studio in a ni...   \n",
       "55437                                                       \n",
       "57803   This 1 Bedroom apartment is located on a prime...   \n",
       "\n",
       "                 display_address  \\\n",
       "12168          West 116th Street   \n",
       "123877              Duane Street   \n",
       "32611              Hudson Street   \n",
       "4620    Van Horn St and 57th ave   \n",
       "55437           West 57th Street   \n",
       "57803           West 57th Street   \n",
       "\n",
       "                                                 features interest_level  \\\n",
       "12168   [Doorman, Elevator, Cats Allowed, Dogs Allowed...            low   \n",
       "123877  [Elevator, Pre-War, Terrace, Dogs Allowed, Cat...            low   \n",
       "32611   [Doorman, Elevator, Cats Allowed, Dogs Allowed...            low   \n",
       "4620             [Elevator, Laundry In Building, Balcony]           high   \n",
       "55437               [Doorman, Cats Allowed, Dogs Allowed]            low   \n",
       "57803   [Doorman, Elevator, Pre-War, Dogs Allowed, Cat...            low   \n",
       "\n",
       "        latitude  listing_id    ...                           manager_id  \\\n",
       "12168    40.8011     7208794    ...     d1737922fe92ccb0dc37ba85589e6415   \n",
       "123877   40.7161     6857401    ...     d98acd4fa3c463bd468603bd873cc54c   \n",
       "32611    40.7299     7208764    ...     d1737922fe92ccb0dc37ba85589e6415   \n",
       "4620     40.7323     7122037    ...     3d7ef07518d7564ab1c55f6fa7c80527   \n",
       "55437    40.7676     7013217    ...     8f5a9c893f6d602f4953fcc0b8e6e9b4   \n",
       "57803    40.7676     7036279    ...     18133bc914e6faf6f8cc1bf29d66fc0d   \n",
       "\n",
       "                                                   photos    price  \\\n",
       "12168                                                  []  1150000   \n",
       "123877  [https://photos.renthop.com/2/6857401_a4a4c2f2...   135000   \n",
       "32611                                                  []  4490000   \n",
       "4620    [https://photos.renthop.com/2/7122037_531f0877...   111111   \n",
       "55437                                                  []  1070000   \n",
       "57803   [https://photos.renthop.com/2/7036279_924b52f0...  1070000   \n",
       "\n",
       "              street_address doorman  elevator  pet  wifi  parking  swimming  \n",
       "12168   40 West 116th Street       1         1    0     0        0         0  \n",
       "123877      144 Duane Street       0         1    0     0        0         0  \n",
       "32611      421 Hudson Street       1         1    0     0        0         0  \n",
       "4620       57-25 Van Horn St       0         1    0     0        0         0  \n",
       "55437   333 West 57th Street       1         0    0     0        0         0  \n",
       "57803   333 West 57th Street       1         1    0     0        0         0  \n",
       "\n",
       "[6 rows x 21 columns]"
      ]
     },
     "execution_count": 130,
     "metadata": {},
     "output_type": "execute_result"
    }
   ],
   "source": [
    "# check rental price > 10^5, it might be typo without decimal point\n",
    "train[train['price'] > 100000]\n",
    "# these prices looks more like selling prices instead of rental prices, remove these data"
   ]
  },
  {
   "cell_type": "code",
   "execution_count": 131,
   "metadata": {
    "collapsed": true
   },
   "outputs": [],
   "source": [
    "train = train[train['price']<100000]"
   ]
  },
  {
   "cell_type": "code",
   "execution_count": 113,
   "metadata": {
    "collapsed": false
   },
   "outputs": [
    {
     "name": "stdout",
     "output_type": "stream",
     "text": [
      "** holy deal batman!! * oversized 3br mansion * 2 full baths * huge scenic terrace * doorman * elev/lndry bldg * roof deck * real pix **\n",
      "** lex ave luxury! * sprawling sunfilled 1br home * all utilities incl! * doorman * elev/lndry bldg * cats ok **\n",
      "** midtown mansion * sprawling sunfilled studio * utilities included * doorman * elev/lndry bldg * pets ok **\n",
      "24 hour doorman\n",
      "24 hour doorman concierge\n",
      "24 hr doorman\n",
      "24-hour concierge and doorman\n",
      "24-hour doorman\n",
      "24/7 doorman\n",
      "24/7 doorman concierge\n",
      "24/7 full-time doorman concierge\n",
      "24hr doorman\n",
      "24hr white-gloved doorman\n",
      "doorman\n",
      "ft doorman\n",
      "full-time doorman\n",
      "no fee...luxury doorman building^^^river views\n",
      "part-time doorman\n",
      "twenty-four hour concierge and doorman\n",
      "twenty-four-hour concierge and doorman\n",
      "virtual doorman\n",
      "• on-site lifestyle concierge by luxury attaché •24/7 doorman • state of the art cardiovascular and weight training equipment • 24-hour valet parking garage • valet services including dry cleaning\n"
     ]
    }
   ],
   "source": [
    "# derive important parameter from features\n",
    "\n",
    "import re\n",
    "terms = set()\n",
    "\n",
    "for x in train['features']:\n",
    "    for phrase in x:\n",
    "        phrase_lc = phrase.strip().lower()\n",
    "        if re.search('doorman', phrase_lc):\n",
    "            terms.add(phrase_lc)\n",
    "        \n",
    "unique_terms = sorted(terms)\n",
    "for term in unique_terms:\n",
    "    print( term )"
   ]
  },
  {
   "cell_type": "code",
   "execution_count": 117,
   "metadata": {
    "collapsed": false
   },
   "outputs": [
    {
     "name": "stdout",
     "output_type": "stream",
     "text": [
      "elevator\n",
      "elevator & laundry\n",
      "elevator building\n",
      "elevator/laundry/ so close to the 6 $2450!!\n",
      "high speed elevator\n",
      "keyed elevator with direct access into your living room\n",
      "rent stabilize - elevator building\n"
     ]
    }
   ],
   "source": [
    "terms = set()\n",
    "for x in train['features']:\n",
    "    for phrase in x:\n",
    "        phrase_lc = phrase.strip().lower()\n",
    "        if re.search('elevator', phrase_lc):\n",
    "            terms.add(phrase_lc)\n",
    "        \n",
    "unique_terms = sorted(terms)\n",
    "for term in unique_terms:\n",
    "    print( term )"
   ]
  },
  {
   "cell_type": "code",
   "execution_count": 120,
   "metadata": {
    "collapsed": false,
    "scrolled": true
   },
   "outputs": [
    {
     "name": "stdout",
     "output_type": "stream",
     "text": [
      "** chic chelsea steal! * super sweet studio * gourmet chef's kitchen * all modern & new * tons of storage * pets ok **\n",
      "** classy corner studio * oversized & underpriced * windows all around * pets ok **\n",
      "** classy corner studio supreme * walls of windows * all modern & new * pets ok **\n",
      "** diamond uws deal! * massive studio * exposed brick * dishwasher * pets ok * steps to the park! **\n",
      "** e60s excellence * sprawling 1br home * gourmet kitchen * windows all around * pets ok **\n",
      "** entire floor! * enormous 4br mega-share * magic eraser clean * unique renovations * pets ok **\n",
      "** extra sweet east village! * massive 2br home * ornate prewar details * exposed brick * cook's kitchen * pets ok **\n",
      "** eye popping no fee! * massive 1br home * exposed brick * private terrace * dishwasher * elev bldg * roof deck * pets ok **\n",
      "** holy deal batman! * entire floor! * massive 4br mansion * gourmet kitchen * pets ok **\n",
      "** holy no fee deal batman! * massive 1br home * chef's kitchen * magic eraser clean * pets ok * real pix **\n",
      "** midtown mansion * sprawling sunfilled studio * utilities included * doorman * elev/lndry bldg * pets ok **\n",
      "** oversized & underpriced * classy corner studio * all modern & new * perfect sunlight * pets ok **\n",
      "** oversized & underpriced! * sprawling sunfilled studio * roomy closets * tons of sunlight * pets ok **\n",
      "** oversized 1br duplex dream * mr clean approved * unique details * near central park * w50s baby * pets ok **\n",
      "** oversized 1br home * gut renovated * perfect natural light * heart of chelsea * pets ok **\n",
      "** pristine prewar gem! * massive 3br super share * gut renovated * chef;s kitchen * elev bldg * pets ok **\n",
      "** spacious studio supreme * amazing corner layout * tons of sunlight * pets ok **\n",
      "** sprawling studio home * dishwasher * exposed brick * gut renovated * pets ok * steps to the park **\n",
      "** sprawling sundrenched studio * mr clean approved * roomy closets * pets ok * w50s ~ steps to the park! **\n",
      "** sprawling true 2br super share * exposed brick * scenic roof deck * pets ok **\n",
      "** super sweet studio * no fee * dishwasher * roomy closets * elev bldg * pets ok **\n",
      "** the perfect share! * massive 2br home * gut renovated * lndry bldg * pets ok * heart of the village **\n",
      "** uptown's finest! * massive 1br home * ornate prewar details * gourmet chef's kitchen * pets ok **\n",
      "** wicked w50s winner! * massive 2br super share * windows al around * chef inspired kitchen * elev bldg * pets ok * steps to central park! **\n",
      "25lb weight limit on pet\n",
      "all pets ok\n",
      "competitively priced\n",
      "no pets\n",
      "on site dog park and pet spa\n",
      "pet friendly\n",
      "pet friendly ( case by case )\n",
      "pet grooming room\n",
      "pets\n",
      "pets - case by case.\n",
      "pets allowed\n",
      "pets allowed case by case\n",
      "pets ok\n",
      "pets on approval\n",
      "pets upon approval\n",
      "pets welcome\n",
      "pets: case by case\n",
      "pets: cats only\n",
      "pets: cats/small dogs\n",
      "small pets allowed\n",
      "sorry no pets\n"
     ]
    }
   ],
   "source": [
    "terms = set()\n",
    "for x in train['features']:\n",
    "    for phrase in x:\n",
    "        phrase_lc = phrase.strip().lower()\n",
    "        if re.search('pet', phrase_lc):\n",
    "            terms.add(phrase_lc)\n",
    "        \n",
    "unique_terms = sorted(terms)\n",
    "for term in unique_terms:\n",
    "    print( term )"
   ]
  },
  {
   "cell_type": "code",
   "execution_count": 121,
   "metadata": {
    "collapsed": false
   },
   "outputs": [
    {
     "name": "stdout",
     "output_type": "stream",
     "text": [
      "dog okay\n",
      "dogs allowed\n",
      "dogs ok\n",
      "dogs under 20 lbs.                parking ( additional fee)\n",
      "on site dog park and pet spa\n",
      "one small dog ok on approval\n",
      "pets: cats/small dogs\n",
      "pre-war small dogs\n",
      "small dogs ok\n",
      "specific dog breeds up to 40lbs\n",
      "state-of-the-art fitness center and even an on-site dog run\n"
     ]
    }
   ],
   "source": [
    "terms = set()\n",
    "for x in train['features']:\n",
    "    for phrase in x:\n",
    "        phrase_lc = phrase.strip().lower()\n",
    "        if re.search('dog', phrase_lc):\n",
    "            terms.add(phrase_lc)\n",
    "        \n",
    "unique_terms = sorted(terms)\n",
    "for term in unique_terms:\n",
    "    print( term )"
   ]
  },
  {
   "cell_type": "code",
   "execution_count": 122,
   "metadata": {
    "collapsed": false
   },
   "outputs": [
    {
     "name": "stdout",
     "output_type": "stream",
     "text": [
      "$250 application fee with background and credit check. board interview and approval.\n",
      "* marvelous midtown gem * spacious sundrenched studio * stunning prewar details * cats ok **\n",
      "** chic chelsea find! * massive 4br home * 2 full baths * chef inspired kitchen * elev that opens into apt * cats ok **\n",
      "** classy conv 2br duplex dream! * room to entertain * lndry bldg * cats ok * heart of the village **\n",
      "** lex ave luxury! * sprawling sunfilled 1br home * all utilities incl! * doorman * elev/lndry bldg * cats ok **\n",
      "** pristine modern townhouse! * massive 2br home * chef inspired kitchen * huge windows galore * cats ok **\n",
      "** super sweet 1br home * elegant e60s! * mr clean approved * chef inspired kitchen * tons of natural light! * cats ok **\n",
      "** w60s wonder ~ near the park! * overszed studio steal * courtyard * free gym * elev/lndry bldg * cats ok **\n",
      "-greal location\n",
      "absolute value for size & location\n",
      "building link notification & key track for tenants convenience\n",
      "catering facility\n",
      "cats allowed\n",
      "cats on approval\n",
      "easy qualification\n",
      "featuring a sophisticated precor® online profile system that tracks your personal fitness goals\n",
      "great light and location. fresh paint.\n",
      "great location\n",
      "great location!\n",
      "leed certificate gold\n",
      "no application fee!\n",
      "perfect location!!!!\n",
      "pets: cats only\n",
      "pets: cats/small dogs\n",
      "prime location\n",
      "the most sought after location\n",
      "vacation home\n"
     ]
    }
   ],
   "source": [
    "terms = set()\n",
    "for x in train['features']:\n",
    "    for phrase in x:\n",
    "        phrase_lc = phrase.strip().lower()\n",
    "        if re.search('cat', phrase_lc):\n",
    "            terms.add(phrase_lc)\n",
    "        \n",
    "unique_terms = sorted(terms)\n",
    "for term in unique_terms:\n",
    "    print( term )"
   ]
  },
  {
   "cell_type": "code",
   "execution_count": 124,
   "metadata": {
    "collapsed": false
   },
   "outputs": [
    {
     "name": "stdout",
     "output_type": "stream",
     "text": [
      "fios high speed internet\n",
      "free cable tv and wireless internet\n",
      "high speed internet\n",
      "high speed internet available\n",
      "high-speed internet\n",
      "high-speed internet access\n",
      "landlord paying for all utilities! tenant pays for cable / tv / internet.\n",
      "rent includes cable tv and wireless internet\n",
      "residents can choose from three high-speed internet providers: verizon fios\n"
     ]
    }
   ],
   "source": [
    "terms = set()\n",
    "for x in train['features']:\n",
    "    for phrase in x:\n",
    "        phrase_lc = phrase.strip().lower()\n",
    "        if re.search('internet', phrase_lc):\n",
    "            terms.add(phrase_lc)\n",
    "        \n",
    "unique_terms = sorted(terms)\n",
    "for term in unique_terms:\n",
    "    print( term )"
   ]
  },
  {
   "cell_type": "code",
   "execution_count": 125,
   "metadata": {
    "collapsed": false
   },
   "outputs": [
    {
     "name": "stdout",
     "output_type": "stream",
     "text": [
      "000-square foot sun deck• free wifi in marc club\n",
      "free wifi\n",
      "free wifi in club lounge\n",
      "garage fitness facility laundry room valet lounge billiards room rooftop deck wifi access\n",
      "lounge w/ free wifi\n",
      "lounge with wifi\n",
      "wifi\n",
      "wifi access\n",
      "wifi in resident lounge\n"
     ]
    }
   ],
   "source": [
    "terms = set()\n",
    "for x in train['features']:\n",
    "    for phrase in x:\n",
    "        phrase_lc = phrase.strip().lower()\n",
    "        if re.search('wifi', phrase_lc):\n",
    "            terms.add(phrase_lc)\n",
    "        \n",
    "unique_terms = sorted(terms)\n",
    "for term in unique_terms:\n",
    "    print( term )"
   ]
  },
  {
   "cell_type": "code",
   "execution_count": 126,
   "metadata": {
    "collapsed": false
   },
   "outputs": [
    {
     "name": "stdout",
     "output_type": "stream",
     "text": [
      "24-hour parking garage with an electric vehicle charging station.\n",
      "assigned-parking-space\n",
      "attached parking\n",
      "attached parking garage\n",
      "common parking/garage\n",
      "dogs under 20 lbs.                parking ( additional fee)\n",
      "garage parking\n",
      "garage parking!\n",
      "indoor parking\n",
      "no alternate side parking rules in neighborhood\n",
      "on-site parking\n",
      "on-site parking available\n",
      "on-site parking garage\n",
      "on-site parking lot\n",
      "parking\n",
      "parking available\n",
      "parking garage\n",
      "parking space\n",
      "parking spot with additional fee\n",
      "previous tenant found easy on-street parking.\n",
      "private parking\n",
      "standard on-site parking\n",
      "unassigned paid parking available\n",
      "unassigned paid parking available nearby\n",
      "underground parking\n",
      "valet parking\n",
      "• on-site lifestyle concierge by luxury attaché •24/7 doorman • state of the art cardiovascular and weight training equipment • 24-hour valet parking garage • valet services including dry cleaning\n"
     ]
    }
   ],
   "source": [
    "terms = set()\n",
    "for x in train['features']:\n",
    "    for phrase in x:\n",
    "        phrase_lc = phrase.strip().lower()\n",
    "        if re.search('parking', phrase_lc):\n",
    "            terms.add(phrase_lc)\n",
    "        \n",
    "unique_terms = sorted(terms)\n",
    "for term in unique_terms:\n",
    "    print( term )"
   ]
  },
  {
   "cell_type": "code",
   "execution_count": 127,
   "metadata": {
    "collapsed": false
   },
   "outputs": [
    {
     "name": "stdout",
     "output_type": "stream",
     "text": [
      "available  05/01/16      swimming pool         dishwasher\n",
      "gym fitness lounge swimming pool sun decks exercise studios indoor half-basketball court\n",
      "health club & indoor swimming pool\n",
      "indoor swimming pool\n",
      "state-of-the-art swimming pool\n",
      "swimming pool\n",
      "well mainatained swimming pool\n"
     ]
    }
   ],
   "source": [
    "terms = set()\n",
    "for x in train['features']:\n",
    "    for phrase in x:\n",
    "        phrase_lc = phrase.strip().lower()\n",
    "        if re.search('swimming', phrase_lc):\n",
    "            terms.add(phrase_lc)\n",
    "        \n",
    "unique_terms = sorted(terms)\n",
    "for term in unique_terms:\n",
    "    print( term )"
   ]
  },
  {
   "cell_type": "code",
   "execution_count": 110,
   "metadata": {
    "collapsed": true
   },
   "outputs": [],
   "source": [
    "class Feature:\n",
    "    def __init__(self):\n",
    "        self.doorman = 0\n",
    "        self.elevator = 0\n",
    "        self.pet = 0\n",
    "        self.parking = 0\n",
    "        self.swimming = 0"
   ]
  },
  {
   "cell_type": "code",
   "execution_count": 128,
   "metadata": {
    "collapsed": false
   },
   "outputs": [],
   "source": [
    "features_list = []\n",
    "\n",
    "for x in train['features']:\n",
    "    f = Feature()\n",
    "    features_list.append(f)\n",
    "    for phrase in x:\n",
    "        phrase_lc = phrase.strip().lower()\n",
    "        if re.search('doorman', phrase_lc):\n",
    "            f.doorman = 1\n",
    "        if re.search('elevator', phrase_lc):\n",
    "            f.elevator = 1\n",
    "        if re.search('no pets', phrase_lc):\n",
    "            f.pet = 1\n",
    "        if re.search('paid parking', phrase_lc) or re.search('parking ( additional fee)', phrase_lc) or re.search('parking spot with additional fee', phrase_lc):\n",
    "            f.parking = 1\n",
    "        if re.search('swimming pool', phrase_lc):\n",
    "            f.swimming = 1\n",
    "\n",
    "doorman_ = [f.doorman for f in features_list]  \n",
    "elevator_ = [f.elevator for f in features_list]\n",
    "pet_ = [f.pet for f in features_list]\n",
    "wifi_ = [f.wifi for f in features_list]\n",
    "parking_ = [f.parking for f in features_list]\n",
    "swimming_ = [f.swimming for f in features_list]\n",
    "\n",
    "train['doorman'] = doorman_\n",
    "train['elevator'] = elevator_\n",
    "train['pet'] = pet_\n",
    "train['wifi'] = wifi_\n",
    "train['parking'] = parking_\n",
    "train['swimming'] = swimming_        \n",
    "        "
   ]
  },
  {
   "cell_type": "code",
   "execution_count": 129,
   "metadata": {
    "collapsed": false
   },
   "outputs": [
    {
     "name": "stdout",
     "output_type": "stream",
     "text": [
      "<class 'pandas.core.frame.DataFrame'>\n",
      "Int64Index: 49352 entries, 10 to 99994\n",
      "Data columns (total 21 columns):\n",
      "bathrooms          49352 non-null float64\n",
      "bedrooms           49352 non-null int64\n",
      "building_id        49352 non-null object\n",
      "created            49352 non-null object\n",
      "description        49352 non-null object\n",
      "display_address    49352 non-null object\n",
      "features           49352 non-null object\n",
      "interest_level     49352 non-null object\n",
      "latitude           49352 non-null float64\n",
      "listing_id         49352 non-null int64\n",
      "longitude          49352 non-null float64\n",
      "manager_id         49352 non-null object\n",
      "photos             49352 non-null object\n",
      "price              49352 non-null int64\n",
      "street_address     49352 non-null object\n",
      "doorman            49352 non-null int64\n",
      "elevator           49352 non-null int64\n",
      "pet                49352 non-null int64\n",
      "wifi               49352 non-null int64\n",
      "parking            49352 non-null int64\n",
      "swimming           49352 non-null int64\n",
      "dtypes: float64(3), int64(9), object(9)\n",
      "memory usage: 8.3+ MB\n"
     ]
    }
   ],
   "source": [
    "train.info()"
   ]
  },
  {
   "cell_type": "code",
   "execution_count": 132,
   "metadata": {
    "collapsed": false
   },
   "outputs": [
    {
     "data": {
      "image/png": "[encoded data removed]",
      "text/plain": [
       "<matplotlib.figure.Figure at 0x2310f137a20>"
      ]
     },
     "metadata": {},
     "output_type": "display_data"
    }
   ],
   "source": [
    "# visualize distribution of bedrooms, range(0-8)\n",
    "figure = plt.figure(figsize=(6, 5))\n",
    "plt.scatter(train['bedrooms'], train['bathrooms'], alpha=0.5)\n",
    "plt.xlabel('bedrooms')\n",
    "plt.ylabel('bathrooms')\n",
    "plt.show()"
   ]
  },
  {
   "cell_type": "code",
   "execution_count": 134,
   "metadata": {
    "collapsed": false
   },
   "outputs": [
    {
     "data": {
      "image/png": "[encoded data removed]",
      "text/plain": [
       "<matplotlib.figure.Figure at 0x2317ff1c278>"
      ]
     },
     "metadata": {},
     "output_type": "display_data"
    }
   ],
   "source": [
    "# throw away dataset when bathrooms >= 4 & bedrooms<=2\n",
    "\n",
    "train = train[~((train['bathrooms']>=4) & (train['bedrooms']<=2))]\n",
    "\n",
    "figure = plt.figure(figsize=(6, 5))\n",
    "plt.scatter(train['bedrooms'], train['bathrooms'], alpha=0.5)\n",
    "plt.xlabel('bedrooms')\n",
    "plt.ylabel('bathrooms')\n",
    "plt.show()"
   ]
  },
  {
   "cell_type": "code",
   "execution_count": 135,
   "metadata": {
    "collapsed": false
   },
   "outputs": [
    {
     "name": "stdout",
     "output_type": "stream",
     "text": [
      "0.0 7.0\n"
     ]
    },
    {
     "data": {
      "image/png": "[encoded data removed]",
      "text/plain": [
       "<matplotlib.figure.Figure at 0x2310ec143c8>"
      ]
     },
     "metadata": {},
     "output_type": "display_data"
    }
   ],
   "source": [
    "# visualize distribution of bathrooms, range(0-10)\n",
    "print(train['bathrooms'].min(), train['bathrooms'].max())\n",
    "train['bathrooms'].hist(bins=10, alpha = .5)\n",
    "plt.show()"
   ]
  },
  {
   "cell_type": "code",
   "execution_count": 136,
   "metadata": {
    "collapsed": false,
    "scrolled": false
   },
   "outputs": [
    {
     "data": {
      "image/png": "[encoded data removed]",
      "text/plain": [
       "<matplotlib.figure.Figure at 0x2312c4dc908>"
      ]
     },
     "metadata": {},
     "output_type": "display_data"
    },
    {
     "data": {
      "image/png": "[encoded data removed]",
      "text/plain": [
       "<matplotlib.figure.Figure at 0x2312bf48198>"
      ]
     },
     "metadata": {},
     "output_type": "display_data"
    }
   ],
   "source": [
    "# change 'created' timeframe into numerical values, check distribution, divide into multiple categories\n",
    "from datetime import time\n",
    "from datetime import timezone\n",
    "\n",
    "times = pd.to_datetime(train['created']) # object to datetime64[ns]\n",
    "# pd.Timestamp(train['created']) # object to timestamp\n",
    "\n",
    "dayoftheweek = [t.isoweekday() for t in times]\n",
    "timeoftheday = [t.time() for t in times]\n",
    "pd.Series(dayoftheweek).hist(bins=7, alpha = 0.5) # Sunday and Monday least, others similar \n",
    "plt.show()\n",
    "pd.Series(timeoftheday).hist(bins=48, figsize=(12, 8), alpha = 0.5) # 1-8 am most\n",
    "plt.show()"
   ]
  },
  {
   "cell_type": "code",
   "execution_count": 137,
   "metadata": {
    "collapsed": false
   },
   "outputs": [],
   "source": [
    "daycategory = [0 if t.isoweekday() <= 5 else 1 for t in times]\n",
    "hourcategory = [0 if time(9) <= t.time() and t.time() < time(17) else 1 for t in times]\n",
    "train['day'] = daycategory\n",
    "train['hour'] = hourcategory\n",
    "train = train.drop(['created'], axis=1)"
   ]
  },
  {
   "cell_type": "code",
   "execution_count": 138,
   "metadata": {
    "collapsed": false
   },
   "outputs": [
    {
     "name": "stdout",
     "output_type": "stream",
     "text": [
      "<class 'pandas.core.frame.DataFrame'>\n",
      "Int64Index: 49342 entries, 10 to 99994\n",
      "Data columns (total 22 columns):\n",
      "bathrooms          49342 non-null float64\n",
      "bedrooms           49342 non-null int64\n",
      "building_id        49342 non-null object\n",
      "description        49342 non-null object\n",
      "display_address    49342 non-null object\n",
      "features           49342 non-null object\n",
      "interest_level     49342 non-null object\n",
      "latitude           49342 non-null float64\n",
      "listing_id         49342 non-null int64\n",
      "longitude          49342 non-null float64\n",
      "manager_id         49342 non-null object\n",
      "photos             49342 non-null object\n",
      "price              49342 non-null int64\n",
      "street_address     49342 non-null object\n",
      "doorman            49342 non-null int64\n",
      "elevator           49342 non-null int64\n",
      "pet                49342 non-null int64\n",
      "wifi               49342 non-null int64\n",
      "parking            49342 non-null int64\n",
      "swimming           49342 non-null int64\n",
      "day                49342 non-null int64\n",
      "hour               49342 non-null int64\n",
      "dtypes: float64(3), int64(11), object(8)\n",
      "memory usage: 8.7+ MB\n",
      "None\n"
     ]
    }
   ],
   "source": [
    "print(train.info())"
   ]
  },
  {
   "cell_type": "code",
   "execution_count": 139,
   "metadata": {
    "collapsed": false,
    "scrolled": true
   },
   "outputs": [
    {
     "data": {
      "text/plain": [
       "10        1\n",
       "10000     1\n",
       "100004    1\n",
       "100007    1\n",
       "100013    1\n",
       "100014    1\n",
       "100016    1\n",
       "100020    1\n",
       "100026    1\n",
       "100027    1\n",
       "100030    1\n",
       "10004     1\n",
       "100044    1\n",
       "100048    1\n",
       "10005     1\n",
       "100051    1\n",
       "100052    1\n",
       "100053    1\n",
       "100055    0\n",
       "100058    1\n",
       "100062    1\n",
       "100063    1\n",
       "100065    0\n",
       "100066    1\n",
       "10007     1\n",
       "100071    1\n",
       "100075    1\n",
       "100076    1\n",
       "100079    1\n",
       "100081    1\n",
       "         ..\n",
       "99915     1\n",
       "99917     1\n",
       "99919     1\n",
       "99921     1\n",
       "99923     1\n",
       "99924     1\n",
       "99931     1\n",
       "99933     1\n",
       "99935     1\n",
       "99937     1\n",
       "9994      1\n",
       "99953     1\n",
       "99956     1\n",
       "99960     1\n",
       "99961     1\n",
       "99964     1\n",
       "99965     1\n",
       "99966     1\n",
       "99979     0\n",
       "99980     1\n",
       "99982     1\n",
       "99984     1\n",
       "99986     1\n",
       "99987     1\n",
       "99988     1\n",
       "9999      1\n",
       "99991     1\n",
       "99992     1\n",
       "99993     1\n",
       "99994     1\n",
       "Name: photo_number, dtype: int64"
      ]
     },
     "execution_count": 139,
     "metadata": {},
     "output_type": "execute_result"
    }
   ],
   "source": [
    "photo_number = []\n",
    "\n",
    "for i, x in train.iterrows():\n",
    "    if len(x.photos) > 0:\n",
    "        photo_number.append(1)\n",
    "    else:\n",
    "        photo_number.append(len(x.photos))\n",
    " \n",
    "train = train.assign(photo_number = photo_number)\n",
    "train['photo_number']"
   ]
  },
  {
   "cell_type": "code",
   "execution_count": 140,
   "metadata": {
    "collapsed": false
   },
   "outputs": [
    {
     "name": "stdout",
     "output_type": "stream",
     "text": [
      "photo_number\n",
      "0     3612\n",
      "1    45730\n",
      "dtype: int64\n"
     ]
    }
   ],
   "source": [
    "print(train.groupby('photo_number').size())  # 7.5% of the population doesn't have any uploaded photos"
   ]
  },
  {
   "cell_type": "code",
   "execution_count": 144,
   "metadata": {
    "collapsed": false
   },
   "outputs": [
    {
     "name": "stdout",
     "output_type": "stream",
     "text": [
      "<class 'pandas.core.frame.DataFrame'>\n",
      "Int64Index: 49342 entries, 10 to 99994\n",
      "Data columns (total 13 columns):\n",
      "bathrooms         49342 non-null float64\n",
      "bedrooms          49342 non-null int64\n",
      "interest_level    49342 non-null object\n",
      "price             49342 non-null int64\n",
      "doorman           49342 non-null int64\n",
      "elevator          49342 non-null int64\n",
      "pet               49342 non-null int64\n",
      "wifi              49342 non-null int64\n",
      "parking           49342 non-null int64\n",
      "swimming          49342 non-null int64\n",
      "day               49342 non-null int64\n",
      "hour              49342 non-null int64\n",
      "photo_number      49342 non-null int64\n",
      "dtypes: float64(1), int64(11), object(1)\n",
      "memory usage: 5.3+ MB\n",
      "None\n"
     ]
    }
   ],
   "source": [
    "# simplified ML\n",
    "train = train.drop(['description', 'display_address', 'features', 'latitude', 'longitude', 'photos', 'street_address', 'building_id', 'listing_id', 'manager_id'], axis=1)\n",
    "print(train.info())"
   ]
  },
  {
   "cell_type": "code",
   "execution_count": 145,
   "metadata": {
    "collapsed": true
   },
   "outputs": [],
   "source": [
    "y = train['interest_level']\n",
    "x = train.drop(['interest_level'], axis = 1)"
   ]
  },
  {
   "cell_type": "code",
   "execution_count": null,
   "metadata": {
    "collapsed": false
   },
   "outputs": [
    {
     "name": "stdout",
     "output_type": "stream",
     "text": [
      "ScaledLR: 0.692493 (0.008623)\n"
     ]
    },
    {
     "name": "stderr",
     "output_type": "stream",
     "text": [
      "C:\\Users\\Administrator\\Anaconda3\\lib\\site-packages\\sklearn\\discriminant_analysis.py:389: UserWarning: Variables are collinear.\n",
      "  warnings.warn(\"Variables are collinear.\")\n",
      "C:\\Users\\Administrator\\Anaconda3\\lib\\site-packages\\sklearn\\discriminant_analysis.py:389: UserWarning: Variables are collinear.\n",
      "  warnings.warn(\"Variables are collinear.\")\n",
      "C:\\Users\\Administrator\\Anaconda3\\lib\\site-packages\\sklearn\\discriminant_analysis.py:389: UserWarning: Variables are collinear.\n",
      "  warnings.warn(\"Variables are collinear.\")\n",
      "C:\\Users\\Administrator\\Anaconda3\\lib\\site-packages\\sklearn\\discriminant_analysis.py:389: UserWarning: Variables are collinear.\n",
      "  warnings.warn(\"Variables are collinear.\")\n",
      "C:\\Users\\Administrator\\Anaconda3\\lib\\site-packages\\sklearn\\discriminant_analysis.py:389: UserWarning: Variables are collinear.\n",
      "  warnings.warn(\"Variables are collinear.\")\n",
      "C:\\Users\\Administrator\\Anaconda3\\lib\\site-packages\\sklearn\\discriminant_analysis.py:389: UserWarning: Variables are collinear.\n",
      "  warnings.warn(\"Variables are collinear.\")\n",
      "C:\\Users\\Administrator\\Anaconda3\\lib\\site-packages\\sklearn\\discriminant_analysis.py:389: UserWarning: Variables are collinear.\n",
      "  warnings.warn(\"Variables are collinear.\")\n",
      "C:\\Users\\Administrator\\Anaconda3\\lib\\site-packages\\sklearn\\discriminant_analysis.py:389: UserWarning: Variables are collinear.\n",
      "  warnings.warn(\"Variables are collinear.\")\n",
      "C:\\Users\\Administrator\\Anaconda3\\lib\\site-packages\\sklearn\\discriminant_analysis.py:389: UserWarning: Variables are collinear.\n",
      "  warnings.warn(\"Variables are collinear.\")\n",
      "C:\\Users\\Administrator\\Anaconda3\\lib\\site-packages\\sklearn\\discriminant_analysis.py:389: UserWarning: Variables are collinear.\n",
      "  warnings.warn(\"Variables are collinear.\")\n"
     ]
    },
    {
     "name": "stdout",
     "output_type": "stream",
     "text": [
      "ScaledLDA: 0.694085 (0.008991)\n",
      "ScaledKNN: 0.670923 (0.007169)\n",
      "ScaledCART: 0.668809 (0.004413)\n",
      "ScaledNB: 0.609226 (0.143653)\n",
      "ScaledSVM: 0.693998 (0.008688)\n"
     ]
    },
    {
     "data": {
      "image/png": "[encoded data removed]",
      "text/plain": [
       "<matplotlib.figure.Figure at 0x2310ed21240>"
      ]
     },
     "metadata": {},
     "output_type": "display_data"
    }
   ],
   "source": [
    "\n",
    "from sklearn.model_selection import train_test_split\n",
    "from sklearn.model_selection import KFold\n",
    "from sklearn.model_selection import cross_val_score\n",
    "from sklearn.model_selection import GridSearchCV\n",
    "from sklearn.preprocessing import StandardScaler\n",
    "from sklearn.pipeline import Pipeline\n",
    "from sklearn.linear_model import LogisticRegression\n",
    "from sklearn.tree import DecisionTreeClassifier\n",
    "from sklearn.neighbors import KNeighborsClassifier\n",
    "from sklearn.discriminant_analysis import LinearDiscriminantAnalysis\n",
    "from sklearn.naive_bayes import GaussianNB\n",
    "from sklearn.svm import SVC\n",
    "\n",
    "validation_size = 0.30\n",
    "seed = 6\n",
    "X_train, X_validation, Y_train, Y_validation = train_test_split(x, y, test_size \n",
    "                                               = validation_size, random_state = seed)\n",
    "# standardize the dataset\n",
    "pipelines = []\n",
    "pipelines.append(('ScaledLR', Pipeline([('Scaler', StandardScaler()), ('LR', LogisticRegression())])))\n",
    "pipelines.append(('ScaledLDA', Pipeline([('Scaler', StandardScaler()), ('LDA', LinearDiscriminantAnalysis())])))\n",
    "pipelines.append(('ScaledKNN', Pipeline([('Scaler', StandardScaler()), ('KNN', KNeighborsClassifier())])))\n",
    "pipelines.append(('ScaledCART', Pipeline([('Scaler', StandardScaler()), ('CART', DecisionTreeClassifier())])))\n",
    "pipelines.append(('ScaledNB', Pipeline([('Scaler', StandardScaler()), ('NB', GaussianNB())])))\n",
    "pipelines.append(('ScaledSVM', Pipeline([('Scaler', StandardScaler()), ('SVM', SVC())])))\n",
    "\n",
    "from sklearn.metrics import accuracy_score\n",
    "results = []\n",
    "names = []\n",
    "scoring = 'accuracy'\n",
    "num_folds = 10\n",
    "seed = 7\n",
    "\n",
    "for name, model in pipelines:\n",
    "    kfold = KFold(n_splits = num_folds, random_state = seed)\n",
    "    cv_results = cross_val_score(model, X_train, Y_train, cv = kfold, scoring = 'accuracy')\n",
    "    results.append(cv_results)\n",
    "    names.append(name)\n",
    "    msg = \"%s: %f (%f)\" % (name, cv_results.mean(), cv_results.std())\n",
    "    print(msg)    \n",
    "\n",
    "# compare algorithms\n",
    "fig = plt.figure()\n",
    "fig.suptitle('Scaled Algorithm Comparison')\n",
    "ax = fig.add_subplot(111)\n",
    "plt.boxplot(results)\n",
    "ax.set_xticklabels(names)\n",
    "plt.show()"
   ]
  },
  {
   "cell_type": "code",
   "execution_count": null,
   "metadata": {
    "collapsed": false
   },
   "outputs": [],
   "source": [
    "# ensemble methods \n",
    "\n",
    "from sklearn.ensemble import AdaBoostClassifier\n",
    "from sklearn.ensemble import GradientBoostingClassifier\n",
    "from sklearn.ensemble import RandomForestClassifier\n",
    "\n",
    "ensembles = []\n",
    "ensembles.append(('AB', AdaBoostClassifier()))\n",
    "ensembles.append(('GBM', GradientBoostingClassifier()))\n",
    "ensembles.append(('RF', RandomForestClassifier()))\n",
    "\n",
    "results = []\n",
    "names = []\n",
    "for name, model in ensembles:\n",
    "    kfold = KFold(n_splits = num_folds, random_state = seed)\n",
    "    cv_results = cross_val_score(model, X_train, Y_train, cv=kfold, scoring = scoring)\n",
    "    results.append(cv_results)\n",
    "    names.append(name)\n",
    "    msg = \"%s: %f (%f)\" %(name, cv_results.mean(), cv_results.std())\n",
    "    print(msg)\n",
    "\n",
    "# compare algorithms\n",
    "fig = plt.figure()\n",
    "fig.suptitle('Ensemble Algorithm Comparison')\n",
    "ax = fig.add_subplot(111)\n",
    "plt.boxplot(results)\n",
    "ax.set_xticklabels(names)\n",
    "plt.show()"
   ]
  }
 ],
 "metadata": {
  "kernelspec": {
   "display_name": "Python 3",
   "language": "python",
   "name": "python3"
  },
  "language_info": {
   "codemirror_mode": {
    "name": "ipython",
    "version": 3
   },
   "file_extension": ".py",
   "mimetype": "text/x-python",
   "name": "python",
   "nbconvert_exporter": "python",
   "pygments_lexer": "ipython3",
   "version": "3.5.2"
  }
 },
 "nbformat": 4,
 "nbformat_minor": 0
}
