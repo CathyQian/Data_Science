{
 "cells": [
  {
   "cell_type": "markdown",
   "metadata": {},
   "source": [
    "The following code evaluated the performance of various machine learning algorithms on the NYC_Rental \n",
    "data after data cleaning and feature engineering. "
   ]
  },
  {
   "cell_type": "code",
   "execution_count": 1,
   "metadata": {
    "collapsed": false
   },
   "outputs": [],
   "source": [
    "import random\n",
    "import pandas as pd\n",
    "import numpy as np\n",
    "from sklearn.model_selection import train_test_split\n",
    "from sklearn.model_selection import cross_val_score\n",
    "from sklearn.metrics import log_loss\n",
    "import matplotlib.pyplot as plt\n",
    "%matplotlib inline"
   ]
  },
  {
   "cell_type": "code",
   "execution_count": 2,
   "metadata": {
    "collapsed": false
   },
   "outputs": [],
   "source": [
    "sub = pd.DataFrame()\n",
    "sub[\"listing_id\"] = pd.read_json('test.json')[\"listing_id\"]"
   ]
  },
  {
   "cell_type": "markdown",
   "metadata": {},
   "source": [
    "### Logistic Regression"
   ]
  },
  {
   "cell_type": "code",
   "execution_count": 64,
   "metadata": {
    "collapsed": true
   },
   "outputs": [],
   "source": [
    "from sklearn.model_selection import KFold\n",
    "from sklearn.model_selection import GridSearchCV\n",
    "from sklearn.preprocessing import StandardScaler\n",
    "from sklearn.pipeline import Pipeline\n",
    "from sklearn.linear_model import LogisticRegression"
   ]
  },
  {
   "cell_type": "code",
   "execution_count": 65,
   "metadata": {
    "collapsed": true
   },
   "outputs": [],
   "source": [
    "train_df = pd.read_json('FE6_train.json')\n",
    "test_df = pd.read_json('FE6_test.json')"
   ]
  },
  {
   "cell_type": "markdown",
   "metadata": {},
   "source": [
    "Train_model"
   ]
  },
  {
   "cell_type": "code",
   "execution_count": 66,
   "metadata": {
    "collapsed": false
   },
   "outputs": [],
   "source": [
    "y = train_df['interest_level']\n",
    "train_df = train_df.drop(['interest_level'], axis = 1)\n",
    "x = train_df.values"
   ]
  },
  {
   "cell_type": "code",
   "execution_count": 67,
   "metadata": {
    "collapsed": false,
    "scrolled": false
   },
   "outputs": [
    {
     "name": "stderr",
     "output_type": "stream",
     "text": [
      "C:\\Users\\Administrator\\Anaconda3\\lib\\site-packages\\sklearn\\linear_model\\base.py:352: RuntimeWarning: overflow encountered in exp\n",
      "  np.exp(prob, prob)\n"
     ]
    },
    {
     "data": {
      "text/plain": [
       "0.64626000480635815"
      ]
     },
     "execution_count": 67,
     "metadata": {},
     "output_type": "execute_result"
    }
   ],
   "source": [
    "validation_size = 0.30\n",
    "seed = 2018\n",
    "X_train, X_validation, Y_train, Y_validation = train_test_split(x, y, test_size = validation_size, random_state = seed)\n",
    "\n",
    "clf = LogisticRegression(tol = 1e-8, fit_intercept = True, random_state = 5, max_iter = 100)\n",
    "clf.fit(x, y)\n",
    "y_val_pred = clf.predict_proba(X_validation)\n",
    "log_loss(Y_validation, y_val_pred)"
   ]
  },
  {
   "cell_type": "markdown",
   "metadata": {},
   "source": [
    "Make predictions"
   ]
  },
  {
   "cell_type": "code",
   "execution_count": 68,
   "metadata": {
    "collapsed": false
   },
   "outputs": [
    {
     "name": "stderr",
     "output_type": "stream",
     "text": [
      "C:\\Users\\Administrator\\Anaconda3\\lib\\site-packages\\sklearn\\linear_model\\base.py:352: RuntimeWarning: overflow encountered in exp\n",
      "  np.exp(prob, prob)\n"
     ]
    }
   ],
   "source": [
    "y = clf.predict_proba(test_df)"
   ]
  },
  {
   "cell_type": "code",
   "execution_count": 69,
   "metadata": {
    "collapsed": false
   },
   "outputs": [],
   "source": [
    "labels2idx = {label: i for i, label in enumerate(clf.classes_)}\n",
    "labels2idx = {'high': 2, 'low':0, 'medium':1}"
   ]
  },
  {
   "cell_type": "code",
   "execution_count": 70,
   "metadata": {
    "collapsed": false
   },
   "outputs": [],
   "source": [
    "for label in [\"high\", \"medium\", \"low\"]:\n",
    "    sub[label] = y[:, labels2idx[label]]\n",
    "sub.to_csv(\"FE6_lr.csv\", index=False)"
   ]
  },
  {
   "cell_type": "markdown",
   "metadata": {},
   "source": [
    "### Random Forests"
   ]
  },
  {
   "cell_type": "code",
   "execution_count": 71,
   "metadata": {
    "collapsed": true
   },
   "outputs": [],
   "source": [
    "from sklearn.ensemble import RandomForestClassifier"
   ]
  },
  {
   "cell_type": "code",
   "execution_count": 72,
   "metadata": {
    "collapsed": true
   },
   "outputs": [],
   "source": [
    "train_df = pd.read_json('FE6_train.json')\n",
    "test_df = pd.read_json('FE6_test.json')"
   ]
  },
  {
   "cell_type": "code",
   "execution_count": 73,
   "metadata": {
    "collapsed": false
   },
   "outputs": [],
   "source": [
    "y = train_df['interest_level']\n",
    "train_df = train_df.drop(['interest_level'], axis = 1)\n",
    "x = train_df.values"
   ]
  },
  {
   "cell_type": "code",
   "execution_count": 74,
   "metadata": {
    "collapsed": true
   },
   "outputs": [],
   "source": [
    "validation_size = 0.30\n",
    "seed = 2018\n",
    "X_train, X_validation, Y_train, Y_validation = train_test_split(x, y, test_size = validation_size, random_state = seed)"
   ]
  },
  {
   "cell_type": "markdown",
   "metadata": {},
   "source": [
    "Train data"
   ]
  },
  {
   "cell_type": "code",
   "execution_count": 75,
   "metadata": {
    "collapsed": false
   },
   "outputs": [
    {
     "data": {
      "text/plain": [
       "0.5752437603554964"
      ]
     },
     "execution_count": 75,
     "metadata": {},
     "output_type": "execute_result"
    }
   ],
   "source": [
    "clf = RandomForestClassifier(n_estimators=1000)\n",
    "clf.fit(X_train, Y_train)\n",
    "y_val_pred = clf.predict_proba(X_validation)\n",
    "log_loss(Y_validation, y_val_pred)"
   ]
  },
  {
   "cell_type": "markdown",
   "metadata": {},
   "source": [
    "Make predictions"
   ]
  },
  {
   "cell_type": "code",
   "execution_count": 76,
   "metadata": {
    "collapsed": false
   },
   "outputs": [
    {
     "data": {
      "text/plain": [
       "{'high': 2, 'low': 0, 'medium': 1}"
      ]
     },
     "execution_count": 76,
     "metadata": {},
     "output_type": "execute_result"
    }
   ],
   "source": [
    "labels2idx = {label: i for i, label in enumerate(clf.classes_)}\n",
    "labels2idx = {'high': 2, 'low':0, 'medium':1}\n",
    "labels2idx"
   ]
  },
  {
   "cell_type": "code",
   "execution_count": 77,
   "metadata": {
    "collapsed": false
   },
   "outputs": [],
   "source": [
    "y = clf.predict_proba(test_df)\n",
    "# labels2idx = {label: i for i, label in enumerate(clf.classes_)}\n",
    "for label in [\"high\", \"medium\", \"low\"]:\n",
    "    sub[label] = y[:, labels2idx[label]]\n",
    "sub.to_csv(\"FE6_rf.csv\", index=False)"
   ]
  },
  {
   "cell_type": "markdown",
   "metadata": {},
   "source": [
    "### XGBoost"
   ]
  },
  {
   "cell_type": "code",
   "execution_count": 3,
   "metadata": {
    "collapsed": false
   },
   "outputs": [],
   "source": [
    "train_df = pd.read_json('Datacleaned_FE1_train.json')\n",
    "test_df = pd.read_json('FE1_test.json')"
   ]
  },
  {
   "cell_type": "code",
   "execution_count": 4,
   "metadata": {
    "collapsed": false
   },
   "outputs": [],
   "source": [
    "y = train_df['interest_level'].map({'low':0, 'medium':1,'high': 2})\n",
    "train_df = train_df.drop(['interest_level'], axis = 1)\n",
    "x = train_df.values"
   ]
  },
  {
   "cell_type": "code",
   "execution_count": 5,
   "metadata": {
    "collapsed": false
   },
   "outputs": [],
   "source": [
    "validation_size = 0.30\n",
    "seed = 2018\n",
    "X_train, X_validation, Y_train, Y_validation = train_test_split(x, y, test_size = validation_size, random_state = seed)"
   ]
  },
  {
   "cell_type": "code",
   "execution_count": 6,
   "metadata": {
    "collapsed": false,
    "scrolled": false
   },
   "outputs": [
    {
     "name": "stderr",
     "output_type": "stream",
     "text": [
      "C:\\Users\\Administrator\\Anaconda3\\lib\\site-packages\\sklearn\\cross_validation.py:44: DeprecationWarning: This module was deprecated in version 0.18 in favor of the model_selection module into which all the refactored classes and functions are moved. Also note that the interface of the new CV iterators are different from that of this module. This module will be removed in 0.20.\n",
      "  \"This module will be removed in 0.20.\", DeprecationWarning)\n"
     ]
    },
    {
     "name": "stdout",
     "output_type": "stream",
     "text": [
      "BestL 0.572166 using {'n_estimators': 150, 'max_depth': 5, 'learning_rate': 0.2}\n",
      "1.098000 (0.000003) with: {'n_estimators': 10, 'max_depth': 5, 'learning_rate': 0.0001}\n",
      "1.097389 (0.000007) with: {'n_estimators': 20, 'max_depth': 5, 'learning_rate': 0.0001}\n",
      "1.095563 (0.000017) with: {'n_estimators': 50, 'max_depth': 5, 'learning_rate': 0.0001}\n",
      "1.092539 (0.000033) with: {'n_estimators': 100, 'max_depth': 5, 'learning_rate': 0.0001}\n",
      "1.089539 (0.000048) with: {'n_estimators': 150, 'max_depth': 5, 'learning_rate': 0.0001}\n",
      "1.086564 (0.000062) with: {'n_estimators': 200, 'max_depth': 5, 'learning_rate': 0.0001}\n",
      "1.097942 (0.000007) with: {'n_estimators': 10, 'max_depth': 10, 'learning_rate': 0.0001}\n",
      "1.097274 (0.000013) with: {'n_estimators': 20, 'max_depth': 10, 'learning_rate': 0.0001}\n",
      "1.095275 (0.000033) with: {'n_estimators': 50, 'max_depth': 10, 'learning_rate': 0.0001}\n",
      "1.091969 (0.000067) with: {'n_estimators': 100, 'max_depth': 10, 'learning_rate': 0.0001}\n",
      "1.088691 (0.000099) with: {'n_estimators': 150, 'max_depth': 10, 'learning_rate': 0.0001}\n",
      "1.085439 (0.000127) with: {'n_estimators': 200, 'max_depth': 10, 'learning_rate': 0.0001}\n",
      "1.097919 (0.000005) with: {'n_estimators': 10, 'max_depth': 15, 'learning_rate': 0.0001}\n",
      "1.097227 (0.000010) with: {'n_estimators': 20, 'max_depth': 15, 'learning_rate': 0.0001}\n",
      "1.095160 (0.000026) with: {'n_estimators': 50, 'max_depth': 15, 'learning_rate': 0.0001}\n",
      "1.091743 (0.000051) with: {'n_estimators': 100, 'max_depth': 15, 'learning_rate': 0.0001}\n",
      "1.088360 (0.000076) with: {'n_estimators': 150, 'max_depth': 15, 'learning_rate': 0.0001}\n",
      "1.085011 (0.000100) with: {'n_estimators': 200, 'max_depth': 15, 'learning_rate': 0.0001}\n",
      "1.092536 (0.000034) with: {'n_estimators': 10, 'max_depth': 5, 'learning_rate': 0.001}\n",
      "1.086559 (0.000062) with: {'n_estimators': 20, 'max_depth': 5, 'learning_rate': 0.001}\n",
      "1.069227 (0.000138) with: {'n_estimators': 50, 'max_depth': 5, 'learning_rate': 0.001}\n",
      "1.042189 (0.000285) with: {'n_estimators': 100, 'max_depth': 5, 'learning_rate': 0.001}\n",
      "1.017217 (0.000421) with: {'n_estimators': 150, 'max_depth': 5, 'learning_rate': 0.001}\n",
      "0.994083 (0.000526) with: {'n_estimators': 200, 'max_depth': 5, 'learning_rate': 0.001}\n",
      "1.091966 (0.000066) with: {'n_estimators': 10, 'max_depth': 10, 'learning_rate': 0.001}\n",
      "1.085433 (0.000127) with: {'n_estimators': 20, 'max_depth': 10, 'learning_rate': 0.001}\n",
      "1.066511 (0.000271) with: {'n_estimators': 50, 'max_depth': 10, 'learning_rate': 0.001}\n",
      "1.036977 (0.000509) with: {'n_estimators': 100, 'max_depth': 10, 'learning_rate': 0.001}\n",
      "1.009760 (0.000727) with: {'n_estimators': 150, 'max_depth': 10, 'learning_rate': 0.001}\n",
      "0.984613 (0.000966) with: {'n_estimators': 200, 'max_depth': 10, 'learning_rate': 0.001}\n",
      "1.091740 (0.000051) with: {'n_estimators': 10, 'max_depth': 15, 'learning_rate': 0.001}\n",
      "1.085002 (0.000099) with: {'n_estimators': 20, 'max_depth': 15, 'learning_rate': 0.001}\n",
      "1.065545 (0.000221) with: {'n_estimators': 50, 'max_depth': 15, 'learning_rate': 0.001}\n",
      "1.035269 (0.000349) with: {'n_estimators': 100, 'max_depth': 15, 'learning_rate': 0.001}\n",
      "1.007351 (0.000450) with: {'n_estimators': 150, 'max_depth': 15, 'learning_rate': 0.001}\n",
      "0.981594 (0.000655) with: {'n_estimators': 200, 'max_depth': 15, 'learning_rate': 0.001}\n",
      "1.041982 (0.000283) with: {'n_estimators': 10, 'max_depth': 5, 'learning_rate': 0.01}\n",
      "0.993750 (0.000519) with: {'n_estimators': 20, 'max_depth': 5, 'learning_rate': 0.01}\n",
      "0.885280 (0.001002) with: {'n_estimators': 50, 'max_depth': 5, 'learning_rate': 0.01}\n",
      "0.777801 (0.001373) with: {'n_estimators': 100, 'max_depth': 5, 'learning_rate': 0.01}\n",
      "0.718694 (0.001727) with: {'n_estimators': 150, 'max_depth': 5, 'learning_rate': 0.01}\n",
      "0.683607 (0.001986) with: {'n_estimators': 200, 'max_depth': 5, 'learning_rate': 0.01}\n",
      "1.036754 (0.000505) with: {'n_estimators': 10, 'max_depth': 10, 'learning_rate': 0.01}\n",
      "0.984236 (0.000975) with: {'n_estimators': 20, 'max_depth': 10, 'learning_rate': 0.01}\n",
      "0.866183 (0.002112) with: {'n_estimators': 50, 'max_depth': 10, 'learning_rate': 0.01}\n",
      "0.748740 (0.003609) with: {'n_estimators': 100, 'max_depth': 10, 'learning_rate': 0.01}\n",
      "0.683748 (0.004167) with: {'n_estimators': 150, 'max_depth': 10, 'learning_rate': 0.01}\n",
      "0.645945 (0.004359) with: {'n_estimators': 200, 'max_depth': 10, 'learning_rate': 0.01}\n",
      "1.034994 (0.000373) with: {'n_estimators': 10, 'max_depth': 15, 'learning_rate': 0.01}\n",
      "0.981205 (0.000647) with: {'n_estimators': 20, 'max_depth': 15, 'learning_rate': 0.01}\n",
      "0.861659 (0.001867) with: {'n_estimators': 50, 'max_depth': 15, 'learning_rate': 0.01}\n",
      "0.744178 (0.002742) with: {'n_estimators': 100, 'max_depth': 15, 'learning_rate': 0.01}\n",
      "0.681775 (0.004158) with: {'n_estimators': 150, 'max_depth': 15, 'learning_rate': 0.01}\n",
      "0.648119 (0.005348) with: {'n_estimators': 200, 'max_depth': 15, 'learning_rate': 0.01}\n",
      "0.773606 (0.001412) with: {'n_estimators': 10, 'max_depth': 5, 'learning_rate': 0.1}\n",
      "0.681203 (0.002036) with: {'n_estimators': 20, 'max_depth': 5, 'learning_rate': 0.1}\n",
      "0.615362 (0.003839) with: {'n_estimators': 50, 'max_depth': 5, 'learning_rate': 0.1}\n",
      "0.589259 (0.004094) with: {'n_estimators': 100, 'max_depth': 5, 'learning_rate': 0.1}\n",
      "0.579718 (0.004721) with: {'n_estimators': 150, 'max_depth': 5, 'learning_rate': 0.1}\n",
      "0.574455 (0.005136) with: {'n_estimators': 200, 'max_depth': 5, 'learning_rate': 0.1}\n",
      "0.744146 (0.003445) with: {'n_estimators': 10, 'max_depth': 10, 'learning_rate': 0.1}\n",
      "0.644061 (0.004829) with: {'n_estimators': 20, 'max_depth': 10, 'learning_rate': 0.1}\n",
      "0.590065 (0.007506) with: {'n_estimators': 50, 'max_depth': 10, 'learning_rate': 0.1}\n",
      "0.592228 (0.008321) with: {'n_estimators': 100, 'max_depth': 10, 'learning_rate': 0.1}\n",
      "0.607781 (0.009943) with: {'n_estimators': 150, 'max_depth': 10, 'learning_rate': 0.1}\n",
      "0.627650 (0.011013) with: {'n_estimators': 200, 'max_depth': 10, 'learning_rate': 0.1}\n",
      "0.740683 (0.003234) with: {'n_estimators': 10, 'max_depth': 15, 'learning_rate': 0.1}\n",
      "0.648554 (0.005360) with: {'n_estimators': 20, 'max_depth': 15, 'learning_rate': 0.1}\n",
      "0.627056 (0.009084) with: {'n_estimators': 50, 'max_depth': 15, 'learning_rate': 0.1}\n",
      "0.674528 (0.012659) with: {'n_estimators': 100, 'max_depth': 15, 'learning_rate': 0.1}\n",
      "0.720375 (0.013249) with: {'n_estimators': 150, 'max_depth': 15, 'learning_rate': 0.1}\n",
      "0.756659 (0.015567) with: {'n_estimators': 200, 'max_depth': 15, 'learning_rate': 0.1}\n",
      "0.678999 (0.001815) with: {'n_estimators': 10, 'max_depth': 5, 'learning_rate': 0.2}\n",
      "0.626954 (0.003051) with: {'n_estimators': 20, 'max_depth': 5, 'learning_rate': 0.2}\n",
      "0.589499 (0.004877) with: {'n_estimators': 50, 'max_depth': 5, 'learning_rate': 0.2}\n",
      "0.575424 (0.005334) with: {'n_estimators': 100, 'max_depth': 5, 'learning_rate': 0.2}\n",
      "0.572166 (0.006218) with: {'n_estimators': 150, 'max_depth': 5, 'learning_rate': 0.2}\n",
      "0.573806 (0.006656) with: {'n_estimators': 200, 'max_depth': 5, 'learning_rate': 0.2}\n",
      "0.643528 (0.004196) with: {'n_estimators': 10, 'max_depth': 10, 'learning_rate': 0.2}\n",
      "0.597842 (0.005516) with: {'n_estimators': 20, 'max_depth': 10, 'learning_rate': 0.2}\n",
      "0.597136 (0.007581) with: {'n_estimators': 50, 'max_depth': 10, 'learning_rate': 0.2}\n",
      "0.636095 (0.010887) with: {'n_estimators': 100, 'max_depth': 10, 'learning_rate': 0.2}\n",
      "0.682245 (0.013725) with: {'n_estimators': 150, 'max_depth': 10, 'learning_rate': 0.2}\n",
      "0.725488 (0.014386) with: {'n_estimators': 200, 'max_depth': 10, 'learning_rate': 0.2}\n",
      "0.649513 (0.004756) with: {'n_estimators': 10, 'max_depth': 15, 'learning_rate': 0.2}\n",
      "0.624805 (0.007719) with: {'n_estimators': 20, 'max_depth': 15, 'learning_rate': 0.2}\n",
      "0.680283 (0.009922) with: {'n_estimators': 50, 'max_depth': 15, 'learning_rate': 0.2}\n",
      "0.762294 (0.013583) with: {'n_estimators': 100, 'max_depth': 15, 'learning_rate': 0.2}\n",
      "0.813322 (0.014477) with: {'n_estimators': 150, 'max_depth': 15, 'learning_rate': 0.2}\n",
      "0.849113 (0.014777) with: {'n_estimators': 200, 'max_depth': 15, 'learning_rate': 0.2}\n",
      "0.644648 (0.003067) with: {'n_estimators': 10, 'max_depth': 5, 'learning_rate': 0.3}\n",
      "0.607250 (0.003177) with: {'n_estimators': 20, 'max_depth': 5, 'learning_rate': 0.3}\n",
      "0.581322 (0.004585) with: {'n_estimators': 50, 'max_depth': 5, 'learning_rate': 0.3}\n",
      "0.574782 (0.006424) with: {'n_estimators': 100, 'max_depth': 5, 'learning_rate': 0.3}\n",
      "0.578112 (0.006864) with: {'n_estimators': 150, 'max_depth': 5, 'learning_rate': 0.3}\n",
      "0.584501 (0.008463) with: {'n_estimators': 200, 'max_depth': 5, 'learning_rate': 0.3}\n",
      "0.612169 (0.006610) with: {'n_estimators': 10, 'max_depth': 10, 'learning_rate': 0.3}\n",
      "0.595349 (0.009119) with: {'n_estimators': 20, 'max_depth': 10, 'learning_rate': 0.3}\n",
      "0.623912 (0.011319) with: {'n_estimators': 50, 'max_depth': 10, 'learning_rate': 0.3}\n",
      "0.698803 (0.014686) with: {'n_estimators': 100, 'max_depth': 10, 'learning_rate': 0.3}\n",
      "0.763109 (0.014768) with: {'n_estimators': 150, 'max_depth': 10, 'learning_rate': 0.3}\n",
      "0.813934 (0.017604) with: {'n_estimators': 200, 'max_depth': 10, 'learning_rate': 0.3}\n",
      "0.633125 (0.007053) with: {'n_estimators': 10, 'max_depth': 15, 'learning_rate': 0.3}\n",
      "0.648167 (0.008641) with: {'n_estimators': 20, 'max_depth': 15, 'learning_rate': 0.3}\n",
      "0.739672 (0.012502) with: {'n_estimators': 50, 'max_depth': 15, 'learning_rate': 0.3}\n",
      "0.824939 (0.014246) with: {'n_estimators': 100, 'max_depth': 15, 'learning_rate': 0.3}\n",
      "0.875115 (0.015586) with: {'n_estimators': 150, 'max_depth': 15, 'learning_rate': 0.3}\n",
      "0.910528 (0.016864) with: {'n_estimators': 200, 'max_depth': 15, 'learning_rate': 0.3}\n",
      "0.616091 (0.003515) with: {'n_estimators': 10, 'max_depth': 5, 'learning_rate': 0.5}\n",
      "0.592839 (0.003659) with: {'n_estimators': 20, 'max_depth': 5, 'learning_rate': 0.5}\n",
      "0.580851 (0.005424) with: {'n_estimators': 50, 'max_depth': 5, 'learning_rate': 0.5}\n",
      "0.589460 (0.006394) with: {'n_estimators': 100, 'max_depth': 5, 'learning_rate': 0.5}\n",
      "0.605412 (0.007396) with: {'n_estimators': 150, 'max_depth': 5, 'learning_rate': 0.5}\n",
      "0.624393 (0.008809) with: {'n_estimators': 200, 'max_depth': 5, 'learning_rate': 0.5}\n",
      "0.604314 (0.006918) with: {'n_estimators': 10, 'max_depth': 10, 'learning_rate': 0.5}\n",
      "0.616771 (0.007690) with: {'n_estimators': 20, 'max_depth': 10, 'learning_rate': 0.5}\n",
      "0.695100 (0.008940) with: {'n_estimators': 50, 'max_depth': 10, 'learning_rate': 0.5}\n",
      "0.805470 (0.011124) with: {'n_estimators': 100, 'max_depth': 10, 'learning_rate': 0.5}\n",
      "0.875868 (0.012892) with: {'n_estimators': 150, 'max_depth': 10, 'learning_rate': 0.5}\n",
      "0.925756 (0.013286) with: {'n_estimators': 200, 'max_depth': 10, 'learning_rate': 0.5}\n",
      "0.650709 (0.009839) with: {'n_estimators': 10, 'max_depth': 15, 'learning_rate': 0.5}\n",
      "0.706628 (0.013309) with: {'n_estimators': 20, 'max_depth': 15, 'learning_rate': 0.5}\n",
      "0.820532 (0.016397) with: {'n_estimators': 50, 'max_depth': 15, 'learning_rate': 0.5}\n",
      "0.904185 (0.019194) with: {'n_estimators': 100, 'max_depth': 15, 'learning_rate': 0.5}\n",
      "0.952558 (0.019792) with: {'n_estimators': 150, 'max_depth': 15, 'learning_rate': 0.5}\n",
      "0.988146 (0.018700) with: {'n_estimators': 200, 'max_depth': 15, 'learning_rate': 0.5}\n",
      "0.603664 (0.004301) with: {'n_estimators': 10, 'max_depth': 5, 'learning_rate': 1}\n",
      "0.599721 (0.004275) with: {'n_estimators': 20, 'max_depth': 5, 'learning_rate': 1}\n",
      "0.620017 (0.004476) with: {'n_estimators': 50, 'max_depth': 5, 'learning_rate': 1}\n",
      "0.667073 (0.010349) with: {'n_estimators': 100, 'max_depth': 5, 'learning_rate': 1}\n",
      "0.719375 (0.010253) with: {'n_estimators': 150, 'max_depth': 5, 'learning_rate': 1}\n",
      "0.769947 (0.013141) with: {'n_estimators': 200, 'max_depth': 5, 'learning_rate': 1}\n",
      "0.669099 (0.008594) with: {'n_estimators': 10, 'max_depth': 10, 'learning_rate': 1}\n",
      "0.736212 (0.008772) with: {'n_estimators': 20, 'max_depth': 10, 'learning_rate': 1}\n",
      "0.885008 (0.010378) with: {'n_estimators': 50, 'max_depth': 10, 'learning_rate': 1}\n",
      "1.006911 (0.014500) with: {'n_estimators': 100, 'max_depth': 10, 'learning_rate': 1}\n",
      "1.070218 (0.016369) with: {'n_estimators': 150, 'max_depth': 10, 'learning_rate': 1}\n",
      "1.116166 (0.016590) with: {'n_estimators': 200, 'max_depth': 10, 'learning_rate': 1}\n",
      "0.774958 (0.011886) with: {'n_estimators': 10, 'max_depth': 15, 'learning_rate': 1}\n",
      "0.863410 (0.013872) with: {'n_estimators': 20, 'max_depth': 15, 'learning_rate': 1}\n",
      "0.974068 (0.018389) with: {'n_estimators': 50, 'max_depth': 15, 'learning_rate': 1}\n",
      "1.056505 (0.019291) with: {'n_estimators': 100, 'max_depth': 15, 'learning_rate': 1}\n",
      "1.103902 (0.017965) with: {'n_estimators': 150, 'max_depth': 15, 'learning_rate': 1}\n",
      "1.139349 (0.018324) with: {'n_estimators': 200, 'max_depth': 15, 'learning_rate': 1}\n"
     ]
    },
    {
     "name": "stderr",
     "output_type": "stream",
     "text": [
      "C:\\Users\\Administrator\\Anaconda3\\lib\\site-packages\\sklearn\\model_selection\\_search.py:662: DeprecationWarning: The grid_scores_ attribute was deprecated in version 0.18 in favor of the more elaborate cv_results_ attribute. The grid_scores_ attribute will not be available from 0.20\n",
      "  DeprecationWarning)\n"
     ]
    }
   ],
   "source": [
    "from xgboost import XGBClassifier\n",
    "from xgboost import plot_importance\n",
    "from sklearn.cross_validation import StratifiedKFold\n",
    "from sklearn.model_selection import KFold\n",
    "from sklearn.model_selection import GridSearchCV\n",
    "\n",
    "model = XGBClassifier()\n",
    "learning_rate = [0.0001, 0.001, 0.01, 0.1, 0.2, 0.3, 0.5, 1]\n",
    "max_depth = [5, 10, 15]\n",
    "n_estimators = [10, 20, 50, 100, 150, 200]\n",
    "\n",
    "param_grid = dict(learning_rate = learning_rate, n_estimators = n_estimators, max_depth = max_depth)\n",
    "\n",
    "kfold = StratifiedKFold(Y_train, n_folds = 5, shuffle = True, random_state = 2018)\n",
    "grid_search = GridSearchCV(model, param_grid, scoring = 'neg_log_loss', n_jobs = -1, cv = kfold)\n",
    "result = grid_search.fit(X_train, Y_train)\n",
    "\n",
    "# summarize results\n",
    "print(\"BestL %f using %s\" % (- result.best_score_, result.best_params_))\n",
    "means, stdevs = [], []\n",
    "for params, mean_score, scores in result.grid_scores_:\n",
    "    stdev = scores.std()\n",
    "    means.append(- mean_score)\n",
    "    stdevs.append(stdev)\n",
    "    print(\"%f (%f) with: %r\" %(- mean_score, stdev, params))    "
   ]
  },
  {
   "cell_type": "code",
   "execution_count": 7,
   "metadata": {
    "collapsed": false,
    "scrolled": true
   },
   "outputs": [
    {
     "data": {
      "image/png": "iVBORw0KGgoAAAANSUhEUgAAAYAAAAEZCAYAAACervI0AAAABHNCSVQICAgIfAhkiAAAAAlwSFlz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\nSzXFDgAWi8VSTbEDgMVisVRT/j8sF57DzrblsQAAAABJRU5ErkJggg==\n",
      "text/plain": [
       "<matplotlib.figure.Figure at 0x286c9f4cd68>"
      ]
     },
     "metadata": {},
     "output_type": "display_data"
    }
   ],
   "source": [
    "model = XGBClassifier(learning_rate = 0.2, n_estimators = 150, max_depth = 5)\n",
    "model.fit(X_train, Y_train)\n",
    "plot_importance(model)\n",
    "plt.show()"
   ]
  },
  {
   "cell_type": "code",
   "execution_count": 8,
   "metadata": {
    "collapsed": false
   },
   "outputs": [],
   "source": [
    "y_pred = model.predict_proba(test_df.values)"
   ]
  },
  {
   "cell_type": "code",
   "execution_count": 10,
   "metadata": {
    "collapsed": false
   },
   "outputs": [],
   "source": [
    "#labels2idx = {label: i for i, label in enumerate(clf.classes_)}\n",
    "labels2idx = {'high': 2, 'low':0, 'medium':1}\n",
    "for label in [\"high\", \"medium\", \"low\"]:\n",
    "    sub[label] = y_pred[:, labels2idx[label]]\n",
    "sub.to_csv(\"FE1_xgb.csv\", index = False)"
   ]
  },
  {
   "cell_type": "markdown",
   "metadata": {},
   "source": [
    "### Customized XGBoost\n",
    "\n",
    "ref: https://www.kaggle.com/sudalairajkumar/xgb-starter-in-python\n",
    "can't run on my pc"
   ]
  },
  {
   "cell_type": "markdown",
   "metadata": {},
   "source": [
    "### LightGBM\n",
    "Code partially adapted from https://www.kaggle.com/somnisight/microsoft-lightgbm-starter\n",
    "\n",
    "Microsoft LightGBM is a powerful, open-source boosted decision tree library similar to xgboost. In practice, it runs even faster than xgboost and achieves better performance in some cases.\n",
    "\n",
    "\n",
    "Let's start with define hyperparameters for LightGBM."
   ]
  },
  {
   "cell_type": "code",
   "execution_count": 125,
   "metadata": {
    "collapsed": false
   },
   "outputs": [],
   "source": [
    "train_df = pd.read_json(\"FE6_train.json\")\n",
    "test_df = pd.read_json(\"FE6_test.json\")"
   ]
  },
  {
   "cell_type": "code",
   "execution_count": 126,
   "metadata": {
    "collapsed": false
   },
   "outputs": [],
   "source": [
    "# check y value first, if not numerical, map into low:0, medium:1, high:2\n",
    "y = train_df['interest_level']\n",
    "train_df = train_df.drop(['interest_level'], axis = 1)\n",
    "x = train_df.values"
   ]
  },
  {
   "cell_type": "code",
   "execution_count": 127,
   "metadata": {
    "collapsed": false
   },
   "outputs": [],
   "source": [
    "import lightgbm as lgbm\n",
    "\n",
    "# parameters are mostly default, need to be tuned\n",
    "t4_params = {\n",
    "    'boosting_type': 'gbdt', 'objective': 'multiclass', 'nthread': -1, 'silent': True,\n",
    "    'num_leaves': 2**4, 'learning_rate': 0.05, 'max_depth': -1,\n",
    "    'max_bin': 255, 'subsample_for_bin': 50000,\n",
    "    'subsample': 0.8, 'subsample_freq': 1, 'colsample_bytree': 0.6, 'reg_alpha': 1, 'reg_lambda': 0,\n",
    "    'min_split_gain': 0.5, 'min_child_weight': 1, 'min_child_samples': 10, 'scale_pos_weight': 1}\n"
   ]
  },
  {
   "cell_type": "markdown",
   "metadata": {
    "collapsed": true
   },
   "source": [
    "#### Early Stopping with Cross Validation\n",
    "Similar to xgboost, we can use cross validation with early stopping to efficiently determine the optimal \"**n_estimators**\" value."
   ]
  },
  {
   "cell_type": "code",
   "execution_count": 128,
   "metadata": {
    "collapsed": false
   },
   "outputs": [],
   "source": [
    "def cross_validate_lgbm():\n",
    "    lgbm_params = t4_params.copy()\n",
    "    lgbm_params['num_class'] = 3\n",
    "    \n",
    "    # prepare data for lgbm\n",
    "    dset = lgbm.Dataset(x, y, silent = True)\n",
    "    \n",
    "    # perform cross-validation\n",
    "    cv_results = lgbm.cv(lgbm_params, dset, num_boost_round=10000, nfold=5, stratified=False, shuffle=True, metrics='multi_logloss',\n",
    "                         early_stopping_rounds=100, verbose_eval=50, show_stdv=True, seed=0)\n",
    "    \n",
    "    print('best n_estimators:', len(cv_results['multi_logloss-mean']))\n",
    "    print('best cv score:', cv_results['multi_logloss-mean'][-1])"
   ]
  },
  {
   "cell_type": "code",
   "execution_count": 129,
   "metadata": {
    "collapsed": false
   },
   "outputs": [
    {
     "name": "stderr",
     "output_type": "stream",
     "text": [
      "C:\\Users\\Administrator\\Anaconda3\\lib\\site-packages\\lightgbm\\basic.py:657: UserWarning: silent keyword has been found in `params` and will be ignored. Please use silent argument of the Dataset constructor to pass this parameter.\n",
      "  'Please use {0} argument of the Dataset constructor to pass this parameter.'.format(key))\n"
     ]
    },
    {
     "name": "stdout",
     "output_type": "stream",
     "text": [
      "[50]\tcv_agg's multi_logloss: 0.628417 + 0.00284535\n",
      "[100]\tcv_agg's multi_logloss: 0.581653 + 0.00395399\n",
      "[150]\tcv_agg's multi_logloss: 0.565928 + 0.00451731\n",
      "[200]\tcv_agg's multi_logloss: 0.557904 + 0.00497473\n",
      "[250]\tcv_agg's multi_logloss: 0.552996 + 0.00544046\n",
      "[300]\tcv_agg's multi_logloss: 0.549677 + 0.00576191\n",
      "[350]\tcv_agg's multi_logloss: 0.547426 + 0.00604137\n",
      "[400]\tcv_agg's multi_logloss: 0.545503 + 0.00623561\n",
      "[450]\tcv_agg's multi_logloss: 0.544064 + 0.00626955\n",
      "[500]\tcv_agg's multi_logloss: 0.542993 + 0.00648165\n",
      "[550]\tcv_agg's multi_logloss: 0.542087 + 0.00658847\n",
      "[600]\tcv_agg's multi_logloss: 0.541397 + 0.00663774\n",
      "[650]\tcv_agg's multi_logloss: 0.540788 + 0.00677228\n",
      "[700]\tcv_agg's multi_logloss: 0.540256 + 0.00682055\n",
      "[750]\tcv_agg's multi_logloss: 0.539825 + 0.00691729\n",
      "[800]\tcv_agg's multi_logloss: 0.539449 + 0.00704167\n",
      "[850]\tcv_agg's multi_logloss: 0.539011 + 0.00706691\n",
      "[900]\tcv_agg's multi_logloss: 0.538815 + 0.00704537\n",
      "[950]\tcv_agg's multi_logloss: 0.538673 + 0.00718351\n",
      "[1000]\tcv_agg's multi_logloss: 0.53853 + 0.00722974\n",
      "[1050]\tcv_agg's multi_logloss: 0.538463 + 0.00718737\n",
      "[1100]\tcv_agg's multi_logloss: 0.538369 + 0.00729541\n",
      "[1150]\tcv_agg's multi_logloss: 0.538284 + 0.00736265\n",
      "[1200]\tcv_agg's multi_logloss: 0.53823 + 0.0074152\n",
      "[1250]\tcv_agg's multi_logloss: 0.53821 + 0.0075787\n",
      "[1300]\tcv_agg's multi_logloss: 0.538154 + 0.00753818\n",
      "[1350]\tcv_agg's multi_logloss: 0.538179 + 0.00761156\n",
      "[1400]\tcv_agg's multi_logloss: 0.538251 + 0.00759407\n",
      "best n_estimators: 1302\n",
      "best cv score: 0.53814289878\n"
     ]
    }
   ],
   "source": [
    "cross_validate_lgbm()"
   ]
  },
  {
   "cell_type": "code",
   "execution_count": 130,
   "metadata": {
    "collapsed": false
   },
   "outputs": [
    {
     "data": {
      "text/plain": [
       "LGBMClassifier(boosting_type='gbdt', class_weight=None, colsample_bytree=0.6,\n",
       "        learning_rate=0.05, max_bin=255, max_depth=-1,\n",
       "        min_child_samples=10, min_child_weight=1, min_split_gain=0.5,\n",
       "        n_estimators=1302, n_jobs=-1, nthread=-1, num_leaves=16,\n",
       "        objective='multiclass', random_state=None, reg_alpha=1,\n",
       "        reg_lambda=0, scale_pos_weight=1, seed=2018, silent=True,\n",
       "        subsample=0.8, subsample_for_bin=50000, subsample_freq=1)"
      ]
     },
     "execution_count": 130,
     "metadata": {},
     "output_type": "execute_result"
    }
   ],
   "source": [
    "#model = LGBMClassifier(boosting_type='gbdt', num_leaves=31, max_depth=-1, learning_rate=0.1, n_estimators=100, subsample_for_bin=200000, objective=None, class_weight=None, min_split_gain=0.0, min_child_weight=0.001, min_child_samples=20, subsample=1.0, subsample_freq=1, colsample_bytree=1.0, reg_alpha=0.0, reg_lambda=0.0, random_state=None, n_jobs=-1, silent=True, **kwargs)\n",
    "model = lgbm.sklearn.LGBMClassifier(n_estimators = 1302, seed = 2018, **t4_params)\n",
    "model.fit(x, y)"
   ]
  },
  {
   "cell_type": "code",
   "execution_count": 131,
   "metadata": {
    "collapsed": false
   },
   "outputs": [],
   "source": [
    "y_pred = model.predict_proba(test_df.values)"
   ]
  },
  {
   "cell_type": "code",
   "execution_count": 132,
   "metadata": {
    "collapsed": true
   },
   "outputs": [],
   "source": [
    "labels2idx = {'high': 2, 'low':0, 'medium':1}\n",
    "for label in [\"high\", \"medium\", \"low\"]:\n",
    "    sub[label] = y_pred[:, labels2idx[label]]\n",
    "sub.to_csv(\"FE6_lgbm.csv\", index = False)"
   ]
  },
  {
   "cell_type": "markdown",
   "metadata": {
    "collapsed": true
   },
   "source": [
    "### Stacking/Averaging\n",
    "Decrease the prediction logloss slightly."
   ]
  },
  {
   "cell_type": "code",
   "execution_count": 133,
   "metadata": {
    "collapsed": false
   },
   "outputs": [],
   "source": [
    "a = pd.read_csv(\"FE6_rf.csv\", header = 0)\n",
    "b = pd.read_csv(\"FE6_xgb.csv\", header = 0)\n",
    "c = pd.read_csv(\"FE6_withnan_lgbm.csv\", header = 0)\n",
    "d = pd.read_csv(\"FE6_lgbm.csv\", header = 0)\n",
    "\n",
    "avg = pd.DataFrame()\n",
    "avg['listing_id'] = a['listing_id']\n",
    "avg['high'] = (a['high'] + b['high'] + c['high'] + d['high'])/4.0\n",
    "avg['medium'] = (a['medium'] + b['medium'] + c['medium'] + d['medium'])/4.0\n",
    "avg['low'] = (a['low'] + b['low'] + c['low'] + d['low'])/4.0\n",
    "avg.to_csv('FE6_4avg.csv', index = False)"
   ]
  },
  {
   "cell_type": "markdown",
   "metadata": {
    "collapsed": true
   },
   "source": [
<<<<<<< HEAD
    "LB: 0.54455"
=======
    "LB: 0.54455\n",
    "Best LB score is 0.54073"
>>>>>>> d503453026d8e21892532835cc65f8591d14da7a
   ]
  },
  {
   "cell_type": "code",
   "execution_count": null,
   "metadata": {
    "collapsed": true
   },
   "outputs": [],
   "source": []
  },
  {
   "cell_type": "code",
   "execution_count": null,
   "metadata": {
    "collapsed": true
   },
   "outputs": [],
   "source": []
  },
  {
   "cell_type": "code",
   "execution_count": null,
   "metadata": {
    "collapsed": true
   },
   "outputs": [],
   "source": []
  }
 ],
 "metadata": {
  "kernelspec": {
   "display_name": "Python 3",
   "language": "python",
   "name": "python3"
  },
  "language_info": {
   "codemirror_mode": {
    "name": "ipython",
    "version": 3
   },
   "file_extension": ".py",
   "mimetype": "text/x-python",
   "name": "python",
   "nbconvert_exporter": "python",
   "pygments_lexer": "ipython3",
   "version": "3.5.2"
  }
 },
 "nbformat": 4,
 "nbformat_minor": 0
}
