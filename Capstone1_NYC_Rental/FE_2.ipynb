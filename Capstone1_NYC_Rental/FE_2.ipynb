{
 "cells": [
  {
   "cell_type": "markdown",
   "metadata": {},
   "source": [
    "The following code provides feature engineering for data after being cleaned. \n",
    "\n",
    "Here the feature engineering includes: \n",
    "- Naive feature engineering to get sum, average and counts of some features\n",
    "- CV statistics adapted from https://www.kaggle.com/guoday/cv-statistics-better-parameters-and-explaination/notebook.\n",
    "- Encode categorical values into numerical values between 0 and n_classes - 1"
   ]
  },
  {
   "cell_type": "code",
   "execution_count": 2,
   "metadata": {
    "collapsed": true
   },
   "outputs": [],
   "source": [
    "%matplotlib inline\n",
    "import random\n",
    "import pandas as pd\n",
    "import matplotlib.pyplot as plt\n",
    "import seaborn as sns\n",
    "import numpy as np"
   ]
  },
  {
   "cell_type": "code",
   "execution_count": 3,
   "metadata": {
    "collapsed": true
   },
   "outputs": [],
   "source": [
    "train_df = pd.read_json('Datacleaned_train.json')\n",
    "test_df = pd.read_json('test.json')"
   ]
  },
  {
   "cell_type": "code",
   "execution_count": 4,
   "metadata": {
    "collapsed": false
   },
   "outputs": [
    {
     "name": "stdout",
     "output_type": "stream",
     "text": [
      "<class 'pandas.core.frame.DataFrame'>\n",
      "Int64Index: 49121 entries, 0 to 9999\n",
      "Data columns (total 15 columns):\n",
      "bathrooms          49121 non-null float64\n",
      "bedrooms           49121 non-null int64\n",
      "building_id        49121 non-null object\n",
      "created            49121 non-null object\n",
      "description        49121 non-null object\n",
      "display_address    49121 non-null object\n",
      "features           49121 non-null object\n",
      "interest_level     49121 non-null object\n",
      "latitude           49121 non-null float64\n",
      "listing_id         49121 non-null int64\n",
      "longitude          49121 non-null float64\n",
      "manager_id         49121 non-null object\n",
      "photos             49121 non-null object\n",
      "price              49121 non-null int64\n",
      "street_address     49121 non-null object\n",
      "dtypes: float64(3), int64(3), object(9)\n",
      "memory usage: 6.0+ MB\n"
     ]
    }
   ],
   "source": [
    "train_df.info()"
   ]
  },
  {
   "cell_type": "code",
   "execution_count": 5,
   "metadata": {
    "collapsed": false
   },
   "outputs": [
    {
     "name": "stdout",
     "output_type": "stream",
     "text": [
      "<class 'pandas.core.frame.DataFrame'>\n",
      "Int64Index: 74659 entries, 0 to 99999\n",
      "Data columns (total 14 columns):\n",
      "bathrooms          74659 non-null float64\n",
      "bedrooms           74659 non-null int64\n",
      "building_id        74659 non-null object\n",
      "created            74659 non-null object\n",
      "description        74659 non-null object\n",
      "display_address    74659 non-null object\n",
      "features           74659 non-null object\n",
      "latitude           74659 non-null float64\n",
      "listing_id         74659 non-null int64\n",
      "longitude          74659 non-null float64\n",
      "manager_id         74659 non-null object\n",
      "photos             74659 non-null object\n",
      "price              74659 non-null int64\n",
      "street_address     74659 non-null object\n",
      "dtypes: float64(3), int64(3), object(8)\n",
      "memory usage: 8.5+ MB\n"
     ]
    }
   ],
   "source": [
    "test_df.info()"
   ]
  },
  {
   "cell_type": "markdown",
   "metadata": {},
   "source": [
    "### 1. Naive Feature Engineering"
   ]
  },
  {
   "cell_type": "code",
   "execution_count": 6,
   "metadata": {
    "collapsed": true
   },
   "outputs": [],
   "source": [
    "def naiveFE(df):\n",
    "    ''' do naive feature engineering to both the train and test data frame\n",
    "    '''\n",
    "    # total number of room\n",
    "    df[\"sum_room\"] = df[\"bedrooms\"] + df[\"bathrooms\"]\n",
    "    df[\"room_diff\"] = df[\"bedrooms\"] - df[\"bathrooms\"]\n",
    "    \n",
    "    # average price per room (withnan)\n",
    "    df[\"price_s\"] = df[\"price\"]/df[\"sum_room\"]\n",
    "    df[\"price_bed\"] = df[\"price\"]/df[\"bedrooms\"]\n",
    "    df[\"price_bath\"] = df[\"price\"]/df[\"bathrooms\"]\n",
    "    \n",
<<<<<<< HEAD
    "    # sum of bedrooms and bathrooms\n",
    "    df[\"room_sum\"] = df[\"bedrooms\"] + df[\"bathrooms\"] \n",
    "    \n",
=======
>>>>>>> d503453026d8e21892532835cc65f8591d14da7a
    "    # number of photos\n",
    "    df[\"num_photos\"] = df[\"photos\"].apply(len)\n",
    "    \n",
    "    # number features\n",
    "    df[\"num_features\"] = df[\"features\"].apply(len)\n",
    "    \n",
    "    # count of words present in description column\n",
    "    df[\"num_description_words\"] = df[\"description\"].apply(lambda x: len(x.split(\" \")))\n",
    "    \n",
    "    # created time, year = 2016 constant\n",
    "    df[\"created\"] = pd.to_datetime(df[\"created\"])\n",
    "    df[\"created_month\"] = df[\"created\"].dt.month\n",
    "    df[\"created_day\"] = df[\"created\"].dt.day\n",
    "    \n",
    "    return df"
   ]
  },
  {
   "cell_type": "code",
   "execution_count": 7,
   "metadata": {
    "collapsed": false
   },
   "outputs": [],
   "source": [
    "train_df = naiveFE(train_df)\n",
    "test_df = naiveFE(test_df)"
   ]
  },
  {
   "cell_type": "markdown",
   "metadata": {},
   "source": [
    "### 2. CV_statistics\n",
<<<<<<< HEAD
    "- This code uses five-fold cross validation statistics on 'manager_id' and used XGBoost algorithm to make predictions\n",
=======
    "- This code uses five-fold cross validation statistics on 'manager_id' \n",
>>>>>>> d503453026d8e21892532835cc65f8591d14da7a
    "- Similar rules can be applied to other features, especially building_id.\n",
    "- More feature engineering needs to be done for better prediction results."
   ]
  },
  {
   "cell_type": "markdown",
   "metadata": {},
   "source": [
    "Calculate building_level = {manager_id: low_count, medium_count, high_count}\n",
    "Then update three new features: low_count%, medium_count% and high_count% for both train_df and test_df. If this manager_id only shows up in train_df but not test_df, nan is added."
   ]
  },
  {
   "cell_type": "code",
   "execution_count": 8,
   "metadata": {
    "collapsed": true
   },
   "outputs": [],
   "source": [
    "def id_stat(stat_id):\n",
    "    global train_df, test_df\n",
    "    atrain, btrain, ctrain = [], [], []\n",
    "    atest, btest, ctest = [], [], []\n",
    "    manager_level = {}\n",
    "\n",
    "    for j in train_df[stat_id].values:\n",
    "        manager_level[j] = [0, 0, 0]\n",
    "\n",
    "    # update building_level = {manager_id: low, medium, high} for train_df\n",
    "    for j in range(train_df.shape[0]):\n",
    "        temp = train_df.iloc[j]\n",
    "        if temp['interest_level'] == 'low':\n",
    "            manager_level[temp[stat_id]][0] += 1\n",
    "        if temp['interest_level'] == 'medium':\n",
    "            manager_level[temp[stat_id]][1] += 1\n",
    "        if temp['interest_level'] == 'high':\n",
    "            manager_level[temp[stat_id]][2] += 1\n",
    "            \n",
    "    # update building_level = {manager_id: low%, medium%, high%} for train_df\n",
    "    for k in train_df[stat_id].values:\n",
    "        atrain.append(manager_level[k][0]*1.0/sum(manager_level[k]))\n",
    "        btrain.append(manager_level[k][1]*1.0/sum(manager_level[k]))\n",
    "        ctrain.append(manager_level[k][2]*1.0/sum(manager_level[k]))\n",
    "    \n",
    "    train_df['{0}_low'.format(stat_id)] = atrain\n",
    "    train_df['{0}_medium'.format(stat_id)] = btrain\n",
    "    train_df['{0}_high'.format(stat_id)] = ctrain\n",
    "    \n",
    "    # update building_level = {manager_id: low%, medium%, high%} for test_df\n",
    "    for i in test_df[stat_id].values:\n",
    "        # if the building_id is new in test_df (not shown in train_df), add NAN\n",
    "        if i not in manager_level.keys():\n",
    "            atest.append(np.nan)\n",
    "            btest.append(np.nan)\n",
    "            ctest.append(np.nan)\n",
    "        else:\n",
    "            atest.append(manager_level[i][0]*1.0/sum(manager_level[i]))\n",
    "            btest.append(manager_level[i][1]*1.0/sum(manager_level[i]))\n",
    "            ctest.append(manager_level[i][2]*1.0/sum(manager_level[i]))\n",
    "            \n",
    "    test_df['{0}_low'.format(stat_id)] = atest\n",
    "    test_df['{0}_medium'.format(stat_id)] = btest\n",
    "    test_df['{0}_high'.format(stat_id)] = ctest"
   ]
  },
  {
   "cell_type": "code",
   "execution_count": 9,
   "metadata": {
    "collapsed": false
   },
   "outputs": [],
   "source": [
    "id_stat('manager_id')\n",
    "id_stat('building_id')"
   ]
  },
  {
   "cell_type": "markdown",
   "metadata": {},
   "source": [
    "### 3. Encode categorical values into numerical values between 0 and n_classes - 1"
   ]
  },
  {
   "cell_type": "code",
   "execution_count": 10,
   "metadata": {
    "collapsed": false
   },
   "outputs": [],
   "source": [
    "from sklearn import preprocessing\n",
    "categorical = [\"display_address\", \"manager_id\", \"building_id\", \"street_address\"]\n",
    "for f in categorical:\n",
    "        if train_df[f].dtype == 'object':\n",
    "            # Encode labels with value between 0 and n_classes-1.\n",
    "            lbl = preprocessing.LabelEncoder()\n",
    "            lbl.fit(list(train_df[f].values) + list(test_df[f].values))\n",
    "            train_df[f] = lbl.transform(list(train_df[f].values))\n",
    "            test_df[f] = lbl.transform(list(test_df[f].values))"
   ]
  },
  {
   "cell_type": "code",
   "execution_count": 11,
   "metadata": {
    "collapsed": true
   },
   "outputs": [],
   "source": [
    "train_df = train_df.drop(['photos', 'features', 'description', 'created'], axis = 1)\n",
    "test_df = test_df.drop(['photos', 'features', 'description', 'created'], axis = 1)"
   ]
  },
  {
   "cell_type": "markdown",
   "metadata": {},
   "source": [
    "### Export Data"
   ]
  },
  {
   "cell_type": "code",
   "execution_count": 12,
   "metadata": {
    "collapsed": false
   },
   "outputs": [],
   "source": [
    "train_df.to_json('Datacleaned_FE2_train_withnan.json')\n",
    "test_df.to_json('FE2_test_withnan.json')"
   ]
  },
  {
   "cell_type": "code",
   "execution_count": null,
   "metadata": {
    "collapsed": true
   },
   "outputs": [],
   "source": []
  },
  {
   "cell_type": "code",
   "execution_count": null,
   "metadata": {
    "collapsed": true
   },
   "outputs": [],
   "source": []
  }
 ],
 "metadata": {
  "kernelspec": {
   "display_name": "Python 3",
   "language": "python",
   "name": "python3"
  },
  "language_info": {
   "codemirror_mode": {
    "name": "ipython",
    "version": 3
   },
   "file_extension": ".py",
   "mimetype": "text/x-python",
   "name": "python",
   "nbconvert_exporter": "python",
   "pygments_lexer": "ipython3",
   "version": "3.5.2"
  }
 },
 "nbformat": 4,
 "nbformat_minor": 0
}
