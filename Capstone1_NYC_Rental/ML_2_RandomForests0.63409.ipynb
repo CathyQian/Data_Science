{
 "cells": [
  {
   "cell_type": "markdown",
   "metadata": {
    "_cell_guid": "a6b74ec0-4c18-aead-330e-10649af87d27",
    "_uuid": "74dbe33c78e76a75e90feb5c5786749e0076592d"
   },
   "source": [
    "The following code gives pipeline for machine learning using Random Forests classifier. \n",
    "- The feature engineering is quite naive here, aiming to provide a ML pipeline instead of minimum log loss.\n",
    "- The Random Forests classifier gives a test log loss of 0.63409."
   ]
  },
  {
   "cell_type": "code",
   "execution_count": 17,
   "metadata": {
    "_cell_guid": "724ad414-a43a-2a5b-54b5-148e31d97c3d",
    "_uuid": "10e90a616c4b95e8c3d104e6e46083c79fd83e9f",
    "collapsed": false
   },
   "outputs": [],
   "source": [
    "import numpy as np\n",
    "import pandas as pd"
   ]
  },
  {
   "cell_type": "code",
   "execution_count": 18,
   "metadata": {
    "_cell_guid": "bc8dcfbc-4d0d-d9a2-7c75-45e2725d9187",
    "_uuid": "c111794e86e3e7b77e59e759876273bb49b6ab2b",
    "collapsed": true
   },
   "outputs": [],
   "source": [
    "from sklearn.ensemble import RandomForestClassifier\n",
    "from sklearn.model_selection import train_test_split\n",
    "from sklearn.metrics import log_loss"
   ]
  },
  {
   "cell_type": "markdown",
   "metadata": {
    "_cell_guid": "758b4503-e3bf-6c45-b090-cf025fa8286c",
    "_uuid": "fb8c07317f93ff6a237547136ab8cfa26b8614b5"
   },
   "source": [
    "### Import data"
   ]
  },
  {
   "cell_type": "code",
   "execution_count": 19,
   "metadata": {
    "_cell_guid": "8f9d0e95-7941-5030-7c88-3b3a0ecd0c63",
    "_uuid": "265fc7c0fbe9cd270e4c2db43d7840a0971e05b4",
    "collapsed": true
   },
   "outputs": [],
   "source": [
    "df = pd.read_json(\"train.json\")"
   ]
  },
  {
   "cell_type": "code",
   "execution_count": 20,
   "metadata": {
    "_cell_guid": "c5e1423b-29af-f64c-4a58-74469efcb3e4",
    "_uuid": "f90b49bd26eb20667ca56b7de90f4dcf38fe523b",
    "collapsed": false
   },
   "outputs": [
    {
     "name": "stdout",
     "output_type": "stream",
     "text": [
      "(49352, 15)\n"
     ]
    }
   ],
   "source": [
    "print(df.shape)"
   ]
  },
  {
   "cell_type": "markdown",
   "metadata": {
    "_cell_guid": "af53e260-62f5-7914-8d0d-105e221f7834",
    "_uuid": "8a4c498886bfc8be9ae17cca4c5751c39add3184"
   },
   "source": [
    "### Naive Feature Engineering"
   ]
  },
  {
   "cell_type": "code",
   "execution_count": 21,
   "metadata": {
    "_cell_guid": "a3910745-58e4-c545-d58d-bf7a48a3c906",
    "_uuid": "56a957aa19d68df020a794513983c6a5e82ade09",
    "collapsed": true
   },
   "outputs": [],
   "source": [
    "df[\"num_photos\"] = df[\"photos\"].apply(len)\n",
    "df[\"num_features\"] = df[\"features\"].apply(len)\n",
    "df[\"num_description_words\"] = df[\"description\"].apply(lambda x: len(x.split(\" \")))\n",
    "df[\"created\"] = pd.to_datetime(df[\"created\"])\n",
    "df[\"created_year\"] = df[\"created\"].dt.year\n",
    "df[\"created_month\"] = df[\"created\"].dt.month\n",
    "df[\"created_day\"] = df[\"created\"].dt.day"
   ]
  },
  {
   "cell_type": "code",
   "execution_count": 22,
   "metadata": {
    "_cell_guid": "ffffb094-c878-edad-db28-573541d6e446",
    "_uuid": "3da3a9f7b1cd4c80c4d3a174380e9fab777b4ce4",
    "collapsed": false
   },
   "outputs": [
    {
     "data": {
      "text/html": [
       "<div>\n",
       "<table border=\"1\" class=\"dataframe\">\n",
       "  <thead>\n",
       "    <tr style=\"text-align: right;\">\n",
       "      <th></th>\n",
       "      <th>bathrooms</th>\n",
       "      <th>bedrooms</th>\n",
       "      <th>latitude</th>\n",
       "      <th>longitude</th>\n",
       "      <th>price</th>\n",
       "      <th>num_photos</th>\n",
       "      <th>num_features</th>\n",
       "      <th>num_description_words</th>\n",
       "      <th>created_year</th>\n",
       "      <th>created_month</th>\n",
       "      <th>created_day</th>\n",
       "    </tr>\n",
       "  </thead>\n",
       "  <tbody>\n",
       "    <tr>\n",
       "      <th>10</th>\n",
       "      <td>1.5</td>\n",
       "      <td>3</td>\n",
       "      <td>40.7145</td>\n",
       "      <td>-73.9425</td>\n",
       "      <td>3000</td>\n",
       "      <td>5</td>\n",
       "      <td>0</td>\n",
       "      <td>95</td>\n",
       "      <td>2016</td>\n",
       "      <td>6</td>\n",
       "      <td>24</td>\n",
       "    </tr>\n",
       "    <tr>\n",
       "      <th>10000</th>\n",
       "      <td>1.0</td>\n",
       "      <td>2</td>\n",
       "      <td>40.7947</td>\n",
       "      <td>-73.9667</td>\n",
       "      <td>5465</td>\n",
       "      <td>11</td>\n",
       "      <td>5</td>\n",
       "      <td>9</td>\n",
       "      <td>2016</td>\n",
       "      <td>6</td>\n",
       "      <td>12</td>\n",
       "    </tr>\n",
       "    <tr>\n",
       "      <th>100004</th>\n",
       "      <td>1.0</td>\n",
       "      <td>1</td>\n",
       "      <td>40.7388</td>\n",
       "      <td>-74.0018</td>\n",
       "      <td>2850</td>\n",
       "      <td>8</td>\n",
       "      <td>4</td>\n",
       "      <td>94</td>\n",
       "      <td>2016</td>\n",
       "      <td>4</td>\n",
       "      <td>17</td>\n",
       "    </tr>\n",
       "    <tr>\n",
       "      <th>100007</th>\n",
       "      <td>1.0</td>\n",
       "      <td>1</td>\n",
       "      <td>40.7539</td>\n",
       "      <td>-73.9677</td>\n",
       "      <td>3275</td>\n",
       "      <td>3</td>\n",
       "      <td>2</td>\n",
       "      <td>80</td>\n",
       "      <td>2016</td>\n",
       "      <td>4</td>\n",
       "      <td>18</td>\n",
       "    </tr>\n",
       "    <tr>\n",
       "      <th>100013</th>\n",
       "      <td>1.0</td>\n",
       "      <td>4</td>\n",
       "      <td>40.8241</td>\n",
       "      <td>-73.9493</td>\n",
       "      <td>3350</td>\n",
       "      <td>3</td>\n",
       "      <td>1</td>\n",
       "      <td>68</td>\n",
       "      <td>2016</td>\n",
       "      <td>4</td>\n",
       "      <td>28</td>\n",
       "    </tr>\n",
       "  </tbody>\n",
       "</table>\n",
       "</div>"
      ],
      "text/plain": [
       "        bathrooms  bedrooms  latitude  longitude  price  num_photos  \\\n",
       "10            1.5         3   40.7145   -73.9425   3000           5   \n",
       "10000         1.0         2   40.7947   -73.9667   5465          11   \n",
       "100004        1.0         1   40.7388   -74.0018   2850           8   \n",
       "100007        1.0         1   40.7539   -73.9677   3275           3   \n",
       "100013        1.0         4   40.8241   -73.9493   3350           3   \n",
       "\n",
       "        num_features  num_description_words  created_year  created_month  \\\n",
       "10                 0                     95          2016              6   \n",
       "10000              5                      9          2016              6   \n",
       "100004             4                     94          2016              4   \n",
       "100007             2                     80          2016              4   \n",
       "100013             1                     68          2016              4   \n",
       "\n",
       "        created_day  \n",
       "10               24  \n",
       "10000            12  \n",
       "100004           17  \n",
       "100007           18  \n",
       "100013           28  "
      ]
     },
     "execution_count": 22,
     "metadata": {},
     "output_type": "execute_result"
    }
   ],
   "source": [
    "num_feats = [\"bathrooms\", \"bedrooms\", \"latitude\", \"longitude\", \"price\",\n",
    "             \"num_photos\", \"num_features\", \"num_description_words\",\n",
    "             \"created_year\", \"created_month\", \"created_day\"]\n",
    "x = df[num_feats]\n",
    "y = df[\"interest_level\"]\n",
    "x.head()"
   ]
  },
  {
   "cell_type": "markdown",
   "metadata": {
    "_cell_guid": "54d9977f-9053-3384-bb43-75e8b7490d91",
    "_uuid": "558894fc68843a57235cb85ddcd9784598ee09e3"
   },
   "source": [
    "### Train Random Forests model"
   ]
  },
  {
   "cell_type": "code",
   "execution_count": 23,
   "metadata": {
    "_cell_guid": "7e490168-42dd-11a4-dd99-b9f1888cae27",
    "_uuid": "e6dc1a34133b2a63caff519e80073f05861eb08f",
    "collapsed": false
   },
   "outputs": [],
   "source": [
    "validation_size = 0.30\n",
    "seed = 2018\n",
    "X_train, X_validation, Y_train, Y_validation = train_test_split(x, y, test_size = validation_size, random_state = seed)"
   ]
  },
  {
   "cell_type": "code",
   "execution_count": 24,
   "metadata": {
    "_cell_guid": "237ee6e7-a80b-f2d6-96b8-65e1589e3fcc",
    "_uuid": "605bf9ce57e1d42c8bb9f5e9897857a047e3294f",
    "collapsed": false,
    "scrolled": true
   },
   "outputs": [
    {
     "data": {
      "text/plain": [
       "0.62935224871476181"
      ]
     },
     "execution_count": 24,
     "metadata": {},
     "output_type": "execute_result"
    }
   ],
   "source": [
    "clf = RandomForestClassifier(n_estimators=1000)\n",
    "clf.fit(X_train, Y_train)\n",
    "y_val_pred = clf.predict_proba(X_validation)\n",
    "log_loss(Y_validation, y_val_pred)"
   ]
  },
  {
   "cell_type": "code",
   "execution_count": 27,
   "metadata": {
    "collapsed": false
   },
   "outputs": [
    {
     "data": {
      "text/plain": [
       "83893    medium\n",
       "55430       low\n",
       "14662       low\n",
       "38947       low\n",
       "47886      high\n",
       "Name: interest_level, dtype: object"
      ]
     },
     "execution_count": 27,
     "metadata": {},
     "output_type": "execute_result"
    }
   ],
   "source": [
    "Y_train.head(5)"
   ]
  },
  {
   "cell_type": "markdown",
   "metadata": {
    "_cell_guid": "b335856e-5c42-e3ac-47fe-a4df037bdb02",
    "_uuid": "98ddef05f23363fef30f87a60e98cafc484c64f4"
   },
   "source": [
    "### Make Predictions"
   ]
  },
  {
   "cell_type": "code",
   "execution_count": 28,
   "metadata": {
    "_cell_guid": "bf01ec4d-3a1c-2efe-f948-83ca4625b180",
    "_uuid": "1d38108dd1c2c476ed7876178f1af35eb58b6444",
    "collapsed": false
   },
   "outputs": [],
   "source": [
    "df = pd.read_json('test.json')\n",
    "df[\"num_photos\"] = df[\"photos\"].apply(len)\n",
    "df[\"num_features\"] = df[\"features\"].apply(len)\n",
    "df[\"num_description_words\"] = df[\"description\"].apply(lambda x: len(x.split(\" \")))\n",
    "df[\"created\"] = pd.to_datetime(df[\"created\"])\n",
    "df[\"created_year\"] = df[\"created\"].dt.year\n",
    "df[\"created_month\"] = df[\"created\"].dt.month\n",
    "df[\"created_day\"] = df[\"created\"].dt.day\n",
    "X = df[num_feats]\n",
    "\n",
    "y = clf.predict_proba(X)"
   ]
  },
  {
   "cell_type": "code",
   "execution_count": 29,
   "metadata": {
    "collapsed": false
   },
   "outputs": [
    {
     "data": {
      "text/plain": [
       "array(['high', 'low', 'medium'], dtype=object)"
      ]
     },
     "execution_count": 29,
     "metadata": {},
     "output_type": "execute_result"
    }
   ],
   "source": [
    "clf.classes_"
   ]
  },
  {
   "cell_type": "code",
   "execution_count": 30,
   "metadata": {
    "_cell_guid": "524b2cd4-c7fe-5045-9221-565cacfbc7bb",
    "_uuid": "2803e3ccd41640b80774735d0e8cd6f82ac8c77c",
    "collapsed": false
   },
   "outputs": [
    {
     "data": {
      "text/plain": [
       "{'high': 0, 'low': 1, 'medium': 2}"
      ]
     },
     "execution_count": 30,
     "metadata": {},
     "output_type": "execute_result"
    }
   ],
   "source": [
    "labels2idx = {label: i for i, label in enumerate(clf.classes_)}\n",
    "labels2idx"
   ]
  },
  {
   "cell_type": "code",
   "execution_count": 31,
   "metadata": {
    "_cell_guid": "284d2b05-2649-0e2f-f975-ff1404a67f23",
    "_uuid": "1d59018deb0b23e08ba61b0a9a11dd2632604279",
    "collapsed": false
   },
   "outputs": [],
   "source": [
    "sub = pd.DataFrame()\n",
    "sub[\"listing_id\"] = df[\"listing_id\"]"
   ]
  },
  {
   "cell_type": "code",
   "execution_count": 15,
   "metadata": {
    "_cell_guid": "68b6519f-8674-4b6b-67f1-fefaa4d6eeb3",
    "_uuid": "6b5329512b87bcef4a558c47c9cd91ceae417032",
    "collapsed": true
   },
   "outputs": [],
   "source": [
    "for label in [\"high\", \"medium\", \"low\"]:\n",
    "    sub[label] = y[:, labels2idx[label]]\n",
    "sub.to_csv(\"submission_rf.csv\", index=False)"
   ]
  },
  {
   "cell_type": "code",
   "execution_count": null,
   "metadata": {
    "collapsed": true
   },
   "outputs": [],
   "source": []
  }
 ],
 "metadata": {
  "_change_revision": 0,
  "_is_fork": false,
  "kernelspec": {
   "display_name": "Python 3",
   "language": "python",
   "name": "python3"
  },
  "language_info": {
   "codemirror_mode": {
    "name": "ipython",
    "version": 3
   },
   "file_extension": ".py",
   "mimetype": "text/x-python",
   "name": "python",
   "nbconvert_exporter": "python",
   "pygments_lexer": "ipython3",
   "version": "3.5.2"
  }
 },
 "nbformat": 4,
 "nbformat_minor": 1
}
