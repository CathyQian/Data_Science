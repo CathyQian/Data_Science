{
 "cells": [
  {
   "cell_type": "markdown",
   "metadata": {},
   "source": [
    "The following code provides feature engineering for the training dataset after cleaned and the test data.\n",
    "It includes:\n",
    "- Naive feature engineering to get sum, average and counts of some features\n",
    "- Categorize 'features' by the top ten features\n",
    "- Separate Friday from the rest of the days and classify the time of day into four categories"
   ]
  },
  {
   "cell_type": "code",
   "execution_count": 1,
   "metadata": {
    "collapsed": true
   },
   "outputs": [],
   "source": [
    "%matplotlib inline\n",
    "import random\n",
    "import pandas as pd\n",
    "import matplotlib.pyplot as plt\n",
    "import seaborn as sns\n",
    "import numpy as np"
   ]
  },
  {
   "cell_type": "code",
   "execution_count": 2,
   "metadata": {
    "collapsed": true
   },
   "outputs": [],
   "source": [
    "train_df = pd.read_json('Datacleaned_train.json')\n",
    "test_df = pd.read_json('test.json')"
   ]
  },
  {
   "cell_type": "code",
   "execution_count": 3,
   "metadata": {
    "collapsed": false
   },
   "outputs": [],
   "source": [
    "y = train_df['interest_level']\n",
    "train_df = train_df.drop(['interest_level'], axis = 1)\n",
    "combined_df = train_df.append(test_df)\n",
    "combined_df.reset_index(inplace=True)\n",
    "combined_df.drop(['index'],inplace=True,axis=1)"
   ]
  },
  {
   "cell_type": "code",
   "execution_count": 4,
   "metadata": {
    "collapsed": false
   },
   "outputs": [
    {
     "name": "stdout",
     "output_type": "stream",
     "text": [
      "<class 'pandas.core.frame.DataFrame'>\n",
      "Int64Index: 49121 entries, 0 to 9999\n",
      "Data columns (total 14 columns):\n",
      "bathrooms          49121 non-null float64\n",
      "bedrooms           49121 non-null int64\n",
      "building_id        49121 non-null object\n",
      "created            49121 non-null object\n",
      "description        49121 non-null object\n",
      "display_address    49121 non-null object\n",
      "features           49121 non-null object\n",
      "latitude           49121 non-null float64\n",
      "listing_id         49121 non-null int64\n",
      "longitude          49121 non-null float64\n",
      "manager_id         49121 non-null object\n",
      "photos             49121 non-null object\n",
      "price              49121 non-null int64\n",
      "street_address     49121 non-null object\n",
      "dtypes: float64(3), int64(3), object(8)\n",
      "memory usage: 5.6+ MB\n"
     ]
    }
   ],
   "source": [
    "train_df.info()"
   ]
  },
  {
   "cell_type": "code",
   "execution_count": 5,
   "metadata": {
    "collapsed": false
   },
   "outputs": [
    {
     "name": "stdout",
     "output_type": "stream",
     "text": [
      "<class 'pandas.core.frame.DataFrame'>\n",
      "Int64Index: 74659 entries, 0 to 99999\n",
      "Data columns (total 14 columns):\n",
      "bathrooms          74659 non-null float64\n",
      "bedrooms           74659 non-null int64\n",
      "building_id        74659 non-null object\n",
      "created            74659 non-null object\n",
      "description        74659 non-null object\n",
      "display_address    74659 non-null object\n",
      "features           74659 non-null object\n",
      "latitude           74659 non-null float64\n",
      "listing_id         74659 non-null int64\n",
      "longitude          74659 non-null float64\n",
      "manager_id         74659 non-null object\n",
      "photos             74659 non-null object\n",
      "price              74659 non-null int64\n",
      "street_address     74659 non-null object\n",
      "dtypes: float64(3), int64(3), object(8)\n",
      "memory usage: 8.5+ MB\n"
     ]
    }
   ],
   "source": [
    "test_df.info()"
   ]
  },
  {
   "cell_type": "code",
   "execution_count": 6,
   "metadata": {
    "collapsed": false
   },
   "outputs": [
    {
     "name": "stdout",
     "output_type": "stream",
     "text": [
      "<class 'pandas.core.frame.DataFrame'>\n",
      "RangeIndex: 123780 entries, 0 to 123779\n",
      "Data columns (total 14 columns):\n",
      "bathrooms          123780 non-null float64\n",
      "bedrooms           123780 non-null int64\n",
      "building_id        123780 non-null object\n",
      "created            123780 non-null object\n",
      "description        123780 non-null object\n",
      "display_address    123780 non-null object\n",
      "features           123780 non-null object\n",
      "latitude           123780 non-null float64\n",
      "listing_id         123780 non-null int64\n",
      "longitude          123780 non-null float64\n",
      "manager_id         123780 non-null object\n",
      "photos             123780 non-null object\n",
      "price              123780 non-null int64\n",
      "street_address     123780 non-null object\n",
      "dtypes: float64(3), int64(3), object(8)\n",
      "memory usage: 13.2+ MB\n"
     ]
    }
   ],
   "source": [
    "combined_df.info()"
   ]
  },
  {
   "cell_type": "markdown",
   "metadata": {},
   "source": [
    "### 1.Naive Feature Engineering"
   ]
  },
  {
   "cell_type": "code",
   "execution_count": 7,
   "metadata": {
    "collapsed": true
   },
   "outputs": [],
   "source": [
    "def naiveFE(df):\n",
    "    ''' do naive feature engineering to both the train and test data frame\n",
    "    '''\n",
    "    # total number of room\n",
    "    df[\"sum_room\"] = df[\"bedrooms\"] + df[\"bathrooms\"]\n",
    "    df[\"room_diff\"] = df[\"bedrooms\"] - df[\"bathrooms\"]\n",
    "    \n",
    "    # average price per room (withnan)\n",
    "    df[\"price_s\"] = df[\"price\"]/(df[\"sum_room\"]+1.0)\n",
    "    df[\"price_bed\"] = df[\"price\"]/(df[\"bedrooms\"]+1.0)\n",
    "    df[\"price_bath\"] = df[\"price\"]/(df[\"bathrooms\"]+1.0)\n",
<<<<<<< HEAD
    "    \n",
    "    # sum of bedrooms and bathrooms\n",
    "    df[\"room_sum\"] = df[\"bedrooms\"] + df[\"bathrooms\"] \n",
    "    \n",
=======
    "  \n",
>>>>>>> d503453026d8e21892532835cc65f8591d14da7a
    "    # number of photos\n",
    "    df[\"num_photos\"] = df[\"photos\"].apply(len)\n",
    "    \n",
    "    # number features\n",
    "    df[\"num_features\"] = df[\"features\"].apply(len)\n",
    "    \n",
    "    # count of words present in description column\n",
    "    df[\"num_description_words\"] = df[\"description\"].apply(lambda x: len(x.split(\" \")))\n",
    "    \n",
    "    # created time, year = 2016 constant\n",
    "    df[\"created\"] = pd.to_datetime(df[\"created\"])\n",
    "    df[\"created_month\"] = df[\"created\"].dt.month\n",
    "    df[\"created_day\"] = df[\"created\"].dt.day\n",
    "    \n",
    "    return df"
   ]
  },
  {
   "cell_type": "code",
   "execution_count": 8,
   "metadata": {
    "collapsed": false
   },
   "outputs": [],
   "source": [
    "combined_df = naiveFE(combined_df)"
   ]
  },
  {
   "cell_type": "markdown",
   "metadata": {},
   "source": [
    "### 2. features -- categorize by important descriptions\n",
    "Let's first extract important features from the combined dataset."
   ]
  },
  {
   "cell_type": "code",
   "execution_count": 9,
   "metadata": {
    "collapsed": false
   },
   "outputs": [
    {
     "name": "stdout",
     "output_type": "stream",
     "text": [
      "[('allowed', 114407), ('laundry', 74544), ('in', 74465), ('elevator', 65713), ('hardwood', 61793), ('cats', 59109), ('floors', 59100), ('dogs', 55117), ('doorman', 52909), ('dishwasher', 52015), ('building', 48437), ('fee', 47317), ('no', 45655), ('fitness', 33738), ('center', 33456), ('unit', 24657), ('war', 23220), ('pre', 23095), ('space', 19398), ('outdoor', 18490)]\n"
     ]
    }
   ],
   "source": [
    "from sklearn.feature_extraction.text import CountVectorizer\n",
    "import numpy as np\n",
    "import itertools\n",
    "\n",
    "\n",
    "def featureExtraction(df):\n",
    "    vectorizer = CountVectorizer(min_df=1)\n",
    "    x = vectorizer.fit_transform(itertools.chain.from_iterable(df['features']))\n",
    "\n",
    "    names = vectorizer.get_feature_names()\n",
    "    counts = np.sum(x.toarray(), axis=0)\n",
    "    n2c = list(zip(names, counts))\n",
    "    n2c.sort(key=lambda x: x[1], reverse=True)\n",
    "    print(n2c[:20])\n",
    "    \n",
    "featureExtraction(combined_df)"
   ]
  },
  {
   "cell_type": "markdown",
   "metadata": {},
   "source": [
    "Let's print out some unique terms containing high frequency terms:\n",
    "- for combined_df: ('laundry', 74544), ('elevator', 65713), ('hardwood', 61793), ('cats', 59109), ('dogs', 55117), ('doorman', 52909), ('dishwasher', 52015), ('fitness', 33738)"
   ]
  },
  {
   "cell_type": "code",
   "execution_count": 10,
   "metadata": {
    "collapsed": false
   },
   "outputs": [
    {
     "name": "stdout",
     "output_type": "stream",
     "text": [
      "**laundry room code is 3401\n",
      "24 hr laundry\n",
      "air conditioned laundry facility\n",
      "bike room driveway garage garden fitness facility(fee) spa services pool sauna steam room laundry on each flr valet playroom lounge billiards room rooftop deck common storage wifi access\n",
      "bike room driveway garage water filtration fitness room pool sauna laundry on each flr housekeeping valet playroom lounge rooftop deck common storage\n",
      "bike room garage courtyard fitness room exercise studio laundry room valet lounge rooftop deck\n",
      "bike room garage fitness facility laundry room housekeeping valet lounge party room rooftop deck digital tv business center\n",
      "bike room garage garden fitness facility laundry room valet lounge rooftop deck common storage\n",
      "bike room garage water filtration fitness facility laundry room housekeeping valet rooftop deck common storage\n",
      "building amenities laundry in building live-in super\n",
      "designer finisheslaundry in unit\n",
      "dishwasherhardwood floors laundry in unitmicrowave private outdoor space\n",
      "doorman. laundry\n",
      "elevator & laundry\n",
      "elevator/laundry/ so close to the 6 $2450!!\n",
      "fitness room. laundry room. rooftop deck. wifi access.\n",
      "free laundry\n",
      "garage fitness facility laundry room valet lounge billiards room rooftop deck wifi access\n",
      "in unit laundry\n",
      "in-unit laundry\n",
      "laundry\n",
      "laundry & housekeeping\n",
      "laundry & housekeeping • marc club includes a cinema room\n",
      "laundry / dry-cleaning and auto care\n",
      "laundry and housekeeping available\n",
      "laundry and live-in super. close to transportation\n",
      "laundry facility on every floor\n",
      "laundry hookup\n",
      "laundry in basement\n",
      "laundry in bldg\n",
      "laundry in bldg.\n",
      "laundry in building\n",
      "laundry in building!\n",
      "laundry in some units\n",
      "laundry in the building\n",
      "laundry in unit\n",
      "laundry is on the blok\n",
      "laundry on each floor\n",
      "laundry on every floor\n",
      "laundry on floor\n",
      "laundry on the block\n",
      "laundry on-site\n",
      "laundry onsite\n",
      "laundry room\n",
      "laundry room as well as housekeeping & dry-cleaning services\n",
      "laundry room on every floor and in select apartments\n",
      "laundry room on every floor. health club\n",
      "laundry room on every other floor\n",
      "laundry.\n",
      "on-site laundry\n",
      "private laundry room on every floor\n",
      "spotless laundry\n",
      "valet laundry\n",
      "windowed air-conditioned and monitored laundry room\n",
      "{     0 = \"laundry in unit\";     1 = \"cats allowed\";     10 = hardwood;     11 = \"high ceilings\";     12 = renovated;     13 = \"marble bath\";     14 = \"granite kitchen\";     15 = light;     16 = \"no fee\";     17 = \"walk-in closet\";     2 = \"dogs allowed\";     3 = elevator;     4 = exclusive;     6 = laundry;     7 = subway;     8 = dishwasher;     9 = washer; }\n"
     ]
    }
   ],
   "source": [
    "import re\n",
    "\n",
    "def uniq_term(df, name):\n",
    "    terms = set()\n",
    "    for x in df['features']:\n",
    "        for phrase in x:\n",
    "            phrase_lc = phrase.strip().lower()\n",
    "            if re.search(name, phrase_lc):\n",
    "                terms.add(phrase_lc)\n",
    "        \n",
    "    unique_terms = sorted(terms)\n",
    "    for term in unique_terms:\n",
    "        print(term)\n",
    "        \n",
    "uniq_term(combined_df, 'laundry')"
   ]
  },
  {
   "cell_type": "code",
   "execution_count": 11,
   "metadata": {
    "collapsed": false
   },
   "outputs": [
    {
     "name": "stdout",
     "output_type": "stream",
     "text": [
      "elevator\n",
      "elevator & laundry\n",
      "elevator building\n",
      "elevator mid-rise\n",
      "elevator/laundry/ so close to the 6 $2450!!\n",
      "high speed elevator\n",
      "keyed elevator with direct access into your living room\n",
      "private elevator\n",
      "rent stabilize - elevator\n",
      "rent stabilize - elevator building\n",
      "{     0 = \"laundry in unit\";     1 = \"cats allowed\";     10 = hardwood;     11 = \"high ceilings\";     12 = renovated;     13 = \"marble bath\";     14 = \"granite kitchen\";     15 = light;     16 = \"no fee\";     17 = \"walk-in closet\";     2 = \"dogs allowed\";     3 = elevator;     4 = exclusive;     6 = laundry;     7 = subway;     8 = dishwasher;     9 = washer; }\n"
     ]
    }
   ],
   "source": [
    "uniq_term(combined_df, 'elevator')"
   ]
  },
  {
   "cell_type": "code",
   "execution_count": 12,
   "metadata": {
    "collapsed": false
   },
   "outputs": [
    {
     "name": "stdout",
     "output_type": "stream",
     "text": [
      "and stainless steel appliances with a dishwasher well maintained hardwood floors add to the warmth and modern feel of the space.\n",
      "boasting hardwood floors\n",
      "boating hardwood floors\n",
      "d/w - m/w - recessed lighting - hardwood floors - high ceilings - marble bath\n",
      "dark hardwood floors\n",
      "dishwasherhardwood floors laundry in unitmicrowave private outdoor space\n",
      "dishwasherhardwood floors microwaverenovated\n",
      "exposed brickhardwood floors microwaverenovated open view excellent\n",
      "hardwood\n",
      "hardwood   floors\n",
      "hardwood  floors\n",
      "hardwood floor\n",
      "hardwood flooring\n",
      "hardwood flooring throughout\n",
      "hardwood floors\n",
      "hardwood floors (high quality)\n",
      "ivory hardwood\n",
      "mahagony hardwood floors\n",
      "new hardwood floors\n",
      "no fee hardwood floors\n",
      "polished hardwood floors\n",
      "polished natural hardwood floors\n",
      "redwood hardwood floor\n",
      "spacious and sunny 1st floor apartment overlooking the garden  *great williamsburg location*  steps from shopping and cafes and 5 minute walk to graham avenue l train (3rd stop from manhattan)  *shared back yard * large box style rooms * huge living room with high ceilings * nice bathroom with granite floor & ceramic tile * beautiful kitchen with granite counter tops  lots of closet spacehardwood floors * heat included in the rent  clean quiet building   cat ok  great location close to shopping\n",
      "ss appliances - d/w -  m/w - recessed lighting - hardwood floors - high ceilings - marble bath\n",
      "to relax and recharge. this spacious 3 bedroom/2 bath residence also features oak hardwood flooring\n",
      "wide planked hardwood floors\n",
      "{     0 = \"laundry in unit\";     1 = \"cats allowed\";     10 = hardwood;     11 = \"high ceilings\";     12 = renovated;     13 = \"marble bath\";     14 = \"granite kitchen\";     15 = light;     16 = \"no fee\";     17 = \"walk-in closet\";     2 = \"dogs allowed\";     3 = elevator;     4 = exclusive;     6 = laundry;     7 = subway;     8 = dishwasher;     9 = washer; }\n",
      "✓ hardwood floor ✓ high ceilings ✓ dishwasher\n"
     ]
    }
   ],
   "source": [
    "uniq_term(combined_df, 'hardwood')"
   ]
  },
  {
   "cell_type": "code",
   "execution_count": 13,
   "metadata": {
    "collapsed": false
   },
   "outputs": [
    {
     "name": "stdout",
     "output_type": "stream",
     "text": [
      "* marvelous midtown gem * spacious sundrenched studio * stunning prewar details * cats ok **\n",
      "** chic chelsea find! * massive 4br home * 2 full baths * chef inspired kitchen * elev that opens into apt * cats ok **\n",
      "** classy conv 2br duplex dream! * room to entertain * lndry bldg * cats ok * heart of the village **\n",
      "** diamond deal! * massive 1br home * stunning renovations * windows all around * chef's kitchen * cats ok **\n",
      "** elegant e60s steal! * massive 1br home * modern gourmet kitchen * perfect sunlight * cats ok * all new **\n",
      "** lex ave luxury! * sprawling sunfilled 1br home * all utilities incl! * doorman * elev/lndry bldg * cats ok **\n",
      "** midtown mania! * sprawling studio supreme * mr clean approved * chef's kitchen * cats ok **\n",
      "** midtown marvel! * all modern & new * huge true 2br home * ss kitchen * cats ok **\n",
      "** midtown marvel! * massive 2br mega-share * fit for queens! * oversized storage * separate chef's kitchen * unique details * cats ok **\n",
      "** midtown miracle * spacious sunfilled 2br home * sprawling clean & brite * walls of windows * cats ok **\n",
      "** modern midtown mania! * spacious sunfilled 2br super share * gourmet kitchen * unique renovations * cats ok **\n",
      "** pristine modern townhouse! * massive 2br home * chef inspired kitchen * huge windows galore * cats ok **\n",
      "** sprawling sunfilled 2br super share * private backyard * dishwasher * lndry bldg * cats ok **\n",
      "** super sweet 1br home * elegant e60s! * mr clean approved * chef inspired kitchen * tons of natural light! * cats ok **\n",
      "** w60s wonder ~ near the park! * overszed studio steal * courtyard * free gym * elev/lndry bldg * cats ok **\n",
      "cats allowed\n",
      "cats on approval\n",
      "pets: cats only\n",
      "pets: cats/small dogs\n",
      "{     0 = \"laundry in unit\";     1 = \"cats allowed\";     10 = hardwood;     11 = \"high ceilings\";     12 = renovated;     13 = \"marble bath\";     14 = \"granite kitchen\";     15 = light;     16 = \"no fee\";     17 = \"walk-in closet\";     2 = \"dogs allowed\";     3 = elevator;     4 = exclusive;     6 = laundry;     7 = subway;     8 = dishwasher;     9 = washer; }\n"
     ]
    }
   ],
   "source": [
    "uniq_term(combined_df, 'cats')"
   ]
  },
  {
   "cell_type": "code",
   "execution_count": 14,
   "metadata": {
    "collapsed": false
   },
   "outputs": [
    {
     "name": "stdout",
     "output_type": "stream",
     "text": [
      "dogs allowed\n",
      "dogs ok\n",
      "dogs under 10 lbs.\n",
      "dogs under 20 lbs.                parking ( additional fee)\n",
      "dogs under 30 lb - ok or one cat.\n",
      "dogs under 50 lbs.\n",
      "pets: cats/small dogs\n",
      "pre-war small dogs\n",
      "small dogs allowed.\n",
      "small dogs ok\n",
      "{     0 = \"laundry in unit\";     1 = \"cats allowed\";     10 = hardwood;     11 = \"high ceilings\";     12 = renovated;     13 = \"marble bath\";     14 = \"granite kitchen\";     15 = light;     16 = \"no fee\";     17 = \"walk-in closet\";     2 = \"dogs allowed\";     3 = elevator;     4 = exclusive;     6 = laundry;     7 = subway;     8 = dishwasher;     9 = washer; }\n"
     ]
    }
   ],
   "source": [
    "uniq_term(combined_df, 'dogs')"
   ]
  },
  {
   "cell_type": "code",
   "execution_count": 15,
   "metadata": {
    "collapsed": false
   },
   "outputs": [
    {
     "name": "stdout",
     "output_type": "stream",
     "text": [
      "** gorgeous gramercy gem! * massive classy conv 3br mansion * walls of windows * chef inspired kitchen * doorman * elev/lndry bldg * pets ok **\n",
      "** gorgeous sublet * sunspanked room in huge 3br home * walls of windows * washer/dryer * elev/doorman bldg * heart of midtown! **\n",
      "** holy deal batman!! * oversized 3br mansion * 2 full baths * huge scenic terrace * doorman * elev/lndry bldg * roof deck * real pix **\n",
      "** lex ave luxury! * sprawling sunfilled 1br home * all utilities incl! * doorman * elev/lndry bldg * cats ok **\n",
      "** life of luxury for no fee! * sprawling 2br/2ba mansion * walls of windows * roomy closets * free gym & pool * scenic roof deck * doorman/elev bldg * steps to the park!! **\n",
      "** madison ave mansion! * oversized conv 4br super share * 2 full baths * working fireplace * ss kitchen w/dishwasher * elev/lndry bldg * doorman * pets ok **\n",
      "** massive 1br mansion * ss kitchen * dishwasher * free gym * elev/doorman bldg * pets ok * steps to the park **\n",
      "** midtown mania! * super sexy studio * all modern & new * gourmet kitchen * doorman/elev bldg **\n",
      "** midtown mansion * sprawling sunfilled studio * utilities included * doorman * elev/lndry bldg * pets ok **\n",
      "** midtown special! * sprawling studio * mr clean approved * cook's kitchen * doorman deluxe * elev/lndry bldg **\n",
      "** murray hill mania! * sprawling studio supreme * a/c * chef's kitchen * doorman * elev/lndry bldg * free gym * scenic roof deck **\n",
      "** murray hill miracle! * sprawling 3br super share * real luxury finishes * 2 full baths * doorman/elev bldg **\n",
      "** off central park! * massive 1br home * w60s steal! * ornate details & finishes * walls of windows * doorman/elev bldg **\n",
      "** oversized studio deal! * modern cook's kitchen * real pix * * utilities incl!! * elev/lndry bldg * doorman!! * pets ok **\n",
      "** sleek modern luxury studio * dishwasher * spacious & sunspanked * doorman * scenic roof deck * elev/lndry bldg * no broker fee! **\n",
      "** union sq baby ~ on 5th ave! * supreme luxury! * expansive 1br home * walls of windows * doorman/elev bldg * all new **\n",
      "24 hour concierge/doorman\n",
      "24 hour doorman\n",
      "24 hour doorman concierge\n",
      "24 hr doorman\n",
      "24-hour concierge and doorman\n",
      "24-hour doorman\n",
      "24-hour doorman service\n",
      "24/7 doorman\n",
      "24/7 doorman concierge\n",
      "24/7 full-time doorman concierge\n",
      "24hr doorman\n",
      "24hr white-gloved doorman\n",
      "24hrs doorman\n",
      "4-hour doorman service\n",
      "best doorman building deal\n",
      "dishwasher and doorman\n",
      "doorman\n",
      "doorman building\n",
      "doorman. laundry\n",
      "ft doorman\n",
      "full time doorman\n",
      "full-time doorman\n",
      "green building live-in super package room smoke-free storage available virtual doorman\n",
      "including 24-hour doorman/concierge services\n",
      "live-in super package room smoke-free storage available virtual doorman guarantors accepted\n",
      "luxury 24 hr doorman\n",
      "no fee...luxury doorman building^^^river views\n",
      "part-time doorman\n",
      "pt doorman\n",
      "twenty-four hour concierge and doorman\n",
      "twenty-four-hour concierge and doorman\n",
      "virtual doorman\n",
      "• on-site lifestyle concierge by luxury attaché •24/7 doorman • state of the art cardiovascular and weight training equipment • 24-hour valet parking garage • valet services including dry cleaning\n"
     ]
    }
   ],
   "source": [
    "uniq_term(combined_df, 'doorman')"
   ]
  },
  {
   "cell_type": "code",
   "execution_count": 16,
   "metadata": {
    "collapsed": false
   },
   "outputs": [
    {
     "name": "stdout",
     "output_type": "stream",
     "text": [
      "** brownstone beauty * massive 2br home * steps to the park * ss kitchen * dishwasher * oversized closets * near columbia u **\n",
      "** brownstone beauty * sprawling 2br home * dishwasher * ss kitchen * tons of sunlight * steps to the park! **\n",
      "** central park steal! * massive 2br home * dishwasher * tons of natural light * elev/lndry bldg **\n",
      "** court square gem! * lic luxury 2br home * ss kitchen ~ dishwasher * bay windows * fireplace * all new! **\n",
      "** court square gem! * sprawling sundrenched 2br home * custom finishes * dishwasher * fireplaces * eat-in kitchen * bay windows **\n",
      "** diamond no fee deal! * sprawling 2br w/terrace * dishwasher * elev/lndry bldg * scenic roof deck * 3 blks to l train **\n",
      "** diamond uws deal! * massive studio * exposed brick * dishwasher * pets ok * steps to the park! **\n",
      "** elegant e50s & park baby! * massive 4br mansion * no broker fee * dishwasher * walls of windows * elev bldg **\n",
      "** elegant e50s!! * sprawling sundrenched 2br home * french drs * breakfast bar * dishwasher * eat-in kitchen * walk-in closets! **\n",
      "** enormous 1br mansion * no fee! * private scenic terrace * dishwasher * ss kitchen * elev/lndry bldg * 4 blks to l train **\n",
      "** entire floor! * expansive true 2br home * dishwasher * a/c * washer/dryer * giant walk-in closet **\n",
      "** excellent east village! * 4br/2ba mansion * private deck! * exposed brick * washer/dryer * dishwasher * perfect sunshine! **\n",
      "** extreme soho luxury! * expansive 5br loft * dishwasher * washer/dryer * 3 full baths * pets ok * elev bldg **\n",
      "** eye popping no fee! * massive 1br home * exposed brick * private terrace * dishwasher * elev bldg * roof deck * pets ok **\n",
      "** finest no fee! * sprawling studio supreme * dishwasher * courtyard * elev bldg * pets ok **\n",
      "** holy deal batman! * sprawling 4br home * 1.5 baths * backyard * exposed brick * dishwasher * ss kitchen * washer/dryer * east village baby! **\n",
      "** holy no fee deal! * oversized 2br super share * private terrace * ss kitchen * dishwasher * elev/lndry bldg * 3 blks to l train **\n",
      "** holy no fee! * huge true 2br super share * b-bar * dishwasher * washer/dryer * elev bldg * 1/2 blk to bedford l stop **\n",
      "** holy no fee! * oversized 2br home * private terrace & scenic roof deck * ss kitchen * dishwasher * elev/lndry bldg * 3 blks to l train **\n",
      "** large & lofty 4br home * private patio * 2 full baths * dishwasher * lndry bldg * 1 blk to bedford l stop **\n",
      "** lic luxury! * sprawling 2br home * chic renovations * chef's kitchen * bay windows * extra office room * fireplaces * dishwasher **\n",
      "** madison ave mansion! * oversized conv 4br super share * 2 full baths * working fireplace * ss kitchen w/dishwasher * elev/lndry bldg * doorman * pets ok **\n",
      "** massive 1br mansion * ss kitchen * dishwasher * free gym * elev/doorman bldg * pets ok * steps to the park **\n",
      "** no fee baby * expansive modern studio * private terrace * dishwasher * bike rm * elev/lndry bldg * pets ok * 3 blks to l **\n",
      "** no fee baby! * massive 2br home w/ xl terrace! * dishwasher * breakfast bar * washer/dryer * elev bldg * 1/2 blk to bedford l **\n",
      "** no fee baby! * massive 2br mega-share * xl terrace * washer/dryer * dishwasher * elev bldg * 1/2 blk to bedford l stop **\n",
      "** no fee steal! * huge true 2br super share * ss kitchen ~ dishwasher * private terrace * scenic roof deck * elev/lndry bldg ** 3 blks to l train **\n",
      "** off central park baby! * oversized 2br super share * park views & tons of sunlight * ss kitche * washer/dryer * dishwasher **\n",
      "** pristine townhouse * massive 2br super share * dishwasher * e50s baby! * perfect natural light * roomy closets **\n",
      "** rare find! * sprawling 1br home * washer/dryer * dishwasher * all brand new! * heart of lower east side **\n",
      "** rare find! * sprawling sundrenched 1br home * stunning finishes * ss kitchen * washer/dryer * dishwasher * heart of chelsea! **\n",
      "** real no fee bklyn luxury! * massive 2br home * scenic private terrace * dishwasher * washer/dryer * elev bldg * 1/2 blk to bedford l stop **\n",
      "** real no fee deal! * spawling 2br home * 1. baths * dishwasher * lndry bldg * heart of the lower east side **\n",
      "** real no fee luxury! * expansive 2br w/1000 sq ft terrace!! * dishwasher * ss kitchen * elev/lndry bldg * 3 blks to bedford l stop **\n",
      "** riverside no fee special! * sprawling 1br home * fireplace * bay windows * exposed brick * dishwasher * lndry bldg **\n",
      "** sleek modern luxury studio * dishwasher * spacious & sunspanked * doorman * scenic roof deck * elev/lndry bldg * no broker fee! **\n",
      "** spectacular classic 6 * sprawling sunfilled 3br masterpiece * washer/dryer * dishwasher * oversized closets * steps to the park & columbia **\n",
      "** sprawling 3br home * washer/dryer * ss kitchen * dishwasher * gut renovated * steps to the park & columbia **\n",
      "** sprawling 3br super share * walls of windows * chef's kitchen w/dishwasher * washer/dryer * steps to the park & columbia * real pix **\n",
      "** sprawling studio home * dishwasher * exposed brick * gut renovated * pets ok * steps to the park **\n",
      "** sprawling sundrenched 3br mansion * dishwasher * washer/dryer * gut renovated * steps to the park & columbia **\n",
      "** sprawling sunfilled 2br super share * private backyard * dishwasher * lndry bldg * cats ok **\n",
      "** super sweet studio * no fee * dishwasher * roomy closets * elev bldg * pets ok **\n",
      "** truly expansive 1br home * exposed brick * dishwasher * chef's kitchen * roomy closets * steps to the park! **\n",
      "** w70s winner! * oversized 3br duplex mansion * 2 full baths * private roof deck * dishwasher * steps to the park **\n",
      "and stainless steel appliances with a dishwasher well maintained hardwood floors add to the warmth and modern feel of the space.\n",
      "available  04/04/16        dishwasher\n",
      "available  04/08/16   dishwasher\n",
      "available  04/15/16      dishwasher;    bike room\n",
      "available  05/01/16      swimming pool         dishwasher\n",
      "available  05/15/16    dishwasher\n",
      "available  06/01/16    dishwasher\n",
      "available  06/01/16   dishwasher\n",
      "available 06/01/16   dishwasher\n",
      "dishwasher\n",
      "dishwasher     central ac\n",
      "dishwasher     sorry no pets   central ac\n",
      "dishwasher and doorman\n",
      "dishwasher high ceilings\n",
      "dishwasher in unit. two heating and a/c units.\n",
      "dishwasher included!!!!!!!!!\n",
      "dishwasher.\n",
      "dishwasher/microwave\n",
      "dishwasherhardwood floors laundry in unitmicrowave private outdoor space\n",
      "dishwasherhardwood floors microwaverenovated\n",
      "extra room; dishwasher; renovated\n",
      "granite kitchen dishwasher\n",
      "indoor 50ft lap pool; dishwasher; free bike storage\n",
      "new renovation with dishwasher\n",
      "renovated kitchen with dishwasher & microwave\n",
      "ss appliances w/ dishwasher\n",
      "tv/ dishwasher\n",
      "{     0 = \"laundry in unit\";     1 = \"cats allowed\";     10 = hardwood;     11 = \"high ceilings\";     12 = renovated;     13 = \"marble bath\";     14 = \"granite kitchen\";     15 = light;     16 = \"no fee\";     17 = \"walk-in closet\";     2 = \"dogs allowed\";     3 = elevator;     4 = exclusive;     6 = laundry;     7 = subway;     8 = dishwasher;     9 = washer; }\n",
      "✓ hardwood floor ✓ high ceilings ✓ dishwasher\n"
     ]
    }
   ],
   "source": [
    "uniq_term(combined_df, 'dishwasher')"
   ]
  },
  {
   "cell_type": "code",
   "execution_count": 17,
   "metadata": {
    "collapsed": false
   },
   "outputs": [
    {
     "name": "stdout",
     "output_type": "stream",
     "text": [
      "000 sf fitness center\n",
      "24-hour fitness center\n",
      "24/7 fitness center\n",
      "a wide array of complimentary fitness classes offered weekly\n",
      "alarm system bike room courtyard garden fitness facility valet rooftop deck digital tv business center\n",
      "amenities already paid! (includes fitness center\n",
      "and a state-of-the-art fitness center.\n",
      "art fitness center\n",
      "atrium walkway over lush gardens and fountain attended indoor parking garage complete workout fitness center\n",
      "bike room driveway garage garden fitness facility(fee) spa services pool sauna steam room laundry on each flr valet playroom lounge billiards room rooftop deck common storage wifi access\n",
      "bike room driveway garage water filtration fitness room pool sauna laundry on each flr housekeeping valet playroom lounge rooftop deck common storage\n",
      "bike room garage courtyard fitness room exercise studio laundry room valet lounge rooftop deck\n",
      "bike room garage fitness facility laundry room housekeeping valet lounge party room rooftop deck digital tv business center\n",
      "bike room garage garden fitness facility laundry room valet lounge rooftop deck common storage\n",
      "bike room garage garden fitness facility(fee) spa services valet playroom lounge party room rooftop deck private storage wifi access business center\n",
      "bike room garage water filtration fitness facility laundry room housekeeping valet rooftop deck common storage\n",
      "complimentary fitness classes\n",
      "concierge service. fitness center\n",
      "courtyard garden fitness facility pool sauna steam room playroom lounge common storage business center\n",
      "featuring a sophisticated precor® online profile system that tracks your personal fitness goals\n",
      "fitness and wellness center\n",
      "fitness center\n",
      "fitness center and health club\n",
      "fitness equipment (if furnished)\n",
      "fitness facility\n",
      "fitness monthly fee $150\n",
      "fitness room\n",
      "fitness room. laundry room. rooftop deck. wifi access.\n",
      "fully equipped fitness center with studio for classes\n",
      "fully-equipped club fitness center\n",
      "garage fitness facility laundry room valet lounge billiards room rooftop deck wifi access\n",
      "garden. spa services. fitness room. pool. business center. cinema room.\n",
      "gym fitness lounge swimming pool sun decks exercise studios indoor half-basketball court\n",
      "gym/fitness\n",
      "on-premise fitness facility (crunch fitness)\n",
      "on-site fitness center\n",
      "on-site fitness center complimentary to tenants\n",
      "professionally designed fitness center\n",
      "residents-only fitness center and aerobic room professionally outfitted with a full complement of strength and cardio-training equipment\n",
      "state of the art fitness center\n",
      "state-of-the-art cardio and fitness club\n",
      "state-of-the-art fitness center\n",
      "state-of-the-art fitness center and even an on-site dog run\n",
      "two level fitness center\n"
     ]
    }
   ],
   "source": [
    "uniq_term(combined_df, 'fitness')"
   ]
  },
  {
   "cell_type": "code",
   "execution_count": 18,
   "metadata": {
    "collapsed": true
   },
   "outputs": [],
   "source": [
    "class Feature:\n",
    "    def __init__(self):\n",
    "        self.laundry = 0\n",
    "        self.elevator = 0\n",
    "        self.hardwood = 0\n",
    "        self.cats = 0\n",
    "        self.dogs = 0\n",
    "        self.doorman = 0\n",
    "        self.dishwasher = 0\n",
    "        self.fitness = 0"
   ]
  },
  {
   "cell_type": "code",
   "execution_count": 19,
   "metadata": {
    "collapsed": false
   },
   "outputs": [],
   "source": [
    "features_list = []\n",
    "\n",
    "for x in combined_df['features']:\n",
    "    f = Feature()\n",
    "    features_list.append(f)\n",
    "    for phrase in x:\n",
    "        phrase_lc = phrase.strip().lower()\n",
    "        if re.search('laundry', phrase_lc):\n",
    "            f.laundry = 1\n",
    "        if re.search('elevator', phrase_lc):\n",
    "            f.elevator = 1\n",
    "        if re.search('hardwood', phrase_lc):\n",
    "            f.hardwood = 1\n",
    "        if re.search('cats', phrase_lc):\n",
    "            f.cats = 1\n",
    "        if re.search('dogs', phrase_lc):\n",
    "            f.dogs = 1\n",
    "        if re.search('doorman', phrase_lc):\n",
    "            f.doorman = 1\n",
    "        if re.search('dishwasher', phrase_lc):\n",
    "            f.dishwasher = 1\n",
    "        if re.search('fitness', phrase_lc):\n",
    "            f.fitness = 1\n",
    "\n",
    "laundry_ = [f.laundry for f in features_list]  \n",
    "elevator_ = [f.elevator for f in features_list]\n",
    "hardwood_ = [f.hardwood for f in features_list]\n",
    "cats_ = [f.cats for f in features_list]\n",
    "dogs_ = [f.dogs for f in features_list]\n",
    "doorman_ = [f.doorman for f in features_list]\n",
    "dishwasher_ = [f.dishwasher for f in features_list]\n",
    "fitness_ = [f.fitness for f in features_list]\n",
    "\n",
    "combined_df['laundry'] = laundry_\n",
    "combined_df['elevator'] = elevator_\n",
    "combined_df['hardwood'] = hardwood_\n",
    "combined_df['cats'] = cats_\n",
    "combined_df['dogs'] = dogs_        \n",
    "combined_df['doorman'] = doorman_        \n",
    "combined_df['dishwasher'] = dishwasher_\n",
    "combined_df['fitness'] = fitness_                   "
   ]
  },
  {
   "cell_type": "markdown",
   "metadata": {},
   "source": [
    "### 3. Categorize day and time\n",
    "Let's separate Friday from the rest of the days and classify the time of day into four categories."
   ]
  },
  {
   "cell_type": "code",
   "execution_count": 20,
   "metadata": {
    "collapsed": false
   },
   "outputs": [
    {
     "data": {
      "image/png": "iVBORw0KGgoAAAANSUhEUgAAAYMAAAECCAYAAAAciLtvAAAABHNCSVQICAgIfAhkiAAAAAlwSFlz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\n",
      "text/plain": [
       "<matplotlib.figure.Figure at 0x2066cce4630>"
      ]
     },
     "metadata": {},
     "output_type": "display_data"
    },
    {
     "data": {
      "image/png": "iVBORw0KGgoAAAANSUhEUgAAAnMAAAERCAYAAAAQZCHCAAAABHNCSVQICAgIfAhkiAAAAAlwSFlz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\n",
      "text/plain": [
       "<matplotlib.figure.Figure at 0x2066c95c7f0>"
      ]
     },
     "metadata": {},
     "output_type": "display_data"
    }
   ],
   "source": [
    "from datetime import time\n",
    "from datetime import timezone\n",
    "import datetime\n",
    "\n",
    "times = pd.to_datetime(combined_df['created']) # object to datetime64[ns]\n",
    "\n",
    "combined_df['dayofweek'] = [t.isoweekday() for t in times]\n",
    "combined_df['timeofday'] = [t.time() for t in times]\n",
    "\n",
    "combined_df['dayofweek'].hist(bins = 7, figsize = (6, 4), alpha = 0.5)\n",
    "plt.show()\n",
    "\n",
    "combined_df['timeofday'].hist(bins = 12, figsize= (10, 4), alpha = 0.5) # 1-8 am most\n",
    "plt.show()"
   ]
  },
  {
   "cell_type": "code",
   "execution_count": 21,
   "metadata": {
    "collapsed": false
   },
   "outputs": [],
   "source": [
    "def process_dayofweek():\n",
    "    \n",
    "    global combined_df\n",
    "    # separate Friday and other days of week\n",
    "    combined_df['dayofweek'] = combined_df['dayofweek'].map({1:1, 2:1, 3:1, 4:1, 6:1, 7:1, 5:0.0})\n",
    "\n",
    "process_dayofweek()"
   ]
  },
  {
   "cell_type": "code",
   "execution_count": 22,
   "metadata": {
    "collapsed": false
   },
   "outputs": [],
   "source": [
    "from datetime import datetime\n",
    "\n",
    "def process_timeofday():    \n",
    "    \n",
    "    global combined_df\n",
    "    \n",
    "    t = [datetime.strptime('00:00:00', '%H:%M:%S').time(), datetime.strptime('06:00:00', '%H:%M:%S').time(), \n",
    "         datetime.strptime('12:00:00', '%H:%M:%S').time(), datetime.strptime('18:00:00', '%H:%M:%S').time(), \n",
    "         datetime.strptime('23:59:59', '%H:%M:%S').time()]\n",
    "    \n",
    "    def mapping(x):\n",
    "        if x >= t[0] and x < t[1]:\n",
    "            return 0\n",
    "        elif x >= t[1] and x < t[2]:\n",
    "            return 1\n",
    "        elif x >= t[2] and x < t[3]:\n",
    "            return 2\n",
    "        else:\n",
    "            return 3\n",
    "    \n",
    "    times = pd.to_datetime(combined_df['created']) # object to datetime64[ns]\n",
    "    combined_df['timeofday'] = [m.time() for m in times]\n",
    "    combined_df['timeofday'] = combined_df['timeofday'].apply(mapping)\n",
    "    \n",
    "    timeofday_dummies = pd.get_dummies(combined_df['timeofday'], prefix='timeofday')\n",
    "    combined_df = pd.concat([combined_df,timeofday_dummies], axis = 1)\n",
    "    combined_df.drop(['timeofday'], axis = 1, inplace = True)\n",
    "    \n",
    "    \n",
    "process_timeofday()    "
   ]
  },
  {
   "cell_type": "code",
   "execution_count": 23,
   "metadata": {
    "collapsed": false
   },
   "outputs": [
    {
     "name": "stdout",
     "output_type": "stream",
     "text": [
      "<class 'pandas.core.frame.DataFrame'>\n",
      "RangeIndex: 123780 entries, 0 to 123779\n",
      "Data columns (total 38 columns):\n",
      "bathrooms                123780 non-null float64\n",
      "bedrooms                 123780 non-null int64\n",
      "building_id              123780 non-null object\n",
      "created                  123780 non-null datetime64[ns]\n",
      "description              123780 non-null object\n",
      "display_address          123780 non-null object\n",
      "features                 123780 non-null object\n",
      "latitude                 123780 non-null float64\n",
      "listing_id               123780 non-null int64\n",
      "longitude                123780 non-null float64\n",
      "manager_id               123780 non-null object\n",
      "photos                   123780 non-null object\n",
      "price                    123780 non-null int64\n",
      "street_address           123780 non-null object\n",
      "sum_room                 123780 non-null float64\n",
      "room_diff                123780 non-null float64\n",
      "price_s                  123780 non-null float64\n",
      "price_bed                123780 non-null float64\n",
      "price_bath               123780 non-null float64\n",
      "room_sum                 123780 non-null float64\n",
      "num_photos               123780 non-null int64\n",
      "num_features             123780 non-null int64\n",
      "num_description_words    123780 non-null int64\n",
      "created_month            123780 non-null int64\n",
      "created_day              123780 non-null int64\n",
      "laundry                  123780 non-null int64\n",
      "elevator                 123780 non-null int64\n",
      "hardwood                 123780 non-null int64\n",
      "cats                     123780 non-null int64\n",
      "dogs                     123780 non-null int64\n",
      "doorman                  123780 non-null int64\n",
      "dishwasher               123780 non-null int64\n",
      "fitness                  123780 non-null int64\n",
      "dayofweek                123780 non-null float64\n",
      "timeofday_0              123780 non-null uint8\n",
      "timeofday_1              123780 non-null uint8\n",
      "timeofday_2              123780 non-null uint8\n",
      "timeofday_3              123780 non-null uint8\n",
      "dtypes: datetime64[ns](1), float64(10), int64(16), object(7), uint8(4)\n",
      "memory usage: 32.6+ MB\n"
     ]
    }
   ],
   "source": [
    "combined_df.info()"
   ]
  },
  {
   "cell_type": "code",
   "execution_count": 24,
   "metadata": {
    "collapsed": true
   },
   "outputs": [],
   "source": [
    "combined_df = combined_df.drop(['building_id', 'created', 'street_address', 'description', 'display_address', 'features', \n",
    "                                'manager_id', 'photos', 'listing_id'], axis = 1)"
   ]
  },
  {
   "cell_type": "code",
   "execution_count": 25,
   "metadata": {
    "collapsed": false
   },
   "outputs": [
    {
     "name": "stderr",
     "output_type": "stream",
     "text": [
      "C:\\Users\\Administrator\\Anaconda3\\lib\\site-packages\\ipykernel\\__main__.py:2: SettingWithCopyWarning: \n",
      "A value is trying to be set on a copy of a slice from a DataFrame.\n",
      "Try using .loc[row_indexer,col_indexer] = value instead\n",
      "\n",
      "See the caveats in the documentation: http://pandas.pydata.org/pandas-docs/stable/indexing.html#indexing-view-versus-copy\n",
      "  from ipykernel import kernelapp as app\n"
     ]
    }
   ],
   "source": [
    "train_df = combined_df.ix[0:49120]\n",
    "train_df['interest_level'] = y\n",
    "test_df = combined_df.ix[49121:123779]"
   ]
  },
  {
   "cell_type": "code",
   "execution_count": 26,
   "metadata": {
    "collapsed": true
   },
   "outputs": [],
   "source": [
    "train_df.to_json('Datacleaned_FE3_train_withnan.json')\n",
    "test_df.to_json('FE3_test_withnan.json')"
   ]
  },
  {
   "cell_type": "code",
   "execution_count": null,
   "metadata": {
    "collapsed": true
   },
   "outputs": [],
   "source": []
  },
  {
   "cell_type": "code",
   "execution_count": null,
   "metadata": {
    "collapsed": true
   },
   "outputs": [],
   "source": []
  },
  {
   "cell_type": "code",
   "execution_count": null,
   "metadata": {
    "collapsed": true
   },
   "outputs": [],
   "source": []
  },
  {
   "cell_type": "code",
   "execution_count": null,
   "metadata": {
    "collapsed": true
   },
   "outputs": [],
   "source": []
  }
 ],
 "metadata": {
  "kernelspec": {
   "display_name": "Python 3",
   "language": "python",
   "name": "python3"
  },
  "language_info": {
   "codemirror_mode": {
    "name": "ipython",
    "version": 3
   },
   "file_extension": ".py",
   "mimetype": "text/x-python",
   "name": "python",
   "nbconvert_exporter": "python",
   "pygments_lexer": "ipython3",
   "version": "3.5.2"
  }
 },
 "nbformat": 4,
 "nbformat_minor": 0
}
