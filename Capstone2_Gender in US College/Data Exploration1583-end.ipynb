{
 "cells": [
  {
   "cell_type": "markdown",
   "metadata": {},
   "source": [
    "### Introduction\n",
    "The following work provides exploration of row 1583 to the end in file MERGED2015_16_PP.csv\n",
    "\n",
    "Please refer to CollegeScorecardDataDictionary.xlsx for detailed information about the above file."
   ]
  },
  {
   "cell_type": "code",
   "execution_count": 39,
   "metadata": {
    "collapsed": true
   },
   "outputs": [],
   "source": [
    "import numpy as np\n",
    "import pandas as pd\n",
    "import matplotlib.pyplot as plt\n",
    "%matplotlib inline"
   ]
  },
  {
   "cell_type": "code",
   "execution_count": 40,
   "metadata": {
    "collapsed": false
   },
   "outputs": [
    {
     "name": "stderr",
     "output_type": "stream",
     "text": [
      "C:\\Users\\Administrator\\Anaconda3\\lib\\site-packages\\IPython\\core\\interactiveshell.py:2723: DtypeWarning: Columns (9,12,1712,1713,1714,1715,1716,1730) have mixed types. Specify dtype option on import or set low_memory=False.\n",
      "  interactivity=interactivity, compiler=compiler, result=result)\n"
     ]
    }
   ],
   "source": [
    "with open('2015_16_PP619_1582.csv', encoding=\"latin-1\") as datafile:\n",
    "    df = pd.read_csv(datafile, header = 0)"
   ]
  },
  {
   "cell_type": "code",
   "execution_count": 41,
   "metadata": {
    "collapsed": false
   },
   "outputs": [],
   "source": [
    "df = df.dropna(axis=1,how='all')\n",
    "df = df.drop(['Unnamed: 0', 'Unnamed: 0.1', 'Unnamed: 0.1.1'], axis = 1)"
   ]
  },
  {
   "cell_type": "code",
   "execution_count": 42,
   "metadata": {
    "collapsed": false
   },
   "outputs": [
    {
     "name": "stdout",
     "output_type": "stream",
     "text": [
      "<class 'pandas.core.frame.DataFrame'>\n",
      "RangeIndex: 7593 entries, 0 to 7592\n",
      "Columns: 622 entries, UNITID to OMENRUP8_PTNFT\n",
      "dtypes: float64(417), int64(13), object(192)\n",
      "memory usage: 36.0+ MB\n"
     ]
    }
   ],
   "source": [
    "df.info()"
   ]
  },
  {
   "cell_type": "markdown",
   "metadata": {},
   "source": [
    "#### 32. Repayment rate -- These are all missing  values.\n",
    "FEMALE_RPY_1YR_RT     One-year repayment rate for females\n",
    "\n",
    "MALE_RPY_1YR_RT     One-year repayment rate for males\n",
    "\n",
    "FEMALE_RPY_3YR_RT    Three-year repayment rate for females\n",
    "\n",
    "MALE_RPY_3YR_RT    Three-year repayment rate for males\n",
    "\n",
    "FEMALE_RPY_5YR_RT    Five-year repayment rate for females\n",
    "\n",
    "MALE_RPY_5YR_RT    Five-year repayment rate for males\n",
    "\n",
    "FEMALE_RPY_7YR_RT    Seven-year repayment rate for females\n",
    "\n",
    "MALE_RPY_7YR_RT    Seven-year repayment rate for males"
   ]
  },
  {
   "cell_type": "markdown",
   "metadata": {},
   "source": [
    "#### 33.Average family income\n",
    "DEP_INC_AVG Average family income of dependent students in real 2015 dollars.\n",
    "\n",
    "IND_INC_AVG Average family income of independent students in real 2015 dollars."
   ]
  },
  {
   "cell_type": "code",
   "execution_count": 43,
   "metadata": {
    "collapsed": false
   },
   "outputs": [
    {
     "data": {
      "text/plain": [
       "218"
      ]
     },
     "execution_count": 43,
     "metadata": {},
     "output_type": "execute_result"
    }
   ],
   "source": [
    "df.DEP_INC_AVG.isnull().sum()"
   ]
  },
  {
   "cell_type": "code",
   "execution_count": 44,
   "metadata": {
    "collapsed": false
   },
   "outputs": [
    {
     "data": {
      "text/plain": [
       "PrivacySuppressed    551\n",
       "38769.051205         135\n",
       "41065.848143          80\n",
       "27959.910511          80\n",
       "31895.917135          38\n",
       "36041.240061          33\n",
       "27080.959511          33\n",
       "36489.496908          32\n",
       "44595.472902          29\n",
       "91956.026195          24\n",
       "54484.77866           23\n",
       "44718.441561          23\n",
       "30145.070272          19\n",
       "29162.594425          18\n",
       "41183.587651          17\n",
       "39044.258671          17\n",
       "33373.782367          15\n",
       "40562.275281          15\n",
       "39794.402244          15\n",
       "48373.690273          15\n",
       "25893.525223          14\n",
       "65603.206242          13\n",
       "33991.506807          13\n",
       "20992.324642          13\n",
       "29821.088202          13\n",
       "35804.542955          13\n",
       "35446.742203          13\n",
       "36117.371859          12\n",
       "69671.777447          12\n",
       "26174.383974          12\n",
       "                    ... \n",
       "47326.7                1\n",
       "67107.221662           1\n",
       "17208.354839           1\n",
       "73219.294098           1\n",
       "40194.166561           1\n",
       "61418.047152           1\n",
       "34747.818182           1\n",
       "65551.16055            1\n",
       "45104.591304           1\n",
       "51020.681044           1\n",
       "77270.476046           1\n",
       "47249.809524           1\n",
       "105352.92351           1\n",
       "62923.058168           1\n",
       "24532.434783           1\n",
       "33789.108108           1\n",
       "46528.646739           1\n",
       "17976.075413           1\n",
       "29581.058824           1\n",
       "77624.631579           1\n",
       "94934.232558           1\n",
       "68656.47041            1\n",
       "27113.968092           1\n",
       "33948.137931           1\n",
       "67799.704762           1\n",
       "74150.902031           1\n",
       "65248.75               1\n",
       "64648.0625             1\n",
       "23166.952381           1\n",
       "58937.941176           1\n",
       "Name: DEP_INC_AVG, dtype: int64"
      ]
     },
     "execution_count": 44,
     "metadata": {},
     "output_type": "execute_result"
    }
   ],
   "source": [
    "df.DEP_INC_AVG.value_counts()"
   ]
  },
  {
   "cell_type": "code",
   "execution_count": 49,
   "metadata": {
    "collapsed": false
   },
   "outputs": [],
   "source": [
    "s1 = df.DEP_INC_AVG.map(lambda x: 0 if x == 'PrivacySuppressed' else x)"
   ]
  },
  {
   "cell_type": "code",
   "execution_count": 52,
   "metadata": {
    "collapsed": false
   },
   "outputs": [],
   "source": [
    "s1 = pd.to_numeric(s1)"
   ]
  },
  {
   "cell_type": "code",
   "execution_count": 46,
   "metadata": {
    "collapsed": false
   },
   "outputs": [
    {
     "data": {
      "text/plain": [
       "218"
      ]
     },
     "execution_count": 46,
     "metadata": {},
     "output_type": "execute_result"
    }
   ],
   "source": [
    "df.IND_INC_AVG.isnull().sum()"
   ]
  },
  {
   "cell_type": "code",
   "execution_count": 47,
   "metadata": {
    "collapsed": false
   },
   "outputs": [
    {
     "data": {
      "text/plain": [
       "PrivacySuppressed    551\n",
       "20958.287472         135\n",
       "11445.08419           80\n",
       "23264.192145          80\n",
       "22757.228866          38\n",
       "15231.691244          33\n",
       "19422.603259          33\n",
       "16279.058555          32\n",
       "16024.064843          29\n",
       "34023.961773          24\n",
       "29894.633769          23\n",
       "26992.985259          23\n",
       "16863.496418          19\n",
       "14467.720982          18\n",
       "24797.574141          17\n",
       "24805.598043          17\n",
       "13425.01328           15\n",
       "13296.729351          15\n",
       "19181.791289          15\n",
       "25360.764371          15\n",
       "12271.552385          14\n",
       "17610.641394          13\n",
       "28964.426263          13\n",
       "14110.979088          13\n",
       "17063.514556          13\n",
       "13054.181759          13\n",
       "12651.305574          13\n",
       "12062.834224          12\n",
       "53743.033202          12\n",
       "23041.757626          12\n",
       "                    ... \n",
       "21388.738983           1\n",
       "19088.226415           1\n",
       "25294.487981           1\n",
       "10925.470588           1\n",
       "22608.97619            1\n",
       "21303.857143           1\n",
       "10802.787429           1\n",
       "21086.044169           1\n",
       "15235.058065           1\n",
       "18252.768473           1\n",
       "14902.880952           1\n",
       "25664.385321           1\n",
       "15359.341463           1\n",
       "16226.641148           1\n",
       "31254.589342           1\n",
       "30029.81761            1\n",
       "31208.652778           1\n",
       "12523.653846           1\n",
       "16112.038462           1\n",
       "18981.119048           1\n",
       "11050.631579           1\n",
       "17997.097561           1\n",
       "12707.673913           1\n",
       "19639.446539           1\n",
       "7227.2173913           1\n",
       "22634.503333           1\n",
       "6540.877193            1\n",
       "15432.790123           1\n",
       "20403.037773           1\n",
       "19524.242701           1\n",
       "Name: IND_INC_AVG, dtype: int64"
      ]
     },
     "execution_count": 47,
     "metadata": {},
     "output_type": "execute_result"
    }
   ],
   "source": [
    "df.IND_INC_AVG.value_counts()"
   ]
  },
  {
   "cell_type": "code",
   "execution_count": 55,
   "metadata": {
    "collapsed": true
   },
   "outputs": [],
   "source": [
    "s2 = df.IND_INC_AVG.map(lambda x: 0 if x == 'PrivacySuppressed' else x)"
   ]
  },
  {
   "cell_type": "code",
   "execution_count": 56,
   "metadata": {
    "collapsed": true
   },
   "outputs": [],
   "source": [
    "s2 = pd.to_numeric(s2)"
   ]
  },
  {
   "cell_type": "code",
   "execution_count": 57,
   "metadata": {
    "collapsed": false
   },
   "outputs": [],
   "source": [
    "temp = pd.concat([s1, s2], axis = 1)"
   ]
  },
  {
   "cell_type": "code",
   "execution_count": 58,
   "metadata": {
    "collapsed": false
   },
   "outputs": [
    {
     "data": {
      "text/plain": [
       "<matplotlib.axes._subplots.AxesSubplot at 0x1c1a36f0940>"
      ]
     },
     "execution_count": 58,
     "metadata": {},
     "output_type": "execute_result"
    },
    {
     "data": {
      "image/png": "[encoded data removed]",
      "text/plain": [
       "<matplotlib.figure.Figure at 0x1c1a800c128>"
      ]
     },
     "metadata": {},
     "output_type": "display_data"
    }
   ],
   "source": [
    "temp.plot.kde()"
   ]
  },
  {
   "cell_type": "markdown",
   "metadata": {},
   "source": [
    "#### 34. Debt for male and female students\n",
    "FEMALE_DEBT_MDN   The median debt for female students\n",
    "\n",
    "MALE_DEBT_MDN    The median debt for male students\n"
   ]
  },
  {
   "cell_type": "code",
   "execution_count": 68,
   "metadata": {
    "collapsed": false
   },
   "outputs": [
    {
     "data": {
      "text/plain": [
       "PrivacySuppressed    2219\n",
       "9500                  554\n",
       "13127.5               135\n",
       "5500                  113\n",
       "10000                  93\n",
       "8688                   80\n",
       "13000                  73\n",
       "3500                   72\n",
       "12000                  70\n",
       "15000                  63\n",
       "19500                  60\n",
       "6333                   59\n",
       "4500                   58\n",
       "18750                  58\n",
       "20500                  49\n",
       "12500                  45\n",
       "19000                  45\n",
       "14350                  38\n",
       "15834                  36\n",
       "21500                  36\n",
       "6000                   35\n",
       "16500                  34\n",
       "20000                  33\n",
       "12409                  33\n",
       "13547                  32\n",
       "11507.5                29\n",
       "18500                  28\n",
       "27000                  27\n",
       "25000                  26\n",
       "4750                   26\n",
       "                     ... \n",
       "18245                   1\n",
       "6434                    1\n",
       "14463                   1\n",
       "17131                   1\n",
       "14731                   1\n",
       "16516                   1\n",
       "6665                    1\n",
       "10464                   1\n",
       "6793                    1\n",
       "19532.5                 1\n",
       "6624.5                  1\n",
       "6234                    1\n",
       "6840                    1\n",
       "3206                    1\n",
       "17208                   1\n",
       "8542                    1\n",
       "13401                   1\n",
       "7375                    1\n",
       "6509                    1\n",
       "13050                   1\n",
       "14222                   1\n",
       "7200                    1\n",
       "15985.5                 1\n",
       "15373                   1\n",
       "10012                   1\n",
       "8789.5                  1\n",
       "6706                    1\n",
       "23625                   1\n",
       "11985                   1\n",
       "10797                   1\n",
       "Name: FEMALE_DEBT_MDN, dtype: int64"
      ]
     },
     "execution_count": 68,
     "metadata": {},
     "output_type": "execute_result"
    }
   ],
   "source": [
    "df.FEMALE_DEBT_MDN.value_counts()"
   ]
  },
  {
   "cell_type": "code",
   "execution_count": 79,
   "metadata": {
    "collapsed": false
   },
   "outputs": [
    {
     "data": {
      "text/plain": [
       "<matplotlib.axes._subplots.AxesSubplot at 0x1c1a384f940>"
      ]
     },
     "execution_count": 79,
     "metadata": {},
     "output_type": "execute_result"
    },
    {
     "data": {
      "image/png": "[encoded data removed]",
      "text/plain": [
       "<matplotlib.figure.Figure at 0x1c1a3860748>"
      ]
     },
     "metadata": {},
     "output_type": "display_data"
    }
   ],
   "source": [
    "s3 = df.FEMALE_DEBT_MDN.map(lambda x: 0 if x == 'PrivacySuppressed' else x)\n",
    "s4 = df.MALE_DEBT_MDN.map(lambda x: 0 if x == 'PrivacySuppressed' else x)\n",
    "s3 = pd.to_numeric(s3)\n",
    "s4 = pd.to_numeric(s4)\n",
    "temp = pd.concat([s3, s4], axis = 1)\n",
    "temp.plot.kde()"
   ]
  },
  {
   "cell_type": "markdown",
   "metadata": {},
   "source": [
    "The difference between median debt for female and male students are quite minor."
   ]
  },
  {
   "cell_type": "markdown",
   "metadata": {},
   "source": [
    "#### 35 repayment rate\n",
    "FEMALE_RPY_3YR_N     Number of students in the 3-year repayment rate of female students cohort\n",
    "MALE_RPY_3YR_N     Number of students in the 3-year repayment rate of male students cohort"
   ]
  },
  {
   "cell_type": "code",
   "execution_count": 80,
   "metadata": {
    "collapsed": false
   },
   "outputs": [
    {
     "data": {
      "text/plain": [
       "PrivacySuppressed    1029\n",
       "21999                 135\n",
       "27274                  80\n",
       "11587                  80\n",
       "220697                 38\n",
       "22964                  33\n",
       "8644                   33\n",
       "22743                  32\n",
       "15370                  29\n",
       "15411                  24\n",
       "15891                  23\n",
       "37185                  23\n",
       "15474                  19\n",
       "4497                   18\n",
       "542                    17\n",
       "22735                  17\n",
       "13985                  17\n",
       "160                    16\n",
       "479                    16\n",
       "161                    15\n",
       "26199                  15\n",
       "3924                   15\n",
       "7463                   15\n",
       "592                    14\n",
       "608                    14\n",
       "305                    14\n",
       "1748                   14\n",
       "71                     14\n",
       "219                    13\n",
       "6065                   13\n",
       "                     ... \n",
       "2601                    1\n",
       "4048                    1\n",
       "1474                    1\n",
       "9012                    1\n",
       "860                     1\n",
       "2053                    1\n",
       "1236                    1\n",
       "2526                    1\n",
       "4080                    1\n",
       "3016                    1\n",
       "283                     1\n",
       "2122                    1\n",
       "3604                    1\n",
       "284                     1\n",
       "1900                    1\n",
       "465                     1\n",
       "1715                    1\n",
       "3469                    1\n",
       "818                     1\n",
       "2018                    1\n",
       "1214                    1\n",
       "1189                    1\n",
       "497                     1\n",
       "1943                    1\n",
       "3798                    1\n",
       "1145                    1\n",
       "3140                    1\n",
       "1355                    1\n",
       "3832                    1\n",
       "2404                    1\n",
       "Name: FEMALE_RPY_3YR_N, dtype: int64"
      ]
     },
     "execution_count": 80,
     "metadata": {},
     "output_type": "execute_result"
    }
   ],
   "source": [
    "df.FEMALE_RPY_3YR_N.value_counts()"
   ]
  },
  {
   "cell_type": "code",
   "execution_count": 103,
   "metadata": {
    "collapsed": true
   },
   "outputs": [],
   "source": [
    "s5 = df.FEMALE_RPY_3YR_N.map(lambda x: -1000 if x == 'PrivacySuppressed' else x)\n",
    "s6 = df.MALE_RPY_3YR_N.map(lambda x: -1000 if x == 'PrivacySuppressed' else x)\n",
    "s5 = pd.to_numeric(s5)\n",
    "s6 = pd.to_numeric(s6)"
   ]
  },
  {
   "cell_type": "code",
   "execution_count": 104,
   "metadata": {
    "collapsed": false
   },
   "outputs": [
    {
     "data": {
      "text/plain": [
       "array([[<matplotlib.axes._subplots.AxesSubplot object at 0x000001C1A71686D8>,\n",
       "        <matplotlib.axes._subplots.AxesSubplot object at 0x000001C1A71AD780>]], dtype=object)"
      ]
     },
     "execution_count": 104,
     "metadata": {},
     "output_type": "execute_result"
    },
    {
     "data": {
      "image/png": "[encoded data removed]",
      "text/plain": [
       "<matplotlib.figure.Figure at 0x1c1a6906358>"
      ]
     },
     "metadata": {},
     "output_type": "display_data"
    }
   ],
   "source": [
    "temp = pd.concat([s5, s6], axis = 1)\n",
    "temp.hist(bins = 20, figsize = (20, 8))"
   ]
  },
  {
   "cell_type": "markdown",
   "metadata": {},
   "source": [
    "What does this rate mean????"
   ]
  },
  {
   "cell_type": "code",
   "execution_count": 105,
   "metadata": {
    "collapsed": false
   },
   "outputs": [
    {
     "data": {
      "text/plain": [
       "array([[<matplotlib.axes._subplots.AxesSubplot object at 0x000001C1A726E438>,\n",
       "        <matplotlib.axes._subplots.AxesSubplot object at 0x000001C1A7D4F898>]], dtype=object)"
      ]
     },
     "execution_count": 105,
     "metadata": {},
     "output_type": "execute_result"
    },
    {
     "data": {
      "image/png": "[encoded data removed]",
      "text/plain": [
       "<matplotlib.figure.Figure at 0x1c1a411b080>"
      ]
     },
     "metadata": {},
     "output_type": "display_data"
    }
   ],
   "source": [
    "s7 = df.FEMALE_RPY_5YR_N.map(lambda x: -1000 if x == 'PrivacySuppressed' else x)\n",
    "s8 = df.MALE_RPY_5YR_N.map(lambda x: -1000 if x == 'PrivacySuppressed' else x)\n",
    "s7 = pd.to_numeric(s7)\n",
    "s8 = pd.to_numeric(s8)\n",
    "temp = pd.concat([s7, s8], axis = 1)\n",
    "temp.hist(bins = 20, figsize = (20, 8))"
   ]
  },
  {
   "cell_type": "code",
   "execution_count": 106,
   "metadata": {
    "collapsed": false
   },
   "outputs": [
    {
     "data": {
      "text/plain": [
       "array([[<matplotlib.axes._subplots.AxesSubplot object at 0x000001C1A82FD828>,\n",
       "        <matplotlib.axes._subplots.AxesSubplot object at 0x000001C1A8C6BCF8>]], dtype=object)"
      ]
     },
     "execution_count": 106,
     "metadata": {},
     "output_type": "execute_result"
    },
    {
     "data": {
      "image/png": "[encoded data removed]",
      "text/plain": [
       "<matplotlib.figure.Figure at 0x1c1a874c198>"
      ]
     },
     "metadata": {},
     "output_type": "display_data"
    }
   ],
   "source": [
    "s9 = df.FEMALE_RPY_7YR_N.map(lambda x: -1000 if x == 'PrivacySuppressed' else x)\n",
    "s10 = df.MALE_RPY_7YR_N.map(lambda x: -1000 if x == 'PrivacySuppressed' else x)\n",
    "s9 = pd.to_numeric(s9)\n",
    "s10 = pd.to_numeric(s10)\n",
    "temp = pd.concat([s9, s10], axis = 1)\n",
    "temp.hist(bins = 20, figsize = (20, 8))"
   ]
  },
  {
   "cell_type": "markdown",
   "metadata": {},
   "source": [
    "#### 36. Share of female students"
   ]
  },
  {
   "cell_type": "code",
   "execution_count": 107,
   "metadata": {
    "collapsed": false
   },
   "outputs": [
    {
     "data": {
      "text/plain": [
       "PrivacySuppressed    1117\n",
       "0.2974852967          135\n",
       "0.9572838073           80\n",
       "0.7323172433           80\n",
       "0.7040679965           38\n",
       "0.7749102035           33\n",
       "0.7325184764           33\n",
       "0.700423655            32\n",
       "0.6309423643           29\n",
       "0.500481232            24\n",
       "0.5753545263           23\n",
       "0.7978077481           23\n",
       "0.8029908081           19\n",
       "0.7847923962           18\n",
       "0.7320170074           17\n",
       "0.7661442995           17\n",
       "0.6200482894           15\n",
       "0.6485097636           15\n",
       "0.7392070485           15\n",
       "0.9424040067           15\n",
       "0.3538806388           14\n",
       "0.6293436293           13\n",
       "0.5                    13\n",
       "0.7322741285           13\n",
       "0.599015634            13\n",
       "0.9281561462           13\n",
       "0.7470341078           13\n",
       "0.8069432684           13\n",
       "0.9390787519           12\n",
       "0.8962993325           12\n",
       "                     ... \n",
       "0.7065274151            1\n",
       "0.9520547945            1\n",
       "0.5981337005            1\n",
       "0.6751012146            1\n",
       "0.6144179894            1\n",
       "0.6204283361            1\n",
       "0.5321812341            1\n",
       "0.4827586207            1\n",
       "0.9612676056            1\n",
       "0.5274676195            1\n",
       "0.6800472255            1\n",
       "0.5923836389            1\n",
       "0.494934877             1\n",
       "0.5921625544            1\n",
       "0.8666666667            1\n",
       "0.9750566893            1\n",
       "0.616734143             1\n",
       "0.7443181818            1\n",
       "0.6096611722            1\n",
       "0.623655914             1\n",
       "0.1333333333            1\n",
       "0.7076923077            1\n",
       "0.5752610442            1\n",
       "0.5706168831            1\n",
       "0.5370570335            1\n",
       "0.6250343124            1\n",
       "0.531661442             1\n",
       "0.5906862745            1\n",
       "0.5017618041            1\n",
       "0.6634819533            1\n",
       "Name: FEMALE, dtype: int64"
      ]
     },
     "execution_count": 107,
     "metadata": {},
     "output_type": "execute_result"
    }
   ],
   "source": [
    "df.FEMALE.value_counts()"
   ]
  },
  {
   "cell_type": "code",
   "execution_count": 117,
   "metadata": {
    "collapsed": false
   },
   "outputs": [
    {
     "data": {
      "text/plain": [
       "<matplotlib.axes._subplots.AxesSubplot at 0x1c1a7a54dd8>"
      ]
     },
     "execution_count": 117,
     "metadata": {},
     "output_type": "execute_result"
    },
    {
     "data": {
      "image/png": "[encoded data removed]",
      "text/plain": [
       "<matplotlib.figure.Figure at 0x1c1a9047e48>"
      ]
     },
     "metadata": {},
     "output_type": "display_data"
    }
   ],
   "source": [
    "s11 = df.FEMALE.map(lambda x: -0.1 if x == 'PrivacySuppressed' else x)\n",
    "s11 = pd.to_numeric(s11)\n",
    "s11.hist(bins = 20, figsize = (20, 8))"
   ]
  },
  {
   "cell_type": "code",
   "execution_count": 118,
   "metadata": {
    "collapsed": false
   },
   "outputs": [
    {
     "data": {
      "text/plain": [
       "count    7375.000000\n",
       "mean        0.527987\n",
       "std         0.319550\n",
       "min        -0.100000\n",
       "25%         0.438537\n",
       "50%         0.599016\n",
       "75%         0.739207\n",
       "max         0.984936\n",
       "Name: FEMALE, dtype: float64"
      ]
     },
     "execution_count": 118,
     "metadata": {},
     "output_type": "execute_result"
    }
   ],
   "source": [
    "s11.describe()"
   ]
  },
  {
   "cell_type": "code",
   "execution_count": 113,
   "metadata": {
    "collapsed": false
   },
   "outputs": [
    {
     "data": {
      "text/plain": [
       "0.599015634"
      ]
     },
     "execution_count": 113,
     "metadata": {},
     "output_type": "execute_result"
    }
   ],
   "source": [
    "s11.median()"
   ]
  },
  {
   "cell_type": "markdown",
   "metadata": {},
   "source": [
    "Female students occupies 52.8% of the overall student population. Yes, there are more female college students than male college students!"
   ]
  },
  {
   "cell_type": "markdown",
   "metadata": {},
   "source": [
    "#### 37. Undergraduate student population\n",
    "\n",
    "UGDS_MEN  Total share of enrollment of undergraduate degree-seeking students who are men\n",
    "\n",
    "UGDS_WOMEN   Total share of enrollment of undergraduate degree-seeking students who are women"
   ]
  },
  {
   "cell_type": "code",
   "execution_count": 124,
   "metadata": {
    "collapsed": false
   },
   "outputs": [
    {
     "data": {
      "text/plain": [
       "<matplotlib.axes._subplots.AxesSubplot at 0x1c1a7543ef0>"
      ]
     },
     "execution_count": 124,
     "metadata": {},
     "output_type": "execute_result"
    },
    {
     "data": {
      "image/png": "[encoded data removed]",
      "text/plain": [
       "<matplotlib.figure.Figure at 0x1c1a7536e80>"
      ]
     },
     "metadata": {},
     "output_type": "display_data"
    }
   ],
   "source": [
    "df[['UGDS_MEN', 'UGDS_WOMEN']].plot.kde(figsize = (10, 8))"
   ]
  },
  {
   "cell_type": "markdown",
   "metadata": {},
   "source": [
    "There are more female undergraduate students than male undergraduate students in all U.S. institutes."
   ]
  },
  {
   "cell_type": "code",
   "execution_count": 125,
   "metadata": {
    "collapsed": false
   },
   "outputs": [
    {
     "data": {
      "text/html": [
       "<div>\n",
       "<table border=\"1\" class=\"dataframe\">\n",
       "  <thead>\n",
       "    <tr style=\"text-align: right;\">\n",
       "      <th></th>\n",
       "      <th>UGDS_MEN</th>\n",
       "      <th>UGDS_WOMEN</th>\n",
       "    </tr>\n",
       "  </thead>\n",
       "  <tbody>\n",
       "    <tr>\n",
       "      <th>count</th>\n",
       "      <td>6858.000000</td>\n",
       "      <td>6858.000000</td>\n",
       "    </tr>\n",
       "    <tr>\n",
       "      <th>mean</th>\n",
       "      <td>0.350334</td>\n",
       "      <td>0.647479</td>\n",
       "    </tr>\n",
       "    <tr>\n",
       "      <th>std</th>\n",
       "      <td>0.242116</td>\n",
       "      <td>0.243455</td>\n",
       "    </tr>\n",
       "    <tr>\n",
       "      <th>min</th>\n",
       "      <td>0.000000</td>\n",
       "      <td>0.000000</td>\n",
       "    </tr>\n",
       "    <tr>\n",
       "      <th>25%</th>\n",
       "      <td>0.136425</td>\n",
       "      <td>0.525525</td>\n",
       "    </tr>\n",
       "    <tr>\n",
       "      <th>50%</th>\n",
       "      <td>0.367800</td>\n",
       "      <td>0.630850</td>\n",
       "    </tr>\n",
       "    <tr>\n",
       "      <th>75%</th>\n",
       "      <td>0.473350</td>\n",
       "      <td>0.861175</td>\n",
       "    </tr>\n",
       "    <tr>\n",
       "      <th>max</th>\n",
       "      <td>1.000000</td>\n",
       "      <td>1.000000</td>\n",
       "    </tr>\n",
       "  </tbody>\n",
       "</table>\n",
       "</div>"
      ],
      "text/plain": [
       "          UGDS_MEN   UGDS_WOMEN\n",
       "count  6858.000000  6858.000000\n",
       "mean      0.350334     0.647479\n",
       "std       0.242116     0.243455\n",
       "min       0.000000     0.000000\n",
       "25%       0.136425     0.525525\n",
       "50%       0.367800     0.630850\n",
       "75%       0.473350     0.861175\n",
       "max       1.000000     1.000000"
      ]
     },
     "execution_count": 125,
     "metadata": {},
     "output_type": "execute_result"
    }
   ],
   "source": [
    "df[['UGDS_MEN', 'UGDS_WOMEN']].describe()"
   ]
  },
  {
   "cell_type": "markdown",
   "metadata": {},
   "source": [
    "Female undergraduate student on average is 65% of all undergraduate student population."
   ]
  },
  {
   "cell_type": "markdown",
   "metadata": {},
   "source": [
    "#### Summary\n",
    "\n",
    "Let's put all investigated useful columns together!"
   ]
  },
  {
   "cell_type": "code",
   "execution_count": 134,
   "metadata": {
    "collapsed": false
   },
   "outputs": [],
   "source": [
    "col_name = ['INSTNM', 'CITY', 'STABBR', 'ZIP', 'ACCREDAGENCY', 'NUMBRANCH', 'PREDDEG', 'HIGHDEG', 'CONTROL', 'REGION',\n",
    "            'CCBASIC', 'CCUGPROF', 'CCSIZSET', 'RELAFFIL', 'ADM_RATE', 'SATVR25',\n",
    "            'SATVR75', 'SATVRMID', 'SATMT25', 'SATMT75', 'SATMTMID', 'SATWR25', 'SATWR75', 'SATWRMID', 'ACTCM25', 'ACTEN25', \n",
    "            'ACTMT25', 'ACTWR25', \n",
    "            'ACTCM75', 'ACTEN75', 'ACTMT75', 'ACTWR75', 'ACTCMMID', 'ACTENMID', 'ACTMTMID', 'ACTWRMID', 'SAT_AVG_ALL', 'PCIP11',\n",
    "            'PCIP14', 'PCIP15', 'PCIP26', 'PCIP27', 'PCIP40', 'PCIP41'\n",
    "        ,'CIP11BACHL', 'CIP14BACHL', 'CIP15BACHL', 'CIP26BACHL', 'CIP27BACHL', 'CIP40BACHL', 'CIP41BACHL',\n",
    "            'UGDS', 'COSTT4_A', 'COSTT4_P', 'TUITIONFEE_IN', 'TUITIONFEE_OUT', 'AVGFACSAL', 'PFTFAC', 'C150_4', 'C150_L4', \n",
    "            'C150_4_POOLED', 'C150_L4_POOLED', 'C150_4_WHITE', 'C150_4_BLACK', 'C150_4_HISP', 'C150_4_ASIAN', 'DEP_INC_AVG',\n",
    "            'IND_INC_AVG', 'FEMALE_DEBT_MDN', 'MALE_DEBT_MDN', 'FEMALE_RPY_3YR_N', 'MALE_RPY_3YR_N', 'MALE_RPY_5YR_N', \n",
    "            'FEMALE_RPY_5YR_N', 'MALE_RPY_7YR_N', 'FEMALE_RPY_7YR_N', 'FEMALE', 'UGDS_MEN', 'UGDS_WOMEN']"
   ]
  },
  {
   "cell_type": "code",
   "execution_count": 135,
   "metadata": {
    "collapsed": false
   },
   "outputs": [],
   "source": [
    "df = df[col_name]"
   ]
  },
  {
   "cell_type": "code",
   "execution_count": 136,
   "metadata": {
    "collapsed": false
   },
   "outputs": [
    {
     "name": "stdout",
     "output_type": "stream",
     "text": [
      "<class 'pandas.core.frame.DataFrame'>\n",
      "RangeIndex: 7593 entries, 0 to 7592\n",
      "Data columns (total 79 columns):\n",
      "INSTNM              7593 non-null object\n",
      "CITY                7593 non-null object\n",
      "STABBR              7593 non-null object\n",
      "ZIP                 7593 non-null object\n",
      "ACCREDAGENCY        6673 non-null object\n",
      "NUMBRANCH           7593 non-null int64\n",
      "PREDDEG             7593 non-null int64\n",
      "HIGHDEG             7593 non-null int64\n",
      "CONTROL             7593 non-null int64\n",
      "REGION              7593 non-null int64\n",
      "CCBASIC             7147 non-null float64\n",
      "CCUGPROF            7147 non-null float64\n",
      "CCSIZSET            7147 non-null float64\n",
      "RELAFFIL            909 non-null float64\n",
      "ADM_RATE            2171 non-null float64\n",
      "SATVR25             1193 non-null float64\n",
      "SATVR75             1193 non-null float64\n",
      "SATVRMID            1193 non-null float64\n",
      "SATMT25             1202 non-null float64\n",
      "SATMT75             1202 non-null float64\n",
      "SATMTMID            1202 non-null float64\n",
      "SATWR25             733 non-null float64\n",
      "SATWR75             733 non-null float64\n",
      "SATWRMID            733 non-null float64\n",
      "ACTCM25             1234 non-null float64\n",
      "ACTEN25             1093 non-null float64\n",
      "ACTMT25             1094 non-null float64\n",
      "ACTWR25             325 non-null float64\n",
      "ACTCM75             1234 non-null float64\n",
      "ACTEN75             1093 non-null float64\n",
      "ACTMT75             1094 non-null float64\n",
      "ACTWR75             325 non-null float64\n",
      "ACTCMMID            1234 non-null float64\n",
      "ACTENMID            1093 non-null float64\n",
      "ACTMTMID            1094 non-null float64\n",
      "ACTWRMID            325 non-null float64\n",
      "SAT_AVG_ALL         1398 non-null float64\n",
      "PCIP11              6854 non-null float64\n",
      "PCIP14              6854 non-null float64\n",
      "PCIP15              6854 non-null float64\n",
      "PCIP26              6854 non-null float64\n",
      "PCIP27              6854 non-null float64\n",
      "PCIP40              6854 non-null float64\n",
      "PCIP41              6854 non-null float64\n",
      "CIP11BACHL          7147 non-null float64\n",
      "CIP14BACHL          7147 non-null float64\n",
      "CIP15BACHL          7147 non-null float64\n",
      "CIP26BACHL          7147 non-null float64\n",
      "CIP27BACHL          7147 non-null float64\n",
      "CIP40BACHL          7147 non-null float64\n",
      "CIP41BACHL          7147 non-null float64\n",
      "UGDS                6858 non-null float64\n",
      "COSTT4_A            3920 non-null float64\n",
      "COSTT4_P            2500 non-null float64\n",
      "TUITIONFEE_IN       4303 non-null float64\n",
      "TUITIONFEE_OUT      4089 non-null float64\n",
      "AVGFACSAL           4454 non-null float64\n",
      "PFTFAC              3937 non-null float64\n",
      "C150_4              2489 non-null float64\n",
      "C150_L4             3837 non-null float64\n",
      "C150_4_POOLED       2505 non-null float64\n",
      "C150_L4_POOLED      3890 non-null float64\n",
      "C150_4_WHITE        2376 non-null float64\n",
      "C150_4_BLACK        2199 non-null float64\n",
      "C150_4_HISP         2219 non-null float64\n",
      "C150_4_ASIAN        1874 non-null float64\n",
      "DEP_INC_AVG         7375 non-null object\n",
      "IND_INC_AVG         7375 non-null object\n",
      "FEMALE_DEBT_MDN     7564 non-null object\n",
      "MALE_DEBT_MDN       7564 non-null object\n",
      "FEMALE_RPY_3YR_N    6666 non-null object\n",
      "MALE_RPY_3YR_N      6666 non-null object\n",
      "MALE_RPY_5YR_N      6499 non-null object\n",
      "FEMALE_RPY_5YR_N    6499 non-null object\n",
      "MALE_RPY_7YR_N      6156 non-null object\n",
      "FEMALE_RPY_7YR_N    6156 non-null object\n",
      "FEMALE              7375 non-null object\n",
      "UGDS_MEN            6858 non-null float64\n",
      "UGDS_WOMEN          6858 non-null float64\n",
      "dtypes: float64(58), int64(5), object(16)\n",
      "memory usage: 4.6+ MB\n"
     ]
    }
   ],
   "source": [
    "df.info()"
   ]
  },
  {
   "cell_type": "code",
   "execution_count": 137,
   "metadata": {
    "collapsed": true
   },
   "outputs": [],
   "source": [
    "df.to_csv('2015_16_PP_after_clean.csv')"
   ]
  },
  {
   "cell_type": "code",
   "execution_count": null,
   "metadata": {
    "collapsed": true
   },
   "outputs": [],
   "source": []
  }
 ],
 "metadata": {
  "kernelspec": {
   "display_name": "Python 3",
   "language": "python",
   "name": "python3"
  },
  "language_info": {
   "codemirror_mode": {
    "name": "ipython",
    "version": 3
   },
   "file_extension": ".py",
   "mimetype": "text/x-python",
   "name": "python",
   "nbconvert_exporter": "python",
   "pygments_lexer": "ipython3",
   "version": "3.5.2"
  }
 },
 "nbformat": 4,
 "nbformat_minor": 0
}
