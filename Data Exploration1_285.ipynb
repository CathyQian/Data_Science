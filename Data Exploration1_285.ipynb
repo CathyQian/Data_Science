{
 "cells": [
  {
   "cell_type": "markdown",
   "metadata": {},
   "source": [
    "### Introduction\n",
    "The following work provides exploration of row 1 to row 285 in file MERGED2015_16_PP.csv\n",
    "\n",
    "Please refer to CollegeScorecardDataDictionary.xlsx for detailed information about the above file."
   ]
  },
  {
   "cell_type": "code",
   "execution_count": 105,
   "metadata": {
    "collapsed": true
   },
   "outputs": [],
   "source": [
    "import numpy as np\n",
    "import pandas as pd\n",
    "import matplotlib.pyplot as plt\n",
    "%matplotlib inline"
   ]
  },
  {
   "cell_type": "code",
   "execution_count": 87,
   "metadata": {
    "collapsed": false
   },
   "outputs": [
    {
     "name": "stderr",
     "output_type": "stream",
     "text": [
      "C:\\Users\\Administrator\\Anaconda3\\lib\\site-packages\\IPython\\core\\interactiveshell.py:2723: DtypeWarning: Columns (6,9,1725,1726,1727,1728,1729,1743) have mixed types. Specify dtype option on import or set low_memory=False.\n",
      "  interactivity=interactivity, compiler=compiler, result=result)\n"
     ]
    }
   ],
   "source": [
    "df = pd.read_csv('MERGED2015_16_PP.csv', header = 0)"
   ]
  },
  {
   "cell_type": "code",
   "execution_count": 6,
   "metadata": {
    "collapsed": false
   },
   "outputs": [
    {
     "name": "stdout",
     "output_type": "stream",
     "text": [
      "<class 'pandas.core.frame.DataFrame'>\n",
      "RangeIndex: 7593 entries, 0 to 7592\n",
      "Columns: 1805 entries, UNITID to OMENRUP8_PTNFT\n",
      "dtypes: float64(1600), int64(13), object(192)\n",
      "memory usage: 104.6+ MB\n"
     ]
    }
   ],
   "source": [
    "df.info()"
   ]
  },
  {
   "cell_type": "code",
   "execution_count": 7,
   "metadata": {
    "collapsed": false
   },
   "outputs": [
    {
     "data": {
      "text/html": [
       "<div>\n",
       "<table border=\"1\" class=\"dataframe\">\n",
       "  <thead>\n",
       "    <tr style=\"text-align: right;\">\n",
       "      <th></th>\n",
       "      <th>UNITID</th>\n",
       "      <th>OPEID</th>\n",
       "      <th>OPEID6</th>\n",
       "      <th>INSTNM</th>\n",
       "      <th>CITY</th>\n",
       "      <th>STABBR</th>\n",
       "      <th>ZIP</th>\n",
       "      <th>ACCREDAGENCY</th>\n",
       "      <th>INSTURL</th>\n",
       "      <th>NPCURL</th>\n",
       "      <th>...</th>\n",
       "      <th>OMENRYP8_FTNFT</th>\n",
       "      <th>OMENRAP8_FTNFT</th>\n",
       "      <th>OMENRUP8_FTNFT</th>\n",
       "      <th>OMACHT6_PTNFT</th>\n",
       "      <th>OMAWDP6_PTNFT</th>\n",
       "      <th>OMACHT8_PTNFT</th>\n",
       "      <th>OMAWDP8_PTNFT</th>\n",
       "      <th>OMENRYP8_PTNFT</th>\n",
       "      <th>OMENRAP8_PTNFT</th>\n",
       "      <th>OMENRUP8_PTNFT</th>\n",
       "    </tr>\n",
       "  </thead>\n",
       "  <tbody>\n",
       "    <tr>\n",
       "      <th>0</th>\n",
       "      <td>100654</td>\n",
       "      <td>100200</td>\n",
       "      <td>1002</td>\n",
       "      <td>Alabama A &amp; M University</td>\n",
       "      <td>Normal</td>\n",
       "      <td>AL</td>\n",
       "      <td>35762</td>\n",
       "      <td>Southern Association of Colleges and Schools C...</td>\n",
       "      <td>www.aamu.edu/</td>\n",
       "      <td>www2.aamu.edu/scripts/netpricecalc/npcalc.htm</td>\n",
       "      <td>...</td>\n",
       "      <td>0.0000</td>\n",
       "      <td>0.1727</td>\n",
       "      <td>0.3909</td>\n",
       "      <td>16.0</td>\n",
       "      <td>0.3125</td>\n",
       "      <td>16.0</td>\n",
       "      <td>0.3125</td>\n",
       "      <td>0.0000</td>\n",
       "      <td>0.0000</td>\n",
       "      <td>0.6875</td>\n",
       "    </tr>\n",
       "    <tr>\n",
       "      <th>1</th>\n",
       "      <td>100663</td>\n",
       "      <td>105200</td>\n",
       "      <td>1052</td>\n",
       "      <td>University of Alabama at Birmingham</td>\n",
       "      <td>Birmingham</td>\n",
       "      <td>AL</td>\n",
       "      <td>35294-0110</td>\n",
       "      <td>Southern Association of Colleges and Schools C...</td>\n",
       "      <td>www.uab.edu</td>\n",
       "      <td>uab.studentaidcalculator.com/survey.aspx</td>\n",
       "      <td>...</td>\n",
       "      <td>0.0102</td>\n",
       "      <td>0.2187</td>\n",
       "      <td>0.1385</td>\n",
       "      <td>248.0</td>\n",
       "      <td>0.3589</td>\n",
       "      <td>248.0</td>\n",
       "      <td>0.4032</td>\n",
       "      <td>0.0444</td>\n",
       "      <td>0.2500</td>\n",
       "      <td>0.3024</td>\n",
       "    </tr>\n",
       "    <tr>\n",
       "      <th>2</th>\n",
       "      <td>100690</td>\n",
       "      <td>2503400</td>\n",
       "      <td>25034</td>\n",
       "      <td>Amridge University</td>\n",
       "      <td>Montgomery</td>\n",
       "      <td>AL</td>\n",
       "      <td>36117-3553</td>\n",
       "      <td>Southern Association of Colleges and Schools C...</td>\n",
       "      <td>www.amridgeuniversity.edu</td>\n",
       "      <td>www2.amridgeuniversity.edu:9091/</td>\n",
       "      <td>...</td>\n",
       "      <td>0.0125</td>\n",
       "      <td>0.4375</td>\n",
       "      <td>0.0000</td>\n",
       "      <td>36.0</td>\n",
       "      <td>0.5000</td>\n",
       "      <td>36.0</td>\n",
       "      <td>0.5278</td>\n",
       "      <td>0.0278</td>\n",
       "      <td>0.4444</td>\n",
       "      <td>0.0000</td>\n",
       "    </tr>\n",
       "    <tr>\n",
       "      <th>3</th>\n",
       "      <td>100706</td>\n",
       "      <td>105500</td>\n",
       "      <td>1055</td>\n",
       "      <td>University of Alabama in Huntsville</td>\n",
       "      <td>Huntsville</td>\n",
       "      <td>AL</td>\n",
       "      <td>35899</td>\n",
       "      <td>Southern Association of Colleges and Schools C...</td>\n",
       "      <td>www.uah.edu</td>\n",
       "      <td>finaid.uah.edu/</td>\n",
       "      <td>...</td>\n",
       "      <td>0.0124</td>\n",
       "      <td>0.3209</td>\n",
       "      <td>0.1242</td>\n",
       "      <td>131.0</td>\n",
       "      <td>0.3588</td>\n",
       "      <td>131.0</td>\n",
       "      <td>0.3664</td>\n",
       "      <td>0.0382</td>\n",
       "      <td>0.4351</td>\n",
       "      <td>0.1603</td>\n",
       "    </tr>\n",
       "    <tr>\n",
       "      <th>4</th>\n",
       "      <td>100724</td>\n",
       "      <td>100500</td>\n",
       "      <td>1005</td>\n",
       "      <td>Alabama State University</td>\n",
       "      <td>Montgomery</td>\n",
       "      <td>AL</td>\n",
       "      <td>36104-0271</td>\n",
       "      <td>Southern Association of Colleges and Schools C...</td>\n",
       "      <td>www.alasu.edu</td>\n",
       "      <td>www.alasu.edu/cost-aid/forms/calculator/index....</td>\n",
       "      <td>...</td>\n",
       "      <td>0.0000</td>\n",
       "      <td>0.3672</td>\n",
       "      <td>0.1977</td>\n",
       "      <td>36.0</td>\n",
       "      <td>0.2778</td>\n",
       "      <td>36.0</td>\n",
       "      <td>0.3056</td>\n",
       "      <td>0.0278</td>\n",
       "      <td>0.5833</td>\n",
       "      <td>0.0833</td>\n",
       "    </tr>\n",
       "  </tbody>\n",
       "</table>\n",
       "<p>5 rows × 1805 columns</p>\n",
       "</div>"
      ],
      "text/plain": [
       "   UNITID    OPEID  OPEID6                               INSTNM        CITY  \\\n",
       "0  100654   100200    1002             Alabama A & M University      Normal   \n",
       "1  100663   105200    1052  University of Alabama at Birmingham  Birmingham   \n",
       "2  100690  2503400   25034                   Amridge University  Montgomery   \n",
       "3  100706   105500    1055  University of Alabama in Huntsville  Huntsville   \n",
       "4  100724   100500    1005             Alabama State University  Montgomery   \n",
       "\n",
       "  STABBR         ZIP                                       ACCREDAGENCY  \\\n",
       "0     AL       35762  Southern Association of Colleges and Schools C...   \n",
       "1     AL  35294-0110  Southern Association of Colleges and Schools C...   \n",
       "2     AL  36117-3553  Southern Association of Colleges and Schools C...   \n",
       "3     AL       35899  Southern Association of Colleges and Schools C...   \n",
       "4     AL  36104-0271  Southern Association of Colleges and Schools C...   \n",
       "\n",
       "                     INSTURL  \\\n",
       "0              www.aamu.edu/   \n",
       "1                www.uab.edu   \n",
       "2  www.amridgeuniversity.edu   \n",
       "3                www.uah.edu   \n",
       "4              www.alasu.edu   \n",
       "\n",
       "                                              NPCURL       ...        \\\n",
       "0      www2.aamu.edu/scripts/netpricecalc/npcalc.htm       ...         \n",
       "1           uab.studentaidcalculator.com/survey.aspx       ...         \n",
       "2                   www2.amridgeuniversity.edu:9091/       ...         \n",
       "3                                    finaid.uah.edu/       ...         \n",
       "4  www.alasu.edu/cost-aid/forms/calculator/index....       ...         \n",
       "\n",
       "   OMENRYP8_FTNFT  OMENRAP8_FTNFT  OMENRUP8_FTNFT  OMACHT6_PTNFT  \\\n",
       "0          0.0000          0.1727          0.3909           16.0   \n",
       "1          0.0102          0.2187          0.1385          248.0   \n",
       "2          0.0125          0.4375          0.0000           36.0   \n",
       "3          0.0124          0.3209          0.1242          131.0   \n",
       "4          0.0000          0.3672          0.1977           36.0   \n",
       "\n",
       "   OMAWDP6_PTNFT  OMACHT8_PTNFT  OMAWDP8_PTNFT  OMENRYP8_PTNFT  \\\n",
       "0         0.3125           16.0         0.3125          0.0000   \n",
       "1         0.3589          248.0         0.4032          0.0444   \n",
       "2         0.5000           36.0         0.5278          0.0278   \n",
       "3         0.3588          131.0         0.3664          0.0382   \n",
       "4         0.2778           36.0         0.3056          0.0278   \n",
       "\n",
       "   OMENRAP8_PTNFT  OMENRUP8_PTNFT  \n",
       "0          0.0000          0.6875  \n",
       "1          0.2500          0.3024  \n",
       "2          0.4444          0.0000  \n",
       "3          0.4351          0.1603  \n",
       "4          0.5833          0.0833  \n",
       "\n",
       "[5 rows x 1805 columns]"
      ]
     },
     "execution_count": 7,
     "metadata": {},
     "output_type": "execute_result"
    }
   ],
   "source": [
    "df.head(5)"
   ]
  },
  {
   "cell_type": "code",
   "execution_count": 131,
   "metadata": {
    "collapsed": false
   },
   "outputs": [
    {
     "data": {
      "text/html": [
       "<div>\n",
       "<table border=\"1\" class=\"dataframe\">\n",
       "  <thead>\n",
       "    <tr style=\"text-align: right;\">\n",
       "      <th></th>\n",
       "      <th>UNITID</th>\n",
       "      <th>OPEID</th>\n",
       "      <th>OPEID6</th>\n",
       "      <th>SCH_DEG</th>\n",
       "      <th>HCM2</th>\n",
       "      <th>MAIN</th>\n",
       "      <th>NUMBRANCH</th>\n",
       "      <th>PREDDEG</th>\n",
       "      <th>HIGHDEG</th>\n",
       "      <th>CONTROL</th>\n",
       "      <th>...</th>\n",
       "      <th>OMENRYP8_FTNFT</th>\n",
       "      <th>OMENRAP8_FTNFT</th>\n",
       "      <th>OMENRUP8_FTNFT</th>\n",
       "      <th>OMACHT6_PTNFT</th>\n",
       "      <th>OMAWDP6_PTNFT</th>\n",
       "      <th>OMACHT8_PTNFT</th>\n",
       "      <th>OMAWDP8_PTNFT</th>\n",
       "      <th>OMENRYP8_PTNFT</th>\n",
       "      <th>OMENRAP8_PTNFT</th>\n",
       "      <th>OMENRUP8_PTNFT</th>\n",
       "    </tr>\n",
       "  </thead>\n",
       "  <tbody>\n",
       "    <tr>\n",
       "      <th>count</th>\n",
       "      <td>7.593000e+03</td>\n",
       "      <td>7.593000e+03</td>\n",
       "      <td>7593.000000</td>\n",
       "      <td>0.0</td>\n",
       "      <td>7593.000000</td>\n",
       "      <td>7593.000000</td>\n",
       "      <td>7593.000000</td>\n",
       "      <td>7593.000000</td>\n",
       "      <td>7593.000000</td>\n",
       "      <td>7593.000000</td>\n",
       "      <td>...</td>\n",
       "      <td>3671.000000</td>\n",
       "      <td>3671.000000</td>\n",
       "      <td>3671.000000</td>\n",
       "      <td>3955.000000</td>\n",
       "      <td>2948.000000</td>\n",
       "      <td>3955.000000</td>\n",
       "      <td>2947.000000</td>\n",
       "      <td>2947.000000</td>\n",
       "      <td>2947.000000</td>\n",
       "      <td>2947.000000</td>\n",
       "    </tr>\n",
       "    <tr>\n",
       "      <th>mean</th>\n",
       "      <td>1.765726e+06</td>\n",
       "      <td>1.910166e+06</td>\n",
       "      <td>16441.276307</td>\n",
       "      <td>NaN</td>\n",
       "      <td>0.009219</td>\n",
       "      <td>0.738312</td>\n",
       "      <td>7.185566</td>\n",
       "      <td>1.810088</td>\n",
       "      <td>2.202292</td>\n",
       "      <td>2.192282</td>\n",
       "      <td>...</td>\n",
       "      <td>0.008412</td>\n",
       "      <td>0.169805</td>\n",
       "      <td>0.260487</td>\n",
       "      <td>158.747914</td>\n",
       "      <td>0.368262</td>\n",
       "      <td>158.705689</td>\n",
       "      <td>0.386980</td>\n",
       "      <td>0.016495</td>\n",
       "      <td>0.207125</td>\n",
       "      <td>0.389400</td>\n",
       "    </tr>\n",
       "    <tr>\n",
       "      <th>std</th>\n",
       "      <td>6.771661e+06</td>\n",
       "      <td>3.516382e+06</td>\n",
       "      <td>14088.868371</td>\n",
       "      <td>NaN</td>\n",
       "      <td>0.095578</td>\n",
       "      <td>0.439583</td>\n",
       "      <td>21.184166</td>\n",
       "      <td>1.031903</td>\n",
       "      <td>1.318152</td>\n",
       "      <td>0.835941</td>\n",
       "      <td>...</td>\n",
       "      <td>0.035949</td>\n",
       "      <td>0.175972</td>\n",
       "      <td>0.206629</td>\n",
       "      <td>701.589333</td>\n",
       "      <td>0.234315</td>\n",
       "      <td>701.556552</td>\n",
       "      <td>0.235768</td>\n",
       "      <td>0.054862</td>\n",
       "      <td>0.209142</td>\n",
       "      <td>0.251564</td>\n",
       "    </tr>\n",
       "    <tr>\n",
       "      <th>min</th>\n",
       "      <td>1.006540e+05</td>\n",
       "      <td>1.002000e+05</td>\n",
       "      <td>1002.000000</td>\n",
       "      <td>NaN</td>\n",
       "      <td>0.000000</td>\n",
       "      <td>0.000000</td>\n",
       "      <td>1.000000</td>\n",
       "      <td>0.000000</td>\n",
       "      <td>0.000000</td>\n",
       "      <td>1.000000</td>\n",
       "      <td>...</td>\n",
       "      <td>0.000000</td>\n",
       "      <td>0.000000</td>\n",
       "      <td>0.000000</td>\n",
       "      <td>0.000000</td>\n",
       "      <td>0.000000</td>\n",
       "      <td>0.000000</td>\n",
       "      <td>0.000000</td>\n",
       "      <td>0.000000</td>\n",
       "      <td>0.000000</td>\n",
       "      <td>0.000000</td>\n",
       "    </tr>\n",
       "    <tr>\n",
       "      <th>25%</th>\n",
       "      <td>1.752630e+05</td>\n",
       "      <td>3.402000e+05</td>\n",
       "      <td>3395.000000</td>\n",
       "      <td>NaN</td>\n",
       "      <td>0.000000</td>\n",
       "      <td>0.000000</td>\n",
       "      <td>1.000000</td>\n",
       "      <td>1.000000</td>\n",
       "      <td>1.000000</td>\n",
       "      <td>1.000000</td>\n",
       "      <td>...</td>\n",
       "      <td>0.000000</td>\n",
       "      <td>0.002650</td>\n",
       "      <td>0.102150</td>\n",
       "      <td>0.000000</td>\n",
       "      <td>0.203250</td>\n",
       "      <td>0.000000</td>\n",
       "      <td>0.222200</td>\n",
       "      <td>0.000000</td>\n",
       "      <td>0.000000</td>\n",
       "      <td>0.210600</td>\n",
       "    </tr>\n",
       "    <tr>\n",
       "      <th>50%</th>\n",
       "      <td>2.318730e+05</td>\n",
       "      <td>1.054211e+06</td>\n",
       "      <td>10490.000000</td>\n",
       "      <td>NaN</td>\n",
       "      <td>0.000000</td>\n",
       "      <td>1.000000</td>\n",
       "      <td>1.000000</td>\n",
       "      <td>2.000000</td>\n",
       "      <td>2.000000</td>\n",
       "      <td>2.000000</td>\n",
       "      <td>...</td>\n",
       "      <td>0.000000</td>\n",
       "      <td>0.132500</td>\n",
       "      <td>0.214300</td>\n",
       "      <td>24.000000</td>\n",
       "      <td>0.346800</td>\n",
       "      <td>24.000000</td>\n",
       "      <td>0.369600</td>\n",
       "      <td>0.000000</td>\n",
       "      <td>0.176500</td>\n",
       "      <td>0.345000</td>\n",
       "    </tr>\n",
       "    <tr>\n",
       "      <th>75%</th>\n",
       "      <td>4.496120e+05</td>\n",
       "      <td>3.010617e+06</td>\n",
       "      <td>26092.000000</td>\n",
       "      <td>NaN</td>\n",
       "      <td>0.000000</td>\n",
       "      <td>1.000000</td>\n",
       "      <td>3.000000</td>\n",
       "      <td>3.000000</td>\n",
       "      <td>4.000000</td>\n",
       "      <td>3.000000</td>\n",
       "      <td>...</td>\n",
       "      <td>0.008300</td>\n",
       "      <td>0.265400</td>\n",
       "      <td>0.375000</td>\n",
       "      <td>116.000000</td>\n",
       "      <td>0.500350</td>\n",
       "      <td>115.500000</td>\n",
       "      <td>0.528100</td>\n",
       "      <td>0.016700</td>\n",
       "      <td>0.332200</td>\n",
       "      <td>0.521700</td>\n",
       "    </tr>\n",
       "    <tr>\n",
       "      <th>max</th>\n",
       "      <td>4.862110e+07</td>\n",
       "      <td>8.209884e+07</td>\n",
       "      <td>42542.000000</td>\n",
       "      <td>NaN</td>\n",
       "      <td>1.000000</td>\n",
       "      <td>1.000000</td>\n",
       "      <td>135.000000</td>\n",
       "      <td>4.000000</td>\n",
       "      <td>4.000000</td>\n",
       "      <td>3.000000</td>\n",
       "      <td>...</td>\n",
       "      <td>0.940300</td>\n",
       "      <td>1.000000</td>\n",
       "      <td>1.000000</td>\n",
       "      <td>33078.000000</td>\n",
       "      <td>1.000000</td>\n",
       "      <td>33078.000000</td>\n",
       "      <td>1.000000</td>\n",
       "      <td>1.000000</td>\n",
       "      <td>1.000000</td>\n",
       "      <td>1.000000</td>\n",
       "    </tr>\n",
       "  </tbody>\n",
       "</table>\n",
       "<p>8 rows × 1612 columns</p>\n",
       "</div>"
      ],
      "text/plain": [
       "             UNITID         OPEID        OPEID6  SCH_DEG         HCM2  \\\n",
       "count  7.593000e+03  7.593000e+03   7593.000000      0.0  7593.000000   \n",
       "mean   1.765726e+06  1.910166e+06  16441.276307      NaN     0.009219   \n",
       "std    6.771661e+06  3.516382e+06  14088.868371      NaN     0.095578   \n",
       "min    1.006540e+05  1.002000e+05   1002.000000      NaN     0.000000   \n",
       "25%    1.752630e+05  3.402000e+05   3395.000000      NaN     0.000000   \n",
       "50%    2.318730e+05  1.054211e+06  10490.000000      NaN     0.000000   \n",
       "75%    4.496120e+05  3.010617e+06  26092.000000      NaN     0.000000   \n",
       "max    4.862110e+07  8.209884e+07  42542.000000      NaN     1.000000   \n",
       "\n",
       "              MAIN    NUMBRANCH      PREDDEG      HIGHDEG      CONTROL  \\\n",
       "count  7593.000000  7593.000000  7593.000000  7593.000000  7593.000000   \n",
       "mean      0.738312     7.185566     1.810088     2.202292     2.192282   \n",
       "std       0.439583    21.184166     1.031903     1.318152     0.835941   \n",
       "min       0.000000     1.000000     0.000000     0.000000     1.000000   \n",
       "25%       0.000000     1.000000     1.000000     1.000000     1.000000   \n",
       "50%       1.000000     1.000000     2.000000     2.000000     2.000000   \n",
       "75%       1.000000     3.000000     3.000000     4.000000     3.000000   \n",
       "max       1.000000   135.000000     4.000000     4.000000     3.000000   \n",
       "\n",
       "            ...        OMENRYP8_FTNFT  OMENRAP8_FTNFT  OMENRUP8_FTNFT  \\\n",
       "count       ...           3671.000000     3671.000000     3671.000000   \n",
       "mean        ...              0.008412        0.169805        0.260487   \n",
       "std         ...              0.035949        0.175972        0.206629   \n",
       "min         ...              0.000000        0.000000        0.000000   \n",
       "25%         ...              0.000000        0.002650        0.102150   \n",
       "50%         ...              0.000000        0.132500        0.214300   \n",
       "75%         ...              0.008300        0.265400        0.375000   \n",
       "max         ...              0.940300        1.000000        1.000000   \n",
       "\n",
       "       OMACHT6_PTNFT  OMAWDP6_PTNFT  OMACHT8_PTNFT  OMAWDP8_PTNFT  \\\n",
       "count    3955.000000    2948.000000    3955.000000    2947.000000   \n",
       "mean      158.747914       0.368262     158.705689       0.386980   \n",
       "std       701.589333       0.234315     701.556552       0.235768   \n",
       "min         0.000000       0.000000       0.000000       0.000000   \n",
       "25%         0.000000       0.203250       0.000000       0.222200   \n",
       "50%        24.000000       0.346800      24.000000       0.369600   \n",
       "75%       116.000000       0.500350     115.500000       0.528100   \n",
       "max     33078.000000       1.000000   33078.000000       1.000000   \n",
       "\n",
       "       OMENRYP8_PTNFT  OMENRAP8_PTNFT  OMENRUP8_PTNFT  \n",
       "count     2947.000000     2947.000000     2947.000000  \n",
       "mean         0.016495        0.207125        0.389400  \n",
       "std          0.054862        0.209142        0.251564  \n",
       "min          0.000000        0.000000        0.000000  \n",
       "25%          0.000000        0.000000        0.210600  \n",
       "50%          0.000000        0.176500        0.345000  \n",
       "75%          0.016700        0.332200        0.521700  \n",
       "max          1.000000        1.000000        1.000000  \n",
       "\n",
       "[8 rows x 1612 columns]"
      ]
     },
     "execution_count": 131,
     "metadata": {},
     "output_type": "execute_result"
    }
   ],
   "source": [
    "df.describe()"
   ]
  },
  {
   "cell_type": "markdown",
   "metadata": {},
   "source": [
    "#### 1. INSTNM institute name"
   ]
  },
  {
   "cell_type": "code",
   "execution_count": 10,
   "metadata": {
    "collapsed": false
   },
   "outputs": [
    {
     "data": {
      "text/plain": [
       "0                                Alabama A & M University\n",
       "1                     University of Alabama at Birmingham\n",
       "2                                      Amridge University\n",
       "3                     University of Alabama in Huntsville\n",
       "4                                Alabama State University\n",
       "5                               The University of Alabama\n",
       "6                       Central Alabama Community College\n",
       "7                                 Athens State University\n",
       "8                         Auburn University at Montgomery\n",
       "9                                       Auburn University\n",
       "10                            Birmingham Southern College\n",
       "11                 Chattahoochee Valley Community College\n",
       "12                              Concordia College Alabama\n",
       "13                            South University-Montgomery\n",
       "14                     Enterprise State Community College\n",
       "15               James H Faulkner State Community College\n",
       "16                                    Faulkner University\n",
       "17                        Gadsden State Community College\n",
       "18                   New Beginning College of Cosmetology\n",
       "19        George C Wallace State Community College-Dothan\n",
       "20      George C Wallace State Community College-Hance...\n",
       "21         George C Wallace State Community College-Selma\n",
       "22                          Herzing University-Birmingham\n",
       "23                                     Huntingdon College\n",
       "24                          Heritage Christian University\n",
       "25        J F Drake State Community and Technical College\n",
       "26                          Jacksonville State University\n",
       "27                      Jefferson Davis Community College\n",
       "28                      Jefferson State Community College\n",
       "29                 John C Calhoun State Community College\n",
       "                              ...                        \n",
       "7563                     Strayer University-Morrow Campus\n",
       "7564                    Strayer University-Roswell Campus\n",
       "7565               Strayer University-Douglasville Campus\n",
       "7566                   Strayer University-Lithonia Campus\n",
       "7567                   Strayer University-Savannah Campus\n",
       "7568                    Strayer University-Augusta Campus\n",
       "7569                          Strayer University-Columbus\n",
       "7570                   Strayer University-Columbia Campus\n",
       "7571                 Strayer University-Charleston Campus\n",
       "7572                            Strayer University-Irving\n",
       "7573                              Strayer University-Katy\n",
       "7574                 Strayer University-Northwest Houston\n",
       "7575                             Strayer University-Plano\n",
       "7576                        Strayer University-Cedar Hill\n",
       "7577                      Strayer University-North Dallas\n",
       "7578                       Strayer University-San Antonio\n",
       "7579                          Strayer University-Stafford\n",
       "7580                                       Unitek College\n",
       "7581          Relay Graduate School of Education - Newark\n",
       "7582     Relay Graduate School of Education - New Orleans\n",
       "7583                             WestMed College - Merced\n",
       "7584                                      Vantage College\n",
       "7585                                      Vantage College\n",
       "7586            SAE Institute of Technology San Francisco\n",
       "7587                    Rasmussen College - Overland Park\n",
       "7588    National Personal Training Institute of Cleveland\n",
       "7589    Bay Area Medical Academy - San Jose Satellite ...\n",
       "7590                          High Desert Medical College\n",
       "7591                          Vantage College-San Antonio\n",
       "7592    American Institute of Pharmaceutical Technolog...\n",
       "Name: INSTNM, dtype: object"
      ]
     },
     "execution_count": 10,
     "metadata": {},
     "output_type": "execute_result"
    }
   ],
   "source": [
    "df.INSTNM"
   ]
  },
  {
   "cell_type": "code",
   "execution_count": 27,
   "metadata": {
    "collapsed": false
   },
   "outputs": [
    {
     "data": {
      "text/plain": [
       "7431"
      ]
     },
     "execution_count": 27,
     "metadata": {},
     "output_type": "execute_result"
    }
   ],
   "source": [
    "len(df.INSTNM.unique())"
   ]
  },
  {
   "cell_type": "markdown",
   "metadata": {},
   "source": [
    "There are totally 7593 entries and 7431 unique institutions. So there exists either duplicates or missing values."
   ]
  },
  {
   "cell_type": "code",
   "execution_count": 20,
   "metadata": {
    "collapsed": false
   },
   "outputs": [
    {
     "data": {
      "text/plain": [
       "0"
      ]
     },
     "execution_count": 20,
     "metadata": {},
     "output_type": "execute_result"
    }
   ],
   "source": [
    "df.INSTNM.isnull().sum()"
   ]
  },
  {
   "cell_type": "markdown",
   "metadata": {},
   "source": [
    "There is no missing value in INSTNM, so there must be duplicated values in insitution names. "
   ]
  },
  {
   "cell_type": "markdown",
   "metadata": {},
   "source": [
    "#### 2. CITY city name"
   ]
  },
  {
   "cell_type": "code",
   "execution_count": 33,
   "metadata": {
    "collapsed": false
   },
   "outputs": [
    {
     "data": {
      "text/plain": [
       "0                 Normal\n",
       "1             Birmingham\n",
       "2             Montgomery\n",
       "3             Huntsville\n",
       "4             Montgomery\n",
       "5             Tuscaloosa\n",
       "6         Alexander City\n",
       "7                 Athens\n",
       "8             Montgomery\n",
       "9                 Auburn\n",
       "10            Birmingham\n",
       "11           Phenix City\n",
       "12                 Selma\n",
       "13            Montgomery\n",
       "14            Enterprise\n",
       "15           Bay Minette\n",
       "16            Montgomery\n",
       "17               Gadsden\n",
       "18           Albertville\n",
       "19                Dothan\n",
       "20            Hanceville\n",
       "21                 Selma\n",
       "22            Birmingham\n",
       "23            Montgomery\n",
       "24              Florence\n",
       "25            Huntsville\n",
       "26          Jacksonville\n",
       "27               Brewton\n",
       "28            Birmingham\n",
       "29                Tanner\n",
       "              ...       \n",
       "7563              Morrow\n",
       "7564             Roswell\n",
       "7565        Douglasville\n",
       "7566            Lithonia\n",
       "7567            Savannah\n",
       "7568             Augusta\n",
       "7569            Columbus\n",
       "7570            Columbia\n",
       "7571    North Charleston\n",
       "7572              Irving\n",
       "7573             Houston\n",
       "7574             Houston\n",
       "7575               Plano\n",
       "7576          Cedar Hill\n",
       "7577              Dallas\n",
       "7578         San Antonio\n",
       "7579            Stafford\n",
       "7580             Fremont\n",
       "7581              Newark\n",
       "7582         New Orleans\n",
       "7583              Merced\n",
       "7584             El Paso\n",
       "7585              Austin\n",
       "7586          Emeryville\n",
       "7587       Overland Park\n",
       "7588    Highland Heights\n",
       "7589            San Jose\n",
       "7590           Lancaster\n",
       "7591         San Antonio\n",
       "7592              Newark\n",
       "Name: CITY, dtype: object"
      ]
     },
     "execution_count": 33,
     "metadata": {},
     "output_type": "execute_result"
    }
   ],
   "source": [
    "df.CITY"
   ]
  },
  {
   "cell_type": "code",
   "execution_count": 32,
   "metadata": {
    "collapsed": false
   },
   "outputs": [
    {
     "data": {
      "text/plain": [
       "2525"
      ]
     },
     "execution_count": 32,
     "metadata": {},
     "output_type": "execute_result"
    }
   ],
   "source": [
    "len(df.CITY.unique())"
   ]
  },
  {
   "cell_type": "markdown",
   "metadata": {},
   "source": [
    "It makes sense that the number of unique cities is much smaller than number of unique institutions. On average, each city has approximately three institutions."
   ]
  },
  {
   "cell_type": "markdown",
   "metadata": {},
   "source": [
    "#### 3. STABBR state postcode"
   ]
  },
  {
   "cell_type": "code",
   "execution_count": 132,
   "metadata": {
    "collapsed": false
   },
   "outputs": [
    {
     "data": {
      "text/plain": [
       "['AK',\n",
       " 'AL',\n",
       " 'AR',\n",
       " 'AS',\n",
       " 'AZ',\n",
       " 'CA',\n",
       " 'CO',\n",
       " 'CT',\n",
       " 'DC',\n",
       " 'DE',\n",
       " 'FL',\n",
       " 'FM',\n",
       " 'GA',\n",
       " 'GU',\n",
       " 'HI',\n",
       " 'IA',\n",
       " 'ID',\n",
       " 'IL',\n",
       " 'IN',\n",
       " 'KS',\n",
       " 'KY',\n",
       " 'LA',\n",
       " 'MA',\n",
       " 'MD',\n",
       " 'ME',\n",
       " 'MH',\n",
       " 'MI',\n",
       " 'MN',\n",
       " 'MO',\n",
       " 'MP',\n",
       " 'MS',\n",
       " 'MT',\n",
       " 'NC',\n",
       " 'ND',\n",
       " 'NE',\n",
       " 'NH',\n",
       " 'NJ',\n",
       " 'NM',\n",
       " 'NV',\n",
       " 'NY',\n",
       " 'OH',\n",
       " 'OK',\n",
       " 'OR',\n",
       " 'PA',\n",
       " 'PR',\n",
       " 'PW',\n",
       " 'RI',\n",
       " 'SC',\n",
       " 'SD',\n",
       " 'TN',\n",
       " 'TX',\n",
       " 'UT',\n",
       " 'VA',\n",
       " 'VI',\n",
       " 'VT',\n",
       " 'WA',\n",
       " 'WI',\n",
       " 'WV',\n",
       " 'WY']"
      ]
     },
     "execution_count": 132,
     "metadata": {},
     "output_type": "execute_result"
    }
   ],
   "source": [
    "sorted(df.STABBR.unique())"
   ]
  },
  {
   "cell_type": "code",
   "execution_count": 134,
   "metadata": {
    "collapsed": false
   },
   "outputs": [
    {
     "data": {
      "text/plain": [
       "59"
      ]
     },
     "execution_count": 134,
     "metadata": {},
     "output_type": "execute_result"
    }
   ],
   "source": [
    "len(df.STABBR.unique())"
   ]
  },
  {
   "cell_type": "markdown",
   "metadata": {},
   "source": [
    "There are totally 59 states! \n",
    "Accodring to wikipedia: The United States of America is a federal republic consisting of 50 states, a federal district (Washington, D.C., the capital city of the United States), five major territories, and various minor islands. Let's compare the list of states with official states of usa. Ref: https://en.wikipedia.org/wiki/List_of_states_and_territories_of_the_United_States\n",
    "The 59 states here includes 50 states, DC, 5 inhabited territories ('AS', 'GU', 'MP', 'PR', 'VI') and three unknown territories ('MH','PW','FM')"
   ]
  },
  {
   "cell_type": "markdown",
   "metadata": {},
   "source": [
    "#### 4. ZIP zip code"
   ]
  },
  {
   "cell_type": "code",
   "execution_count": 135,
   "metadata": {
    "collapsed": false
   },
   "outputs": [
    {
     "data": {
      "text/plain": [
       "6571"
      ]
     },
     "execution_count": 135,
     "metadata": {},
     "output_type": "execute_result"
    }
   ],
   "source": [
    "# zip code\n",
    "len(df.ZIP.unique())"
   ]
  },
  {
   "cell_type": "markdown",
   "metadata": {},
   "source": [
    "#### 5. ACCREDAGENCY accreditor of agency"
   ]
  },
  {
   "cell_type": "code",
   "execution_count": 41,
   "metadata": {
    "collapsed": false
   },
   "outputs": [
    {
     "data": {
      "text/plain": [
       "array(['Southern Association of Colleges and Schools Commission on Colleges',\n",
       "       'National Accrediting Commission of Career Arts and Sciences',\n",
       "       'North Central Association of Colleges and Schools The Higher Learning Commission',\n",
       "       'Association for Bibical Higher Educaiton', nan,\n",
       "       'Council on Occupational Education',\n",
       "       'Northwest Commission on Colleges and Universities',\n",
       "       'Accrediting Council for Independent Colleges and Schools',\n",
       "       'Accrediting Commission of Career Schools and Colleges',\n",
       "       'Western Association of Schools and Colleges Accrediting Commission for Community and Junior Colleges',\n",
       "       'Accrediting Council for Continuing Education & Training',\n",
       "       'Accrediting Bureau of Health Education Schools',\n",
       "       'Transnational Association of Christian Colleges and Schools',\n",
       "       'Western Association of Schools and Colleges Senior Colleges and University Commission',\n",
       "       'Accrediting Commission for Acupuncture and Oriental Medicine',\n",
       "       'Middle States Commission on Higher Education',\n",
       "       'Commission on Accrediting of the Association of Theological Schools',\n",
       "       'American Bar Association',\n",
       "       'National Association of Schools of Theatre',\n",
       "       'New England Association of Schools and Colleges Commission on Institutions of Higher Education',\n",
       "       'National Association of Schools of Music',\n",
       "       'Association of Advanced Rabbinical and Talmudic Schools',\n",
       "       'Commission on Massage Therapy Accreditation',\n",
       "       'Accreditation Commission for Education in Nursing',\n",
       "       'Joint Review Committee on Education in Radiologic Technology',\n",
       "       'American Board of Funeral Service Education Committee on Accreditation',\n",
       "       'National Association of Schools of Arts and Design',\n",
       "       'National Association of Schools of Dance',\n",
       "       'New York State Board of Regents and the Commissioner of Education',\n",
       "       'New York State Board of Regents State Education Department Office of the Professions (Public Postsecondary Vocational Education Practical Nursing)',\n",
       "       'American Podiatric Medical Association',\n",
       "       'Association of Institutions of Jewish Studies',\n",
       "       'Oklahoma State Board of Career and Technology Education',\n",
       "       'American Osteopathic Association',\n",
       "       'Pennsylvania State Board of Vocational Education',\n",
       "       'Middle States Commission on Secondary Education',\n",
       "       'Montessori Accreditation Council for Teacher Education',\n",
       "       'Distance Education Accrediting Commission',\n",
       "       'Midwifery Education Accreditation Council'], dtype=object)"
      ]
     },
     "execution_count": 41,
     "metadata": {},
     "output_type": "execute_result"
    }
   ],
   "source": [
    "df.ACCREDAGENCY.unique()"
   ]
  },
  {
   "cell_type": "code",
   "execution_count": 42,
   "metadata": {
    "collapsed": false
   },
   "outputs": [
    {
     "data": {
      "text/plain": [
       "39"
      ]
     },
     "execution_count": 42,
     "metadata": {},
     "output_type": "execute_result"
    }
   ],
   "source": [
    "len(df.ACCREDAGENCY.unique())"
   ]
  },
  {
   "cell_type": "markdown",
   "metadata": {},
   "source": [
    "There are only 39 unique accreditor for institution. Maybe we can cluster these institutions via accreditors later on."
   ]
  },
  {
   "cell_type": "markdown",
   "metadata": {},
   "source": [
    "#### 6. SCH_DEG Predominant degree awarded (recoded 0s and 4s)"
   ]
  },
  {
   "cell_type": "code",
   "execution_count": 45,
   "metadata": {
    "collapsed": false
   },
   "outputs": [
    {
     "data": {
      "text/plain": [
       "7593"
      ]
     },
     "execution_count": 45,
     "metadata": {},
     "output_type": "execute_result"
    }
   ],
   "source": [
    "df.SCH_DEG.isnull().sum()"
   ]
  },
  {
   "cell_type": "code",
   "execution_count": 136,
   "metadata": {
    "collapsed": false
   },
   "outputs": [],
   "source": [
    "# This is a useless column, let's drop it\n",
    "df = df.drop('SCH_DEG', axis = 1)"
   ]
  },
  {
   "cell_type": "markdown",
   "metadata": {},
   "source": [
    "#### 7. NUMBRANCH Number of branch campuses"
   ]
  },
  {
   "cell_type": "code",
   "execution_count": 48,
   "metadata": {
    "collapsed": false
   },
   "outputs": [
    {
     "data": {
      "text/plain": [
       "<matplotlib.axes._subplots.AxesSubplot at 0x1f19dd7ada0>"
      ]
     },
     "execution_count": 48,
     "metadata": {},
     "output_type": "execute_result"
    },
    {
     "data": {
      "image/png": "[encoded data removed]",
      "text/plain": [
       "<matplotlib.figure.Figure at 0x1f1a1f67198>"
      ]
     },
     "metadata": {},
     "output_type": "display_data"
    }
   ],
   "source": [
    "df.NUMBRANCH.hist(bins = 20)"
   ]
  },
  {
   "cell_type": "markdown",
   "metadata": {},
   "source": [
    "#### 8. PREDDEG:Predominant undergraduate degree awarded\n",
    " 0 Not classified\n",
    " 1 Predominantly certificate-degree granting\n",
    " 2 Predominantly associate's-degree granting\n",
    " 3 Predominantly bachelor's-degree granting\n",
    " 4 Entirely graduate-degree granting"
   ]
  },
  {
   "cell_type": "code",
   "execution_count": 56,
   "metadata": {
    "collapsed": false
   },
   "outputs": [
    {
     "data": {
      "text/plain": [
       "1    3261\n",
       "3    2109\n",
       "2    1476\n",
       "0     446\n",
       "4     301\n",
       "Name: PREDDEG, dtype: int64"
      ]
     },
     "execution_count": 56,
     "metadata": {},
     "output_type": "execute_result"
    }
   ],
   "source": [
    "df.PREDDEG.value_counts()"
   ]
  },
  {
   "cell_type": "code",
   "execution_count": 50,
   "metadata": {
    "collapsed": false
   },
   "outputs": [
    {
     "data": {
      "text/plain": [
       "<matplotlib.axes._subplots.AxesSubplot at 0x1f19dc8bef0>"
      ]
     },
     "execution_count": 50,
     "metadata": {},
     "output_type": "execute_result"
    },
    {
     "data": {
      "image/png": "[encoded data removed]",
      "text/plain": [
       "<matplotlib.figure.Figure at 0x1f19dc76c50>"
      ]
     },
     "metadata": {},
     "output_type": "display_data"
    }
   ],
   "source": [
    "df.PREDDEG.hist()"
   ]
  },
  {
   "cell_type": "markdown",
   "metadata": {},
   "source": [
    "Most institutions award certificate-degree/associate's degree'/bachelor's degree. Few only grant entirely graduate-degree or not classified. Let's check some example of the later one."
   ]
  },
  {
   "cell_type": "code",
   "execution_count": 57,
   "metadata": {
    "collapsed": false
   },
   "outputs": [
    {
     "data": {
      "text/plain": [
       "93              Frank Lloyd Wright School of Architecture\n",
       "191        Academy of Chinese Culture and Health Sciences\n",
       "197                 American Baptist Seminary of the West\n",
       "198                  American Film Institute Conservatory\n",
       "217                          Phillips Graduate University\n",
       "222      University of California-Hastings College of Law\n",
       "246                University of California-San Francisco\n",
       "256                      California Western School of Law\n",
       "275                 Church Divinity School of the Pacific\n",
       "279                         Claremont Graduate University\n",
       "287                 Western University of Health Sciences\n",
       "304             Dominican School of Philosophy & Theology\n",
       "308     Emperor's College of Traditional Oriental Medi...\n",
       "316                          Fielding Graduate University\n",
       "317                              Five Branches University\n",
       "320                         Franciscan School of Theology\n",
       "324             Fuller Theological Seminary in California\n",
       "332                            Graduate Theological Union\n",
       "339                           Pacifica Graduate Institute\n",
       "362                        Life Chiropractic College West\n",
       "429                 Pacific Lutheran Theological Seminary\n",
       "431                            Pacific School of Religion\n",
       "447                           Pardee RAND Graduate School\n",
       "457                        Dongguk University-Los Angeles\n",
       "471                    San Francisco Theological Seminary\n",
       "473                            San Joaquin College of Law\n",
       "486                                   Saybrook University\n",
       "494                                    Trinity Law School\n",
       "508                    Starr King School for the Ministry\n",
       "509                         Marshall B Ketchum University\n",
       "                              ...                        \n",
       "6018                         Vermont College of Fine Arts\n",
       "6054                     The Commonwealth Medical College\n",
       "6096               Academy for Jewish Religion-California\n",
       "6171                                   Pinchot University\n",
       "6229            Virginia Tech Carilion School of Medicine\n",
       "6242                  Southern California University SOMA\n",
       "6284                          Touro University California\n",
       "6285    The Chicago School of Professional Psychology ...\n",
       "6357                 Northwest Institute of Literary Arts\n",
       "6369                               Oxford Graduate School\n",
       "6370        Jung Tao School of Classical Chinese Medicine\n",
       "6399                       Shepherds Theological Seminary\n",
       "6449    Institute for Doctoral Studies in the Visual Arts\n",
       "6497       South University-Accelerated Graduate Programs\n",
       "6554                   Relay Graduate School of Education\n",
       "6578      Rocky Mountain University of Health Professions\n",
       "6580                                 Christie's Education\n",
       "6713                                  Savannah Law School\n",
       "6731                               Rocky Vista University\n",
       "6749                   Future Generations Graduate School\n",
       "6753                        Sotheby's Institute of Art-NY\n",
       "6915                                   IGlobal University\n",
       "6933              Alabama College of Osteopathic Medicine\n",
       "7009    National American University-Harold D. Bucking...\n",
       "7017          High Tech High Graduate School of Education\n",
       "7027    University of Texas Health Science Center at T...\n",
       "7067                             Presidio Graduate School\n",
       "7069    Wright Graduate University for the Realization...\n",
       "7111    The Chicago School of Professional Psychology ...\n",
       "7143          California Institute of Advanced Management\n",
       "Name: INSTNM, dtype: object"
      ]
     },
     "execution_count": 57,
     "metadata": {},
     "output_type": "execute_result"
    }
   ],
   "source": [
    "df[df.PREDDEG == 4].INSTNM"
   ]
  },
  {
   "cell_type": "markdown",
   "metadata": {},
   "source": [
    "Good, I see some familiar names here, for example, University of California-San Francisco, Oxford Graduate School, High Tech High Graduate School of Education, \n",
    "University of Texas Health Science Center at Texas. They only have award graduate degrees. (It's always good to work in a field you are familiar with!!)."
   ]
  },
  {
   "cell_type": "code",
   "execution_count": 58,
   "metadata": {
    "collapsed": false
   },
   "outputs": [
    {
     "data": {
      "text/plain": [
       "7147                   Troy University-Phenix City Campus\n",
       "7148                    Troy University-Montgomery Campus\n",
       "7149                        Troy University-Dothan Campus\n",
       "7150                               Troy University-Online\n",
       "7151                    Troy University-Support Locations\n",
       "7152        Arkansas College of Barbering and Hair Design\n",
       "7153    Arkansas College of Barbering & Hair Design - ...\n",
       "7154                           Harding School of Theology\n",
       "7155         Career Academy of Hair Design-Siloam Springs\n",
       "7156                 Career Academy of Hair Design-Rogers\n",
       "7157           Career Academy of Hair Design-Fayetteville\n",
       "7158                           Academy of Salon and Spa -\n",
       "7159    University of Arkansas Community College at Ho...\n",
       "7160                             Bryan University - Tempe\n",
       "7161              Alliant International University-Fresno\n",
       "7162         Alliant International University-Los Angeles\n",
       "7163       Alliant International University-San Francisco\n",
       "7164              Alliant International University-Irvine\n",
       "7165          Alliant International University-Sacramento\n",
       "7166                     Casa Loma College-Anaheim Campus\n",
       "7167                      Marinello School of Beauty-Bell\n",
       "7168          Marinello School of Beauty-City of Industry\n",
       "7169                 Marinello School of Beauty-Paramount\n",
       "7170          Marinello School of Beauty-Huntington Beach\n",
       "7171                    Marinello School of Beauty-Layton\n",
       "7172                     Marinello School of Beauty-Ogden\n",
       "7173                  Marinello School of Beauty-Murrieta\n",
       "7174                      Marinello School of Beauty-Napa\n",
       "7175                   Marinello School of Beauty-Seaside\n",
       "7176                 Marinello School of Beauty-San Mateo\n",
       "                              ...                        \n",
       "7563                     Strayer University-Morrow Campus\n",
       "7564                    Strayer University-Roswell Campus\n",
       "7565               Strayer University-Douglasville Campus\n",
       "7566                   Strayer University-Lithonia Campus\n",
       "7567                   Strayer University-Savannah Campus\n",
       "7568                    Strayer University-Augusta Campus\n",
       "7569                          Strayer University-Columbus\n",
       "7570                   Strayer University-Columbia Campus\n",
       "7571                 Strayer University-Charleston Campus\n",
       "7572                            Strayer University-Irving\n",
       "7573                              Strayer University-Katy\n",
       "7574                 Strayer University-Northwest Houston\n",
       "7575                             Strayer University-Plano\n",
       "7576                        Strayer University-Cedar Hill\n",
       "7577                      Strayer University-North Dallas\n",
       "7578                       Strayer University-San Antonio\n",
       "7579                          Strayer University-Stafford\n",
       "7580                                       Unitek College\n",
       "7581          Relay Graduate School of Education - Newark\n",
       "7582     Relay Graduate School of Education - New Orleans\n",
       "7583                             WestMed College - Merced\n",
       "7584                                      Vantage College\n",
       "7585                                      Vantage College\n",
       "7586            SAE Institute of Technology San Francisco\n",
       "7587                    Rasmussen College - Overland Park\n",
       "7588    National Personal Training Institute of Cleveland\n",
       "7589    Bay Area Medical Academy - San Jose Satellite ...\n",
       "7590                          High Desert Medical College\n",
       "7591                          Vantage College-San Antonio\n",
       "7592    American Institute of Pharmaceutical Technolog...\n",
       "Name: INSTNM, dtype: object"
      ]
     },
     "execution_count": 58,
     "metadata": {},
     "output_type": "execute_result"
    }
   ],
   "source": [
    "df[df.PREDDEG == 0].INSTNM"
   ]
  },
  {
   "cell_type": "markdown",
   "metadata": {},
   "source": [
    "Institutions award non-classified degrees are most likely community college? or technical schools?"
   ]
  },
  {
   "cell_type": "markdown",
   "metadata": {},
   "source": [
    "#### 9. HIGHDEG: Highest degree awarded\n",
    " 0 Non-degree-granting\n",
    " 1 Certificate degree\n",
    " 2 Associate degree\n",
    " 3 Bachelor's degree\n",
    " 4 Graduate degree"
   ]
  },
  {
   "cell_type": "code",
   "execution_count": 59,
   "metadata": {
    "collapsed": false
   },
   "outputs": [
    {
     "data": {
      "text/plain": [
       "1    2530\n",
       "4    2040\n",
       "2    1624\n",
       "3     928\n",
       "0     471\n",
       "Name: HIGHDEG, dtype: int64"
      ]
     },
     "execution_count": 59,
     "metadata": {},
     "output_type": "execute_result"
    }
   ],
   "source": [
    "df.HIGHDEG.value_counts()"
   ]
  },
  {
   "cell_type": "code",
   "execution_count": 60,
   "metadata": {
    "collapsed": false
   },
   "outputs": [
    {
     "data": {
      "text/plain": [
       "<matplotlib.axes._subplots.AxesSubplot at 0x1f19ddd1160>"
      ]
     },
     "execution_count": 60,
     "metadata": {},
     "output_type": "execute_result"
    },
    {
     "data": {
      "image/png": "[encoded data removed]",
      "text/plain": [
       "<matplotlib.figure.Figure at 0x1f19dd0b470>"
      ]
     },
     "metadata": {},
     "output_type": "display_data"
    }
   ],
   "source": [
    "df.HIGHDEG.hist()"
   ]
  },
  {
   "cell_type": "markdown",
   "metadata": {},
   "source": [
    "Notice: this distribution is different from that of PREDDEG. Let's keep both features for future analysis for now."
   ]
  },
  {
   "cell_type": "markdown",
   "metadata": {},
   "source": [
    "#### 10. Control of institution: 1 Public, 2 Private nonprofit, 3 Private for-profit"
   ]
  },
  {
   "cell_type": "code",
   "execution_count": 137,
   "metadata": {
    "collapsed": false
   },
   "outputs": [
    {
     "data": {
      "text/plain": [
       "3    3523\n",
       "1    2063\n",
       "2    2007\n",
       "Name: CONTROL, dtype: int64"
      ]
     },
     "execution_count": 137,
     "metadata": {},
     "output_type": "execute_result"
    }
   ],
   "source": [
    "df.CONTROL.value_counts()"
   ]
  },
  {
   "cell_type": "code",
   "execution_count": 63,
   "metadata": {
    "collapsed": false
   },
   "outputs": [
    {
     "data": {
      "text/plain": [
       "<matplotlib.axes._subplots.AxesSubplot at 0x1f19df38198>"
      ]
     },
     "execution_count": 63,
     "metadata": {},
     "output_type": "execute_result"
    },
    {
     "data": {
      "image/png": "[encoded data removed]",
      "text/plain": [
       "<matplotlib.figure.Figure at 0x1f19df1b748>"
      ]
     },
     "metadata": {},
     "output_type": "display_data"
    }
   ],
   "source": [
    "df.CONTROL.hist()"
   ]
  },
  {
   "cell_type": "markdown",
   "metadata": {},
   "source": [
    "#### 11. REGION\n",
    "10 School regions:\n",
    "\n",
    "0 U.S. Service Schools\n",
    "\n",
    "1 New England (CT, ME, MA, NH, RI, VT)\n",
    "\n",
    "2 Mid East (DE, DC, MD, NJ, NY, PA)\n",
    "\n",
    "3 Great Lakes (IL, IN, MI, OH, WI)\n",
    "\n",
    "4 Plains (IA, KS, MN, MO, NE, ND, SD)\n",
    "\n",
    "5 Southeast (AL, AR, FL, GA, KY, LA, MS, NC, SC, TN, VA, WV)\n",
    "\n",
    "6 Southwest (AZ, NM, OK, TX)\n",
    "\n",
    "7 Rocky Mountains (CO, ID, MT, UT, WY)\n",
    "\n",
    "8 Far West (AK, CA, HI, NV, OR, WA)\n",
    "\n",
    "9 Outlying Areas (AS, FM, GU, MH, MP, PR, PW, VI)"
   ]
  },
  {
   "cell_type": "code",
   "execution_count": 64,
   "metadata": {
    "collapsed": false
   },
   "outputs": [
    {
     "data": {
      "text/plain": [
       "5    1872\n",
       "2    1177\n",
       "3    1139\n",
       "8    1069\n",
       "6     814\n",
       "4     646\n",
       "1     427\n",
       "7     289\n",
       "9     159\n",
       "0       1\n",
       "Name: REGION, dtype: int64"
      ]
     },
     "execution_count": 64,
     "metadata": {},
     "output_type": "execute_result"
    }
   ],
   "source": [
    "df.REGION.value_counts()"
   ]
  },
  {
   "cell_type": "code",
   "execution_count": 65,
   "metadata": {
    "collapsed": false
   },
   "outputs": [
    {
     "data": {
      "text/plain": [
       "<matplotlib.axes._subplots.AxesSubplot at 0x1f19df602e8>"
      ]
     },
     "execution_count": 65,
     "metadata": {},
     "output_type": "execute_result"
    },
    {
     "data": {
      "image/png": "[encoded data removed]",
      "text/plain": [
       "<matplotlib.figure.Figure at 0x1f19df9a390>"
      ]
     },
     "metadata": {},
     "output_type": "display_data"
    }
   ],
   "source": [
    "df.REGION.hist()"
   ]
  },
  {
   "cell_type": "markdown",
   "metadata": {},
   "source": [
    "#### 12 LOCALE\n",
    "5 Southeast (AL, AR, FL, GA, KY, LA, MS, NC, SC, TN, VA, WV) region has the most institutions while 7 Rocky Mountains (CO, ID, MT, UT, WY)\n",
    "has the least amount of institutions. This agrees with our intutition!\n",
    "I wonder how is number of institutions related to the population distribution? -- worth checking"
   ]
  },
  {
   "cell_type": "markdown",
   "metadata": {},
   "source": [
    "#### LOCALE: locale of institution\n",
    "11 City: Large (population of 250,000 or more)  \n",
    "12 City: Midsize (population of at least 100,000 but less than 250,000)  \n",
    "13 City: Small (population less than 100,000)\n",
    "\n",
    "21 Suburb: Large (outside principal city, in urbanized area with population of 250,000 or more)\n",
    "\n",
    "22 Suburb: Midsize (outside principal city, in urbanized area with population of at least 100,000 but less than 250,000)\n",
    "\n",
    "23 Suburb: Small (outside principal city, in urbanized area with population less than 100,000)\n",
    "\n",
    "31 Town: Fringe (in urban cluster up to 10 miles from an urbanized area)\n",
    "\n",
    "32 Town: Distant (in urban cluster more than 10 miles and up to 35 miles from an urbanized area)\n",
    "\n",
    "33 Town: Remote (in urban cluster more than 35 miles from an urbanized area)\n",
    "\n",
    "41 Rural: Fringe (rural territory up to 5 miles from an urbanized area or up to 2.5 miles from an urban cluster)\n",
    "\n",
    "42 Rural: Distant (rural territory more than 5 miles but up to 25 miles from an urbanized area or more than 2.5 and up to 10 miles from an urban \n",
    "\n",
    "43 Rural: Remote (rural territory more than 25 miles from an urbanized area and more than 10 miles from an urban cluster)"
   ]
  },
  {
   "cell_type": "code",
   "execution_count": 67,
   "metadata": {
    "collapsed": false
   },
   "outputs": [
    {
     "data": {
      "text/plain": [
       " 21.0    1881\n",
       " 11.0    1636\n",
       " 13.0     968\n",
       " 12.0     845\n",
       " 32.0     451\n",
       " 41.0     380\n",
       " 33.0     338\n",
       " 22.0     205\n",
       " 23.0     137\n",
       " 31.0     122\n",
       " 42.0     120\n",
       " 43.0      61\n",
       "-3.0        3\n",
       "Name: LOCALE, dtype: int64"
      ]
     },
     "execution_count": 67,
     "metadata": {},
     "output_type": "execute_result"
    }
   ],
   "source": [
    "df.LOCALE.value_counts()"
   ]
  },
  {
   "cell_type": "code",
   "execution_count": 72,
   "metadata": {
    "collapsed": false
   },
   "outputs": [
    {
     "data": {
      "text/plain": [
       "446"
      ]
     },
     "execution_count": 72,
     "metadata": {},
     "output_type": "execute_result"
    }
   ],
   "source": [
    "df.LOCALE.isnull().sum()"
   ]
  },
  {
   "cell_type": "markdown",
   "metadata": {},
   "source": [
    "There are too many categories. Let's map these values into city, suburb, town, rural."
   ]
  },
  {
   "cell_type": "code",
   "execution_count": 88,
   "metadata": {
    "collapsed": false
   },
   "outputs": [],
   "source": [
    "df.NEWLOCALE = df.LOCALE.map({11:0,12:0, 13:0, 21:1,22:1, 23:1, 31:2, 32:2, 33:2, 41:3, 42:3, 43:3, -3:4})"
   ]
  },
  {
   "cell_type": "code",
   "execution_count": 92,
   "metadata": {
    "collapsed": false
   },
   "outputs": [],
   "source": [
    "df.NEWLOCALE = df.NEWLOCALE.fillna(4)"
   ]
  },
  {
   "cell_type": "code",
   "execution_count": 93,
   "metadata": {
    "collapsed": false
   },
   "outputs": [
    {
     "data": {
      "text/plain": [
       "0.0    3449\n",
       "1.0    2223\n",
       "2.0     911\n",
       "3.0     561\n",
       "4.0     449\n",
       "Name: LOCALE, dtype: int64"
      ]
     },
     "execution_count": 93,
     "metadata": {},
     "output_type": "execute_result"
    }
   ],
   "source": [
    "df.NEWLOCALE.value_counts()"
   ]
  },
  {
   "cell_type": "code",
   "execution_count": 96,
   "metadata": {
    "collapsed": false
   },
   "outputs": [
    {
     "data": {
      "text/plain": [
       "<matplotlib.axes._subplots.AxesSubplot at 0x1f19f8a7860>"
      ]
     },
     "execution_count": 96,
     "metadata": {},
     "output_type": "execute_result"
    },
    {
     "data": {
      "image/png": "[encoded data removed]",
      "text/plain": [
       "<matplotlib.figure.Figure at 0x1f1a7d7bdd8>"
      ]
     },
     "metadata": {},
     "output_type": "display_data"
    }
   ],
   "source": [
    "df.NEWLOCALE.hist()"
   ]
  },
  {
   "cell_type": "markdown",
   "metadata": {},
   "source": [
    "#### 13. LOCALE2: Degree of urbanization of institution"
   ]
  },
  {
   "cell_type": "code",
   "execution_count": 100,
   "metadata": {
    "collapsed": false
   },
   "outputs": [
    {
     "data": {
      "text/plain": [
       "Series([], Name: LOCALE2, dtype: int64)"
      ]
     },
     "execution_count": 100,
     "metadata": {},
     "output_type": "execute_result"
    }
   ],
   "source": [
    "df.LOCALE2.value_counts()"
   ]
  },
  {
   "cell_type": "code",
   "execution_count": 102,
   "metadata": {
    "collapsed": false
   },
   "outputs": [],
   "source": [
    "df = df.drop('LOCALE2', axis = 1)"
   ]
  },
  {
   "cell_type": "code",
   "execution_count": 107,
   "metadata": {
    "collapsed": false
   },
   "outputs": [
    {
     "data": {
      "text/plain": [
       "<matplotlib.collections.PathCollection at 0x1f1baae3128>"
      ]
     },
     "execution_count": 107,
     "metadata": {},
     "output_type": "execute_result"
    },
    {
     "data": {
      "image/png": "[encoded data removed]",
      "text/plain": [
       "<matplotlib.figure.Figure at 0x1f1bbee4710>"
      ]
     },
     "metadata": {},
     "output_type": "display_data"
    }
   ],
   "source": [
    "plt.scatter(df.LATITUDE, df.LONGITUDE)"
   ]
  },
  {
   "cell_type": "code",
   "execution_count": 123,
   "metadata": {
    "collapsed": false
   },
   "outputs": [
    {
     "data": {
      "text/plain": [
       "<matplotlib.collections.PathCollection at 0x1f19f9d39e8>"
      ]
     },
     "execution_count": 123,
     "metadata": {},
     "output_type": "execute_result"
    },
    {
     "data": {
      "image/png": "[encoded data removed]",
      "text/plain": [
       "<matplotlib.figure.Figure at 0x1f19f953518>"
      ]
     },
     "metadata": {},
     "output_type": "display_data"
    }
   ],
   "source": [
    "plt.scatter(df[df.LATITUDE < df.LATITUDE.quantile(0.90)].LATITUDE, df[df.LATITUDE < df.LATITUDE.quantile(0.90)].LONGITUDE)"
   ]
  },
  {
   "cell_type": "markdown",
   "metadata": {},
   "source": [
    "#### 14. CCBASIC Carnegie Classification -- basic"
   ]
  },
  {
   "cell_type": "code",
   "execution_count": 124,
   "metadata": {
    "collapsed": false
   },
   "outputs": [
    {
     "data": {
      "text/plain": [
       "array([ 18.,  15.,  21.,  16.,   2.,  22.,  23.,   5.,   3.,  -3.,  24.,\n",
       "         1.,   7.,  19.,  10.,  20.,  32.,  29.,  30.,  28.,  33.,   6.,\n",
       "        17.,  25.,  11.,  13.,   4.,  26.,   9.,  31.,   8.,  12.,  14.,\n",
       "        27.,  nan])"
      ]
     },
     "execution_count": 124,
     "metadata": {},
     "output_type": "execute_result"
    }
   ],
   "source": [
    "df.CCBASIC.unique()"
   ]
  },
  {
   "cell_type": "code",
   "execution_count": 126,
   "metadata": {
    "collapsed": false
   },
   "outputs": [
    {
     "data": {
      "text/plain": [
       "446"
      ]
     },
     "execution_count": 126,
     "metadata": {},
     "output_type": "execute_result"
    }
   ],
   "source": [
    "df.CCBASIC.isnull().sum()"
   ]
  },
  {
   "cell_type": "markdown",
   "metadata": {},
   "source": [
    "Along with -3, totally 449 meaningless values, similar as LOCALE"
   ]
  },
  {
   "cell_type": "markdown",
   "metadata": {},
   "source": [
    "#### 15.CCUGPROF Carnegie Classification -- undergraduate profile"
   ]
  },
  {
   "cell_type": "code",
   "execution_count": 127,
   "metadata": {
    "collapsed": false
   },
   "outputs": [
    {
     "data": {
      "text/plain": [
       "array([ 10.,   9.,   5.,  14.,   2.,  15.,  11.,   7.,  -2.,  13.,   1.,\n",
       "         3.,   4.,  12.,   0.,   6.,   8.,  nan])"
      ]
     },
     "execution_count": 127,
     "metadata": {},
     "output_type": "execute_result"
    }
   ],
   "source": [
    "df.CCUGPROF.unique()"
   ]
  },
  {
   "cell_type": "code",
   "execution_count": 128,
   "metadata": {
    "collapsed": false
   },
   "outputs": [
    {
     "data": {
      "text/plain": [
       "446"
      ]
     },
     "execution_count": 128,
     "metadata": {},
     "output_type": "execute_result"
    }
   ],
   "source": [
    "df.CCUGPROF.isnull().sum()"
   ]
  },
  {
   "cell_type": "markdown",
   "metadata": {},
   "source": [
    "#### 16.CCSIZSET Carnegie Classification -- size and setting"
   ]
  },
  {
   "cell_type": "code",
   "execution_count": 129,
   "metadata": {
    "collapsed": false
   },
   "outputs": [
    {
     "data": {
      "text/plain": [
       "array([ 13.,  15.,   6.,  12.,  16.,   2.,   9.,  11.,   8.,   3.,  10.,\n",
       "        -2.,   7.,   4.,   1.,  14.,  18.,   5.,  17.,  nan])"
      ]
     },
     "execution_count": 129,
     "metadata": {},
     "output_type": "execute_result"
    }
   ],
   "source": [
    "df.CCSIZSET.unique()"
   ]
  },
  {
   "cell_type": "code",
   "execution_count": 130,
   "metadata": {
    "collapsed": false
   },
   "outputs": [
    {
     "data": {
      "text/plain": [
       "446"
      ]
     },
     "execution_count": 130,
     "metadata": {},
     "output_type": "execute_result"
    }
   ],
   "source": [
    "df.CCSIZSET.isnull().sum()"
   ]
  },
  {
   "cell_type": "markdown",
   "metadata": {},
   "source": [
    "Multiple of the above columns (CCBASIC, CCUGPROF, CCSIZSET)have 446 missing values. Do they come from the same entries?"
   ]
  },
  {
   "cell_type": "code",
   "execution_count": 140,
   "metadata": {
    "collapsed": false
   },
   "outputs": [
    {
     "data": {
      "text/plain": [
       "446"
      ]
     },
     "execution_count": 140,
     "metadata": {},
     "output_type": "execute_result"
    }
   ],
   "source": [
    "df[df.CCBASIC.isnull() == True].CCUGPROF.isnull().sum()"
   ]
  },
  {
   "cell_type": "code",
   "execution_count": 141,
   "metadata": {
    "collapsed": false
   },
   "outputs": [
    {
     "data": {
      "text/plain": [
       "446"
      ]
     },
     "execution_count": 141,
     "metadata": {},
     "output_type": "execute_result"
    }
   ],
   "source": [
    "df[df.CCBASIC.isnull() == True].CCSIZSET.isnull().sum()"
   ]
  },
  {
   "cell_type": "markdown",
   "metadata": {},
   "source": [
    "Yes, these missing values all come from the same entry! May consider batch delete them later."
   ]
  },
  {
   "cell_type": "markdown",
   "metadata": {},
   "source": [
    "We don't care about flags. Jump to row 210' in CollegeScorecardDataDictionary.xlsx"
   ]
  },
  {
   "cell_type": "markdown",
   "metadata": {},
   "source": [
    "#### 17. RELAFFIL Religous affiliation of the institution"
   ]
  },
  {
   "cell_type": "code",
   "execution_count": 142,
   "metadata": {
    "collapsed": false
   },
   "outputs": [
    {
     "data": {
      "text/plain": [
       "array([  nan,   74.,   71.,   68.,   54.,   55.,   75.,   95.,   30.,\n",
       "         66.,   76.,   88.,   27.,   52.,   51.,   99.,   39.,   41.,\n",
       "         61.,   73.,   43.,   78.,   80.,   79.,   42.,   48.,   59.,\n",
       "         34.,   93.,   89.,   38.,   57.,   97.,   47.,   94.,   58.,\n",
       "         64.,   37.,   87.,   65.,   69.,   28.,   84.,  105.,   67.,\n",
       "         49.,   35.,   91.,   33.,  102.,   50.,   92.,   24.,  100.,\n",
       "         44.,   36.,   81.,   45.,   60.,   22.,  103.])"
      ]
     },
     "execution_count": 142,
     "metadata": {},
     "output_type": "execute_result"
    }
   ],
   "source": [
    "df.RELAFFIL.unique()"
   ]
  },
  {
   "cell_type": "code",
   "execution_count": 143,
   "metadata": {
    "collapsed": false
   },
   "outputs": [
    {
     "data": {
      "text/plain": [
       "6684"
      ]
     },
     "execution_count": 143,
     "metadata": {},
     "output_type": "execute_result"
    }
   ],
   "source": [
    "df.RELAFFIL.isnull().sum()"
   ]
  },
  {
   "cell_type": "code",
   "execution_count": 144,
   "metadata": {
    "collapsed": false
   },
   "outputs": [
    {
     "data": {
      "text/plain": [
       "61"
      ]
     },
     "execution_count": 144,
     "metadata": {},
     "output_type": "execute_result"
    }
   ],
   "source": [
    "len(df.RELAFFIL.unique())"
   ]
  },
  {
   "cell_type": "markdown",
   "metadata": {},
   "source": [
    "There are 61 religious affiliations of these institutions. A majority of the institutions are not affiliated to religion.\n",
    "How does religous affilication impact the institutions?"
   ]
  },
  {
   "cell_type": "markdown",
   "metadata": {},
   "source": [
    "#### 18.ADM_RATE Admission rate"
   ]
  },
  {
   "cell_type": "code",
   "execution_count": 150,
   "metadata": {
    "collapsed": false
   },
   "outputs": [
    {
     "data": {
      "text/plain": [
       "<matplotlib.axes._subplots.AxesSubplot at 0x1f1b886d048>"
      ]
     },
     "execution_count": 150,
     "metadata": {},
     "output_type": "execute_result"
    },
    {
     "data": {
      "image/png": "[encoded data removed]",
      "text/plain": [
       "<matplotlib.figure.Figure at 0x1f1b8879c50>"
      ]
     },
     "metadata": {},
     "output_type": "display_data"
    }
   ],
   "source": [
    "# Kernel Density Estimate plot\n",
    "df.ADM_RATE.plot.density()"
   ]
  },
  {
   "cell_type": "code",
   "execution_count": 151,
   "metadata": {
    "collapsed": false
   },
   "outputs": [
    {
     "data": {
      "text/plain": [
       "count    2171.000000\n",
       "mean        0.690306\n",
       "std         0.207118\n",
       "min         0.000000\n",
       "25%         0.563100\n",
       "50%         0.713400\n",
       "75%         0.845900\n",
       "max         1.000000\n",
       "Name: ADM_RATE, dtype: float64"
      ]
     },
     "execution_count": 151,
     "metadata": {},
     "output_type": "execute_result"
    }
   ],
   "source": [
    "df.ADM_RATE.describe()"
   ]
  },
  {
   "cell_type": "markdown",
   "metadata": {},
   "source": [
    "Only 2171 (~30%) of all institutions reported admission rate. Mean admission rate among these 2171 entries are 69.0%."
   ]
  },
  {
   "cell_type": "markdown",
   "metadata": {},
   "source": [
    "#### 19. SATVR(critical reading), SATMT(math), SATWR(writing)\n",
    "\n",
    "Percentile of SAT scores: 25, 75, MID"
   ]
  },
  {
   "cell_type": "code",
   "execution_count": 152,
   "metadata": {
    "collapsed": false
   },
   "outputs": [
    {
     "data": {
      "text/plain": [
       "count    1193.000000\n",
       "mean      467.054484\n",
       "std        70.369885\n",
       "min       292.000000\n",
       "25%       420.000000\n",
       "50%       455.000000\n",
       "75%       500.000000\n",
       "max       730.000000\n",
       "Name: SATVR25, dtype: float64"
      ]
     },
     "execution_count": 152,
     "metadata": {},
     "output_type": "execute_result"
    }
   ],
   "source": [
    "df.SATVR25.describe()"
   ]
  },
  {
   "cell_type": "code",
   "execution_count": 153,
   "metadata": {
    "collapsed": false
   },
   "outputs": [
    {
     "data": {
      "text/plain": [
       "<matplotlib.axes._subplots.AxesSubplot at 0x1f19f98de80>"
      ]
     },
     "execution_count": 153,
     "metadata": {},
     "output_type": "execute_result"
    },
    {
     "data": {
      "image/png": "[encoded data removed]",
      "text/plain": [
       "<matplotlib.figure.Figure at 0x1f1b886dcf8>"
      ]
     },
     "metadata": {},
     "output_type": "display_data"
    }
   ],
   "source": [
    "df.SATVR25.plot.density()"
   ]
  },
  {
   "cell_type": "code",
   "execution_count": 154,
   "metadata": {
    "collapsed": false
   },
   "outputs": [
    {
     "data": {
      "text/plain": [
       "count    1193.000000\n",
       "mean      576.158424\n",
       "std        71.506694\n",
       "min       378.000000\n",
       "25%       530.000000\n",
       "50%       570.000000\n",
       "75%       620.000000\n",
       "max       800.000000\n",
       "Name: SATVR75, dtype: float64"
      ]
     },
     "execution_count": 154,
     "metadata": {},
     "output_type": "execute_result"
    }
   ],
   "source": [
    "df.SATVR75.describe()"
   ]
  },
  {
   "cell_type": "code",
   "execution_count": 155,
   "metadata": {
    "collapsed": false
   },
   "outputs": [
    {
     "data": {
      "text/plain": [
       "<matplotlib.axes._subplots.AxesSubplot at 0x1f1b9d2ec50>"
      ]
     },
     "execution_count": 155,
     "metadata": {},
     "output_type": "execute_result"
    },
    {
     "data": {
      "image/png": "[encoded data removed]",
      "text/plain": [
       "<matplotlib.figure.Figure at 0x1f1ba1afc88>"
      ]
     },
     "metadata": {},
     "output_type": "display_data"
    }
   ],
   "source": [
    "df.SATVR75.plot.density()"
   ]
  },
  {
   "cell_type": "code",
   "execution_count": 156,
   "metadata": {
    "collapsed": false
   },
   "outputs": [
    {
     "data": {
      "text/plain": [
       "count    1193.000000\n",
       "mean      521.647108\n",
       "std        69.596057\n",
       "min       342.000000\n",
       "25%       475.000000\n",
       "50%       510.000000\n",
       "75%       560.000000\n",
       "max       765.000000\n",
       "Name: SATVRMID, dtype: float64"
      ]
     },
     "execution_count": 156,
     "metadata": {},
     "output_type": "execute_result"
    }
   ],
   "source": [
    "df.SATVRMID.describe()"
   ]
  },
  {
   "cell_type": "code",
   "execution_count": 157,
   "metadata": {
    "collapsed": false
   },
   "outputs": [
    {
     "data": {
      "text/plain": [
       "<matplotlib.axes._subplots.AxesSubplot at 0x1f1ba19db70>"
      ]
     },
     "execution_count": 157,
     "metadata": {},
     "output_type": "execute_result"
    },
    {
     "data": {
      "image/png": "[encoded data removed]",
      "text/plain": [
       "<matplotlib.figure.Figure at 0x1f1ba191400>"
      ]
     },
     "metadata": {},
     "output_type": "display_data"
    }
   ],
   "source": [
    "df.SATVRMID.plot.density()"
   ]
  },
  {
   "cell_type": "code",
   "execution_count": 158,
   "metadata": {
    "collapsed": false
   },
   "outputs": [
    {
     "data": {
      "text/plain": [
       "count    1202.000000\n",
       "mean      473.731281\n",
       "std        74.699978\n",
       "min       245.000000\n",
       "25%       430.000000\n",
       "50%       460.000000\n",
       "75%       500.000000\n",
       "max       770.000000\n",
       "Name: SATMT25, dtype: float64"
      ]
     },
     "execution_count": 158,
     "metadata": {},
     "output_type": "execute_result"
    }
   ],
   "source": [
    "df.SATMT25.describe()"
   ]
  },
  {
   "cell_type": "code",
   "execution_count": 159,
   "metadata": {
    "collapsed": false
   },
   "outputs": [
    {
     "data": {
      "text/plain": [
       "<matplotlib.axes._subplots.AxesSubplot at 0x1f1ba274278>"
      ]
     },
     "execution_count": 159,
     "metadata": {},
     "output_type": "execute_result"
    },
    {
     "data": {
      "image/png": "[encoded data removed]",
      "text/plain": [
       "<matplotlib.figure.Figure at 0x1f1ba27ca58>"
      ]
     },
     "metadata": {},
     "output_type": "display_data"
    }
   ],
   "source": [
    "df.SATMT25.plot.density()"
   ]
  },
  {
   "cell_type": "code",
   "execution_count": 160,
   "metadata": {
    "collapsed": false
   },
   "outputs": [
    {
     "data": {
      "text/plain": [
       "count    1202.000000\n",
       "mean      582.511647\n",
       "std        75.076926\n",
       "min       380.000000\n",
       "25%       530.000000\n",
       "50%       570.000000\n",
       "75%       620.000000\n",
       "max       800.000000\n",
       "Name: SATMT75, dtype: float64"
      ]
     },
     "execution_count": 160,
     "metadata": {},
     "output_type": "execute_result"
    }
   ],
   "source": [
    "df.SATMT75.describe()"
   ]
  },
  {
   "cell_type": "code",
   "execution_count": 161,
   "metadata": {
    "collapsed": false
   },
   "outputs": [
    {
     "data": {
      "text/plain": [
       "<matplotlib.axes._subplots.AxesSubplot at 0x1f1ba2629b0>"
      ]
     },
     "execution_count": 161,
     "metadata": {},
     "output_type": "execute_result"
    },
    {
     "data": {
      "image/png": "[encoded data removed]",
      "text/plain": [
       "<matplotlib.figure.Figure at 0x1f1ba2566d8>"
      ]
     },
     "metadata": {},
     "output_type": "display_data"
    }
   ],
   "source": [
    "df.SATMT75.plot.density()"
   ]
  },
  {
   "cell_type": "code",
   "execution_count": 162,
   "metadata": {
    "collapsed": false
   },
   "outputs": [
    {
     "data": {
      "text/plain": [
       "count    1202.000000\n",
       "mean      528.163894\n",
       "std        73.541113\n",
       "min       355.000000\n",
       "25%       480.000000\n",
       "50%       515.000000\n",
       "75%       560.000000\n",
       "max       785.000000\n",
       "Name: SATMTMID, dtype: float64"
      ]
     },
     "execution_count": 162,
     "metadata": {},
     "output_type": "execute_result"
    }
   ],
   "source": [
    "df.SATMTMID.describe()"
   ]
  },
  {
   "cell_type": "code",
   "execution_count": 163,
   "metadata": {
    "collapsed": false
   },
   "outputs": [
    {
     "data": {
      "text/plain": [
       "<matplotlib.axes._subplots.AxesSubplot at 0x1f1ba2daf60>"
      ]
     },
     "execution_count": 163,
     "metadata": {},
     "output_type": "execute_result"
    },
    {
     "data": {
      "image/png": "[encoded data removed]",
      "text/plain": [
       "<matplotlib.figure.Figure at 0x1f1ba347cc0>"
      ]
     },
     "metadata": {},
     "output_type": "display_data"
    }
   ],
   "source": [
    "df.SATMTMID.plot.density()"
   ]
  },
  {
   "cell_type": "code",
   "execution_count": 164,
   "metadata": {
    "collapsed": false
   },
   "outputs": [
    {
     "data": {
      "text/plain": [
       "count    733.000000\n",
       "mean     462.278308\n",
       "std       82.036304\n",
       "min      200.000000\n",
       "25%      410.000000\n",
       "50%      440.000000\n",
       "75%      495.000000\n",
       "max      730.000000\n",
       "Name: SATWR25, dtype: float64"
      ]
     },
     "execution_count": 164,
     "metadata": {},
     "output_type": "execute_result"
    }
   ],
   "source": [
    "df.SATWR25.describe()"
   ]
  },
  {
   "cell_type": "code",
   "execution_count": 165,
   "metadata": {
    "collapsed": false
   },
   "outputs": [
    {
     "data": {
      "text/plain": [
       "<matplotlib.axes._subplots.AxesSubplot at 0x1f1ba2c6be0>"
      ]
     },
     "execution_count": 165,
     "metadata": {},
     "output_type": "execute_result"
    },
    {
     "data": {
      "image/png": "[encoded data removed]",
      "text/plain": [
       "<matplotlib.figure.Figure at 0x1f1ba3b4588>"
      ]
     },
     "metadata": {},
     "output_type": "display_data"
    }
   ],
   "source": [
    "df.SATWR25.plot.density()"
   ]
  },
  {
   "cell_type": "code",
   "execution_count": 166,
   "metadata": {
    "collapsed": false
   },
   "outputs": [
    {
     "data": {
      "text/plain": [
       "count    733.000000\n",
       "mean     568.582538\n",
       "std       80.695036\n",
       "min      360.000000\n",
       "25%      518.000000\n",
       "50%      550.000000\n",
       "75%      610.000000\n",
       "max      800.000000\n",
       "Name: SATWR75, dtype: float64"
      ]
     },
     "execution_count": 166,
     "metadata": {},
     "output_type": "execute_result"
    }
   ],
   "source": [
    "df.SATWR75.describe()"
   ]
  },
  {
   "cell_type": "code",
   "execution_count": 167,
   "metadata": {
    "collapsed": false
   },
   "outputs": [
    {
     "data": {
      "text/plain": [
       "<matplotlib.axes._subplots.AxesSubplot at 0x1f1ba37b320>"
      ]
     },
     "execution_count": 167,
     "metadata": {},
     "output_type": "execute_result"
    },
    {
     "data": {
      "image/png": "[encoded data removed]",
      "text/plain": [
       "<matplotlib.figure.Figure at 0x1f1ba3a00f0>"
      ]
     },
     "metadata": {},
     "output_type": "display_data"
    }
   ],
   "source": [
    "df.SATWR75.plot.density()"
   ]
  },
  {
   "cell_type": "code",
   "execution_count": 168,
   "metadata": {
    "collapsed": false
   },
   "outputs": [
    {
     "data": {
      "text/plain": [
       "<matplotlib.axes._subplots.AxesSubplot at 0x1f1ba32a630>"
      ]
     },
     "execution_count": 168,
     "metadata": {},
     "output_type": "execute_result"
    },
    {
     "data": {
      "image/png": "[encoded data removed]",
      "text/plain": [
       "<matplotlib.figure.Figure at 0x1f1ba485240>"
      ]
     },
     "metadata": {},
     "output_type": "display_data"
    }
   ],
   "source": [
    "df.SATWRMID.plot.density()"
   ]
  },
  {
   "cell_type": "markdown",
   "metadata": {},
   "source": [
    "These plots all look very similar. Is there any way to make them in the same graph ??? Well, I hate matplotlib now..."
   ]
  },
  {
   "cell_type": "code",
   "execution_count": null,
   "metadata": {
    "collapsed": true
   },
   "outputs": [],
   "source": []
  }
 ],
 "metadata": {
  "kernelspec": {
   "display_name": "Python 3",
   "language": "python",
   "name": "python3"
  },
  "language_info": {
   "codemirror_mode": {
    "name": "ipython",
    "version": 3
   },
   "file_extension": ".py",
   "mimetype": "text/x-python",
   "name": "python",
   "nbconvert_exporter": "python",
   "pygments_lexer": "ipython3",
   "version": "3.5.2"
  }
 },
 "nbformat": 4,
 "nbformat_minor": 0
}
