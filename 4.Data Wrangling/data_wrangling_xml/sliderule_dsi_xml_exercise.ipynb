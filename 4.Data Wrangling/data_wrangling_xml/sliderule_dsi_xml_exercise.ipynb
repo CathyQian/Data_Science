{
 "cells": [
  {
   "cell_type": "markdown",
   "metadata": {},
   "source": [
    "# XML example and exercise\n",
    "****\n",
    "+ study examples of accessing nodes in XML tree structure  \n",
    "+ work on exercise to be completed and submitted\n",
    "****\n",
    "+ reference: https://docs.python.org/2.7/library/xml.etree.elementtree.html\n",
    "+ data source: http://www.dbis.informatik.uni-goettingen.de/Mondial\n",
    "****"
   ]
  },
  {
   "cell_type": "code",
   "execution_count": 1,
   "metadata": {
    "collapsed": true
   },
   "outputs": [],
   "source": [
    "from xml.etree import ElementTree as ET"
   ]
  },
  {
   "cell_type": "markdown",
   "metadata": {},
   "source": [
    "## XML example\n",
    "\n",
    "+ for details about tree traversal and iterators, see https://docs.python.org/2.7/library/xml.etree.elementtree.html"
   ]
  },
  {
   "cell_type": "code",
   "execution_count": 3,
   "metadata": {
    "collapsed": false
   },
   "outputs": [
    {
     "name": "stdout",
     "output_type": "stream",
     "text": [
      "<Element 'mondial' at 0x000001F5DDBD7548>\n"
     ]
    }
   ],
   "source": [
    "document_tree = ET.parse( './data/mondial_database_less.xml' )\n",
    "root = document_tree.getroot()\n",
    "print(root)"
   ]
  },
  {
   "cell_type": "code",
   "execution_count": 5,
   "metadata": {
    "collapsed": false
   },
   "outputs": [
    {
     "name": "stdout",
     "output_type": "stream",
     "text": [
      "Albania\n",
      "Greece\n",
      "Macedonia\n",
      "Serbia\n",
      "Montenegro\n",
      "Kosovo\n",
      "Andorra\n"
     ]
    }
   ],
   "source": [
    "# print names of all countries\n",
    "for child in root:  # find root element\n",
    "    print(child.find('name').text) # print(child.tag)  find a specific single element in the document."
   ]
  },
  {
   "cell_type": "code",
   "execution_count": 6,
   "metadata": {
    "collapsed": false
   },
   "outputs": [
    {
     "name": "stdout",
     "output_type": "stream",
     "text": [
      "* Albania:\n",
      "Tirana, Shkodër, Durrës, Vlorë, Elbasan, Korçë\n",
      "* Greece:\n",
      "Komotini, Kavala, Athina, Peiraias, Peristeri, Acharnes, Patra, Kozani, Kerkyra, Ioannina, Thessaloniki, Iraklio, Chania, Ermoupoli, Rhodes, Tripoli, Lamia, Chalkida, Larissa, Volos, Mytilini, Karyes\n",
      "* Macedonia:\n",
      "Skopje, Kumanovo\n",
      "* Serbia:\n",
      "Beograd, Novi Sad, Niš\n",
      "* Montenegro:\n",
      "Podgorica\n",
      "* Kosovo:\n",
      "Prishtine\n",
      "* Andorra:\n",
      "Andorra la Vella\n"
     ]
    }
   ],
   "source": [
    "# print names of all countries and their cities\n",
    "for element in document_tree.iterfind('country'):\n",
    "    # Finds all matching subelements, by tag name or path. Returns an iterable\n",
    "    # yielding all matching elements in document order.\n",
    "    print('* ' + element.find('name').text + ':',)\n",
    "    capitals_string = ''\n",
    "    for subelement in element.iter('city'):\n",
    "        capitals_string += subelement.find('name').text + ', '\n",
    "    print(capitals_string[:-2])"
   ]
  },
  {
   "cell_type": "markdown",
   "metadata": {},
   "source": [
    "\n",
    "****\n",
    "## XML exercise\n",
    "\n",
    "Using data in 'data/mondial_database.xml', the examples above, and refering to https://docs.python.org/2.7/library/xml.etree.elementtree.html, find\n",
    "\n",
    "1. 10 countries with the lowest infant mortality rates\n",
    "2. 10 cities with the largest population\n",
    "3. 10 ethnic groups with the largest overall populations (sum of best/latest estimates over all countries)"
   ]
  },
  {
   "cell_type": "code",
   "execution_count": 8,
   "metadata": {
    "collapsed": true
   },
   "outputs": [],
   "source": [
    "document = ET.parse( './data/mondial_database.xml' )"
   ]
  },
  {
   "cell_type": "code",
   "execution_count": 9,
   "metadata": {
    "collapsed": false
   },
   "outputs": [
    {
     "name": "stdout",
     "output_type": "stream",
     "text": [
      "[('Western Sahara', 145.82), ('Afghanistan', 117.23), ('Mali', 104.34), ('Somalia', 100.14), ('Central African Republic', 92.86), ('Guinea-Bissau', 90.92), ('Chad', 90.3), ('Niger', 86.27), ('Angola', 79.99), ('Burkina Faso', 76.8)]\n"
     ]
    }
   ],
   "source": [
    "# 1. output 10 countries with the lowest infant mortality rates\n",
    "country_mortality = []\n",
    "for element in document.iterfind('country'): \n",
    "    temp = element.find('infant_mortality') # .find() returns a node (Element)\n",
    "    if temp is not None:\n",
    "        country_mortality.append((element.find('name').text, float(temp.text)))\n",
    "\n",
    "country_mortality.sort(key=lambda x: x[1], reverse = True)\n",
    "print(country_mortality[0:10])"
   ]
  },
  {
   "cell_type": "code",
   "execution_count": 12,
   "metadata": {
    "collapsed": false
   },
   "outputs": [
    {
     "name": "stdout",
     "output_type": "stream",
     "text": [
      "[('Shanghai', 22315474), ('Istanbul', 13710512), ('Mumbai', 12442373), ('Moskva', 11979529), ('Beijing', 11716620), ('São Paulo', 11152344), ('Tianjin', 11090314), ('Guangzhou', 11071424), ('Delhi', 11034555), ('Shenzhen', 10358381)]\n"
     ]
    }
   ],
   "source": [
    "# 1. 10 cities with the largest population listed in the xml file\n",
    "city_population = []\n",
    "for element in document.iterfind('country'):\n",
    "    for subelement in element.iter('city'):\n",
    "        pops = subelement.findall('population') \n",
    "        if pops:\n",
    "            city_population.append((subelement.find('name').text, int(pops[-1].text))) # use largest population on file\n",
    "                                   \n",
    "city_population.sort(key=lambda x: x[1], reverse = True)\n",
    "print(city_population[0:10])\n"
   ]
  },
  {
   "cell_type": "code",
   "execution_count": 13,
   "metadata": {
    "collapsed": false
   },
   "outputs": [
    {
     "name": "stdout",
     "output_type": "stream",
     "text": [
      "[('Mumbai', 12442373), ('Delhi', 11034555), ('Bangalore', 8443675), ('London', 8250205), ('Tehran', 8154051), ('Dhaka', 7423137), ('Hyderabad', 6731790), ('Ahmadabad', 5577940), ('Luanda', 5000000), ('Chennai', 4646732)]\n"
     ]
    }
   ],
   "source": [
    "# 2. 10 cities with the largest population in 2011, those without data is excluded.\n",
    "city_population = []\n",
    "for element in document.iterfind('country'):\n",
    "    for subelement in element.iter('city'):\n",
    "        pops = subelement.find(\"population[@year='2011']\")\n",
    "        # .findall() returns a list of nodes, or an empty list of none found\n",
    "        if pops is not None:\n",
    "            city_population.append((subelement.find('name').text, int(pops.text)))\n",
    "                                   \n",
    "city_population.sort(key=lambda x: x[1], reverse = True)\n",
    "print(city_population[0:10])\n"
   ]
  },
  {
   "cell_type": "code",
   "execution_count": 14,
   "metadata": {
    "collapsed": false,
    "scrolled": true
   },
   "outputs": [
    {
     "name": "stdout",
     "output_type": "stream",
     "text": [
      "[('Han Chinese', 1245058800), ('Indo-Aryan', 871815583), ('Dravidian', 302713744), ('European', 254958101), ('African', 162651570), ('Bengali', 146776916), ('Japanese', 126534212), ('Russian', 114646210), ('Javanese', 113456006), ('European', 108886717)]\n"
     ]
    }
   ],
   "source": [
    "# 3. 10 ethnic groups with the largest overall populations \n",
    "# (sum of best/latest estimates over all countries)\n",
    "ethinc_population = []\n",
    "for element in document.iter('country'):\n",
    "    pops = element.findall('ethnicgroup') \n",
    "    temp = element.findall('population') \n",
    "    # only calculating those with both country population and ethnicgroup\n",
    "    if pops and temp:\n",
    "        for i in range(len(pops)):\n",
    "            # only focus on the last population\n",
    "            ethinc_population.append((pops[i].text, int(int(temp[-1].text)*float(pops[i].get('percentage'))/100)))                                                    \n",
    "\n",
    "ethinc_population.sort(key=lambda x: x[1], reverse = True)\n",
    "print(ethinc_population[0:10])"
   ]
  }
 ],
 "metadata": {
  "kernelspec": {
   "display_name": "Python 3",
   "language": "python",
   "name": "python3"
  },
  "language_info": {
   "codemirror_mode": {
    "name": "ipython",
    "version": 3
   },
   "file_extension": ".py",
   "mimetype": "text/x-python",
   "name": "python",
   "nbconvert_exporter": "python",
   "pygments_lexer": "ipython3",
   "version": "3.5.2"
  }
 },
 "nbformat": 4,
 "nbformat_minor": 0
}
