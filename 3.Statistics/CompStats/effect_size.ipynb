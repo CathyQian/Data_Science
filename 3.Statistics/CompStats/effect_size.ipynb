{
 "cells": [
  {
   "cell_type": "markdown",
   "metadata": {},
   "source": [
    "Effect Size\n",
    "===\n",
    "\n",
    "Examples and exercises for a tutorial on statistical inference.\n",
    "\n",
    "Copyright 2016 Allen Downey\n",
    "\n",
    "License: [Creative Commons Attribution 4.0 International](http://creativecommons.org/licenses/by/4.0/)"
   ]
  },
  {
   "cell_type": "code",
   "execution_count": 1,
   "metadata": {
    "collapsed": false
   },
   "outputs": [],
   "source": [
    "from __future__ import print_function, division\n",
    "\n",
    "import numpy\n",
    "import scipy.stats\n",
    "\n",
    "import matplotlib.pyplot as pyplot\n",
    "\n",
    "from ipywidgets import interact, interactive, fixed\n",
    "import ipywidgets as widgets\n",
    "\n",
    "# seed the random number generator so we all get the same results\n",
    "numpy.random.seed(17)\n",
    "\n",
    "# some nice colors from http://colorbrewer2.org/\n",
    "COLOR1 = '#7fc97f'\n",
    "COLOR2 = '#beaed4'\n",
    "COLOR3 = '#fdc086'\n",
    "COLOR4 = '#ffff99'\n",
    "COLOR5 = '#386cb0'\n",
    "\n",
    "%matplotlib inline"
   ]
  },
  {
   "cell_type": "markdown",
   "metadata": {},
   "source": [
    "## Part One\n",
    "\n",
    "To explore statistics that quantify effect size, we'll look at the difference in height between men and women.  I used data from the Behavioral Risk Factor Surveillance System (BRFSS) to estimate the mean and standard deviation of height in cm for adult women and men in the U.S.\n",
    "\n",
    "I'll use `scipy.stats.norm` to represent the distributions.  The result is an `rv` object (which stands for random variable)."
   ]
  },
  {
   "cell_type": "code",
   "execution_count": 3,
   "metadata": {
    "collapsed": false
   },
   "outputs": [],
   "source": [
    "mu1, sig1 = 178, 7.7\n",
    "male_height = scipy.stats.norm(mu1, sig1) # A normal continuous random variable."
   ]
  },
  {
   "cell_type": "code",
   "execution_count": 4,
   "metadata": {
    "collapsed": false
   },
   "outputs": [],
   "source": [
    "mu2, sig2 = 163, 7.3\n",
    "female_height = scipy.stats.norm(mu2, sig2)"
   ]
  },
  {
   "cell_type": "markdown",
   "metadata": {},
   "source": [
    "The following function evaluates the normal (Gaussian) probability density function (PDF) within 4 standard deviations of the mean. It takes an rv object and returns a pair of NumPy arrays: xs, ys. xs is in range of (mean - num*std, mean + num*std), ys is the calculated normal probability density function."
   ]
  },
  {
   "cell_type": "code",
   "execution_count": 5,
   "metadata": {
    "collapsed": false
   },
   "outputs": [],
   "source": [
    "def eval_pdf(rv, num=4):\n",
    "    mean, std = rv.mean(), rv.std()\n",
    "    xs = numpy.linspace(mean - num*std, mean + num*std, 100)  # Return evenly spaced numbers over a specified interval.\n",
    "    ys = rv.pdf(xs)\n",
    "    return xs, ys"
   ]
  },
  {
   "cell_type": "markdown",
   "metadata": {},
   "source": [
    "Here's what the two distributions look like."
   ]
  },
  {
   "cell_type": "code",
   "execution_count": 6,
   "metadata": {
    "collapsed": false
   },
   "outputs": [
    {
     "data": {
      "image/png": "[encoded data removed]",
      "text/plain": [
       "<matplotlib.figure.Figure at 0x22277e20240>"
      ]
     },
     "metadata": {},
     "output_type": "display_data"
    }
   ],
   "source": [
    "xs, ys = eval_pdf(male_height)\n",
    "pyplot.plot(xs, ys, label='male', linewidth=4, color=COLOR2)\n",
    "\n",
    "xs, ys = eval_pdf(female_height)\n",
    "pyplot.plot(xs, ys, label='female', linewidth=4, color=COLOR3)\n",
    "pyplot.xlabel('height (cm)')\n",
    "None"
   ]
  },
  {
   "cell_type": "markdown",
   "metadata": {},
   "source": [
    "Let's assume for now that those are the true distributions for the population.\n",
    "\n",
    "I'll use `rvs` to generate random samples from the population distributions.  Note that these are totally random, totally representative samples, with no measurement error!"
   ]
  },
  {
   "cell_type": "code",
   "execution_count": 9,
   "metadata": {
    "collapsed": false
   },
   "outputs": [
    {
     "data": {
      "text/plain": [
       "array([ 179.57996935,  175.12925607,  183.0967431 ,  175.62812469,\n",
       "        179.17050736,  170.33154771,  174.75273709,  188.26118543,\n",
       "        180.25567915,  169.00391155,  162.79633243,  184.35616129,\n",
       "        171.8882574 ,  179.32488061,  171.1683655 ,  184.11709986,\n",
       "        180.3401781 ,  170.36650384,  175.78900517,  171.55461993,\n",
       "        175.73286002,  176.50646804,  178.61102649,  177.30432292,\n",
       "        194.56772638,  172.52563743,  173.25447076,  162.65528807,\n",
       "        175.089792  ,  183.03035079,  173.56779746,  183.39763639,\n",
       "        188.78301757,  184.69490373,  183.76618281,  184.16208044,\n",
       "        191.53397479,  183.15088271,  187.72077093,  183.24415116,\n",
       "        181.11789098,  170.96489787,  169.79503858,  172.8683644 ,\n",
       "        190.1233529 ,  172.83664755,  174.87786395,  180.04131239,\n",
       "        170.89234754,  163.28460781,  179.5385409 ,  188.76932698,\n",
       "        175.01837048,  167.43882081,  179.42756913,  161.35141323,\n",
       "        180.80849192,  170.98337887,  177.46198376,  189.99779092,\n",
       "        178.05378694,  178.36068154,  182.08448305,  190.05361299,\n",
       "        172.36015382,  182.4605225 ,  176.81188654,  168.39361902,\n",
       "        174.29799892,  168.05254756,  170.23123172,  174.15024161,\n",
       "        187.77997799,  173.25563585,  183.51707505,  185.12499144,\n",
       "        180.13651483,  176.60673763,  173.30057377,  183.29901857,\n",
       "        184.80105165,  176.57436655,  166.12219902,  179.98442626,\n",
       "        181.37058374,  176.29476975,  174.27994175,  179.80237767,\n",
       "        175.39541009,  171.63161383,  178.07385657,  179.1218345 ,\n",
       "        177.5774267 ,  184.98139717,  171.86423026,  169.59760263,\n",
       "        177.58318862,  197.69447978,  170.17515177,  185.7939001 ,\n",
       "        183.43314063,  164.32930872,  184.45677846,  178.04210944,\n",
       "        185.75422679,  171.811099  ,  186.35107482,  180.1104975 ,\n",
       "        185.02803964,  193.54531717,  181.64613574,  180.69994103,\n",
       "        193.68109025,  164.14998358,  186.46196632,  168.28705879,\n",
       "        187.81068111,  165.87716307,  158.16876153,  181.39505467,\n",
       "        167.54572763,  176.31282436,  171.78222665,  167.87949619,\n",
       "        176.22030382,  175.8789137 ,  165.05215489,  180.40603381,\n",
       "        180.69252181,  182.59355347,  177.8224499 ,  186.33354546,\n",
       "        186.02431951,  187.76117134,  186.11887422,  185.18939895,\n",
       "        176.42651782,  193.51517927,  179.34138632,  172.22646966,\n",
       "        165.21176869,  175.23022344,  185.17359013,  180.24575596,\n",
       "        166.61195735,  175.07636894,  187.07944647,  185.75598371,\n",
       "        175.02012993,  175.52320719,  189.71079237,  185.31343903,\n",
       "        170.49742568,  149.62118456,  169.63460358,  182.61538577,\n",
       "        171.53752442,  180.90104315,  176.09526319,  176.06385297,\n",
       "        174.04388748,  176.92550925,  178.06402645,  173.49915467,\n",
       "        167.96797525,  165.69730494,  183.25775787,  167.16586378,\n",
       "        167.85287251,  186.7022776 ,  182.40964656,  160.32327551,\n",
       "        165.63415745,  167.68787081,  174.49963502,  188.42362343,\n",
       "        184.12588935,  182.30218741,  181.79435471,  180.55543965,\n",
       "        186.94106574,  172.0956006 ,  187.5051682 ,  185.76723665,\n",
       "        178.93322876,  164.42376053,  184.0896725 ,  190.49235638,\n",
       "        181.96435233,  186.24075106,  201.11396195,  183.95089152,\n",
       "        173.01283245,  185.40871695,  169.15670017,  175.70136962,\n",
       "        169.04785548,  175.88013374,  174.84099708,  183.40673073,\n",
       "        175.76324654,  163.19023514,  165.87332329,  194.46331799,\n",
       "        185.63132874,  183.73052628,  184.19437926,  161.58961467,\n",
       "        176.92998913,  176.78438949,  172.90958789,  184.96992801,\n",
       "        179.01016242,  189.43927387,  178.5261907 ,  172.39736512,\n",
       "        178.45656577,  168.07638191,  207.0298701 ,  167.28345192,\n",
       "        171.52656647,  171.86413039,  193.17882486,  176.45076149,\n",
       "        179.72351101,  172.27422449,  184.52033462,  170.9207237 ,\n",
       "        173.67039943,  184.74933723,  179.57000089,  191.00205374,\n",
       "        180.9650325 ,  184.24703618,  183.5530847 ,  178.25799009,\n",
       "        180.90621467,  168.49016789,  184.16302737,  182.91295587,\n",
       "        193.60725296,  179.65266974,  171.95025065,  173.2453945 ,\n",
       "        184.2502989 ,  175.58716857,  178.55445133,  166.41443413,\n",
       "        172.32803052,  172.94585447,  169.08115352,  175.61674643,\n",
       "        176.99121518,  182.0966546 ,  168.17538761,  171.22871544,\n",
       "        177.25087538,  178.15662006,  171.91183936,  178.34520128,\n",
       "        178.11730865,  179.65224555,  177.02256568,  178.45443041,\n",
       "        182.63614067,  187.34222498,  181.62855105,  187.00979873,\n",
       "        178.08040019,  191.93838611,  168.49931463,  177.61846127,\n",
       "        184.0870605 ,  167.45743379,  159.60799518,  184.34988392,\n",
       "        186.7165411 ,  191.6328583 ,  196.76963476,  187.03473297,\n",
       "        175.1699694 ,  177.49803358,  185.74242406,  171.41933565,\n",
       "        174.48436905,  173.13314651,  178.17402388,  170.98033059,\n",
       "        175.0792431 ,  187.49748406,  188.26563942,  182.65002609,\n",
       "        186.4391934 ,  186.08440997,  191.77558555,  183.09252561,\n",
       "        167.9897326 ,  185.92190363,  173.93522538,  177.93974839,\n",
       "        173.11929069,  170.11302691,  183.97485405,  173.09108985,\n",
       "        192.15126375,  193.91842493,  174.80885029,  180.79036453,\n",
       "        180.82124818,  162.77317953,  181.94073348,  187.59528517,\n",
       "        186.29358948,  177.81419288,  173.86326848,  172.27701783,\n",
       "        175.25294047,  178.39326806,  167.9933114 ,  175.52680246,\n",
       "        172.71485064,  164.27090941,  178.27076367,  187.6197644 ,\n",
       "        180.0164106 ,  179.75592318,  176.55714854,  178.67584947,\n",
       "        172.07550151,  184.94493089,  181.01101993,  192.42275135,\n",
       "        158.06256453,  167.88206212,  168.53028699,  170.60227366,\n",
       "        183.63338466,  183.38284951,  178.53855586,  173.98348244,\n",
       "        174.60490735,  174.48788703,  170.48386113,  182.7059015 ,\n",
       "        193.88433097,  185.9761651 ,  190.75733427,  178.33138115,\n",
       "        168.61232568,  175.66175015,  175.64613641,  170.78414755,\n",
       "        182.62388251,  176.13191827,  172.71590185,  182.25094022,\n",
       "        170.07403284,  180.50854382,  183.18685013,  185.15454692,\n",
       "        187.8706169 ,  191.86020388,  177.1631523 ,  179.64803861,\n",
       "        175.32123607,  179.52395674,  181.40998878,  189.17821439,\n",
       "        189.26134225,  174.28943225,  171.65704403,  185.91100766,\n",
       "        168.14396564,  175.55181024,  193.94652215,  182.20193854,\n",
       "        173.27600745,  178.61382197,  176.55558738,  184.41682781,\n",
       "        169.55047892,  168.60380449,  182.25444382,  167.80314231,\n",
       "        172.8581042 ,  194.85098745,  175.70971226,  172.59222524,\n",
       "        169.51586976,  173.64337404,  172.43910546,  173.15648294,\n",
       "        184.35232858,  175.30192011,  167.78744342,  171.33010525,\n",
       "        180.32518919,  185.4623791 ,  171.27405871,  182.95673709,\n",
       "        183.96154054,  187.96295681,  176.06481244,  175.37530479,\n",
       "        181.17327302,  167.44290336,  180.45790987,  184.48900182,\n",
       "        172.33227241,  188.47708718,  167.52002707,  187.88781557,\n",
       "        174.79749555,  166.24513741,  171.02637058,  170.98746514,\n",
       "        184.70613502,  170.80804335,  180.85337209,  170.21054447,\n",
       "        183.16485579,  179.65925584,  191.87818868,  178.56553921,\n",
       "        188.78269211,  185.9405705 ,  190.38220894,  181.25999807,\n",
       "        174.4645336 ,  173.5940105 ,  171.86730281,  185.18364626,\n",
       "        171.02395124,  165.20130739,  174.03454164,  175.04251551,\n",
       "        170.32712086,  189.40640741,  166.62491275,  168.2331557 ,\n",
       "        161.05645725,  184.54340398,  192.6634457 ,  167.99838778,\n",
       "        173.97644045,  186.62963134,  182.58509077,  174.8748312 ,\n",
       "        175.12482826,  151.54721135,  197.4323575 ,  181.39212703,\n",
       "        183.66813186,  180.59795408,  190.49793063,  170.44180913,\n",
       "        179.77907967,  176.75059956,  173.6509703 ,  194.48984097,\n",
       "        173.97223872,  183.01313302,  189.8223834 ,  183.61409414,\n",
       "        181.89075518,  172.57222692,  185.5779531 ,  180.37496696,\n",
       "        182.32569505,  177.58781997,  173.94584605,  186.92043184,\n",
       "        180.76529648,  188.71580599,  183.38497616,  177.34901578,\n",
       "        185.58770762,  173.59753961,  191.21211802,  180.24462546,\n",
       "        178.3715822 ,  181.40860566,  190.46708803,  174.55395568,\n",
       "        193.0785838 ,  172.83400195,  171.3953319 ,  178.45099237,\n",
       "        170.19207029,  178.9209021 ,  182.02806276,  182.80815414,\n",
       "        169.58342167,  191.2557164 ,  182.84666361,  181.02098696,\n",
       "        177.28039042,  188.9354731 ,  177.81025771,  175.28023366,\n",
       "        171.3179339 ,  170.38476154,  181.64392694,  173.5169238 ,\n",
       "        190.71140063,  182.49450023,  172.63638256,  173.46413487,\n",
       "        182.99827173,  183.54501215,  178.00192801,  183.20133639,\n",
       "        170.14037789,  177.29903344,  167.24333137,  185.9389786 ,\n",
       "        175.60544972,  188.74731525,  173.27784181,  168.96483984,\n",
       "        181.222782  ,  175.7215635 ,  185.17031135,  187.62963541,\n",
       "        175.73589418,  190.01859082,  192.53817272,  175.33110668,\n",
       "        175.71166126,  171.8556709 ,  169.00849384,  173.49101893,\n",
       "        181.5073531 ,  179.06738143,  189.69380824,  178.17116734,\n",
       "        184.87181057,  175.74571223,  181.02161008,  173.34029075,\n",
       "        170.73136345,  161.29695739,  173.52641011,  167.48826622,\n",
       "        192.59968786,  180.67970414,  171.01376477,  187.02207172,\n",
       "        195.47504097,  177.64251483,  172.99915264,  184.37985837,\n",
       "        191.8873768 ,  180.87294151,  178.51239784,  175.35393043,\n",
       "        182.3468172 ,  181.38965016,  177.82549016,  173.56701502,\n",
       "        187.32389152,  171.92053983,  178.86450738,  184.66985722,\n",
       "        172.59150784,  184.50797884,  185.92722166,  180.33212073,\n",
       "        180.82805467,  171.99635499,  179.32088593,  165.96092964,\n",
       "        174.93701892,  177.89030348,  174.96107229,  187.35046512,\n",
       "        186.1009948 ,  179.44439305,  189.81301274,  166.15410168,\n",
       "        172.88368523,  181.47413317,  179.93306062,  167.41513067,\n",
       "        187.80750523,  177.19862408,  175.36225212,  179.04501045,\n",
       "        190.24325659,  176.4960155 ,  169.48556196,  170.4596695 ,\n",
       "        186.45023693,  177.50375545,  184.59278558,  169.70188868,\n",
       "        171.29336727,  177.43966776,  167.4207096 ,  161.58149635,\n",
       "        185.10432228,  184.81454905,  177.88833438,  175.43263546,\n",
       "        186.33983848,  189.21295821,  185.22414469,  189.9000215 ,\n",
       "        174.73026276,  181.68222725,  170.45030718,  162.31687797,\n",
       "        172.85643111,  180.36522496,  182.67614495,  179.61156029,\n",
       "        179.2929347 ,  171.07128488,  158.55878549,  170.30212831,\n",
       "        185.9111426 ,  186.37677671,  170.31445242,  187.43613708,\n",
       "        175.38441629,  185.83891729,  175.66936116,  189.03367728,\n",
       "        183.8808268 ,  183.2462381 ,  187.39154095,  176.94281733,\n",
       "        183.07486844,  184.86562609,  175.33424531,  184.6257857 ,\n",
       "        181.53578508,  180.84454835,  176.17473792,  182.28484887,\n",
       "        183.45785323,  174.36190229,  186.59288518,  170.38908468,\n",
       "        171.38414915,  181.59528493,  171.60863926,  174.97505203,\n",
       "        173.3345801 ,  189.6492898 ,  172.91573715,  171.64295257,\n",
       "        171.69887105,  191.81316673,  182.59376021,  181.78667043,\n",
       "        190.68787046,  179.90953875,  166.19830597,  179.57781227,\n",
       "        177.80354124,  195.85768139,  181.02473896,  176.03031114,\n",
       "        174.8224738 ,  175.6383238 ,  163.58358881,  175.12615039,\n",
       "        174.07552389,  164.07305161,  178.33393949,  180.22909026,\n",
       "        172.23881797,  181.10532726,  180.03748655,  174.4233214 ,\n",
       "        182.97092164,  160.47017726,  192.86487533,  180.11890195,\n",
       "        188.47907014,  189.62592484,  159.65280626,  184.54622507,\n",
       "        179.31196569,  175.0986678 ,  178.42099214,  176.73564485,\n",
       "        169.2168875 ,  186.85262019,  178.78692866,  193.39727566,\n",
       "        179.41884824,  163.16538227,  196.45074733,  173.16746356,\n",
       "        170.74329438,  177.49887847,  164.02419883,  199.05695427,\n",
       "        187.25499362,  175.58505237,  194.40866321,  169.9326428 ,\n",
       "        179.51417762,  177.2523109 ,  179.52294468,  172.91549126,\n",
       "        185.44931426,  171.19943289,  185.16496557,  186.09910794,\n",
       "        175.07596622,  171.44347739,  186.20676057,  154.5203008 ,\n",
       "        177.37068431,  172.43590587,  187.47035948,  174.8366212 ,\n",
       "        173.43200388,  166.93746804,  165.36618893,  186.26999225,\n",
       "        175.03993803,  181.28115939,  179.32748788,  186.5083377 ,\n",
       "        174.93843474,  175.84911927,  186.83808909,  167.2734086 ,\n",
       "        185.44737094,  188.2201397 ,  183.56017852,  178.83927586,\n",
       "        183.83734697,  182.46007213,  186.31065688,  183.17402556,\n",
       "        189.18559787,  174.93406607,  173.98983166,  170.57719089,\n",
       "        188.47917087,  182.48783376,  164.18056209,  179.13029799,\n",
       "        172.78512976,  174.6711334 ,  187.56661978,  185.12430619,\n",
       "        178.61802297,  170.4291293 ,  181.90372561,  190.93433919,\n",
       "        175.05314147,  196.58182902,  166.47891507,  189.95881318,\n",
       "        170.52634605,  174.24030532,  170.38463088,  188.46014795,\n",
       "        187.56788353,  169.82165922,  177.59595554,  177.99144952,\n",
       "        178.71660573,  183.78143185,  188.50548936,  176.59241674,\n",
       "        170.05493852,  188.98427523,  185.83290898,  177.52721438,\n",
       "        191.55742623,  186.12388619,  181.40759924,  186.58607635,\n",
       "        189.1396032 ,  177.80224052,  171.61805166,  181.40007786,\n",
       "        183.04023313,  179.19208541,  172.81020448,  170.91489318,\n",
       "        179.02820863,  185.04383874,  174.49778881,  187.02533352,\n",
       "        184.96222724,  173.76302747,  178.06786085,  181.20942703,\n",
       "        180.92424939,  183.10995325,  182.345756  ,  198.36301749,\n",
       "        183.5116901 ,  177.36134998,  169.30215763,  180.31334287,\n",
       "        170.87057778,  182.78192661,  189.34903437,  181.10860601,\n",
       "        184.72641597,  170.22044814,  180.73274302,  165.63384087,\n",
       "        181.79609935,  175.19973516,  191.8910952 ,  176.65204272,\n",
       "        171.84558294,  175.87990498,  177.75394087,  176.32635036,\n",
       "        186.28883175,  172.53702622,  178.78273058,  168.16600704,\n",
       "        174.05261897,  177.4043024 ,  168.1140822 ,  181.89230352,\n",
       "        176.13465861,  177.36019671,  173.28357588,  180.47480397,\n",
       "        181.75030673,  177.54357234,  172.19732993,  169.77712275,\n",
       "        178.94403368,  178.32289918,  165.28571127,  181.8814077 ,\n",
       "        189.14239377,  184.01722397,  176.56478979,  169.67085865,\n",
       "        176.62072652,  170.34347702,  194.26186068,  169.09797914,\n",
       "        178.34871103,  177.63606688,  183.43032756,  182.40856075,\n",
       "        170.92082329,  182.45593032,  168.67367929,  173.44897465,\n",
       "        192.72021322,  184.09156829,  179.95134744,  174.04432411,\n",
       "        170.98410965,  176.16509588,  180.63985491,  169.36608461,\n",
       "        177.06023003,  189.05465447,  180.38893056,  180.97949133,\n",
       "        185.73569571,  173.38525463,  171.96308936,  195.37807882,\n",
       "        162.63438989,  188.21892127,  179.42648021,  180.07651755,\n",
       "        186.92144144,  180.61998306,  176.70247117,  181.9119831 ,\n",
       "        178.6048661 ,  185.75785871,  189.04299721,  176.0302005 ,\n",
       "        168.47169252,  171.28578465,  188.74443662,  174.85718091,\n",
       "        173.47673995,  173.61511872,  179.55476268,  185.0182506 ,\n",
       "        174.7949606 ,  181.21555786,  167.03358568,  173.5575879 ,\n",
       "        165.65143751,  173.58814585,  180.15668199,  183.89968774,\n",
       "        172.36805458,  174.25180589,  177.50017464,  169.73410124,\n",
       "        179.60264291,  181.08746328,  176.74462008,  180.84477807,\n",
       "        187.85466256,  166.32289395,  167.39595996,  181.72498676,\n",
       "        165.85160763,  168.39701857,  187.22702259,  192.5217661 ,\n",
       "        174.23499495,  164.41281307,  175.94567649,  170.54409142,\n",
       "        183.44621778,  184.48332972,  188.36458706,  178.37092849,\n",
       "        189.65946717,  184.54754476,  180.02114413,  177.15220787,\n",
       "        175.40637356,  166.99151298,  174.54102899,  186.49212786,\n",
       "        173.36506902,  183.28144759,  182.19364425,  186.87449273,\n",
       "        180.22434996,  182.95792585,  162.56551559,  184.48263525,\n",
       "        177.40875974,  181.95637845,  180.76628678,  183.25493738,\n",
       "        183.87353477,  179.29224412,  182.43567276,  185.5885829 ,\n",
       "        179.69676903,  187.84854898,  178.15459841,  175.33577709,\n",
       "        174.63377243,  180.33532355,  179.86124813,  179.9614357 ,\n",
       "        159.55680811,  178.79867863,  171.45631388,  189.43843411,\n",
       "        173.61972674,  187.23695646,  182.19106797,  184.5937959 ,\n",
       "        189.35104658,  181.42556203,  171.52270949,  178.14276923,\n",
       "        189.56128669,  168.38901553,  173.83503698,  180.19390627,\n",
       "        170.4608862 ,  174.84269276,  181.56669114,  174.42595763,\n",
       "        190.65901937,  173.11437582,  173.10194192,  178.71846096,\n",
       "        163.54167996,  192.54147938,  169.07598763,  172.57611581,\n",
       "        178.36539649,  167.52301103,  183.16246215,  182.21868581,\n",
       "        181.43522401,  162.76436828,  188.03858899,  177.91440383,\n",
       "        179.9579833 ,  178.91692936,  191.22812843,  165.76342965,\n",
       "        190.69672034,  180.17861092,  166.52544435,  188.27003014])"
      ]
     },
     "execution_count": 9,
     "metadata": {},
     "output_type": "execute_result"
    }
   ],
   "source": [
    "male_sample = male_height.rvs(1000)"
   ]
  },
  {
   "cell_type": "code",
   "execution_count": 10,
   "metadata": {
    "collapsed": false
   },
   "outputs": [],
   "source": [
    "female_sample = female_height.rvs(1000)"
   ]
  },
  {
   "cell_type": "markdown",
   "metadata": {},
   "source": [
    "Both samples are NumPy arrays.  Now we can compute sample statistics like the mean and standard deviation."
   ]
  },
  {
   "cell_type": "code",
   "execution_count": 8,
   "metadata": {
    "collapsed": false
   },
   "outputs": [
    {
     "data": {
      "text/plain": [
       "(178.16511665818112, 7.8419961712899502)"
      ]
     },
     "execution_count": 8,
     "metadata": {},
     "output_type": "execute_result"
    }
   ],
   "source": [
    "mean1, std1 = male_sample.mean(), male_sample.std()\n",
    "mean1, std1"
   ]
  },
  {
   "cell_type": "markdown",
   "metadata": {},
   "source": [
    "The sample mean is close to the population mean, but not exact, as expected."
   ]
  },
  {
   "cell_type": "code",
   "execution_count": 11,
   "metadata": {
    "collapsed": false
   },
   "outputs": [
    {
     "data": {
      "text/plain": [
       "(162.715751233893, 7.0479868374385459)"
      ]
     },
     "execution_count": 11,
     "metadata": {},
     "output_type": "execute_result"
    }
   ],
   "source": [
    "mean2, std2 = female_sample.mean(), female_sample.std()\n",
    "mean2, std2"
   ]
  },
  {
   "cell_type": "markdown",
   "metadata": {},
   "source": [
    "And the results are similar for the female sample.\n",
    "\n",
    "Now, there are many ways to describe the magnitude of the difference between these distributions.  An obvious one is the difference in the means:"
   ]
  },
  {
   "cell_type": "code",
   "execution_count": 12,
   "metadata": {
    "collapsed": false
   },
   "outputs": [
    {
     "data": {
      "text/plain": [
       "15.796986773249131"
      ]
     },
     "execution_count": 12,
     "metadata": {},
     "output_type": "execute_result"
    }
   ],
   "source": [
    "difference_in_means = male_sample.mean() - female_sample.mean()\n",
    "difference_in_means # in cm"
   ]
  },
  {
   "cell_type": "markdown",
   "metadata": {},
   "source": [
    "On average, men are 14--15 centimeters taller.  For some applications, that would be a good way to describe the difference, but there are a few problems:\n",
    "\n",
    "* Without knowing more about the distributions (like the standard deviations) it's hard to interpret whether a difference like 15 cm is a lot or not.\n",
    "\n",
    "* The magnitude of the difference depends on the units of measure, making it hard to compare across different studies.\n",
    "\n",
    "There are a number of ways to quantify the difference between distributions.  A simple option is to express the difference as a percentage of the mean.\n",
    "\n",
    "**Exercise 1**: what is the relative difference in means, expressed as a percentage?"
   ]
  },
  {
   "cell_type": "code",
   "execution_count": 26,
   "metadata": {
    "collapsed": false
   },
   "outputs": [
    {
     "data": {
      "text/plain": [
       "'9.26%'"
      ]
     },
     "execution_count": 26,
     "metadata": {},
     "output_type": "execute_result"
    }
   ],
   "source": [
    "difference_in_percentage = difference_in_means/((male_sample.mean()+female_sample.mean())/2)\n",
    "'{}%'.format(round(difference_in_percentage*100, 2))"
   ]
  },
  {
   "cell_type": "markdown",
   "metadata": {},
   "source": [
    "**STOP HERE**: We'll regroup and discuss before you move on."
   ]
  },
  {
   "cell_type": "markdown",
   "metadata": {},
   "source": [
    "## Part Two\n",
    "\n",
    "An alternative way to express the difference between distributions is to see how much they overlap.  To define overlap, we choose a threshold between the two means.  The simple threshold is the midpoint between the means:"
   ]
  },
  {
   "cell_type": "code",
   "execution_count": 27,
   "metadata": {
    "collapsed": false
   },
   "outputs": [
    {
     "data": {
      "text/plain": [
       "170.44"
      ]
     },
     "execution_count": 27,
     "metadata": {},
     "output_type": "execute_result"
    }
   ],
   "source": [
    "simple_thresh = (mean1 + mean2) / 2\n",
    "round(simple_thresh,2)"
   ]
  },
  {
   "cell_type": "markdown",
   "metadata": {},
   "source": [
    "A better, but slightly more complicated threshold is the place where the PDFs cross."
   ]
  },
  {
   "cell_type": "code",
   "execution_count": 29,
   "metadata": {
    "collapsed": false
   },
   "outputs": [
    {
     "data": {
      "text/plain": [
       "170.03"
      ]
     },
     "execution_count": 29,
     "metadata": {},
     "output_type": "execute_result"
    }
   ],
   "source": [
    "thresh = (std1 * mean2 + std2 * mean1) / (std1 + std2)\n",
    "round(thresh, 2)"
   ]
  },
  {
   "cell_type": "markdown",
   "metadata": {},
   "source": [
    "In this example, there's not much difference between the two thresholds.\n",
    "\n",
    "Now we can count how many men are below the threshold:"
   ]
  },
  {
   "cell_type": "code",
   "execution_count": 30,
   "metadata": {
    "collapsed": false
   },
   "outputs": [
    {
     "data": {
      "text/plain": [
       "129"
      ]
     },
     "execution_count": 30,
     "metadata": {},
     "output_type": "execute_result"
    }
   ],
   "source": [
    "male_below_thresh = sum(male_sample < thresh)\n",
    "male_below_thresh"
   ]
  },
  {
   "cell_type": "markdown",
   "metadata": {},
   "source": [
    "And how many women are above it:"
   ]
  },
  {
   "cell_type": "code",
   "execution_count": 31,
   "metadata": {
    "collapsed": false
   },
   "outputs": [
    {
     "data": {
      "text/plain": [
       "150"
      ]
     },
     "execution_count": 31,
     "metadata": {},
     "output_type": "execute_result"
    }
   ],
   "source": [
    "female_above_thresh = sum(female_sample > thresh)\n",
    "female_above_thresh"
   ]
  },
  {
   "cell_type": "markdown",
   "metadata": {},
   "source": [
    "The \"overlap\" is the total area under the curves that ends up on the wrong side of the threshold."
   ]
  },
  {
   "cell_type": "code",
   "execution_count": 32,
   "metadata": {
    "collapsed": false
   },
   "outputs": [
    {
     "data": {
      "text/plain": [
       "0.27900000000000003"
      ]
     },
     "execution_count": 32,
     "metadata": {},
     "output_type": "execute_result"
    }
   ],
   "source": [
    "overlap = male_below_thresh / len(male_sample) + female_above_thresh / len(female_sample)\n",
    "overlap"
   ]
  },
  {
   "cell_type": "markdown",
   "metadata": {},
   "source": [
    "Or in more practical terms, you might report the fraction of people who would be misclassified if you tried to use height to guess sex:"
   ]
  },
  {
   "cell_type": "code",
   "execution_count": 33,
   "metadata": {
    "collapsed": false
   },
   "outputs": [
    {
     "data": {
      "text/plain": [
       "0.13950000000000001"
      ]
     },
     "execution_count": 33,
     "metadata": {},
     "output_type": "execute_result"
    }
   ],
   "source": [
    "misclassification_rate = overlap / 2\n",
    "misclassification_rate"
   ]
  },
  {
   "cell_type": "markdown",
   "metadata": {},
   "source": [
    "Another way to quantify the difference between distributions is what's called \"probability of superiority\", which is a problematic term, but in this context it's the probability that a randomly-chosen man is taller than a randomly-chosen woman.\n",
    "\n",
    "**Exercise 2**:  Suppose I choose a man and a woman at random.  What is the probability that the man is taller?"
   ]
  },
  {
   "cell_type": "code",
   "execution_count": 43,
   "metadata": {
    "collapsed": false
   },
   "outputs": [
    {
     "data": {
      "text/plain": [
       "0.93999999999999995"
      ]
     },
     "execution_count": 43,
     "metadata": {},
     "output_type": "execute_result"
    }
   ],
   "source": [
    "prob_sub = sum(x > y for x, y in zip(male_sample, female_sample)) /1000\n",
    "# zip:Make an iterator that aggregates elements from each of the iterables.\n",
    "prob_sub"
   ]
  },
  {
   "cell_type": "markdown",
   "metadata": {},
   "source": [
    "Overlap (or misclassification rate) and \"probability of superiority\" have two good properties:\n",
    "\n",
    "* As probabilities, they don't depend on units of measure, so they are comparable between studies.\n",
    "\n",
    "* They are expressed in operational terms, so a reader has a sense of what practical effect the difference makes.\n",
    "\n",
    "### Cohen's d\n",
    "\n",
    "There is one other common way to express the difference between distributions.  Cohen's $d$ is the difference in means, standardized by dividing by the standard deviation.  Here's a function that computes it:\n"
   ]
  },
  {
   "cell_type": "code",
   "execution_count": 37,
   "metadata": {
    "collapsed": false
   },
   "outputs": [],
   "source": [
    "def CohenEffectSize(group1, group2):\n",
    "    \"\"\"Compute Cohen's d.\n",
    "\n",
    "    group1: Series or NumPy array\n",
    "    group2: Series or NumPy array\n",
    "\n",
    "    returns: float\n",
    "    \"\"\"\n",
    "    diff = group1.mean() - group2.mean()\n",
    "\n",
    "    n1, n2 = len(group1), len(group2)\n",
    "    var1 = group1.var()\n",
    "    var2 = group2.var()\n",
    "\n",
    "    pooled_var = (n1 * var1 + n2 * var2) / (n1 + n2)\n",
    "    d = diff / numpy.sqrt(pooled_var)\n",
    "    return d"
   ]
  },
  {
   "cell_type": "markdown",
   "metadata": {},
   "source": [
    "Computing the denominator is a little complicated; in fact, people have proposed several ways to do it.  This implementation uses the \"pooled standard deviation\", which is a weighted average of the standard deviations of the two groups.\n",
    "\n",
    "And here's the result for the difference in height between men and women."
   ]
  },
  {
   "cell_type": "code",
   "execution_count": 38,
   "metadata": {
    "collapsed": false
   },
   "outputs": [
    {
     "data": {
      "text/plain": [
       "2.1270709355256829"
      ]
     },
     "execution_count": 38,
     "metadata": {},
     "output_type": "execute_result"
    }
   ],
   "source": [
    "CohenEffectSize(male_sample, female_sample)"
   ]
  },
  {
   "cell_type": "markdown",
   "metadata": {},
   "source": [
    "Most people don't have a good sense of how big $d=1.9$ is, so let's make a visualization to get calibrated.\n",
    "\n",
    "Here's a function that encapsulates the code we already saw for computing overlap and probability of superiority."
   ]
  },
  {
   "cell_type": "code",
   "execution_count": 39,
   "metadata": {
    "collapsed": false
   },
   "outputs": [],
   "source": [
    "def overlap_superiority(control, treatment, n=1000):\n",
    "    \"\"\"Estimates overlap and superiority based on a sample.\n",
    "    \n",
    "    control: scipy.stats rv object\n",
    "    treatment: scipy.stats rv object\n",
    "    n: sample size\n",
    "    \"\"\"\n",
    "    control_sample = control.rvs(n)\n",
    "    treatment_sample = treatment.rvs(n)\n",
    "    thresh = (control.mean() + treatment.mean()) / 2\n",
    "    \n",
    "    control_above = sum(control_sample > thresh)\n",
    "    treatment_below = sum(treatment_sample < thresh)\n",
    "    overlap = (control_above + treatment_below) / n\n",
    "    \n",
    "    superiority = sum(x > y for x, y in zip(treatment_sample, control_sample)) / n\n",
    "    return overlap, superiority"
   ]
  },
  {
   "cell_type": "markdown",
   "metadata": {},
   "source": [
    "Here's the function that takes Cohen's $d$, plots normal distributions with the given effect size, and prints their overlap and superiority."
   ]
  },
  {
   "cell_type": "code",
   "execution_count": 40,
   "metadata": {
    "collapsed": false
   },
   "outputs": [],
   "source": [
    "def plot_pdfs(cohen_d=2):\n",
    "    \"\"\"Plot PDFs for distributions that differ by some number of stds.\n",
    "    \n",
    "    cohen_d: number of standard deviations between the means\n",
    "    \"\"\"\n",
    "    control = scipy.stats.norm(0, 1)\n",
    "    treatment = scipy.stats.norm(cohen_d, 1)\n",
    "    xs, ys = eval_pdf(control)\n",
    "    pyplot.fill_between(xs, ys, label='control', color=COLOR3, alpha=0.7)\n",
    "\n",
    "    xs, ys = eval_pdf(treatment)\n",
    "    pyplot.fill_between(xs, ys, label='treatment', color=COLOR2, alpha=0.7)\n",
    "    \n",
    "    o, s = overlap_superiority(control, treatment)\n",
    "    print('overlap', o)\n",
    "    print('superiority', s)"
   ]
  },
  {
   "cell_type": "markdown",
   "metadata": {},
   "source": [
    "Here's an example that demonstrates the function:"
   ]
  },
  {
   "cell_type": "code",
   "execution_count": 41,
   "metadata": {
    "collapsed": false
   },
   "outputs": [
    {
     "name": "stdout",
     "output_type": "stream",
     "text": [
      "overlap 0.367\n",
      "superiority 0.909\n"
     ]
    },
    {
     "data": {
      "image/png": "[encoded data removed]",
      "text/plain": [
       "<matplotlib.figure.Figure at 0x22277e206d8>"
      ]
     },
     "metadata": {},
     "output_type": "display_data"
    }
   ],
   "source": [
    "plot_pdfs(2)"
   ]
  },
  {
   "cell_type": "markdown",
   "metadata": {},
   "source": [
    "And an interactive widget you can use to visualize what different values of $d$ mean:"
   ]
  },
  {
   "cell_type": "code",
   "execution_count": 44,
   "metadata": {
    "collapsed": false
   },
   "outputs": [
    {
     "name": "stdout",
     "output_type": "stream",
     "text": [
      "overlap 0.046\n",
      "superiority 0.999\n"
     ]
    },
    {
     "data": {
      "image/png": "[encoded data removed]",
      "text/plain": [
       "<matplotlib.figure.Figure at 0x2227799f198>"
      ]
     },
     "metadata": {},
     "output_type": "display_data"
    }
   ],
   "source": [
    "slider = widgets.FloatSlider(min=0, max=4, value=2)\n",
    "interact(plot_pdfs, cohen_d=slider)\n",
    "None"
   ]
  },
  {
   "cell_type": "markdown",
   "metadata": {},
   "source": [
    "Cohen's $d$ has a few nice properties:\n",
    "\n",
    "* Because mean and standard deviation have the same units, their ratio is dimensionless, so we can compare $d$ across different studies.\n",
    "\n",
    "* In fields that commonly use $d$, people are calibrated to know what values should be considered big, surprising, or important.\n",
    "\n",
    "* Given $d$ (and the assumption that the distributions are normal), you can compute overlap, superiority, and related statistics."
   ]
  },
  {
   "cell_type": "markdown",
   "metadata": {},
   "source": [
    "In summary, the best way to report effect size often depends on the audience and your goals.  There is often a tradeoff between summary statistics that have good technical properties and statistics that are meaningful to a general audience."
   ]
  },
  {
   "cell_type": "code",
   "execution_count": null,
   "metadata": {
    "collapsed": false
   },
   "outputs": [],
   "source": []
  }
 ],
 "metadata": {
  "kernelspec": {
   "display_name": "Python 3",
   "language": "python",
   "name": "python3"
  },
  "language_info": {
   "codemirror_mode": {
    "name": "ipython",
    "version": 3
   },
   "file_extension": ".py",
   "mimetype": "text/x-python",
   "name": "python",
   "nbconvert_exporter": "python",
   "pygments_lexer": "ipython3",
   "version": "3.5.2"
  }
 },
 "nbformat": 4,
 "nbformat_minor": 0
}
