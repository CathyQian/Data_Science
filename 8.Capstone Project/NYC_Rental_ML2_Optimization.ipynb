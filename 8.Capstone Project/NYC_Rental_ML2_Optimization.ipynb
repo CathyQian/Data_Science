{
 "cells": [
  {
   "cell_type": "markdown",
   "metadata": {},
   "source": [
    "## The following work is the second part of the machine learning effort. \n",
    "It aims at answering the following questions:\n",
    "#### 1. Does feature scaling make the prediction results better?\n",
    "Short answer is No. For both logistic regression and random forest, a slight Log Loss increase was observed with feature scaling. For logistic regression, feature scaling make the Log Loss from the training and validation data more consistent. Feature scaling has negligible effect on the predicted feature importance from random forest classifier.\n",
    "\n",
    "This result is surprising that in most cases (esp in neural network or PCA) feature scaling improves the performance of the ML algorithms. However, preprocessing in machine learning is somewhat a very black art and itt depends heavily on the method you use and also on the problem domain.\n",
    "\n",
    "\n",
    "#### 2. The distribution of price is highly skewed. Does logarithmic transformation help improve the prediction results?\n",
    "For both logistic regression and random forest, a slight Log Loss increase was observed with price being replaced by Log(price).\n",
    "#### 3. How do you handle multicolinearity in the data?\n",
    "\n",
    "Considering multicollineariy is important in regression analysis because it can mess with your coefficient estimates; small changes in the data used for estimation may cause wild swings in estimated coefficients. Ridge regression (which is a regularization method) is commonly recommended as a tool for dealing with colinearity. Unlike some penalization methods, it does not put any coefficients to 0 and it shrinks larger coeffiicients by more than small ones (in absolute value).\n",
    "\n",
    "Machine Learning techniques focus on predictive accuracy, all we care about is how we can use a set of variables to predict another set. We don't care about the impact these variables have on each other. For example, you can imagine that multicollinearity in random forests won’t have any effect on prediction Log Loss or accuracy. If variables are highly correlated, you can simply choose one or the other during the tree split process.\n",
    "\n",
    "#### 4. Can we use feature selection method (PCA, forward feature selection, backward feature selection) to speed up the prediction while maintain high accuracy?\n",
    "Ideally yes. But this is not implemented in this work. The goal of this project is to achieve the lowest Log Loss and speed is not the top concern. Besides, PCA may filter out some important information and decrease the prediction capability of our ML models.\n",
    "\n",
    "#### 5. The three classes of interest level is highly unbalanced. How do you handle it in machine learning?\n",
    "See this link for answer: https://www.quora.com/In-classification-how-do-you-handle-an-unbalanced-training-set\n",
    "In this specific problem, we use Log Loss instead of classification accuray to evaluate the performance of the ML models.\n",
    "\n",
    "#### 6. How do you prevent overfitting?\n",
    "Regularization and cross validation. Regularization is implemented in scikit learn. I hold back 30% of the training data and use it for validating the performance of the data.\n",
    "\n",
    "I will focus on ***logistic regression and random forest algorithm*** because logistic regression is the simplist classification algorithm and random forest usually performs well."
   ]
  },
  {
   "cell_type": "code",
   "execution_count": 20,
   "metadata": {
    "collapsed": false
   },
   "outputs": [],
   "source": [
    "import random\n",
    "import pandas as pd\n",
    "import numpy as np\n",
    "\n",
    "from sklearn.preprocessing import StandardScaler\n",
    "from sklearn.pipeline import Pipeline\n",
    "from sklearn.model_selection import KFold\n",
    "from sklearn.model_selection import GridSearchCV\n",
    "from sklearn.model_selection import train_test_split\n",
    "from sklearn.model_selection import cross_val_score\n",
    "from sklearn.metrics import log_loss\n",
    "from sklearn.metrics import classification_report\n",
    "from sklearn.metrics import accuracy_score\n",
    "\n",
    "\n",
    "import matplotlib.pyplot as plt\n",
    "%matplotlib inline"
   ]
  },
  {
   "cell_type": "code",
   "execution_count": 4,
   "metadata": {
    "collapsed": false
   },
   "outputs": [],
   "source": [
    "sub = pd.DataFrame()\n",
    "sub[\"listing_id\"] = pd.read_json('test.json')[\"listing_id\"]"
   ]
  },
  {
   "cell_type": "markdown",
   "metadata": {},
   "source": [
    "### 1. Feature scaling"
   ]
  },
  {
   "cell_type": "markdown",
   "metadata": {},
   "source": [
    "#### Logistic Regression"
   ]
  },
  {
   "cell_type": "code",
   "execution_count": 5,
   "metadata": {
    "collapsed": true
   },
   "outputs": [],
   "source": [
    "from sklearn.linear_model import LogisticRegression\n",
    "train_df = pd.read_json('FE6_train.json')\n",
    "test_df = pd.read_json('FE6_test.json')\n",
    "y = train_df['interest_level']  # 0, 1, 2 three classes\n",
    "train_df = train_df.drop(['interest_level'], axis = 1)\n",
    "combined = train_df.append(test_df)"
   ]
  },
  {
   "cell_type": "markdown",
   "metadata": {},
   "source": [
    "Normalize both the train and test data."
   ]
  },
  {
   "cell_type": "code",
   "execution_count": 9,
   "metadata": {
    "collapsed": false
   },
   "outputs": [],
   "source": [
    "combined = combined.apply(lambda x: (x-x.mean())/x.std(), axis=0)"
   ]
  },
  {
   "cell_type": "markdown",
   "metadata": {},
   "source": [
    "Split the training data into train/validation data."
   ]
  },
  {
   "cell_type": "code",
   "execution_count": 14,
   "metadata": {
    "collapsed": true
   },
   "outputs": [],
   "source": [
    "validation_size = 0.30\n",
    "seed = 2018\n",
    "x = train_df.values\n",
    "X_train, X_validation, Y_train, Y_validation = train_test_split(x, y, test_size = validation_size, random_state = seed)"
   ]
  },
  {
   "cell_type": "markdown",
   "metadata": {},
   "source": [
    "Use GridSearch to find the best model"
   ]
  },
  {
   "cell_type": "code",
   "execution_count": 19,
   "metadata": {
    "collapsed": true
   },
   "outputs": [
    {
     "name": "stderr",
     "output_type": "stream",
     "text": [
      "C:\\Users\\Administrator\\Anaconda3\\lib\\site-packages\\sklearn\\linear_model\\base.py:352: RuntimeWarning: overflow encountered in exp\n",
      "  np.exp(prob, prob)\n",
      "C:\\Users\\Administrator\\Anaconda3\\lib\\site-packages\\sklearn\\linear_model\\base.py:352: RuntimeWarning: overflow encountered in exp\n",
      "  np.exp(prob, prob)\n",
      "C:\\Users\\Administrator\\Anaconda3\\lib\\site-packages\\sklearn\\linear_model\\base.py:352: RuntimeWarning: overflow encountered in exp\n",
      "  np.exp(prob, prob)\n",
      "C:\\Users\\Administrator\\Anaconda3\\lib\\site-packages\\sklearn\\linear_model\\base.py:352: RuntimeWarning: overflow encountered in exp\n",
      "  np.exp(prob, prob)\n",
      "C:\\Users\\Administrator\\Anaconda3\\lib\\site-packages\\sklearn\\linear_model\\base.py:352: RuntimeWarning: overflow encountered in exp\n",
      "  np.exp(prob, prob)\n",
      "C:\\Users\\Administrator\\Anaconda3\\lib\\site-packages\\sklearn\\linear_model\\base.py:352: RuntimeWarning: overflow encountered in exp\n",
      "  np.exp(prob, prob)\n",
      "C:\\Users\\Administrator\\Anaconda3\\lib\\site-packages\\sklearn\\linear_model\\base.py:352: RuntimeWarning: overflow encountered in exp\n",
      "  np.exp(prob, prob)\n",
      "C:\\Users\\Administrator\\Anaconda3\\lib\\site-packages\\sklearn\\linear_model\\base.py:352: RuntimeWarning: overflow encountered in exp\n",
      "  np.exp(prob, prob)\n",
      "C:\\Users\\Administrator\\Anaconda3\\lib\\site-packages\\sklearn\\linear_model\\base.py:352: RuntimeWarning: overflow encountered in exp\n",
      "  np.exp(prob, prob)\n",
      "C:\\Users\\Administrator\\Anaconda3\\lib\\site-packages\\sklearn\\linear_model\\base.py:352: RuntimeWarning: overflow encountered in exp\n",
      "  np.exp(prob, prob)\n",
      "C:\\Users\\Administrator\\Anaconda3\\lib\\site-packages\\sklearn\\linear_model\\base.py:352: RuntimeWarning: overflow encountered in exp\n",
      "  np.exp(prob, prob)\n",
      "C:\\Users\\Administrator\\Anaconda3\\lib\\site-packages\\sklearn\\linear_model\\base.py:352: RuntimeWarning: overflow encountered in exp\n",
      "  np.exp(prob, prob)\n",
      "C:\\Users\\Administrator\\Anaconda3\\lib\\site-packages\\sklearn\\linear_model\\base.py:352: RuntimeWarning: overflow encountered in exp\n",
      "  np.exp(prob, prob)\n",
      "C:\\Users\\Administrator\\Anaconda3\\lib\\site-packages\\sklearn\\linear_model\\base.py:352: RuntimeWarning: overflow encountered in exp\n",
      "  np.exp(prob, prob)\n",
      "C:\\Users\\Administrator\\Anaconda3\\lib\\site-packages\\sklearn\\linear_model\\base.py:352: RuntimeWarning: overflow encountered in exp\n",
      "  np.exp(prob, prob)\n",
      "C:\\Users\\Administrator\\Anaconda3\\lib\\site-packages\\sklearn\\linear_model\\base.py:352: RuntimeWarning: overflow encountered in exp\n",
      "  np.exp(prob, prob)\n",
      "C:\\Users\\Administrator\\Anaconda3\\lib\\site-packages\\sklearn\\linear_model\\base.py:352: RuntimeWarning: overflow encountered in exp\n",
      "  np.exp(prob, prob)\n",
      "C:\\Users\\Administrator\\Anaconda3\\lib\\site-packages\\sklearn\\linear_model\\base.py:352: RuntimeWarning: overflow encountered in exp\n",
      "  np.exp(prob, prob)\n",
      "C:\\Users\\Administrator\\Anaconda3\\lib\\site-packages\\sklearn\\linear_model\\base.py:352: RuntimeWarning: overflow encountered in exp\n",
      "  np.exp(prob, prob)\n",
      "C:\\Users\\Administrator\\Anaconda3\\lib\\site-packages\\sklearn\\linear_model\\base.py:352: RuntimeWarning: overflow encountered in exp\n",
      "  np.exp(prob, prob)\n",
      "C:\\Users\\Administrator\\Anaconda3\\lib\\site-packages\\sklearn\\linear_model\\base.py:352: RuntimeWarning: overflow encountered in exp\n",
      "  np.exp(prob, prob)\n",
      "C:\\Users\\Administrator\\Anaconda3\\lib\\site-packages\\sklearn\\linear_model\\base.py:352: RuntimeWarning: overflow encountered in exp\n",
      "  np.exp(prob, prob)\n",
      "C:\\Users\\Administrator\\Anaconda3\\lib\\site-packages\\sklearn\\linear_model\\base.py:352: RuntimeWarning: overflow encountered in exp\n",
      "  np.exp(prob, prob)\n",
      "C:\\Users\\Administrator\\Anaconda3\\lib\\site-packages\\sklearn\\linear_model\\base.py:352: RuntimeWarning: overflow encountered in exp\n",
      "  np.exp(prob, prob)\n"
     ]
    }
   ],
   "source": [
    "params = {'penalty':['l1', 'l2'], 'C': [1, 10], 'max_iter': [50, 100]}\n",
    "lr = LogisticRegression(fit_intercept = True, random_state = seed)\n",
    "clf = GridSearchCV(lr, params, scoring = 'neg_log_loss')\n",
    "result = clf.fit(X_train, Y_train)"
   ]
  },
  {
   "cell_type": "code",
   "execution_count": 24,
   "metadata": {
    "collapsed": false
   },
   "outputs": [
    {
     "name": "stdout",
     "output_type": "stream",
     "text": [
      "BestL 0.615051 using {'penalty': 'l1', 'max_iter': 50, 'C': 10}\n"
     ]
    }
   ],
   "source": [
    "# output best prediction accuracy and best lr model parameters\n",
    "print(\"BestL %f using %s\" % (- result.best_score_, result.best_params_))"
   ]
  },
  {
   "cell_type": "markdown",
   "metadata": {},
   "source": [
    "This logloss is smaller than 0.722362 using {'C': 1, 'penalty': 'l1', 'max_iter': 100} without feature scaling."
   ]
  },
  {
   "cell_type": "markdown",
   "metadata": {},
   "source": [
    "Log Loss score"
   ]
  },
  {
   "cell_type": "code",
   "execution_count": 23,
   "metadata": {
    "collapsed": false
   },
   "outputs": [
    {
     "name": "stderr",
     "output_type": "stream",
     "text": [
      "C:\\Users\\Administrator\\Anaconda3\\lib\\site-packages\\sklearn\\linear_model\\base.py:352: RuntimeWarning: overflow encountered in exp\n",
      "  np.exp(prob, prob)\n"
     ]
    },
    {
     "data": {
      "text/plain": [
       "0.61898647584720334"
      ]
     },
     "execution_count": 23,
     "metadata": {},
     "output_type": "execute_result"
    }
   ],
   "source": [
    "clf = LogisticRegression(penalty = 'l1', max_iter = 50, C = 10, fit_intercept = True, random_state = seed)\n",
    "clf.fit(X_train, Y_train)\n",
    "y_val_pred_prob = clf.predict_proba(X_validation)\n",
    "log_loss(Y_validation, y_val_pred_prob)"
   ]
  },
  {
   "cell_type": "code",
   "execution_count": 25,
   "metadata": {
    "collapsed": false
   },
   "outputs": [
    {
     "name": "stderr",
     "output_type": "stream",
     "text": [
      "C:\\Users\\Administrator\\Anaconda3\\lib\\site-packages\\sklearn\\linear_model\\base.py:352: RuntimeWarning: overflow encountered in exp\n",
      "  np.exp(prob, prob)\n"
     ]
    },
    {
     "data": {
      "text/plain": [
       "0.61821151933141005"
      ]
     },
     "execution_count": 25,
     "metadata": {},
     "output_type": "execute_result"
    }
   ],
   "source": [
    "clf = LogisticRegression(penalty = 'l1', max_iter = 100, C = 1, fit_intercept = True, random_state = seed)\n",
    "clf.fit(X_train, Y_train)\n",
    "y_val_pred_prob = clf.predict_proba(X_validation)\n",
    "log_loss(Y_validation, y_val_pred_prob)"
   ]
  },
  {
   "cell_type": "markdown",
   "metadata": {},
   "source": [
    "This Log Loss is slightly higher than 0.6163 using {'C': 1, 'penalty': 'l1', 'max_iter': 100} without feature scaling.\n",
    "However, the Log Loss score for the training and validation dataset is big (0.7223 vs 0.6163) without feature scaling, indicating\n",
    "the prediction results are not as robust as that with feature scaling."
   ]
  },
  {
   "cell_type": "markdown",
   "metadata": {},
   "source": [
    "Make predictions on the test data"
   ]
  },
  {
   "cell_type": "code",
   "execution_count": 17,
   "metadata": {
    "collapsed": false
   },
   "outputs": [
    {
     "name": "stderr",
     "output_type": "stream",
     "text": [
      "C:\\Users\\Administrator\\Anaconda3\\lib\\site-packages\\sklearn\\linear_model\\base.py:352: RuntimeWarning: overflow encountered in exp\n",
      "  np.exp(prob, prob)\n"
     ]
    }
   ],
   "source": [
    "y = clf.predict_proba(test_df)"
   ]
  },
  {
   "cell_type": "code",
   "execution_count": 19,
   "metadata": {
    "collapsed": false
   },
   "outputs": [],
   "source": [
    "labels2idx = {'low':0, 'medium':1, 'high': 2}"
   ]
  },
  {
   "cell_type": "code",
   "execution_count": 20,
   "metadata": {
    "collapsed": false
   },
   "outputs": [],
   "source": [
    "for label in [\"high\", \"medium\", \"low\"]:\n",
    "    sub[label] = y[:, labels2idx[label]]\n",
    "sub.to_csv(\"FE6_lr_fe06172018.csv\", index=False)"
   ]
  },
  {
   "cell_type": "markdown",
   "metadata": {},
   "source": [
    "#### Random Forests\n",
    "Use the best parameters without feature engineering"
   ]
  },
  {
   "cell_type": "code",
   "execution_count": 27,
   "metadata": {
    "collapsed": false
   },
   "outputs": [
    {
     "data": {
      "text/plain": [
       "0.57390944266910349"
      ]
     },
     "execution_count": 27,
     "metadata": {},
     "output_type": "execute_result"
    }
   ],
   "source": [
    "from sklearn.ensemble import RandomForestClassifier\n",
    "rf = RandomForestClassifier(n_estimators = 200, min_samples_split = 2, min_samples_leaf = 3, criterion = 'gini', random_state = seed)\n",
    "rf.fit(X_train, Y_train)\n",
    "y_val_pred_prob = rf.predict_proba(X_validation)\n",
    "log_loss(Y_validation, y_val_pred_prob)"
   ]
  },
  {
   "cell_type": "markdown",
   "metadata": {},
   "source": [
    "The Log Loss is slightly higher than 0.5706 using the same parameters without feature scaling. "
   ]
  },
  {
   "cell_type": "markdown",
   "metadata": {},
   "source": [
    "redict feature importance"
   ]
  },
  {
   "cell_type": "code",
   "execution_count": 29,
   "metadata": {
    "collapsed": false
   },
   "outputs": [
    {
     "data": {
      "text/plain": [
       "array([  4.64689279e-03,   6.06844019e-03,   8.28018002e-03,\n",
       "         9.09173575e-03,   6.17246820e-03,   7.50840565e-03,\n",
       "         4.26012229e-02,   3.92392583e-02,   6.11090522e-03,\n",
       "         4.81395338e-03,   6.01270076e-03,   1.73341497e-03,\n",
       "         4.13756761e-03,   7.78960466e-03,   1.82910771e-03,\n",
       "         1.25073820e-02,   5.12182237e-04,   8.46822313e-03,\n",
       "         4.90484183e-03,   1.00870898e-04,   2.07900746e-06,\n",
       "         8.17699480e-02,   7.24784341e-02,   1.15924309e-01,\n",
       "         9.94999122e-02,   4.31935458e-02,   4.33140920e-02,\n",
       "         4.53115074e-02,   3.70134826e-02,   2.82496263e-02,\n",
       "         6.25095246e-02,   4.77823866e-02,   4.54053323e-02,\n",
       "         5.57224922e-02,   3.92939697e-02])"
      ]
     },
     "execution_count": 29,
     "metadata": {},
     "output_type": "execute_result"
    }
   ],
   "source": [
    "importances = rf.feature_importances_\n",
    "importances"
   ]
  },
  {
   "cell_type": "code",
   "execution_count": 30,
   "metadata": {
    "collapsed": false
   },
   "outputs": [
    {
     "name": "stdout",
     "output_type": "stream",
     "text": [
      "Feature ranking:\n",
      "1. feature 23 (0.115924)\n",
      "2. feature 24 (0.099500)\n",
      "3. feature 21 (0.081770)\n",
      "4. feature 22 (0.072478)\n",
      "5. feature 30 (0.062510)\n",
      "6. feature 33 (0.055722)\n",
      "7. feature 31 (0.047782)\n",
      "8. feature 32 (0.045405)\n",
      "9. feature 27 (0.045312)\n",
      "10. feature 26 (0.043314)\n",
      "11. feature 25 (0.043194)\n",
      "12. feature 6 (0.042601)\n",
      "13. feature 34 (0.039294)\n",
      "14. feature 7 (0.039239)\n",
      "15. feature 28 (0.037013)\n",
      "16. feature 29 (0.028250)\n",
      "17. feature 15 (0.012507)\n",
      "18. feature 3 (0.009092)\n",
      "19. feature 17 (0.008468)\n",
      "20. feature 2 (0.008280)\n",
      "21. feature 13 (0.007790)\n",
      "22. feature 5 (0.007508)\n",
      "23. feature 4 (0.006172)\n",
      "24. feature 8 (0.006111)\n",
      "25. feature 1 (0.006068)\n",
      "26. feature 10 (0.006013)\n",
      "27. feature 18 (0.004905)\n",
      "28. feature 9 (0.004814)\n",
      "29. feature 0 (0.004647)\n",
      "30. feature 12 (0.004138)\n",
      "31. feature 14 (0.001829)\n",
      "32. feature 11 (0.001733)\n",
      "33. feature 16 (0.000512)\n",
      "34. feature 19 (0.000101)\n",
      "35. feature 20 (0.000002)\n"
     ]
    },
    {
     "data": {
      "image/png": "[encoded data removed]",
      "text/plain": [
       "<matplotlib.figure.Figure at 0x212743355f8>"
      ]
     },
     "metadata": {},
     "output_type": "display_data"
    }
   ],
   "source": [
    "indices = np.argsort(importances)[::-1]\n",
    "print(\"Feature ranking:\")\n",
    "\n",
    "for f in range(train_df.shape[1]):\n",
    "    print(\"%d. feature %d (%f)\" % (f + 1, indices[f], importances[indices[f]]))\n",
    "\n",
    "# Plot the feature importances of the forest\n",
    "plt.figure(figsize = (16, 8))\n",
    "plt.title(\"Feature importances\")\n",
    "plt.bar(range(train_df.shape[1]), importances[indices], color=\"g\", alpha = 0.5, align=\"center\")\n",
    "plt.xticks(range(train_df.shape[1]), indices)\n",
    "plt.xlim([-1, train_df.shape[1]])\n",
    "plt.show()"
   ]
  },
  {
   "cell_type": "markdown",
   "metadata": {},
   "source": [
    "The predicted feature importance is roughly the same as that without feature scaling despite of minor difference in weight values."
   ]
  },
  {
   "cell_type": "markdown",
   "metadata": {},
   "source": [
    "#### Conclusion: \n",
    "For both logistic regression and random forest, a slight Log Loss increase was observed with feature scaling. For logistic regression, feature scaling make the Log Loss from the training and validation data more consistent. Feature scaling has negligible effect on the predicted feature importance from random forest classifier."
   ]
  },
  {
   "cell_type": "markdown",
   "metadata": {
    "collapsed": true
   },
   "source": [
    "### 2. Price Transformation\n",
    "price --> log(price)"
   ]
  },
  {
   "cell_type": "code",
   "execution_count": 34,
   "metadata": {
    "collapsed": false
   },
   "outputs": [],
   "source": [
    "train_df['log_price'] = train_df['price'].apply(np.log)"
   ]
  },
  {
   "cell_type": "code",
   "execution_count": 36,
   "metadata": {
    "collapsed": false
   },
   "outputs": [],
   "source": [
    "train_df = train_df.drop(['price'], axis = 1)"
   ]
  },
  {
   "cell_type": "code",
   "execution_count": 38,
   "metadata": {
    "collapsed": true
   },
   "outputs": [],
   "source": [
    "x = train_df.values\n",
    "X_train, X_validation, Y_train, Y_validation = train_test_split(x, y, test_size = validation_size, random_state = seed)"
   ]
  },
  {
   "cell_type": "markdown",
   "metadata": {},
   "source": [
    "Logistic Regression"
   ]
  },
  {
   "cell_type": "code",
   "execution_count": 39,
   "metadata": {
    "collapsed": false
   },
   "outputs": [
    {
     "name": "stderr",
     "output_type": "stream",
     "text": [
      "C:\\Users\\Administrator\\Anaconda3\\lib\\site-packages\\sklearn\\linear_model\\base.py:352: RuntimeWarning: overflow encountered in exp\n",
      "  np.exp(prob, prob)\n"
     ]
    },
    {
     "data": {
      "text/plain": [
       "0.61835944562283085"
      ]
     },
     "execution_count": 39,
     "metadata": {},
     "output_type": "execute_result"
    }
   ],
   "source": [
    "clf = LogisticRegression(penalty = 'l1', max_iter = 50, C = 10, fit_intercept = True, random_state = seed)\n",
    "clf.fit(X_train, Y_train)\n",
    "y_val_pred_prob = clf.predict_proba(X_validation)\n",
    "log_loss(Y_validation, y_val_pred_prob)"
   ]
  },
  {
   "cell_type": "markdown",
   "metadata": {},
   "source": [
    "This Log Loss is slightly higher than 0.6163 using the same parameters but without price transformation."
   ]
  },
  {
   "cell_type": "markdown",
   "metadata": {},
   "source": [
    "Random Forest"
   ]
  },
  {
   "cell_type": "code",
   "execution_count": 40,
   "metadata": {
    "collapsed": false
   },
   "outputs": [
    {
     "data": {
      "text/plain": [
       "0.57389084849634386"
      ]
     },
     "execution_count": 40,
     "metadata": {},
     "output_type": "execute_result"
    }
   ],
   "source": [
    "rf = RandomForestClassifier(n_estimators = 200, min_samples_split = 2, min_samples_leaf = 3, criterion = 'gini', random_state = seed)\n",
    "rf.fit(X_train, Y_train)\n",
    "y_val_pred_prob = rf.predict_proba(X_validation)\n",
    "log_loss(Y_validation, y_val_pred_prob)"
   ]
  },
  {
   "cell_type": "markdown",
   "metadata": {},
   "source": [
    "The Log Loss is slightly higher than 0.5706 using the same parameters without price transformation."
   ]
  },
  {
   "cell_type": "markdown",
   "metadata": {},
   "source": [
    "#### Conclusion:\n",
    "For both logistic regression and random forest, a slight Log Loss increase was observed with price being replaced by Log(price)."
   ]
  },
  {
   "cell_type": "markdown",
   "metadata": {},
   "source": [
    "### 3. Multicolinearity"
   ]
  },
  {
   "cell_type": "markdown",
   "metadata": {},
   "source": [
    "Considering multicollineariy is important in regression analysis because it can mess with your coefficient estimates; small changes in the data used for estimation may cause wild swings in estimated coefficients. Ridge regression (which is a regularization method) is commonly recommended as a tool for dealing with colinearity.  Unlike some penalization methods, it does not put any coefficients to 0 and it shrinks larger coeffiicients by more than small ones (in absolute value).\n",
    "\n",
    "Machine Learning techniques focus on predictive accuracy, all we care about is how we can use a set of variables to predict another set. We don't care about the impact these variables have on each other. For example, you can imagine that multicollinearity in random forests won’t have any effect on prediction Log Loss or accuracy. If variables are highly correlated, you can simply choose one or the other during the tree split process.\n"
   ]
  },
  {
   "cell_type": "code",
   "execution_count": null,
   "metadata": {
    "collapsed": true
   },
   "outputs": [],
   "source": []
  }
 ],
 "metadata": {
  "kernelspec": {
   "display_name": "Python 3",
   "language": "python",
   "name": "python3"
  },
  "language_info": {
   "codemirror_mode": {
    "name": "ipython",
    "version": 3
   },
   "file_extension": ".py",
   "mimetype": "text/x-python",
   "name": "python",
   "nbconvert_exporter": "python",
   "pygments_lexer": "ipython3",
   "version": "3.5.2"
  }
 },
 "nbformat": 4,
 "nbformat_minor": 0
}
