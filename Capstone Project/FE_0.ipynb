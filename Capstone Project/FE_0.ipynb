{
 "cells": [
  {
   "cell_type": "markdown",
   "metadata": {},
   "source": [
    "The following code provides feature engineering for data after being cleaned. Here the feature engineering includes \n",
    "- Naive feature engineering to get sum, average and counts of some features\n",
    "- get_stats function from Little Boat: https://www.kaggle.com/c/two-sigma-connect-rental-listing-inquiries/discussion/32123"
   ]
  },
  {
   "cell_type": "markdown",
   "metadata": {},
   "source": [
    "### Import Data"
   ]
  },
  {
   "cell_type": "code",
   "execution_count": 31,
   "metadata": {
    "collapsed": true
   },
   "outputs": [],
   "source": [
    "%matplotlib inline\n",
    "import random\n",
    "import pandas as pd\n",
    "import matplotlib.pyplot as plt\n",
    "import seaborn as sns\n",
    "import numpy as np"
   ]
  },
  {
   "cell_type": "code",
   "execution_count": 32,
   "metadata": {
    "collapsed": false
   },
   "outputs": [],
   "source": [
    "train = pd.read_json('Datacleaned_train.json')\n",
    "test = pd.read_json('test.json')"
   ]
  },
  {
   "cell_type": "markdown",
   "metadata": {},
   "source": [
    "### 1. Naive Feature Engineering"
   ]
  },
  {
   "cell_type": "code",
   "execution_count": 33,
   "metadata": {
    "collapsed": false
   },
   "outputs": [],
   "source": [
    "def naiveFE(df):\n",
    "    ''' do naive feature engineering to both the train and test data frame\n",
    "    '''\n",
    "    # total number of room\n",
    "    df[\"sum_room\"] = df[\"bedrooms\"] + df[\"bathrooms\"]\n",
    "    df[\"room_diff\"] = df[\"bedrooms\"] - df[\"bathrooms\"]\n",
    "    \n",
    "    # average price per room (withnan)\n",
    "    df[\"price_s\"] = df[\"price\"]/df[\"sum_room\"]\n",
    "    df[\"price_bed\"] = df[\"price\"]/df[\"bedrooms\"]\n",
    "    df[\"price_bath\"] = df[\"price\"]/df[\"bathrooms\"] \n",
    "    \n",
    "    # number of photos\n",
    "    df[\"num_photos\"] = df[\"photos\"].apply(len)\n",
    "    \n",
    "    # number features\n",
    "    df[\"num_features\"] = df[\"features\"].apply(len)\n",
    "    \n",
    "    # count of words present in description column\n",
    "    df[\"num_description_words\"] = df[\"description\"].apply(lambda x: len(x.split(\" \")))\n",
    "    \n",
    "    # created time, year = 2016 constant\n",
    "    df[\"created\"] = pd.to_datetime(df[\"created\"])\n",
    "    df[\"created_month\"] = df[\"created\"].dt.month\n",
    "    df[\"created_day\"] = df[\"created\"].dt.day\n",
    "    \n",
    "    return df"
   ]
  },
  {
   "cell_type": "code",
   "execution_count": 34,
   "metadata": {
    "collapsed": false
   },
   "outputs": [],
   "source": [
    "train_df = naiveFE(train)\n",
    "test_df = naiveFE(test)"
   ]
  },
  {
   "cell_type": "code",
   "execution_count": 35,
   "metadata": {
    "collapsed": false
   },
   "outputs": [],
   "source": [
    "train_df = train_df.drop(['building_id', 'created', 'listing_id', 'description', 'display_address', 'features', 'manager_id', 'photos', 'street_address'], axis = 1)\n",
    "test_df = test_df.drop(['building_id', 'created', 'listing_id', 'description', 'display_address', 'features', 'manager_id', 'photos', 'street_address'], axis = 1)"
   ]
  },
  {
   "cell_type": "code",
   "execution_count": 36,
   "metadata": {
    "collapsed": true
   },
   "outputs": [],
   "source": [
    "train_df.to_json('Datacleaned_FE0_train_withnan.json')\n",
    "test_df.to_json('FE0_test_withnan.json')"
   ]
  },
  {
   "cell_type": "code",
   "execution_count": null,
   "metadata": {
    "collapsed": true
   },
   "outputs": [],
   "source": []
  }
 ],
 "metadata": {
  "kernelspec": {
   "display_name": "Python 3",
   "language": "python",
   "name": "python3"
  },
  "language_info": {
   "codemirror_mode": {
    "name": "ipython",
    "version": 3
   },
   "file_extension": ".py",
   "mimetype": "text/x-python",
   "name": "python",
   "nbconvert_exporter": "python",
   "pygments_lexer": "ipython3",
   "version": "3.5.2"
  }
 },
 "nbformat": 4,
 "nbformat_minor": 0
}
