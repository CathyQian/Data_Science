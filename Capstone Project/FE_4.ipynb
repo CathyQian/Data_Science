{
 "cells": [
  {
   "cell_type": "markdown",
   "metadata": {},
   "source": [
    "The following code provides feature engineering for data after being cleaned. Here the feature engineering includes \n",
    "- Naive feature engineering to get sum, average and counts of some features\n",
    "- get_stats function from Little Boat: https://www.kaggle.com/c/two-sigma-connect-rental-listing-inquiries/discussion/32123"
   ]
  },
  {
   "cell_type": "markdown",
   "metadata": {},
   "source": [
    "### Import Data"
   ]
  },
  {
   "cell_type": "code",
   "execution_count": 13,
   "metadata": {
    "collapsed": true
   },
   "outputs": [],
   "source": [
    "%matplotlib inline\n",
    "import random\n",
    "import pandas as pd\n",
    "import matplotlib.pyplot as plt\n",
    "import seaborn as sns\n",
    "import numpy as np"
   ]
  },
  {
   "cell_type": "code",
   "execution_count": 14,
   "metadata": {
    "collapsed": false
   },
   "outputs": [],
   "source": [
    "train = pd.read_json('Datacleaned_train.json')\n",
    "test = pd.read_json('test.json')"
   ]
  },
  {
   "cell_type": "markdown",
   "metadata": {},
   "source": [
    "### 1. Naive Feature Engineering"
   ]
  },
  {
   "cell_type": "code",
   "execution_count": 15,
   "metadata": {
    "collapsed": false
   },
   "outputs": [],
   "source": [
    "def naiveFE(df):\n",
    "    ''' do naive feature engineering to both the train and test data frame\n",
    "    '''\n",
    "    # total number of room\n",
    "    df[\"sum_room\"] = df[\"bedrooms\"] + df[\"bathrooms\"]\n",
    "    df[\"room_diff\"] = df[\"bedrooms\"] - df[\"bathrooms\"]\n",
    "    \n",
    "    # average price per room (withnan)\n",
    "    #df[\"price_s\"] = df[\"price\"]/df[\"sum_room\"]\n",
    "    #df[\"price_bed\"] = df[\"price\"]/df[\"bedrooms\"]\n",
    "    #df[\"price_bath\"] = df[\"price\"]/df[\"bathrooms\"]\n",
    "    \n",
    "    # sum of bedrooms and bathrooms\n",
    "    df[\"room_sum\"] = df[\"bedrooms\"] + df[\"bathrooms\"] \n",
    "    \n",
    "    # number of photos\n",
    "    df[\"num_photos\"] = df[\"photos\"].apply(len)\n",
    "    \n",
    "    # number features\n",
    "    df[\"num_features\"] = df[\"features\"].apply(len)\n",
    "    \n",
    "    # count of words present in description column\n",
    "    df[\"num_description_words\"] = df[\"description\"].apply(lambda x: len(x.split(\" \")))\n",
    "    \n",
    "    # created time, year = 2016 constant\n",
    "    df[\"created\"] = pd.to_datetime(df[\"created\"])\n",
    "    df[\"created_month\"] = df[\"created\"].dt.month\n",
    "    df[\"created_day\"] = df[\"created\"].dt.day\n",
    "    \n",
    "    return df"
   ]
  },
  {
   "cell_type": "code",
   "execution_count": 16,
   "metadata": {
    "collapsed": false
   },
   "outputs": [],
   "source": [
    "train_df = naiveFE(train)\n",
    "test_df = naiveFE(test)"
   ]
  },
  {
   "cell_type": "markdown",
   "metadata": {},
   "source": [
    "### get_stats function\n",
    "\n",
    "#### Define get_stats function\n",
    "It first merge train_df and test_df, followed by grouping the dataframe by group_column (especially manager_id), then calculating the count, mean, std, median, max, min of the target_column feature. It returns the train and test df with the newly added columns as numpy array (selected_train, selected_test).\n",
    "\n",
    "The following code was partially copied from Little Boat: https://www.kaggle.com/c/two-sigma-connect-rental-listing-inquiries/discussion/32123"
   ]
  },
  {
   "cell_type": "code",
   "execution_count": 17,
   "metadata": {
    "collapsed": true
   },
   "outputs": [],
   "source": [
    "def get_stats(train_df, test_df, target_column, group_column = 'manager_id'):\n",
    "    '''\n",
    "    target_column: numeric columns to group with (e.g. price, bedrooms, bathrooms)\n",
    "    group_column: categorical columns to group on (e.g. manager_id, building_id)\n",
    "    '''\n",
    "    train_df['row_id'] = range(train_df.shape[0])\n",
    "    test_df['row_id'] = range(test_df.shape[0])\n",
    "    train_df['train'] = 1\n",
    "    test_df['train'] = 0\n",
    "    all_df = train_df[['row_id', 'train', target_column, group_column]].append(test_df[['row_id','train', target_column, group_column]])\n",
    "    all_df = all_df.reindex()\n",
    "    grouped = all_df[[target_column, group_column]].groupby(group_column)\n",
    "    \n",
    "    the_size = pd.DataFrame(grouped.size()).reset_index()\n",
    "    the_size.columns = [group_column, '%s_size' % target_column]\n",
    "    \n",
    "    the_mean = pd.DataFrame(grouped.mean()).reset_index()\n",
    "    the_mean.columns = [group_column, '%s_mean' % target_column]\n",
    "    \n",
    "    the_std = pd.DataFrame(grouped.std()).reset_index().fillna(0)\n",
    "    the_std.columns = [group_column, '%s_std' % target_column]\n",
    "    \n",
    "    the_median = pd.DataFrame(grouped.median()).reset_index()\n",
    "    the_median.columns = [group_column, '%s_median' % target_column]\n",
    "    \n",
    "    the_stats = pd.merge(the_size, the_mean)\n",
    "    the_stats = pd.merge(the_stats, the_std)\n",
    "    the_stats = pd.merge(the_stats, the_median)\n",
    "\n",
    "    the_max = pd.DataFrame(grouped.max()).reset_index()\n",
    "    the_max.columns = [group_column, '%s_max' % target_column]\n",
    "    \n",
    "    the_min = pd.DataFrame(grouped.min()).reset_index()\n",
    "    the_min.columns = [group_column, '%s_min' % target_column]\n",
    "\n",
    "    the_stats = pd.merge(the_stats, the_max)\n",
    "    the_stats = pd.merge(the_stats, the_min)\n",
    "\n",
    "    all_df = pd.merge(all_df, the_stats)\n",
    "\n",
    "    selected_train = all_df[all_df['train'] == 1]\n",
    "    selected_test = all_df[all_df['train'] == 0]\n",
    "    \n",
    "    selected_train.sort_values('row_id', inplace=True)\n",
    "    selected_test.sort_values('row_id', inplace=True)\n",
    "    \n",
    "    selected_train.drop([target_column, group_column, 'row_id', 'train'], axis=1, inplace=True)\n",
    "    selected_test.drop([target_column, group_column, 'row_id', 'train'], axis=1, inplace=True)\n",
    "\n",
    "    return np.array(selected_train), np.array(selected_test)"
   ]
  },
  {
   "cell_type": "markdown",
   "metadata": {},
   "source": [
    "#### Use the get_stats function\n",
    "The following code set group_column = 'manager_id' or 'building_id', scan target_id = 'bathrooms', 'bedrooms', 'latitude', 'longitude', 'price' and update train_df and test_df correspondently.\n",
    "\n",
    "Note:The SettingWithCopyWarning is to show users that they may be operating on a copy and not the original as they think. "
   ]
  },
  {
   "cell_type": "code",
   "execution_count": 18,
   "metadata": {
    "collapsed": false
   },
   "outputs": [
    {
     "name": "stderr",
     "output_type": "stream",
     "text": [
      "C:\\Users\\Administrator\\Anaconda3\\lib\\site-packages\\ipykernel\\__main__.py:44: SettingWithCopyWarning: \n",
      "A value is trying to be set on a copy of a slice from a DataFrame\n",
      "\n",
      "See the caveats in the documentation: http://pandas.pydata.org/pandas-docs/stable/indexing.html#indexing-view-versus-copy\n",
      "C:\\Users\\Administrator\\Anaconda3\\lib\\site-packages\\ipykernel\\__main__.py:45: SettingWithCopyWarning: \n",
      "A value is trying to be set on a copy of a slice from a DataFrame\n",
      "\n",
      "See the caveats in the documentation: http://pandas.pydata.org/pandas-docs/stable/indexing.html#indexing-view-versus-copy\n",
      "C:\\Users\\Administrator\\Anaconda3\\lib\\site-packages\\ipykernel\\__main__.py:47: SettingWithCopyWarning: \n",
      "A value is trying to be set on a copy of a slice from a DataFrame\n",
      "\n",
      "See the caveats in the documentation: http://pandas.pydata.org/pandas-docs/stable/indexing.html#indexing-view-versus-copy\n",
      "C:\\Users\\Administrator\\Anaconda3\\lib\\site-packages\\ipykernel\\__main__.py:48: SettingWithCopyWarning: \n",
      "A value is trying to be set on a copy of a slice from a DataFrame\n",
      "\n",
      "See the caveats in the documentation: http://pandas.pydata.org/pandas-docs/stable/indexing.html#indexing-view-versus-copy\n"
     ]
    }
   ],
   "source": [
    "target_column = ['bathrooms', 'bedrooms', 'latitude', 'longitude', 'price']\n",
    "group_column = ['manager_id']\n",
    "\n",
    "train_stack_list = []\n",
    "test_stack_list = []\n",
    "column_name_list = []\n",
    "\n",
    "for target_col in target_column:\n",
    "    for group_col in group_column:\n",
    "        tmp_train, tmp_test = get_stats(train_df, test_df, target_column = target_col, group_column = group_col)\n",
    "        tmp_name = target_col + '_' + group_col\n",
    "        tmp_name_list = [tmp_name + '_count', tmp_name + '_mean', tmp_name + '_std', tmp_name + '_median', tmp_name + '_max', tmp_name + '_min']\n",
    "        train_stack_list.append(tmp_train)\n",
    "        test_stack_list.append(tmp_test)\n",
    "        column_name_list.append(tmp_name_list)"
   ]
  },
  {
   "cell_type": "markdown",
   "metadata": {},
   "source": [
    "#### Add engineered statistics into original train_df and test_df\n",
    "\n",
    "Both train_stack_list and test_stack_list are of dimension (10, 49352, 6)."
   ]
  },
  {
   "cell_type": "code",
   "execution_count": 19,
   "metadata": {
    "collapsed": false
   },
   "outputs": [],
   "source": [
    "for i in range(len(train_stack_list)):\n",
    "    stat = pd.DataFrame(train_stack_list[i], columns = column_name_list[i])\n",
    "    stat['row_id'] = range(stat.shape[0])\n",
    "    train_df = pd.merge(train_df, stat)\n",
    "\n",
    "for i in range(len(test_stack_list)):\n",
    "    stat = pd.DataFrame(test_stack_list[i], columns = column_name_list[i])\n",
    "    stat['row_id'] = range(stat.shape[0])\n",
    "    test_df = pd.merge(test_df, stat)"
   ]
  },
  {
   "cell_type": "markdown",
   "metadata": {},
   "source": [
    "### Prepare data for ML & Export data"
   ]
  },
  {
   "cell_type": "code",
   "execution_count": 20,
   "metadata": {
    "collapsed": false
   },
   "outputs": [],
   "source": [
    "train_df.drop(['created', 'building_id', 'manager_id', 'description', 'row_id', 'display_address', 'features', 'photos', \n",
    "               'street_address', 'train', 'listing_id'], axis = 1, inplace = True)\n",
    "\n",
    "test_df.drop(['building_id', 'created', 'description', 'display_address', 'features', 'listing_id', \n",
    "               'manager_id', 'photos', 'street_address', 'row_id', 'train'], axis = 1, inplace = True)"
   ]
  },
  {
   "cell_type": "code",
   "execution_count": 21,
   "metadata": {
    "collapsed": false
   },
   "outputs": [
    {
     "name": "stdout",
     "output_type": "stream",
     "text": [
      "<class 'pandas.core.frame.DataFrame'>\n",
      "Int64Index: 49121 entries, 0 to 49120\n",
      "Data columns (total 44 columns):\n",
      "bathrooms                      49121 non-null float64\n",
      "bedrooms                       49121 non-null int64\n",
      "interest_level                 49121 non-null object\n",
      "latitude                       49121 non-null float64\n",
      "longitude                      49121 non-null float64\n",
      "price                          49121 non-null int64\n",
      "sum_room                       49121 non-null float64\n",
      "room_diff                      49121 non-null float64\n",
      "room_sum                       49121 non-null float64\n",
      "num_photos                     49121 non-null int64\n",
      "num_features                   49121 non-null int64\n",
      "num_description_words          49121 non-null int64\n",
      "created_month                  49121 non-null int64\n",
      "created_day                    49121 non-null int64\n",
      "bathrooms_manager_id_count     49121 non-null float64\n",
      "bathrooms_manager_id_mean      49121 non-null float64\n",
      "bathrooms_manager_id_std       49121 non-null float64\n",
      "bathrooms_manager_id_median    49121 non-null float64\n",
      "bathrooms_manager_id_max       49121 non-null float64\n",
      "bathrooms_manager_id_min       49121 non-null float64\n",
      "bedrooms_manager_id_count      49121 non-null float64\n",
      "bedrooms_manager_id_mean       49121 non-null float64\n",
      "bedrooms_manager_id_std        49121 non-null float64\n",
      "bedrooms_manager_id_median     49121 non-null float64\n",
      "bedrooms_manager_id_max        49121 non-null float64\n",
      "bedrooms_manager_id_min        49121 non-null float64\n",
      "latitude_manager_id_count      49121 non-null float64\n",
      "latitude_manager_id_mean       49121 non-null float64\n",
      "latitude_manager_id_std        49121 non-null float64\n",
      "latitude_manager_id_median     49121 non-null float64\n",
      "latitude_manager_id_max        49121 non-null float64\n",
      "latitude_manager_id_min        49121 non-null float64\n",
      "longitude_manager_id_count     49121 non-null float64\n",
      "longitude_manager_id_mean      49121 non-null float64\n",
      "longitude_manager_id_std       49121 non-null float64\n",
      "longitude_manager_id_median    49121 non-null float64\n",
      "longitude_manager_id_max       49121 non-null float64\n",
      "longitude_manager_id_min       49121 non-null float64\n",
      "price_manager_id_count         49121 non-null float64\n",
      "price_manager_id_mean          49121 non-null float64\n",
      "price_manager_id_std           49121 non-null float64\n",
      "price_manager_id_median        49121 non-null float64\n",
      "price_manager_id_max           49121 non-null float64\n",
      "price_manager_id_min           49121 non-null float64\n",
      "dtypes: float64(36), int64(7), object(1)\n",
      "memory usage: 16.9+ MB\n"
     ]
    }
   ],
   "source": [
    "train_df.info()"
   ]
  },
  {
   "cell_type": "code",
   "execution_count": 22,
   "metadata": {
    "collapsed": false
   },
   "outputs": [
    {
     "name": "stdout",
     "output_type": "stream",
     "text": [
      "<class 'pandas.core.frame.DataFrame'>\n",
      "Int64Index: 74659 entries, 0 to 74658\n",
      "Data columns (total 43 columns):\n",
      "bathrooms                      74659 non-null float64\n",
      "bedrooms                       74659 non-null int64\n",
      "latitude                       74659 non-null float64\n",
      "longitude                      74659 non-null float64\n",
      "price                          74659 non-null int64\n",
      "sum_room                       74659 non-null float64\n",
      "room_diff                      74659 non-null float64\n",
      "room_sum                       74659 non-null float64\n",
      "num_photos                     74659 non-null int64\n",
      "num_features                   74659 non-null int64\n",
      "num_description_words          74659 non-null int64\n",
      "created_month                  74659 non-null int64\n",
      "created_day                    74659 non-null int64\n",
      "bathrooms_manager_id_count     74659 non-null float64\n",
      "bathrooms_manager_id_mean      74659 non-null float64\n",
      "bathrooms_manager_id_std       74659 non-null float64\n",
      "bathrooms_manager_id_median    74659 non-null float64\n",
      "bathrooms_manager_id_max       74659 non-null float64\n",
      "bathrooms_manager_id_min       74659 non-null float64\n",
      "bedrooms_manager_id_count      74659 non-null float64\n",
      "bedrooms_manager_id_mean       74659 non-null float64\n",
      "bedrooms_manager_id_std        74659 non-null float64\n",
      "bedrooms_manager_id_median     74659 non-null float64\n",
      "bedrooms_manager_id_max        74659 non-null float64\n",
      "bedrooms_manager_id_min        74659 non-null float64\n",
      "latitude_manager_id_count      74659 non-null float64\n",
      "latitude_manager_id_mean       74659 non-null float64\n",
      "latitude_manager_id_std        74659 non-null float64\n",
      "latitude_manager_id_median     74659 non-null float64\n",
      "latitude_manager_id_max        74659 non-null float64\n",
      "latitude_manager_id_min        74659 non-null float64\n",
      "longitude_manager_id_count     74659 non-null float64\n",
      "longitude_manager_id_mean      74659 non-null float64\n",
      "longitude_manager_id_std       74659 non-null float64\n",
      "longitude_manager_id_median    74659 non-null float64\n",
      "longitude_manager_id_max       74659 non-null float64\n",
      "longitude_manager_id_min       74659 non-null float64\n",
      "price_manager_id_count         74659 non-null float64\n",
      "price_manager_id_mean          74659 non-null float64\n",
      "price_manager_id_std           74659 non-null float64\n",
      "price_manager_id_median        74659 non-null float64\n",
      "price_manager_id_max           74659 non-null float64\n",
      "price_manager_id_min           74659 non-null float64\n",
      "dtypes: float64(36), int64(7)\n",
      "memory usage: 25.1 MB\n"
     ]
    }
   ],
   "source": [
    "test_df.info()"
   ]
  },
  {
   "cell_type": "code",
   "execution_count": 23,
   "metadata": {
    "collapsed": true
   },
   "outputs": [],
   "source": [
    "train_df.to_json('Datacleaned_FE4_train.json')\n",
    "test_df.to_json('FE4_test.json')"
   ]
  },
  {
   "cell_type": "code",
   "execution_count": null,
   "metadata": {
    "collapsed": true
   },
   "outputs": [],
   "source": []
  },
  {
   "cell_type": "code",
   "execution_count": null,
   "metadata": {
    "collapsed": true
   },
   "outputs": [],
   "source": []
  }
 ],
 "metadata": {
  "kernelspec": {
   "display_name": "Python 3",
   "language": "python",
   "name": "python3"
  },
  "language_info": {
   "codemirror_mode": {
    "name": "ipython",
    "version": 3
   },
   "file_extension": ".py",
   "mimetype": "text/x-python",
   "name": "python",
   "nbconvert_exporter": "python",
   "pygments_lexer": "ipython3",
   "version": "3.5.2"
  }
 },
 "nbformat": 4,
 "nbformat_minor": 0
}
